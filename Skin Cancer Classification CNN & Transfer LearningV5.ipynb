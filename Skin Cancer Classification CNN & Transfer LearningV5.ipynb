{
 "cells": [
  {
   "cell_type": "markdown",
   "id": "8e704824",
   "metadata": {},
   "source": [
    "# Phase 5 Notebook"
   ]
  },
  {
   "cell_type": "markdown",
   "id": "40da1104",
   "metadata": {},
   "source": [
    "By: Jonah Devoy"
   ]
  },
  {
   "cell_type": "code",
   "execution_count": 1,
   "id": "bddecea3",
   "metadata": {},
   "outputs": [
    {
     "name": "stderr",
     "output_type": "stream",
     "text": [
      "2023-07-31 00:01:23.017987: I tensorflow/core/platform/cpu_feature_guard.cc:182] This TensorFlow binary is optimized to use available CPU instructions in performance-critical operations.\n",
      "To enable the following instructions: AVX2 FMA, in other operations, rebuild TensorFlow with the appropriate compiler flags.\n"
     ]
    }
   ],
   "source": [
    "import tensorflow as tf # Imports tensorflow\n",
    "from tensorflow import keras\n",
    "from tensorflow.keras.models import Sequential\n",
    "from tensorflow.keras import layers\n",
    "from tensorflow.keras.layers import Dense, Activation, Flatten, Dropout, BatchNormalization,Embedding\n",
    "from tensorflow.keras.layers import Conv2D, MaxPooling2D, ReLU, LSTM,Bidirectional,Attention,Concatenate\n",
    "from tensorflow.keras import regularizers, optimizers,losses\n",
    "from tensorflow.keras.metrics import Recall,Precision,AUC,TruePositives,TrueNegatives,FalseNegatives,FalsePositives, SpecificityAtSensitivity,SensitivityAtSpecificity\n",
    "from tensorflow.keras.utils import plot_model\n",
    "from tensorflow.keras.preprocessing import image\n",
    "from tensorflow.keras.utils import to_categorical\n",
    "from tensorflow.python.keras.utils import np_utils\n",
    "import numpy as np\n",
    "import pandas as pd \n",
    "import seaborn as sns\n",
    "import sklearn\n",
    "import keras\n",
    "from keras.applications import MobileNet\n",
    "from keras.models import Sequential, Model\n",
    "from keras.layers import Conv2D, MaxPool2D, Dense, Dropout, Flatten, GlobalAveragePooling2D\n",
    "from tensorflow.keras.callbacks import EarlyStopping, ReduceLROnPlateau, ModelCheckpoint\n",
    "from keras.preprocessing.image import ImageDataGenerator\n",
    "from keras.metrics import categorical_accuracy, top_k_categorical_accuracy\n",
    "from imblearn.over_sampling import RandomOverSampler \n",
    "import imblearn\n",
    "import matplotlib.pyplot as plt\n",
    "import time\n",
    "import os\n",
    "import sklearn.metrics as m\n",
    "from glob import glob\n",
    "from sklearn.preprocessing import StandardScaler\n",
    "from sklearn import tree\n",
    "from sklearn.model_selection import cross_val_score\n",
    "from sklearn.model_selection import train_test_split\n",
    "import skimage.io\n",
    "import skimage.color\n",
    "import skimage.filters\n",
    "from sklearn.preprocessing import StandardScaler\n",
    "from PIL import Image\n",
    "from keras.preprocessing.image import ImageDataGenerator\n",
    "from tensorflow.keras import metrics"
   ]
  },
  {
   "cell_type": "code",
   "execution_count": 2,
   "id": "30be830b",
   "metadata": {
    "scrolled": true
   },
   "outputs": [
    {
     "data": {
      "text/html": [
       "<div>\n",
       "<style scoped>\n",
       "    .dataframe tbody tr th:only-of-type {\n",
       "        vertical-align: middle;\n",
       "    }\n",
       "\n",
       "    .dataframe tbody tr th {\n",
       "        vertical-align: top;\n",
       "    }\n",
       "\n",
       "    .dataframe thead th {\n",
       "        text-align: right;\n",
       "    }\n",
       "</style>\n",
       "<table border=\"1\" class=\"dataframe\">\n",
       "  <thead>\n",
       "    <tr style=\"text-align: right;\">\n",
       "      <th></th>\n",
       "      <th>pixel0000</th>\n",
       "      <th>pixel0001</th>\n",
       "      <th>pixel0002</th>\n",
       "      <th>pixel0003</th>\n",
       "      <th>pixel0004</th>\n",
       "      <th>pixel0005</th>\n",
       "      <th>pixel0006</th>\n",
       "      <th>pixel0007</th>\n",
       "      <th>pixel0008</th>\n",
       "      <th>pixel0009</th>\n",
       "      <th>...</th>\n",
       "      <th>pixel2343</th>\n",
       "      <th>pixel2344</th>\n",
       "      <th>pixel2345</th>\n",
       "      <th>pixel2346</th>\n",
       "      <th>pixel2347</th>\n",
       "      <th>pixel2348</th>\n",
       "      <th>pixel2349</th>\n",
       "      <th>pixel2350</th>\n",
       "      <th>pixel2351</th>\n",
       "      <th>label</th>\n",
       "    </tr>\n",
       "  </thead>\n",
       "  <tbody>\n",
       "    <tr>\n",
       "      <th>0</th>\n",
       "      <td>192</td>\n",
       "      <td>153</td>\n",
       "      <td>193</td>\n",
       "      <td>195</td>\n",
       "      <td>155</td>\n",
       "      <td>192</td>\n",
       "      <td>197</td>\n",
       "      <td>154</td>\n",
       "      <td>185</td>\n",
       "      <td>202</td>\n",
       "      <td>...</td>\n",
       "      <td>173</td>\n",
       "      <td>124</td>\n",
       "      <td>138</td>\n",
       "      <td>183</td>\n",
       "      <td>147</td>\n",
       "      <td>166</td>\n",
       "      <td>185</td>\n",
       "      <td>154</td>\n",
       "      <td>177</td>\n",
       "      <td>2</td>\n",
       "    </tr>\n",
       "    <tr>\n",
       "      <th>1</th>\n",
       "      <td>25</td>\n",
       "      <td>14</td>\n",
       "      <td>30</td>\n",
       "      <td>68</td>\n",
       "      <td>48</td>\n",
       "      <td>75</td>\n",
       "      <td>123</td>\n",
       "      <td>93</td>\n",
       "      <td>126</td>\n",
       "      <td>158</td>\n",
       "      <td>...</td>\n",
       "      <td>60</td>\n",
       "      <td>39</td>\n",
       "      <td>55</td>\n",
       "      <td>25</td>\n",
       "      <td>14</td>\n",
       "      <td>28</td>\n",
       "      <td>25</td>\n",
       "      <td>14</td>\n",
       "      <td>27</td>\n",
       "      <td>2</td>\n",
       "    </tr>\n",
       "    <tr>\n",
       "      <th>2</th>\n",
       "      <td>192</td>\n",
       "      <td>138</td>\n",
       "      <td>153</td>\n",
       "      <td>200</td>\n",
       "      <td>145</td>\n",
       "      <td>163</td>\n",
       "      <td>201</td>\n",
       "      <td>142</td>\n",
       "      <td>160</td>\n",
       "      <td>206</td>\n",
       "      <td>...</td>\n",
       "      <td>167</td>\n",
       "      <td>129</td>\n",
       "      <td>143</td>\n",
       "      <td>159</td>\n",
       "      <td>124</td>\n",
       "      <td>142</td>\n",
       "      <td>136</td>\n",
       "      <td>104</td>\n",
       "      <td>117</td>\n",
       "      <td>2</td>\n",
       "    </tr>\n",
       "    <tr>\n",
       "      <th>3</th>\n",
       "      <td>38</td>\n",
       "      <td>19</td>\n",
       "      <td>30</td>\n",
       "      <td>95</td>\n",
       "      <td>59</td>\n",
       "      <td>72</td>\n",
       "      <td>143</td>\n",
       "      <td>103</td>\n",
       "      <td>119</td>\n",
       "      <td>171</td>\n",
       "      <td>...</td>\n",
       "      <td>44</td>\n",
       "      <td>26</td>\n",
       "      <td>36</td>\n",
       "      <td>25</td>\n",
       "      <td>12</td>\n",
       "      <td>17</td>\n",
       "      <td>25</td>\n",
       "      <td>12</td>\n",
       "      <td>15</td>\n",
       "      <td>2</td>\n",
       "    </tr>\n",
       "    <tr>\n",
       "      <th>4</th>\n",
       "      <td>158</td>\n",
       "      <td>113</td>\n",
       "      <td>139</td>\n",
       "      <td>194</td>\n",
       "      <td>144</td>\n",
       "      <td>174</td>\n",
       "      <td>215</td>\n",
       "      <td>162</td>\n",
       "      <td>191</td>\n",
       "      <td>225</td>\n",
       "      <td>...</td>\n",
       "      <td>209</td>\n",
       "      <td>166</td>\n",
       "      <td>185</td>\n",
       "      <td>172</td>\n",
       "      <td>135</td>\n",
       "      <td>149</td>\n",
       "      <td>109</td>\n",
       "      <td>78</td>\n",
       "      <td>92</td>\n",
       "      <td>2</td>\n",
       "    </tr>\n",
       "    <tr>\n",
       "      <th>...</th>\n",
       "      <td>...</td>\n",
       "      <td>...</td>\n",
       "      <td>...</td>\n",
       "      <td>...</td>\n",
       "      <td>...</td>\n",
       "      <td>...</td>\n",
       "      <td>...</td>\n",
       "      <td>...</td>\n",
       "      <td>...</td>\n",
       "      <td>...</td>\n",
       "      <td>...</td>\n",
       "      <td>...</td>\n",
       "      <td>...</td>\n",
       "      <td>...</td>\n",
       "      <td>...</td>\n",
       "      <td>...</td>\n",
       "      <td>...</td>\n",
       "      <td>...</td>\n",
       "      <td>...</td>\n",
       "      <td>...</td>\n",
       "      <td>...</td>\n",
       "    </tr>\n",
       "    <tr>\n",
       "      <th>10010</th>\n",
       "      <td>183</td>\n",
       "      <td>165</td>\n",
       "      <td>181</td>\n",
       "      <td>182</td>\n",
       "      <td>165</td>\n",
       "      <td>180</td>\n",
       "      <td>184</td>\n",
       "      <td>166</td>\n",
       "      <td>182</td>\n",
       "      <td>188</td>\n",
       "      <td>...</td>\n",
       "      <td>208</td>\n",
       "      <td>185</td>\n",
       "      <td>187</td>\n",
       "      <td>208</td>\n",
       "      <td>186</td>\n",
       "      <td>186</td>\n",
       "      <td>206</td>\n",
       "      <td>187</td>\n",
       "      <td>189</td>\n",
       "      <td>0</td>\n",
       "    </tr>\n",
       "    <tr>\n",
       "      <th>10011</th>\n",
       "      <td>2</td>\n",
       "      <td>3</td>\n",
       "      <td>1</td>\n",
       "      <td>38</td>\n",
       "      <td>33</td>\n",
       "      <td>32</td>\n",
       "      <td>121</td>\n",
       "      <td>104</td>\n",
       "      <td>103</td>\n",
       "      <td>132</td>\n",
       "      <td>...</td>\n",
       "      <td>96</td>\n",
       "      <td>79</td>\n",
       "      <td>76</td>\n",
       "      <td>24</td>\n",
       "      <td>23</td>\n",
       "      <td>21</td>\n",
       "      <td>3</td>\n",
       "      <td>4</td>\n",
       "      <td>1</td>\n",
       "      <td>0</td>\n",
       "    </tr>\n",
       "    <tr>\n",
       "      <th>10012</th>\n",
       "      <td>132</td>\n",
       "      <td>118</td>\n",
       "      <td>118</td>\n",
       "      <td>167</td>\n",
       "      <td>149</td>\n",
       "      <td>149</td>\n",
       "      <td>175</td>\n",
       "      <td>156</td>\n",
       "      <td>160</td>\n",
       "      <td>184</td>\n",
       "      <td>...</td>\n",
       "      <td>204</td>\n",
       "      <td>181</td>\n",
       "      <td>178</td>\n",
       "      <td>181</td>\n",
       "      <td>159</td>\n",
       "      <td>153</td>\n",
       "      <td>172</td>\n",
       "      <td>151</td>\n",
       "      <td>145</td>\n",
       "      <td>0</td>\n",
       "    </tr>\n",
       "    <tr>\n",
       "      <th>10013</th>\n",
       "      <td>160</td>\n",
       "      <td>124</td>\n",
       "      <td>146</td>\n",
       "      <td>164</td>\n",
       "      <td>131</td>\n",
       "      <td>152</td>\n",
       "      <td>167</td>\n",
       "      <td>127</td>\n",
       "      <td>146</td>\n",
       "      <td>169</td>\n",
       "      <td>...</td>\n",
       "      <td>185</td>\n",
       "      <td>162</td>\n",
       "      <td>167</td>\n",
       "      <td>184</td>\n",
       "      <td>157</td>\n",
       "      <td>166</td>\n",
       "      <td>185</td>\n",
       "      <td>162</td>\n",
       "      <td>172</td>\n",
       "      <td>0</td>\n",
       "    </tr>\n",
       "    <tr>\n",
       "      <th>10014</th>\n",
       "      <td>175</td>\n",
       "      <td>142</td>\n",
       "      <td>121</td>\n",
       "      <td>181</td>\n",
       "      <td>150</td>\n",
       "      <td>134</td>\n",
       "      <td>181</td>\n",
       "      <td>150</td>\n",
       "      <td>133</td>\n",
       "      <td>178</td>\n",
       "      <td>...</td>\n",
       "      <td>159</td>\n",
       "      <td>79</td>\n",
       "      <td>82</td>\n",
       "      <td>174</td>\n",
       "      <td>137</td>\n",
       "      <td>125</td>\n",
       "      <td>175</td>\n",
       "      <td>139</td>\n",
       "      <td>126</td>\n",
       "      <td>6</td>\n",
       "    </tr>\n",
       "  </tbody>\n",
       "</table>\n",
       "<p>10015 rows × 2353 columns</p>\n",
       "</div>"
      ],
      "text/plain": [
       "       pixel0000  pixel0001  pixel0002  pixel0003  pixel0004  pixel0005  \\\n",
       "0            192        153        193        195        155        192   \n",
       "1             25         14         30         68         48         75   \n",
       "2            192        138        153        200        145        163   \n",
       "3             38         19         30         95         59         72   \n",
       "4            158        113        139        194        144        174   \n",
       "...          ...        ...        ...        ...        ...        ...   \n",
       "10010        183        165        181        182        165        180   \n",
       "10011          2          3          1         38         33         32   \n",
       "10012        132        118        118        167        149        149   \n",
       "10013        160        124        146        164        131        152   \n",
       "10014        175        142        121        181        150        134   \n",
       "\n",
       "       pixel0006  pixel0007  pixel0008  pixel0009  ...  pixel2343  pixel2344  \\\n",
       "0            197        154        185        202  ...        173        124   \n",
       "1            123         93        126        158  ...         60         39   \n",
       "2            201        142        160        206  ...        167        129   \n",
       "3            143        103        119        171  ...         44         26   \n",
       "4            215        162        191        225  ...        209        166   \n",
       "...          ...        ...        ...        ...  ...        ...        ...   \n",
       "10010        184        166        182        188  ...        208        185   \n",
       "10011        121        104        103        132  ...         96         79   \n",
       "10012        175        156        160        184  ...        204        181   \n",
       "10013        167        127        146        169  ...        185        162   \n",
       "10014        181        150        133        178  ...        159         79   \n",
       "\n",
       "       pixel2345  pixel2346  pixel2347  pixel2348  pixel2349  pixel2350  \\\n",
       "0            138        183        147        166        185        154   \n",
       "1             55         25         14         28         25         14   \n",
       "2            143        159        124        142        136        104   \n",
       "3             36         25         12         17         25         12   \n",
       "4            185        172        135        149        109         78   \n",
       "...          ...        ...        ...        ...        ...        ...   \n",
       "10010        187        208        186        186        206        187   \n",
       "10011         76         24         23         21          3          4   \n",
       "10012        178        181        159        153        172        151   \n",
       "10013        167        184        157        166        185        162   \n",
       "10014         82        174        137        125        175        139   \n",
       "\n",
       "       pixel2351  label  \n",
       "0            177      2  \n",
       "1             27      2  \n",
       "2            117      2  \n",
       "3             15      2  \n",
       "4             92      2  \n",
       "...          ...    ...  \n",
       "10010        189      0  \n",
       "10011          1      0  \n",
       "10012        145      0  \n",
       "10013        172      0  \n",
       "10014        126      6  \n",
       "\n",
       "[10015 rows x 2353 columns]"
      ]
     },
     "execution_count": 2,
     "metadata": {},
     "output_type": "execute_result"
    }
   ],
   "source": [
    "# reading in the data\n",
    "data = pd.read_csv('/Users/jdapeman/Documents/skin2/archive-2/hmnist_28_28_RGB.csv')\n",
    "data"
   ]
  },
  {
   "cell_type": "code",
   "execution_count": 3,
   "id": "131b8edd",
   "metadata": {},
   "outputs": [],
   "source": [
    "# dropping the taget label column from x\n",
    "y = data['label']\n",
    "x = data.drop(columns = ['label'])"
   ]
  },
  {
   "cell_type": "code",
   "execution_count": 4,
   "id": "74b5764d",
   "metadata": {},
   "outputs": [
    {
     "data": {
      "text/html": [
       "<div>\n",
       "<style scoped>\n",
       "    .dataframe tbody tr th:only-of-type {\n",
       "        vertical-align: middle;\n",
       "    }\n",
       "\n",
       "    .dataframe tbody tr th {\n",
       "        vertical-align: top;\n",
       "    }\n",
       "\n",
       "    .dataframe thead th {\n",
       "        text-align: right;\n",
       "    }\n",
       "</style>\n",
       "<table border=\"1\" class=\"dataframe\">\n",
       "  <thead>\n",
       "    <tr style=\"text-align: right;\">\n",
       "      <th></th>\n",
       "      <th>lesion_id</th>\n",
       "      <th>image_id</th>\n",
       "      <th>dx</th>\n",
       "      <th>dx_type</th>\n",
       "      <th>age</th>\n",
       "      <th>sex</th>\n",
       "      <th>localization</th>\n",
       "    </tr>\n",
       "  </thead>\n",
       "  <tbody>\n",
       "    <tr>\n",
       "      <th>0</th>\n",
       "      <td>HAM_0000118</td>\n",
       "      <td>ISIC_0027419</td>\n",
       "      <td>bkl</td>\n",
       "      <td>histo</td>\n",
       "      <td>80.0</td>\n",
       "      <td>male</td>\n",
       "      <td>scalp</td>\n",
       "    </tr>\n",
       "    <tr>\n",
       "      <th>1</th>\n",
       "      <td>HAM_0000118</td>\n",
       "      <td>ISIC_0025030</td>\n",
       "      <td>bkl</td>\n",
       "      <td>histo</td>\n",
       "      <td>80.0</td>\n",
       "      <td>male</td>\n",
       "      <td>scalp</td>\n",
       "    </tr>\n",
       "    <tr>\n",
       "      <th>2</th>\n",
       "      <td>HAM_0002730</td>\n",
       "      <td>ISIC_0026769</td>\n",
       "      <td>bkl</td>\n",
       "      <td>histo</td>\n",
       "      <td>80.0</td>\n",
       "      <td>male</td>\n",
       "      <td>scalp</td>\n",
       "    </tr>\n",
       "    <tr>\n",
       "      <th>3</th>\n",
       "      <td>HAM_0002730</td>\n",
       "      <td>ISIC_0025661</td>\n",
       "      <td>bkl</td>\n",
       "      <td>histo</td>\n",
       "      <td>80.0</td>\n",
       "      <td>male</td>\n",
       "      <td>scalp</td>\n",
       "    </tr>\n",
       "    <tr>\n",
       "      <th>4</th>\n",
       "      <td>HAM_0001466</td>\n",
       "      <td>ISIC_0031633</td>\n",
       "      <td>bkl</td>\n",
       "      <td>histo</td>\n",
       "      <td>75.0</td>\n",
       "      <td>male</td>\n",
       "      <td>ear</td>\n",
       "    </tr>\n",
       "  </tbody>\n",
       "</table>\n",
       "</div>"
      ],
      "text/plain": [
       "     lesion_id      image_id   dx dx_type   age   sex localization\n",
       "0  HAM_0000118  ISIC_0027419  bkl   histo  80.0  male        scalp\n",
       "1  HAM_0000118  ISIC_0025030  bkl   histo  80.0  male        scalp\n",
       "2  HAM_0002730  ISIC_0026769  bkl   histo  80.0  male        scalp\n",
       "3  HAM_0002730  ISIC_0025661  bkl   histo  80.0  male        scalp\n",
       "4  HAM_0001466  ISIC_0031633  bkl   histo  75.0  male          ear"
      ]
     },
     "execution_count": 4,
     "metadata": {},
     "output_type": "execute_result"
    }
   ],
   "source": [
    "# reading in the metadata csv\n",
    "meta_data = pd.read_csv('/Users/jdapeman/Documents/skin2/archive-2/HAM10000_metadata.csv')\n",
    "meta_data.head()"
   ]
  },
  {
   "cell_type": "code",
   "execution_count": 5,
   "id": "1ce94b6b",
   "metadata": {},
   "outputs": [],
   "source": [
    "# relabeling the disease names\n",
    "classes = {4: ('nv', ' melanocytic nevi'), 6: ('mel', 'melanoma'), 2 :('bkl', 'benign keratosis-like lesions'), 1:('bcc' , ' basal cell carcinoma'), 5: ('vasc', ' pyogenic granulomas and hemorrhage'), 0: ('akiec', 'Actinic keratoses and intraepithelial carcinomae'),  3: ('df', 'dermatofibroma')}"
   ]
  },
  {
   "cell_type": "code",
   "execution_count": 6,
   "id": "dae90a7b",
   "metadata": {},
   "outputs": [],
   "source": [
    "classes = {'mel':0 ,'vasc':1,'df':2,'nv':3,'bkl':4,'bcc':5,'ak':6}"
   ]
  },
  {
   "cell_type": "code",
   "execution_count": 7,
   "id": "19bc6629",
   "metadata": {
    "scrolled": true
   },
   "outputs": [
    {
     "data": {
      "text/plain": [
       "Text(0.5, 1.0, 'Frequency Distribution of Classes')"
      ]
     },
     "execution_count": 7,
     "metadata": {},
     "output_type": "execute_result"
    },
    {
     "data": {
      "image/png": "[encoded data removed]",
      "text/plain": [
       "<Figure size 640x480 with 1 Axes>"
      ]
     },
     "metadata": {},
     "output_type": "display_data"
    }
   ],
   "source": [
    "sns.countplot(x = 'dx', data = meta_data)\n",
    "plt.xlabel('Disease', size=12)\n",
    "plt.ylabel('Frequency', size=12)\n",
    "plt.title('Frequency Distribution of Classes', size=16)"
   ]
  },
  {
   "cell_type": "code",
   "execution_count": 8,
   "id": "4333bc60",
   "metadata": {},
   "outputs": [],
   "source": [
    "# reshaping x for out CNN model\n",
    "x = np.array(x).reshape(-1,28,28,3)"
   ]
  },
  {
   "cell_type": "code",
   "execution_count": 9,
   "id": "56e4eca1",
   "metadata": {},
   "outputs": [
    {
     "data": {
      "text/plain": [
       "(10015, 28, 28, 3)"
      ]
     },
     "execution_count": 9,
     "metadata": {},
     "output_type": "execute_result"
    }
   ],
   "source": [
    "x.shape"
   ]
  },
  {
   "cell_type": "code",
   "execution_count": 10,
   "id": "2b50a9c7",
   "metadata": {},
   "outputs": [],
   "source": [
    "#80/20 split \n",
    "x_train_, x_test_, y_train_, y_test_ = train_test_split(x, y, test_size=0.20 ,random_state=42)"
   ]
  },
  {
   "cell_type": "code",
   "execution_count": 11,
   "id": "d7f82ec0",
   "metadata": {},
   "outputs": [],
   "source": [
    "# standardization or normalization process on the training and test data\n",
    "x_train = np.asarray(x_train_)\n",
    "x_test = np.asarray(x_test_)\n",
    "\n",
    "num_train_samples, height, width, channels = x_train.shape\n",
    "num_test_samples = x_test.shape[0]\n",
    "\n",
    "x_train = x_train.reshape(num_train_samples, -1)\n",
    "x_test = x_test.reshape(num_test_samples, -1)\n",
    "\n",
    "combined_data = np.vstack((x_train, x_test))\n",
    "scaler = StandardScaler()\n",
    "scaler.fit(combined_data)\n",
    "\n",
    "x_train = scaler.transform(x_train)\n",
    "x_test = scaler.transform(x_test)\n",
    "\n",
    "x_train = x_train.reshape(num_train_samples, height, width, channels)\n",
    "x_test = x_test.reshape(num_test_samples, height, width, channels)"
   ]
  },
  {
   "cell_type": "code",
   "execution_count": 12,
   "id": "0ebe4534",
   "metadata": {},
   "outputs": [],
   "source": [
    "y_train = to_categorical(y_train_, num_classes = 7)\n",
    "y_test = to_categorical(y_test_, num_classes = 7)"
   ]
  },
  {
   "cell_type": "code",
   "execution_count": 13,
   "id": "027cd874",
   "metadata": {},
   "outputs": [],
   "source": [
    "x_train, x_val, y_train, y_val = train_test_split(x_train, y_train, \n",
    "                                                            test_size = 0.1, \n",
    "                                                            random_state = 2)"
   ]
  },
  {
   "cell_type": "code",
   "execution_count": 14,
   "id": "c42ced57",
   "metadata": {},
   "outputs": [
    {
     "data": {
      "text/plain": [
       "(7210, 7)"
      ]
     },
     "execution_count": 14,
     "metadata": {},
     "output_type": "execute_result"
    }
   ],
   "source": [
    "y_train.shape"
   ]
  },
  {
   "cell_type": "code",
   "execution_count": 15,
   "id": "f49b3979",
   "metadata": {},
   "outputs": [
    {
     "data": {
      "text/plain": [
       "(7210, 28, 28, 3)"
      ]
     },
     "execution_count": 15,
     "metadata": {},
     "output_type": "execute_result"
    }
   ],
   "source": [
    "x_train.shape"
   ]
  },
  {
   "cell_type": "markdown",
   "id": "a2fe277b",
   "metadata": {},
   "source": [
    "- The given function blockred(inp, filters) creates a block or a module for a neural network that applies a combination of different convolutional layers and pooling operations to the input inp with a specified number of filters. The function performs three sets of operations in parallel:\n",
    "\n",
    "- Inception Block: It consists of a 1x1 convolution layer followed by max pooling and batch normalization.\n",
    "\n",
    "- VGG + SqueezeNet Block: It involves two consecutive 3x3 convolutional layers, followed by max pooling, batch normalization, and dropout.\n",
    "\n",
    "- InceptionResNet + SqueezeNet Block: It applies a combination of 3x3 and 1x1 convolutional layers followed by max pooling and batch normalization. The output of this block is obtained by adding the outputs of the Inception, VGG + SqueezeNet, and InceptionResNet + SqueezeNet blocks element-wise.\n",
    "\n",
    "- The final output of this function is the combined result of all three operations, representing the features extracted from the input inp using various convolutional operations. This type of block is commonly used in deep learning architectures, especially in models that utilize a combination of inception-like and residual-like blocks to extract hierarchical features."
   ]
  },
  {
   "cell_type": "code",
   "execution_count": 16,
   "id": "c20c7af8",
   "metadata": {},
   "outputs": [],
   "source": [
    "def blockred(inp,filters):\n",
    "    #Inception\n",
    "    x = Conv2D(filters, 1, activation=\"relu\",padding='same',use_bias=False)(inp)\n",
    "    x = layers.MaxPooling2D(2)(x)\n",
    "    x = BatchNormalization(axis=1)(x)\n",
    "    \n",
    "    #VGG + SQuizenet\n",
    "    y = Conv2D(filters*2,3,activation=\"relu\", padding='same',use_bias=False,)(inp)\n",
    "    y = Conv2D(filters,3,activation=\"relu\", padding='same',use_bias=False,)(y)\n",
    "    y = layers.MaxPooling2D(2)(y)\n",
    "    y = BatchNormalization(axis=1)(y)\n",
    "    y = Dropout(0.25)(y)\n",
    "    \n",
    "    #InceptionResnet+Squize\n",
    "    z = Conv2D(filters*2, 3, activation=\"relu\", padding='same',use_bias=False)(inp)\n",
    "    z = Conv2D(filters, 1, activation=\"relu\", padding='same',use_bias=False)(inp)  \n",
    "    z = layers.MaxPooling2D(2)(z)\n",
    "    z = BatchNormalization(axis=1)(z)\n",
    "    output1 = layers.add([x,y,z])\n",
    "    return output1\n"
   ]
  },
  {
   "cell_type": "markdown",
   "id": "7a1a0a72",
   "metadata": {},
   "source": [
    "- This code defines a convolutional neural network (CNN) architecture for a multi-class classification task on 28x28 RGB images. The architecture consists of several layers, including three blocks defined by the blockred() function, followed by fully connected layers."
   ]
  },
  {
   "cell_type": "markdown",
   "id": "bebdb514",
   "metadata": {},
   "source": [
    "- Overall, this code creates a CNN model with three blocks of convolutional operations followed by fully connected layers for multi-class classification on 28x28 RGB images. The blocks defined by blockred() incorporate various convolutional layers, pooling, batch normalization, and dropout to extract meaningful features from the input data."
   ]
  },
  {
   "cell_type": "code",
   "execution_count": 17,
   "id": "6a9bcd1a",
   "metadata": {},
   "outputs": [
    {
     "name": "stdout",
     "output_type": "stream",
     "text": [
      "Model: \"CNN0\"\n",
      "__________________________________________________________________________________________________\n",
      " Layer (type)                Output Shape                 Param #   Connected to                  \n",
      "==================================================================================================\n",
      " img (InputLayer)            [(None, 28, 28, 3)]          0         []                            \n",
      "                                                                                                  \n",
      " conv2d (Conv2D)             (None, 26, 26, 32)           896       ['img[0][0]']                 \n",
      "                                                                                                  \n",
      " conv2d_2 (Conv2D)           (None, 26, 26, 64)           18432     ['conv2d[0][0]']              \n",
      "                                                                                                  \n",
      " conv2d_3 (Conv2D)           (None, 26, 26, 32)           18432     ['conv2d_2[0][0]']            \n",
      "                                                                                                  \n",
      " conv2d_1 (Conv2D)           (None, 26, 26, 32)           1024      ['conv2d[0][0]']              \n",
      "                                                                                                  \n",
      " max_pooling2d_1 (MaxPoolin  (None, 13, 13, 32)           0         ['conv2d_3[0][0]']            \n",
      " g2D)                                                                                             \n",
      "                                                                                                  \n",
      " conv2d_5 (Conv2D)           (None, 26, 26, 32)           1024      ['conv2d[0][0]']              \n",
      "                                                                                                  \n",
      " max_pooling2d (MaxPooling2  (None, 13, 13, 32)           0         ['conv2d_1[0][0]']            \n",
      " D)                                                                                               \n",
      "                                                                                                  \n",
      " batch_normalization_1 (Bat  (None, 13, 13, 32)           52        ['max_pooling2d_1[0][0]']     \n",
      " chNormalization)                                                                                 \n",
      "                                                                                                  \n",
      " max_pooling2d_2 (MaxPoolin  (None, 13, 13, 32)           0         ['conv2d_5[0][0]']            \n",
      " g2D)                                                                                             \n",
      "                                                                                                  \n",
      " batch_normalization (Batch  (None, 13, 13, 32)           52        ['max_pooling2d[0][0]']       \n",
      " Normalization)                                                                                   \n",
      "                                                                                                  \n",
      " dropout (Dropout)           (None, 13, 13, 32)           0         ['batch_normalization_1[0][0]'\n",
      "                                                                    ]                             \n",
      "                                                                                                  \n",
      " batch_normalization_2 (Bat  (None, 13, 13, 32)           52        ['max_pooling2d_2[0][0]']     \n",
      " chNormalization)                                                                                 \n",
      "                                                                                                  \n",
      " add (Add)                   (None, 13, 13, 32)           0         ['batch_normalization[0][0]', \n",
      "                                                                     'dropout[0][0]',             \n",
      "                                                                     'batch_normalization_2[0][0]'\n",
      "                                                                    ]                             \n",
      "                                                                                                  \n",
      " conv2d_7 (Conv2D)           (None, 13, 13, 128)          36864     ['add[0][0]']                 \n",
      "                                                                                                  \n",
      " conv2d_8 (Conv2D)           (None, 13, 13, 64)           73728     ['conv2d_7[0][0]']            \n",
      "                                                                                                  \n",
      " conv2d_6 (Conv2D)           (None, 13, 13, 64)           2048      ['add[0][0]']                 \n",
      "                                                                                                  \n",
      " max_pooling2d_4 (MaxPoolin  (None, 6, 6, 64)             0         ['conv2d_8[0][0]']            \n",
      " g2D)                                                                                             \n",
      "                                                                                                  \n",
      " conv2d_10 (Conv2D)          (None, 13, 13, 64)           2048      ['add[0][0]']                 \n",
      "                                                                                                  \n",
      " max_pooling2d_3 (MaxPoolin  (None, 6, 6, 64)             0         ['conv2d_6[0][0]']            \n",
      " g2D)                                                                                             \n",
      "                                                                                                  \n",
      " batch_normalization_4 (Bat  (None, 6, 6, 64)             24        ['max_pooling2d_4[0][0]']     \n",
      " chNormalization)                                                                                 \n",
      "                                                                                                  \n",
      " max_pooling2d_5 (MaxPoolin  (None, 6, 6, 64)             0         ['conv2d_10[0][0]']           \n",
      " g2D)                                                                                             \n",
      "                                                                                                  \n",
      " batch_normalization_3 (Bat  (None, 6, 6, 64)             24        ['max_pooling2d_3[0][0]']     \n",
      " chNormalization)                                                                                 \n",
      "                                                                                                  \n",
      " dropout_1 (Dropout)         (None, 6, 6, 64)             0         ['batch_normalization_4[0][0]'\n",
      "                                                                    ]                             \n",
      "                                                                                                  \n",
      " batch_normalization_5 (Bat  (None, 6, 6, 64)             24        ['max_pooling2d_5[0][0]']     \n",
      " chNormalization)                                                                                 \n",
      "                                                                                                  \n",
      " add_1 (Add)                 (None, 6, 6, 64)             0         ['batch_normalization_3[0][0]'\n",
      "                                                                    , 'dropout_1[0][0]',          \n",
      "                                                                     'batch_normalization_5[0][0]'\n",
      "                                                                    ]                             \n",
      "                                                                                                  \n",
      " conv2d_12 (Conv2D)          (None, 6, 6, 128)            73728     ['add_1[0][0]']               \n",
      "                                                                                                  \n",
      " conv2d_13 (Conv2D)          (None, 6, 6, 64)             73728     ['conv2d_12[0][0]']           \n",
      "                                                                                                  \n",
      " conv2d_11 (Conv2D)          (None, 6, 6, 64)             4096      ['add_1[0][0]']               \n",
      "                                                                                                  \n",
      " max_pooling2d_7 (MaxPoolin  (None, 3, 3, 64)             0         ['conv2d_13[0][0]']           \n",
      " g2D)                                                                                             \n"
     ]
    },
    {
     "name": "stdout",
     "output_type": "stream",
     "text": [
      "                                                                                                  \n",
      " conv2d_15 (Conv2D)          (None, 6, 6, 64)             4096      ['add_1[0][0]']               \n",
      "                                                                                                  \n",
      " max_pooling2d_6 (MaxPoolin  (None, 3, 3, 64)             0         ['conv2d_11[0][0]']           \n",
      " g2D)                                                                                             \n",
      "                                                                                                  \n",
      " batch_normalization_7 (Bat  (None, 3, 3, 64)             12        ['max_pooling2d_7[0][0]']     \n",
      " chNormalization)                                                                                 \n",
      "                                                                                                  \n",
      " max_pooling2d_8 (MaxPoolin  (None, 3, 3, 64)             0         ['conv2d_15[0][0]']           \n",
      " g2D)                                                                                             \n",
      "                                                                                                  \n",
      " batch_normalization_6 (Bat  (None, 3, 3, 64)             12        ['max_pooling2d_6[0][0]']     \n",
      " chNormalization)                                                                                 \n",
      "                                                                                                  \n",
      " dropout_2 (Dropout)         (None, 3, 3, 64)             0         ['batch_normalization_7[0][0]'\n",
      "                                                                    ]                             \n",
      "                                                                                                  \n",
      " batch_normalization_8 (Bat  (None, 3, 3, 64)             12        ['max_pooling2d_8[0][0]']     \n",
      " chNormalization)                                                                                 \n",
      "                                                                                                  \n",
      " add_2 (Add)                 (None, 3, 3, 64)             0         ['batch_normalization_6[0][0]'\n",
      "                                                                    , 'dropout_2[0][0]',          \n",
      "                                                                     'batch_normalization_8[0][0]'\n",
      "                                                                    ]                             \n",
      "                                                                                                  \n",
      " flatten (Flatten)           (None, 576)                  0         ['add_2[0][0]']               \n",
      "                                                                                                  \n",
      " dense (Dense)               (None, 256)                  147712    ['flatten[0][0]']             \n",
      "                                                                                                  \n",
      " dropout_3 (Dropout)         (None, 256)                  0         ['dense[0][0]']               \n",
      "                                                                                                  \n",
      " dense_1 (Dense)             (None, 64)                   16448     ['dropout_3[0][0]']           \n",
      "                                                                                                  \n",
      " dropout_4 (Dropout)         (None, 64)                   0         ['dense_1[0][0]']             \n",
      "                                                                                                  \n",
      " dense_2 (Dense)             (None, 7)                    455       ['dropout_4[0][0]']           \n",
      "                                                                                                  \n",
      "==================================================================================================\n",
      "Total params: 475023 (1.81 MB)\n",
      "Trainable params: 474891 (1.81 MB)\n",
      "Non-trainable params: 132 (528.00 Byte)\n",
      "__________________________________________________________________________________________________\n",
      "None\n"
     ]
    }
   ],
   "source": [
    "Name= \"CNN0\"\n",
    "\n",
    "# An input layer for the model is defined with the shape (28, 28, 3), \n",
    "# representing 28x28 RGB images. The name \"img\" is given to this input layer.\n",
    "inputs = keras.Input(shape=(28,28,3), name=\"img\")\n",
    "\n",
    "\n",
    "# A 2D convolutional layer with 32 filters, a kernel size of 3x3, \n",
    "# and ReLU activation function is applied to the input layer.\n",
    "x = layers.Conv2D(32, 3, activation=\"relu\")(inputs)\n",
    "\n",
    "\n",
    "# The function blockred() is called with the output of the previous \n",
    "# convolutional layer and 32 filters. It creates the first block of operations.\n",
    "bl1=blockred(x,32)\n",
    "\n",
    "\n",
    "# The function blockred() is called again with the output of the\n",
    "# first block (bl1) and 64 filters. It creates the second block of operations.\n",
    "bl2=blockred(bl1,64)\n",
    "\n",
    "\n",
    "# The function blockred() is called again with the output of the second block \n",
    "# (bl2) and 64 filters. It creates the third block of operations.\n",
    "bl3=blockred(bl2,64)\n",
    "\n",
    "\n",
    "# y = Conv2D(filters=128, kernel_size=(5, 5), activation='relu')(bl3)\n",
    "# y = Conv2D(filters=128, kernel_size=(3, 3), activation='relu')(y)\n",
    "# y = MaxPooling2D(pool_size=(2, 2))(y)\n",
    "# y = BatchNormalization(axis=-1)(y)\n",
    "# y = Dropout(0.25)(y)\n",
    "\n",
    "# The output of the third block is flattened to prepare it for the fully connected layers.\n",
    "y = Flatten()(bl3)\n",
    "\n",
    "#  A fully connected layer with 256 units and ReLU activation function is applied.\n",
    "y = Dense(256, activation='relu')(y)\n",
    "\n",
    "#  A dropout layer is added to help prevent overfitting.\n",
    "y = Dropout(0.5)(y)\n",
    "\n",
    "# Another fully connected layer with 64 units and ReLU activation function is applied.\n",
    "y = Dense(64, activation='relu')(y)\n",
    "\n",
    "#  Another dropout layer is added.\n",
    "y = Dropout(0.5)(y)\n",
    "\n",
    "\n",
    "# The final fully connected layer with 7 units (assuming it's a 7-class classification task) \n",
    "# and a softmax activation function is applied to get the model's output probabilities for each class.\n",
    "outputs=Dense(7, activation='softmax')(y)\n",
    "\n",
    "# The Keras Model is created by specifying the inputs and outputs.\n",
    "# It represents the complete CNN architecture.\n",
    "model = keras.Model(inputs, outputs, name=Name)\n",
    "\n",
    "# The summary of the model's architecture is printed, showing the layer types,\n",
    "# output shapes, and the number of trainable parameters.\n",
    "print(model.summary())\n",
    "\n",
    "\n"
   ]
  },
  {
   "cell_type": "markdown",
   "id": "5b3b21c1",
   "metadata": {},
   "source": [
    "- This code defines a callback function for a TensorFlow/Keras model called ModelCheckpoint. A callback is a set of functions applied at various stages during training to perform specific actions. In this case, the ModelCheckpoint callback saves the best model (based on validation accuracy) during training to a file named 'best_model.h5'."
   ]
  },
  {
   "cell_type": "markdown",
   "id": "701addc6",
   "metadata": {},
   "source": [
    "- During the training process, the ModelCheckpoint callback will continuously check the validation accuracy of the model. If the validation accuracy improves (increases), it will save the model to the specified file path. This ensures that you have access to the best-performing model after training, rather than the final model at the last epoch. It can be useful for later evaluation or deployment of the model."
   ]
  },
  {
   "cell_type": "code",
   "execution_count": 23,
   "id": "d1a97c4f",
   "metadata": {},
   "outputs": [],
   "source": [
    "callback = tf.keras.callbacks.ModelCheckpoint(filepath='best_model.h5',\n",
    "                                                  monitor='val_acc', mode='auto',\n",
    "                                                 verbose=1, save_best_only=True)"
   ]
  },
  {
   "cell_type": "code",
   "execution_count": 24,
   "id": "c263f595",
   "metadata": {},
   "outputs": [],
   "source": [
    "from keras.preprocessing.image import ImageDataGenerator\n",
    "\n",
    "datagen = ImageDataGenerator(\n",
    "        rotation_range=20,  \n",
    "        zoom_range = 0.1, \n",
    "        width_shift_range=0.1,  \n",
    "        height_shift_range=0.1,  \n",
    "        horizontal_flip=True,  \n",
    "        vertical_flip=False)  \n",
    "\n",
    "datagen.fit(x_train)"
   ]
  },
  {
   "cell_type": "code",
   "execution_count": 25,
   "id": "f107101f",
   "metadata": {
    "scrolled": true
   },
   "outputs": [],
   "source": [
    "num_classes = 7\n",
    "model.compile(\n",
    "    optimizer=optimizers.Adam(),\n",
    "    loss=losses.CategoricalCrossentropy(),  \n",
    "    metrics=[\n",
    "        'acc', \n",
    "        metrics.Recall(),\n",
    "        metrics.Precision(),\n",
    "        metrics.AUC(),\n",
    "        metrics.TruePositives(),\n",
    "        metrics.TrueNegatives(),\n",
    "        metrics.FalseNegatives(),\n",
    "        metrics.FalsePositives(),\n",
    "    ]\n",
    ")"
   ]
  },
  {
   "cell_type": "code",
   "execution_count": 26,
   "id": "bb8e8ead",
   "metadata": {
    "scrolled": true
   },
   "outputs": [
    {
     "name": "stdout",
     "output_type": "stream",
     "text": [
      "Epoch 1/50\n",
      "225/225 [==============================] - ETA: 0s - loss: 1.3482 - acc: 0.6035 - recall_1: 0.4648 - precision_1: 0.7193 - auc_1: 0.8670 - true_positives_1: 3336.0000 - true_negatives_1: 41766.0000 - false_negatives_1: 3842.0000 - false_positives_1: 1302.0000\n",
      "Epoch 1: val_acc improved from -inf to 0.65087, saving model to best_model.h5\n",
      "225/225 [==============================] - 31s 128ms/step - loss: 1.3482 - acc: 0.6035 - recall_1: 0.4648 - precision_1: 0.7193 - auc_1: 0.8670 - true_positives_1: 3336.0000 - true_negatives_1: 41766.0000 - false_negatives_1: 3842.0000 - false_positives_1: 1302.0000 - val_loss: 1.0621 - val_acc: 0.6509 - val_recall_1: 0.3978 - val_precision_1: 0.8886 - val_auc_1: 0.9110 - val_true_positives_1: 319.0000 - val_true_negatives_1: 4772.0000 - val_false_negatives_1: 483.0000 - val_false_positives_1: 40.0000\n",
      "Epoch 2/50\n"
     ]
    },
    {
     "name": "stderr",
     "output_type": "stream",
     "text": [
      "/Users/jdapeman/anaconda3/envs/apple/lib/python3.10/site-packages/keras/src/engine/training.py:3000: UserWarning: You are saving your model as an HDF5 file via `model.save()`. This file format is considered legacy. We recommend using instead the native Keras format, e.g. `model.save('my_model.keras')`.\n",
      "  saving_api.save_model(\n"
     ]
    },
    {
     "name": "stdout",
     "output_type": "stream",
     "text": [
      "225/225 [==============================] - ETA: 0s - loss: 1.0380 - acc: 0.6610 - recall_1: 0.4983 - precision_1: 0.7990 - auc_1: 0.9104 - true_positives_1: 3577.0000 - true_negatives_1: 42168.0000 - false_negatives_1: 3601.0000 - false_positives_1: 900.0000\n",
      "Epoch 2: val_acc did not improve from 0.65087\n",
      "225/225 [==============================] - 30s 133ms/step - loss: 1.0380 - acc: 0.6610 - recall_1: 0.4983 - precision_1: 0.7990 - auc_1: 0.9104 - true_positives_1: 3577.0000 - true_negatives_1: 42168.0000 - false_negatives_1: 3601.0000 - false_positives_1: 900.0000 - val_loss: 0.9583 - val_acc: 0.6446 - val_recall_1: 0.4564 - val_precision_1: 0.8714 - val_auc_1: 0.9240 - val_true_positives_1: 366.0000 - val_true_negatives_1: 4758.0000 - val_false_negatives_1: 436.0000 - val_false_positives_1: 54.0000\n",
      "Epoch 3/50\n",
      "225/225 [==============================] - ETA: 0s - loss: 0.9714 - acc: 0.6644 - recall_1: 0.5183 - precision_1: 0.8089 - auc_1: 0.9221 - true_positives_1: 3720.0000 - true_negatives_1: 42189.0000 - false_negatives_1: 3458.0000 - false_positives_1: 879.0000\n",
      "Epoch 3: val_acc did not improve from 0.65087\n",
      "225/225 [==============================] - 33s 147ms/step - loss: 0.9714 - acc: 0.6644 - recall_1: 0.5183 - precision_1: 0.8089 - auc_1: 0.9221 - true_positives_1: 3720.0000 - true_negatives_1: 42189.0000 - false_negatives_1: 3458.0000 - false_positives_1: 879.0000 - val_loss: 0.9306 - val_acc: 0.6446 - val_recall_1: 0.5324 - val_precision_1: 0.8227 - val_auc_1: 0.9257 - val_true_positives_1: 427.0000 - val_true_negatives_1: 4720.0000 - val_false_negatives_1: 375.0000 - val_false_positives_1: 92.0000\n",
      "Epoch 4/50\n",
      "225/225 [==============================] - ETA: 0s - loss: 0.9210 - acc: 0.6702 - recall_1: 0.5400 - precision_1: 0.8117 - auc_1: 0.9287 - true_positives_1: 3876.0000 - true_negatives_1: 42169.0000 - false_negatives_1: 3302.0000 - false_positives_1: 899.0000\n",
      "Epoch 4: val_acc improved from 0.65087 to 0.65835, saving model to best_model.h5\n",
      "225/225 [==============================] - 33s 148ms/step - loss: 0.9210 - acc: 0.6702 - recall_1: 0.5400 - precision_1: 0.8117 - auc_1: 0.9287 - true_positives_1: 3876.0000 - true_negatives_1: 42169.0000 - false_negatives_1: 3302.0000 - false_positives_1: 899.0000 - val_loss: 0.9053 - val_acc: 0.6584 - val_recall_1: 0.4913 - val_precision_1: 0.8565 - val_auc_1: 0.9314 - val_true_positives_1: 394.0000 - val_true_negatives_1: 4746.0000 - val_false_negatives_1: 408.0000 - val_false_positives_1: 66.0000\n",
      "Epoch 5/50\n",
      "225/225 [==============================] - ETA: 0s - loss: 0.9032 - acc: 0.6793 - recall_1: 0.5449 - precision_1: 0.8244 - auc_1: 0.9324 - true_positives_1: 3911.0000 - true_negatives_1: 42235.0000 - false_negatives_1: 3267.0000 - false_positives_1: 833.0000\n",
      "Epoch 5: val_acc did not improve from 0.65835\n",
      "225/225 [==============================] - 32s 141ms/step - loss: 0.9032 - acc: 0.6793 - recall_1: 0.5449 - precision_1: 0.8244 - auc_1: 0.9324 - true_positives_1: 3911.0000 - true_negatives_1: 42235.0000 - false_negatives_1: 3267.0000 - false_positives_1: 833.0000 - val_loss: 0.9038 - val_acc: 0.6509 - val_recall_1: 0.5636 - val_precision_1: 0.8188 - val_auc_1: 0.9308 - val_true_positives_1: 452.0000 - val_true_negatives_1: 4712.0000 - val_false_negatives_1: 350.0000 - val_false_positives_1: 100.0000\n",
      "Epoch 6/50\n",
      "225/225 [==============================] - ETA: 0s - loss: 0.8847 - acc: 0.6811 - recall_1: 0.5596 - precision_1: 0.8181 - auc_1: 0.9348 - true_positives_1: 4017.0000 - true_negatives_1: 42175.0000 - false_negatives_1: 3161.0000 - false_positives_1: 893.0000\n",
      "Epoch 6: val_acc did not improve from 0.65835\n",
      "225/225 [==============================] - 32s 142ms/step - loss: 0.8847 - acc: 0.6811 - recall_1: 0.5596 - precision_1: 0.8181 - auc_1: 0.9348 - true_positives_1: 4017.0000 - true_negatives_1: 42175.0000 - false_negatives_1: 3161.0000 - false_positives_1: 893.0000 - val_loss: 0.8677 - val_acc: 0.6584 - val_recall_1: 0.5150 - val_precision_1: 0.8551 - val_auc_1: 0.9363 - val_true_positives_1: 413.0000 - val_true_negatives_1: 4742.0000 - val_false_negatives_1: 389.0000 - val_false_positives_1: 70.0000\n",
      "Epoch 7/50\n",
      "225/225 [==============================] - ETA: 0s - loss: 0.8651 - acc: 0.6840 - recall_1: 0.5694 - precision_1: 0.8270 - auc_1: 0.9378 - true_positives_1: 4087.0000 - true_negatives_1: 42213.0000 - false_negatives_1: 3091.0000 - false_positives_1: 855.0000\n",
      "Epoch 7: val_acc did not improve from 0.65835\n",
      "225/225 [==============================] - 32s 142ms/step - loss: 0.8651 - acc: 0.6840 - recall_1: 0.5694 - precision_1: 0.8270 - auc_1: 0.9378 - true_positives_1: 4087.0000 - true_negatives_1: 42213.0000 - false_negatives_1: 3091.0000 - false_positives_1: 855.0000 - val_loss: 0.8521 - val_acc: 0.6559 - val_recall_1: 0.5611 - val_precision_1: 0.8212 - val_auc_1: 0.9372 - val_true_positives_1: 450.0000 - val_true_negatives_1: 4714.0000 - val_false_negatives_1: 352.0000 - val_false_positives_1: 98.0000\n",
      "Epoch 8/50\n",
      "225/225 [==============================] - ETA: 0s - loss: 0.8371 - acc: 0.6938 - recall_1: 0.5851 - precision_1: 0.8242 - auc_1: 0.9411 - true_positives_1: 4200.0000 - true_negatives_1: 42172.0000 - false_negatives_1: 2978.0000 - false_positives_1: 896.0000\n",
      "Epoch 8: val_acc improved from 0.65835 to 0.68703, saving model to best_model.h5\n",
      "225/225 [==============================] - 36s 158ms/step - loss: 0.8371 - acc: 0.6938 - recall_1: 0.5851 - precision_1: 0.8242 - auc_1: 0.9411 - true_positives_1: 4200.0000 - true_negatives_1: 42172.0000 - false_negatives_1: 2978.0000 - false_positives_1: 896.0000 - val_loss: 0.8565 - val_acc: 0.6870 - val_recall_1: 0.4963 - val_precision_1: 0.8578 - val_auc_1: 0.9377 - val_true_positives_1: 398.0000 - val_true_negatives_1: 4746.0000 - val_false_negatives_1: 404.0000 - val_false_positives_1: 66.0000\n",
      "Epoch 9/50\n",
      "225/225 [==============================] - ETA: 0s - loss: 0.8340 - acc: 0.6899 - recall_1: 0.5860 - precision_1: 0.8215 - auc_1: 0.9421 - true_positives_1: 4219.0000 - true_negatives_1: 42283.0000 - false_negatives_1: 2981.0000 - false_positives_1: 917.0000\n",
      "Epoch 9: val_acc did not improve from 0.68703\n",
      "225/225 [==============================] - 32s 144ms/step - loss: 0.8340 - acc: 0.6899 - recall_1: 0.5860 - precision_1: 0.8215 - auc_1: 0.9421 - true_positives_1: 4219.0000 - true_negatives_1: 42283.0000 - false_negatives_1: 2981.0000 - false_positives_1: 917.0000 - val_loss: 0.8290 - val_acc: 0.6721 - val_recall_1: 0.5910 - val_precision_1: 0.7822 - val_auc_1: 0.9409 - val_true_positives_1: 474.0000 - val_true_negatives_1: 4680.0000 - val_false_negatives_1: 328.0000 - val_false_positives_1: 132.0000\n",
      "Epoch 10/50\n",
      "225/225 [==============================] - ETA: 0s - loss: 0.8023 - acc: 0.7012 - recall_1: 0.6002 - precision_1: 0.8346 - auc_1: 0.9460 - true_positives_1: 4308.0000 - true_negatives_1: 42214.0000 - false_negatives_1: 2870.0000 - false_positives_1: 854.0000\n",
      "Epoch 10: val_acc did not improve from 0.68703\n",
      "225/225 [==============================] - 33s 146ms/step - loss: 0.8023 - acc: 0.7012 - recall_1: 0.6002 - precision_1: 0.8346 - auc_1: 0.9460 - true_positives_1: 4308.0000 - true_negatives_1: 42214.0000 - false_negatives_1: 2870.0000 - false_positives_1: 854.0000 - val_loss: 0.8190 - val_acc: 0.6771 - val_recall_1: 0.5698 - val_precision_1: 0.8205 - val_auc_1: 0.9425 - val_true_positives_1: 457.0000 - val_true_negatives_1: 4712.0000 - val_false_negatives_1: 345.0000 - val_false_positives_1: 100.0000\n",
      "Epoch 11/50\n",
      "225/225 [==============================] - ETA: 0s - loss: 0.8039 - acc: 0.7045 - recall_1: 0.6006 - precision_1: 0.8281 - auc_1: 0.9463 - true_positives_1: 4311.0000 - true_negatives_1: 42173.0000 - false_negatives_1: 2867.0000 - false_positives_1: 895.0000\n",
      "Epoch 11: val_acc improved from 0.68703 to 0.69202, saving model to best_model.h5\n",
      "225/225 [==============================] - 33s 148ms/step - loss: 0.8039 - acc: 0.7045 - recall_1: 0.6006 - precision_1: 0.8281 - auc_1: 0.9463 - true_positives_1: 4311.0000 - true_negatives_1: 42173.0000 - false_negatives_1: 2867.0000 - false_positives_1: 895.0000 - val_loss: 0.7848 - val_acc: 0.6920 - val_recall_1: 0.5973 - val_precision_1: 0.8216 - val_auc_1: 0.9471 - val_true_positives_1: 479.0000 - val_true_negatives_1: 4708.0000 - val_false_negatives_1: 323.0000 - val_false_positives_1: 104.0000\n"
     ]
    },
    {
     "name": "stdout",
     "output_type": "stream",
     "text": [
      "Epoch 12/50\n",
      "225/225 [==============================] - ETA: 0s - loss: 0.7790 - acc: 0.7165 - recall_1: 0.6094 - precision_1: 0.8328 - auc_1: 0.9491 - true_positives_1: 4374.0000 - true_negatives_1: 42190.0000 - false_negatives_1: 2804.0000 - false_positives_1: 878.0000\n",
      "Epoch 12: val_acc did not improve from 0.69202\n",
      "225/225 [==============================] - 35s 155ms/step - loss: 0.7790 - acc: 0.7165 - recall_1: 0.6094 - precision_1: 0.8328 - auc_1: 0.9491 - true_positives_1: 4374.0000 - true_negatives_1: 42190.0000 - false_negatives_1: 2804.0000 - false_positives_1: 878.0000 - val_loss: 0.8098 - val_acc: 0.6870 - val_recall_1: 0.6047 - val_precision_1: 0.7912 - val_auc_1: 0.9438 - val_true_positives_1: 485.0000 - val_true_negatives_1: 4684.0000 - val_false_negatives_1: 317.0000 - val_false_positives_1: 128.0000\n",
      "Epoch 13/50\n",
      "225/225 [==============================] - ETA: 0s - loss: 0.7732 - acc: 0.7109 - recall_1: 0.6126 - precision_1: 0.8347 - auc_1: 0.9496 - true_positives_1: 4397.0000 - true_negatives_1: 42197.0000 - false_negatives_1: 2781.0000 - false_positives_1: 871.0000\n",
      "Epoch 13: val_acc improved from 0.69202 to 0.71197, saving model to best_model.h5\n",
      "225/225 [==============================] - 33s 148ms/step - loss: 0.7732 - acc: 0.7109 - recall_1: 0.6126 - precision_1: 0.8347 - auc_1: 0.9496 - true_positives_1: 4397.0000 - true_negatives_1: 42197.0000 - false_negatives_1: 2781.0000 - false_positives_1: 871.0000 - val_loss: 0.7885 - val_acc: 0.7120 - val_recall_1: 0.6022 - val_precision_1: 0.8299 - val_auc_1: 0.9462 - val_true_positives_1: 483.0000 - val_true_negatives_1: 4713.0000 - val_false_negatives_1: 319.0000 - val_false_positives_1: 99.0000\n",
      "Epoch 14/50\n",
      "225/225 [==============================] - ETA: 0s - loss: 0.7611 - acc: 0.7212 - recall_1: 0.6226 - precision_1: 0.8377 - auc_1: 0.9516 - true_positives_1: 4469.0000 - true_negatives_1: 42202.0000 - false_negatives_1: 2709.0000 - false_positives_1: 866.0000\n",
      "Epoch 14: val_acc did not improve from 0.71197\n",
      "225/225 [==============================] - 34s 149ms/step - loss: 0.7611 - acc: 0.7212 - recall_1: 0.6226 - precision_1: 0.8377 - auc_1: 0.9516 - true_positives_1: 4469.0000 - true_negatives_1: 42202.0000 - false_negatives_1: 2709.0000 - false_positives_1: 866.0000 - val_loss: 0.7694 - val_acc: 0.7070 - val_recall_1: 0.5985 - val_precision_1: 0.8348 - val_auc_1: 0.9496 - val_true_positives_1: 480.0000 - val_true_negatives_1: 4717.0000 - val_false_negatives_1: 322.0000 - val_false_positives_1: 95.0000\n",
      "Epoch 15/50\n",
      "225/225 [==============================] - ETA: 0s - loss: 0.7582 - acc: 0.7282 - recall_1: 0.6239 - precision_1: 0.8379 - auc_1: 0.9521 - true_positives_1: 4478.0000 - true_negatives_1: 42202.0000 - false_negatives_1: 2700.0000 - false_positives_1: 866.0000\n",
      "Epoch 15: val_acc did not improve from 0.71197\n",
      "225/225 [==============================] - 34s 151ms/step - loss: 0.7582 - acc: 0.7282 - recall_1: 0.6239 - precision_1: 0.8379 - auc_1: 0.9521 - true_positives_1: 4478.0000 - true_negatives_1: 42202.0000 - false_negatives_1: 2700.0000 - false_positives_1: 866.0000 - val_loss: 0.8284 - val_acc: 0.6945 - val_recall_1: 0.5935 - val_precision_1: 0.7987 - val_auc_1: 0.9438 - val_true_positives_1: 476.0000 - val_true_negatives_1: 4692.0000 - val_false_negatives_1: 326.0000 - val_false_positives_1: 120.0000\n",
      "Epoch 16/50\n",
      "225/225 [==============================] - ETA: 0s - loss: 0.7388 - acc: 0.7299 - recall_1: 0.6307 - precision_1: 0.8355 - auc_1: 0.9540 - true_positives_1: 4527.0000 - true_negatives_1: 42177.0000 - false_negatives_1: 2651.0000 - false_positives_1: 891.0000\n",
      "Epoch 16: val_acc improved from 0.71197 to 0.71696, saving model to best_model.h5\n",
      "225/225 [==============================] - 35s 154ms/step - loss: 0.7388 - acc: 0.7299 - recall_1: 0.6307 - precision_1: 0.8355 - auc_1: 0.9540 - true_positives_1: 4527.0000 - true_negatives_1: 42177.0000 - false_negatives_1: 2651.0000 - false_positives_1: 891.0000 - val_loss: 0.7425 - val_acc: 0.7170 - val_recall_1: 0.6085 - val_precision_1: 0.8243 - val_auc_1: 0.9528 - val_true_positives_1: 488.0000 - val_true_negatives_1: 4708.0000 - val_false_negatives_1: 314.0000 - val_false_positives_1: 104.0000\n",
      "Epoch 17/50\n",
      "225/225 [==============================] - ETA: 0s - loss: 0.7375 - acc: 0.7285 - recall_1: 0.6312 - precision_1: 0.8391 - auc_1: 0.9549 - true_positives_1: 4531.0000 - true_negatives_1: 42199.0000 - false_negatives_1: 2647.0000 - false_positives_1: 869.0000\n",
      "Epoch 17: val_acc did not improve from 0.71696\n",
      "225/225 [==============================] - 36s 160ms/step - loss: 0.7375 - acc: 0.7285 - recall_1: 0.6312 - precision_1: 0.8391 - auc_1: 0.9549 - true_positives_1: 4531.0000 - true_negatives_1: 42199.0000 - false_negatives_1: 2647.0000 - false_positives_1: 869.0000 - val_loss: 0.7392 - val_acc: 0.7057 - val_recall_1: 0.6334 - val_precision_1: 0.8207 - val_auc_1: 0.9523 - val_true_positives_1: 508.0000 - val_true_negatives_1: 4701.0000 - val_false_negatives_1: 294.0000 - val_false_positives_1: 111.0000\n",
      "Epoch 18/50\n",
      "225/225 [==============================] - ETA: 0s - loss: 0.7302 - acc: 0.7392 - recall_1: 0.6402 - precision_1: 0.8339 - auc_1: 0.9555 - true_positives_1: 4595.0000 - true_negatives_1: 42153.0000 - false_negatives_1: 2583.0000 - false_positives_1: 915.0000\n",
      "Epoch 18: val_acc did not improve from 0.71696\n",
      "225/225 [==============================] - 35s 157ms/step - loss: 0.7302 - acc: 0.7392 - recall_1: 0.6402 - precision_1: 0.8339 - auc_1: 0.9555 - true_positives_1: 4595.0000 - true_negatives_1: 42153.0000 - false_negatives_1: 2583.0000 - false_positives_1: 915.0000 - val_loss: 0.7278 - val_acc: 0.7045 - val_recall_1: 0.6097 - val_precision_1: 0.8460 - val_auc_1: 0.9551 - val_true_positives_1: 489.0000 - val_true_negatives_1: 4723.0000 - val_false_negatives_1: 313.0000 - val_false_positives_1: 89.0000\n",
      "Epoch 19/50\n",
      "225/225 [==============================] - ETA: 0s - loss: 0.7193 - acc: 0.7345 - recall_1: 0.6493 - precision_1: 0.8361 - auc_1: 0.9563 - true_positives_1: 4661.0000 - true_negatives_1: 42154.0000 - false_negatives_1: 2517.0000 - false_positives_1: 914.0000\n",
      "Epoch 19: val_acc did not improve from 0.71696\n",
      "225/225 [==============================] - 34s 153ms/step - loss: 0.7193 - acc: 0.7345 - recall_1: 0.6493 - precision_1: 0.8361 - auc_1: 0.9563 - true_positives_1: 4661.0000 - true_negatives_1: 42154.0000 - false_negatives_1: 2517.0000 - false_positives_1: 914.0000 - val_loss: 0.7501 - val_acc: 0.7032 - val_recall_1: 0.5786 - val_precision_1: 0.8529 - val_auc_1: 0.9524 - val_true_positives_1: 464.0000 - val_true_negatives_1: 4732.0000 - val_false_negatives_1: 338.0000 - val_false_positives_1: 80.0000\n",
      "Epoch 20/50\n",
      "225/225 [==============================] - ETA: 0s - loss: 0.7038 - acc: 0.7410 - recall_1: 0.6549 - precision_1: 0.8368 - auc_1: 0.9582 - true_positives_1: 4701.0000 - true_negatives_1: 42151.0000 - false_negatives_1: 2477.0000 - false_positives_1: 917.0000\n",
      "Epoch 20: val_acc improved from 0.71696 to 0.72195, saving model to best_model.h5\n",
      "225/225 [==============================] - 35s 155ms/step - loss: 0.7038 - acc: 0.7410 - recall_1: 0.6549 - precision_1: 0.8368 - auc_1: 0.9582 - true_positives_1: 4701.0000 - true_negatives_1: 42151.0000 - false_negatives_1: 2477.0000 - false_positives_1: 917.0000 - val_loss: 0.7408 - val_acc: 0.7219 - val_recall_1: 0.6209 - val_precision_1: 0.8177 - val_auc_1: 0.9535 - val_true_positives_1: 498.0000 - val_true_negatives_1: 4701.0000 - val_false_negatives_1: 304.0000 - val_false_positives_1: 111.0000\n",
      "Epoch 21/50\n",
      "225/225 [==============================] - ETA: 0s - loss: 0.7036 - acc: 0.7405 - recall_1: 0.6519 - precision_1: 0.8409 - auc_1: 0.9581 - true_positives_1: 4679.0000 - true_negatives_1: 42183.0000 - false_negatives_1: 2499.0000 - false_positives_1: 885.0000\n",
      "Epoch 21: val_acc did not improve from 0.72195\n",
      "225/225 [==============================] - 34s 149ms/step - loss: 0.7036 - acc: 0.7405 - recall_1: 0.6519 - precision_1: 0.8409 - auc_1: 0.9581 - true_positives_1: 4679.0000 - true_negatives_1: 42183.0000 - false_negatives_1: 2499.0000 - false_positives_1: 885.0000 - val_loss: 0.7490 - val_acc: 0.7145 - val_recall_1: 0.6060 - val_precision_1: 0.8423 - val_auc_1: 0.9520 - val_true_positives_1: 486.0000 - val_true_negatives_1: 4721.0000 - val_false_negatives_1: 316.0000 - val_false_positives_1: 91.0000\n"
     ]
    },
    {
     "name": "stdout",
     "output_type": "stream",
     "text": [
      "Epoch 22/50\n",
      "225/225 [==============================] - ETA: 0s - loss: 0.6966 - acc: 0.7471 - recall_1: 0.6565 - precision_1: 0.8405 - auc_1: 0.9590 - true_positives_1: 4712.0000 - true_negatives_1: 42174.0000 - false_negatives_1: 2466.0000 - false_positives_1: 894.0000\n",
      "Epoch 22: val_acc did not improve from 0.72195\n",
      "225/225 [==============================] - 33s 146ms/step - loss: 0.6966 - acc: 0.7471 - recall_1: 0.6565 - precision_1: 0.8405 - auc_1: 0.9590 - true_positives_1: 4712.0000 - true_negatives_1: 42174.0000 - false_negatives_1: 2466.0000 - false_positives_1: 894.0000 - val_loss: 0.7172 - val_acc: 0.7195 - val_recall_1: 0.6209 - val_precision_1: 0.8484 - val_auc_1: 0.9564 - val_true_positives_1: 498.0000 - val_true_negatives_1: 4723.0000 - val_false_negatives_1: 304.0000 - val_false_positives_1: 89.0000\n",
      "Epoch 23/50\n",
      "225/225 [==============================] - ETA: 0s - loss: 0.6863 - acc: 0.7462 - recall_1: 0.6591 - precision_1: 0.8427 - auc_1: 0.9603 - true_positives_1: 4731.0000 - true_negatives_1: 42185.0000 - false_negatives_1: 2447.0000 - false_positives_1: 883.0000\n",
      "Epoch 23: val_acc did not improve from 0.72195\n",
      "225/225 [==============================] - 32s 143ms/step - loss: 0.6863 - acc: 0.7462 - recall_1: 0.6591 - precision_1: 0.8427 - auc_1: 0.9603 - true_positives_1: 4731.0000 - true_negatives_1: 42185.0000 - false_negatives_1: 2447.0000 - false_positives_1: 883.0000 - val_loss: 0.7291 - val_acc: 0.7207 - val_recall_1: 0.6172 - val_precision_1: 0.8250 - val_auc_1: 0.9543 - val_true_positives_1: 495.0000 - val_true_negatives_1: 4707.0000 - val_false_negatives_1: 307.0000 - val_false_positives_1: 105.0000\n",
      "Epoch 24/50\n",
      "225/225 [==============================] - ETA: 0s - loss: 0.6865 - acc: 0.7503 - recall_1: 0.6601 - precision_1: 0.8431 - auc_1: 0.9604 - true_positives_1: 4738.0000 - true_negatives_1: 42186.0000 - false_negatives_1: 2440.0000 - false_positives_1: 882.0000\n",
      "Epoch 24: val_acc improved from 0.72195 to 0.72818, saving model to best_model.h5\n",
      "225/225 [==============================] - 34s 152ms/step - loss: 0.6865 - acc: 0.7503 - recall_1: 0.6601 - precision_1: 0.8431 - auc_1: 0.9604 - true_positives_1: 4738.0000 - true_negatives_1: 42186.0000 - false_negatives_1: 2440.0000 - false_positives_1: 882.0000 - val_loss: 0.7294 - val_acc: 0.7282 - val_recall_1: 0.6397 - val_precision_1: 0.8234 - val_auc_1: 0.9546 - val_true_positives_1: 513.0000 - val_true_negatives_1: 4702.0000 - val_false_negatives_1: 289.0000 - val_false_positives_1: 110.0000\n",
      "Epoch 25/50\n",
      "225/225 [==============================] - ETA: 0s - loss: 0.6832 - acc: 0.7466 - recall_1: 0.6601 - precision_1: 0.8355 - auc_1: 0.9604 - true_positives_1: 4738.0000 - true_negatives_1: 42135.0000 - false_negatives_1: 2440.0000 - false_positives_1: 933.0000\n",
      "Epoch 25: val_acc did not improve from 0.72818\n",
      "225/225 [==============================] - 32s 144ms/step - loss: 0.6832 - acc: 0.7466 - recall_1: 0.6601 - precision_1: 0.8355 - auc_1: 0.9604 - true_positives_1: 4738.0000 - true_negatives_1: 42135.0000 - false_negatives_1: 2440.0000 - false_positives_1: 933.0000 - val_loss: 0.7112 - val_acc: 0.7244 - val_recall_1: 0.5923 - val_precision_1: 0.8543 - val_auc_1: 0.9584 - val_true_positives_1: 475.0000 - val_true_negatives_1: 4731.0000 - val_false_negatives_1: 327.0000 - val_false_positives_1: 81.0000\n",
      "Epoch 26/50\n",
      "225/225 [==============================] - ETA: 0s - loss: 0.6758 - acc: 0.7568 - recall_1: 0.6693 - precision_1: 0.8464 - auc_1: 0.9616 - true_positives_1: 4804.0000 - true_negatives_1: 42196.0000 - false_negatives_1: 2374.0000 - false_positives_1: 872.0000\n",
      "Epoch 26: val_acc did not improve from 0.72818\n",
      "225/225 [==============================] - 34s 152ms/step - loss: 0.6758 - acc: 0.7568 - recall_1: 0.6693 - precision_1: 0.8464 - auc_1: 0.9616 - true_positives_1: 4804.0000 - true_negatives_1: 42196.0000 - false_negatives_1: 2374.0000 - false_positives_1: 872.0000 - val_loss: 0.7229 - val_acc: 0.7082 - val_recall_1: 0.6147 - val_precision_1: 0.8189 - val_auc_1: 0.9552 - val_true_positives_1: 493.0000 - val_true_negatives_1: 4703.0000 - val_false_negatives_1: 309.0000 - val_false_positives_1: 109.0000\n",
      "Epoch 27/50\n",
      "225/225 [==============================] - ETA: 0s - loss: 0.6702 - acc: 0.7573 - recall_1: 0.6748 - precision_1: 0.8417 - auc_1: 0.9623 - true_positives_1: 4844.0000 - true_negatives_1: 42157.0000 - false_negatives_1: 2334.0000 - false_positives_1: 911.0000\n",
      "Epoch 27: val_acc did not improve from 0.72818\n",
      "225/225 [==============================] - 36s 160ms/step - loss: 0.6702 - acc: 0.7573 - recall_1: 0.6748 - precision_1: 0.8417 - auc_1: 0.9623 - true_positives_1: 4844.0000 - true_negatives_1: 42157.0000 - false_negatives_1: 2334.0000 - false_positives_1: 911.0000 - val_loss: 0.7259 - val_acc: 0.7232 - val_recall_1: 0.6584 - val_precision_1: 0.8161 - val_auc_1: 0.9550 - val_true_positives_1: 528.0000 - val_true_negatives_1: 4693.0000 - val_false_negatives_1: 274.0000 - val_false_positives_1: 119.0000\n",
      "Epoch 28/50\n",
      "225/225 [==============================] - ETA: 0s - loss: 0.6686 - acc: 0.7476 - recall_1: 0.6707 - precision_1: 0.8377 - auc_1: 0.9621 - true_positives_1: 4814.0000 - true_negatives_1: 42135.0000 - false_negatives_1: 2364.0000 - false_positives_1: 933.0000\n",
      "Epoch 28: val_acc improved from 0.72818 to 0.73441, saving model to best_model.h5\n",
      "225/225 [==============================] - 33s 147ms/step - loss: 0.6686 - acc: 0.7476 - recall_1: 0.6707 - precision_1: 0.8377 - auc_1: 0.9621 - true_positives_1: 4814.0000 - true_negatives_1: 42135.0000 - false_negatives_1: 2364.0000 - false_positives_1: 933.0000 - val_loss: 0.7127 - val_acc: 0.7344 - val_recall_1: 0.6309 - val_precision_1: 0.8214 - val_auc_1: 0.9560 - val_true_positives_1: 506.0000 - val_true_negatives_1: 4702.0000 - val_false_negatives_1: 296.0000 - val_false_positives_1: 110.0000\n",
      "Epoch 29/50\n",
      "225/225 [==============================] - ETA: 0s - loss: 0.6697 - acc: 0.7544 - recall_1: 0.6725 - precision_1: 0.8402 - auc_1: 0.9625 - true_positives_1: 4827.0000 - true_negatives_1: 42150.0000 - false_negatives_1: 2351.0000 - false_positives_1: 918.0000\n",
      "Epoch 29: val_acc did not improve from 0.73441\n",
      "225/225 [==============================] - 37s 162ms/step - loss: 0.6697 - acc: 0.7544 - recall_1: 0.6725 - precision_1: 0.8402 - auc_1: 0.9625 - true_positives_1: 4827.0000 - true_negatives_1: 42150.0000 - false_negatives_1: 2351.0000 - false_positives_1: 918.0000 - val_loss: 0.7061 - val_acc: 0.7207 - val_recall_1: 0.6222 - val_precision_1: 0.8303 - val_auc_1: 0.9577 - val_true_positives_1: 499.0000 - val_true_negatives_1: 4710.0000 - val_false_negatives_1: 303.0000 - val_false_positives_1: 102.0000\n",
      "Epoch 30/50\n",
      "225/225 [==============================] - ETA: 0s - loss: 0.6702 - acc: 0.7568 - recall_1: 0.6688 - precision_1: 0.8438 - auc_1: 0.9617 - true_positives_1: 4801.0000 - true_negatives_1: 42179.0000 - false_negatives_1: 2377.0000 - false_positives_1: 889.0000\n",
      "Epoch 30: val_acc did not improve from 0.73441\n",
      "225/225 [==============================] - 34s 153ms/step - loss: 0.6702 - acc: 0.7568 - recall_1: 0.6688 - precision_1: 0.8438 - auc_1: 0.9617 - true_positives_1: 4801.0000 - true_negatives_1: 42179.0000 - false_negatives_1: 2377.0000 - false_positives_1: 889.0000 - val_loss: 0.7012 - val_acc: 0.7319 - val_recall_1: 0.6496 - val_precision_1: 0.8078 - val_auc_1: 0.9575 - val_true_positives_1: 521.0000 - val_true_negatives_1: 4688.0000 - val_false_negatives_1: 281.0000 - val_false_positives_1: 124.0000\n",
      "Epoch 31/50\n",
      "225/225 [==============================] - ETA: 0s - loss: 0.6529 - acc: 0.7593 - recall_1: 0.6794 - precision_1: 0.8439 - auc_1: 0.9635 - true_positives_1: 4877.0000 - true_negatives_1: 42166.0000 - false_negatives_1: 2301.0000 - false_positives_1: 902.0000\n",
      "Epoch 31: val_acc did not improve from 0.73441\n",
      "225/225 [==============================] - 33s 147ms/step - loss: 0.6529 - acc: 0.7593 - recall_1: 0.6794 - precision_1: 0.8439 - auc_1: 0.9635 - true_positives_1: 4877.0000 - true_negatives_1: 42166.0000 - false_negatives_1: 2301.0000 - false_positives_1: 902.0000 - val_loss: 0.7136 - val_acc: 0.7132 - val_recall_1: 0.6347 - val_precision_1: 0.7953 - val_auc_1: 0.9559 - val_true_positives_1: 509.0000 - val_true_negatives_1: 4681.0000 - val_false_negatives_1: 293.0000 - val_false_positives_1: 131.0000\n"
     ]
    },
    {
     "name": "stdout",
     "output_type": "stream",
     "text": [
      "Epoch 32/50\n",
      "225/225 [==============================] - ETA: 0s - loss: 0.6628 - acc: 0.7538 - recall_1: 0.6725 - precision_1: 0.8420 - auc_1: 0.9631 - true_positives_1: 4827.0000 - true_negatives_1: 42162.0000 - false_negatives_1: 2351.0000 - false_positives_1: 906.0000\n",
      "Epoch 32: val_acc did not improve from 0.73441\n",
      "225/225 [==============================] - 31s 139ms/step - loss: 0.6628 - acc: 0.7538 - recall_1: 0.6725 - precision_1: 0.8420 - auc_1: 0.9631 - true_positives_1: 4827.0000 - true_negatives_1: 42162.0000 - false_negatives_1: 2351.0000 - false_positives_1: 906.0000 - val_loss: 0.6924 - val_acc: 0.7282 - val_recall_1: 0.6521 - val_precision_1: 0.8210 - val_auc_1: 0.9590 - val_true_positives_1: 523.0000 - val_true_negatives_1: 4698.0000 - val_false_negatives_1: 279.0000 - val_false_positives_1: 114.0000\n",
      "Epoch 33/50\n",
      "225/225 [==============================] - ETA: 0s - loss: 0.6372 - acc: 0.7657 - recall_1: 0.6888 - precision_1: 0.8534 - auc_1: 0.9655 - true_positives_1: 4944.0000 - true_negatives_1: 42219.0000 - false_negatives_1: 2234.0000 - false_positives_1: 849.0000\n",
      "Epoch 33: val_acc did not improve from 0.73441\n",
      "225/225 [==============================] - 32s 142ms/step - loss: 0.6372 - acc: 0.7657 - recall_1: 0.6888 - precision_1: 0.8534 - auc_1: 0.9655 - true_positives_1: 4944.0000 - true_negatives_1: 42219.0000 - false_negatives_1: 2234.0000 - false_positives_1: 849.0000 - val_loss: 0.7299 - val_acc: 0.7319 - val_recall_1: 0.6160 - val_precision_1: 0.8275 - val_auc_1: 0.9560 - val_true_positives_1: 494.0000 - val_true_negatives_1: 4709.0000 - val_false_negatives_1: 308.0000 - val_false_positives_1: 103.0000\n",
      "Epoch 34/50\n",
      "225/225 [==============================] - ETA: 0s - loss: 0.6342 - acc: 0.7623 - recall_1: 0.6890 - precision_1: 0.8456 - auc_1: 0.9658 - true_positives_1: 4946.0000 - true_negatives_1: 42165.0000 - false_negatives_1: 2232.0000 - false_positives_1: 903.0000\n",
      "Epoch 34: val_acc did not improve from 0.73441\n",
      "225/225 [==============================] - 31s 139ms/step - loss: 0.6342 - acc: 0.7623 - recall_1: 0.6890 - precision_1: 0.8456 - auc_1: 0.9658 - true_positives_1: 4946.0000 - true_negatives_1: 42165.0000 - false_negatives_1: 2232.0000 - false_positives_1: 903.0000 - val_loss: 0.6991 - val_acc: 0.7269 - val_recall_1: 0.6421 - val_precision_1: 0.8280 - val_auc_1: 0.9588 - val_true_positives_1: 515.0000 - val_true_negatives_1: 4705.0000 - val_false_negatives_1: 287.0000 - val_false_positives_1: 107.0000\n",
      "Epoch 35/50\n",
      "225/225 [==============================] - ETA: 0s - loss: 0.6317 - acc: 0.7712 - recall_1: 0.6867 - precision_1: 0.8479 - auc_1: 0.9661 - true_positives_1: 4929.0000 - true_negatives_1: 42184.0000 - false_negatives_1: 2249.0000 - false_positives_1: 884.0000\n",
      "Epoch 35: val_acc did not improve from 0.73441\n",
      "225/225 [==============================] - 33s 145ms/step - loss: 0.6317 - acc: 0.7712 - recall_1: 0.6867 - precision_1: 0.8479 - auc_1: 0.9661 - true_positives_1: 4929.0000 - true_negatives_1: 42184.0000 - false_negatives_1: 2249.0000 - false_positives_1: 884.0000 - val_loss: 0.7126 - val_acc: 0.7182 - val_recall_1: 0.6571 - val_precision_1: 0.8095 - val_auc_1: 0.9566 - val_true_positives_1: 527.0000 - val_true_negatives_1: 4688.0000 - val_false_negatives_1: 275.0000 - val_false_positives_1: 124.0000\n",
      "Epoch 36/50\n",
      "225/225 [==============================] - ETA: 0s - loss: 0.6355 - acc: 0.7697 - recall_1: 0.6927 - precision_1: 0.8520 - auc_1: 0.9657 - true_positives_1: 4972.0000 - true_negatives_1: 42204.0000 - false_negatives_1: 2206.0000 - false_positives_1: 864.0000\n",
      "Epoch 36: val_acc did not improve from 0.73441\n",
      "225/225 [==============================] - 31s 140ms/step - loss: 0.6355 - acc: 0.7697 - recall_1: 0.6927 - precision_1: 0.8520 - auc_1: 0.9657 - true_positives_1: 4972.0000 - true_negatives_1: 42204.0000 - false_negatives_1: 2206.0000 - false_positives_1: 864.0000 - val_loss: 0.7184 - val_acc: 0.7195 - val_recall_1: 0.6397 - val_precision_1: 0.8117 - val_auc_1: 0.9565 - val_true_positives_1: 513.0000 - val_true_negatives_1: 4693.0000 - val_false_negatives_1: 289.0000 - val_false_positives_1: 119.0000\n",
      "Epoch 37/50\n",
      "225/225 [==============================] - ETA: 0s - loss: 0.6319 - acc: 0.7634 - recall_1: 0.6927 - precision_1: 0.8456 - auc_1: 0.9661 - true_positives_1: 4972.0000 - true_negatives_1: 42160.0000 - false_negatives_1: 2206.0000 - false_positives_1: 908.0000\n",
      "Epoch 37: val_acc did not improve from 0.73441\n",
      "225/225 [==============================] - 32s 143ms/step - loss: 0.6319 - acc: 0.7634 - recall_1: 0.6927 - precision_1: 0.8456 - auc_1: 0.9661 - true_positives_1: 4972.0000 - true_negatives_1: 42160.0000 - false_negatives_1: 2206.0000 - false_positives_1: 908.0000 - val_loss: 0.7101 - val_acc: 0.7257 - val_recall_1: 0.6372 - val_precision_1: 0.8085 - val_auc_1: 0.9573 - val_true_positives_1: 511.0000 - val_true_negatives_1: 4691.0000 - val_false_negatives_1: 291.0000 - val_false_positives_1: 121.0000\n",
      "Epoch 38/50\n",
      "225/225 [==============================] - ETA: 0s - loss: 0.6302 - acc: 0.7710 - recall_1: 0.6995 - precision_1: 0.8513 - auc_1: 0.9662 - true_positives_1: 5021.0000 - true_negatives_1: 42191.0000 - false_negatives_1: 2157.0000 - false_positives_1: 877.0000\n",
      "Epoch 38: val_acc improved from 0.73441 to 0.73940, saving model to best_model.h5\n",
      "225/225 [==============================] - 32s 143ms/step - loss: 0.6302 - acc: 0.7710 - recall_1: 0.6995 - precision_1: 0.8513 - auc_1: 0.9662 - true_positives_1: 5021.0000 - true_negatives_1: 42191.0000 - false_negatives_1: 2157.0000 - false_positives_1: 877.0000 - val_loss: 0.6810 - val_acc: 0.7394 - val_recall_1: 0.6571 - val_precision_1: 0.8419 - val_auc_1: 0.9600 - val_true_positives_1: 527.0000 - val_true_negatives_1: 4713.0000 - val_false_negatives_1: 275.0000 - val_false_positives_1: 99.0000\n",
      "Epoch 39/50\n",
      "225/225 [==============================] - ETA: 0s - loss: 0.6227 - acc: 0.7632 - recall_1: 0.6918 - precision_1: 0.8406 - auc_1: 0.9673 - true_positives_1: 4966.0000 - true_negatives_1: 42126.0000 - false_negatives_1: 2212.0000 - false_positives_1: 942.0000\n",
      "Epoch 39: val_acc did not improve from 0.73940\n",
      "225/225 [==============================] - 32s 143ms/step - loss: 0.6227 - acc: 0.7632 - recall_1: 0.6918 - precision_1: 0.8406 - auc_1: 0.9673 - true_positives_1: 4966.0000 - true_negatives_1: 42126.0000 - false_negatives_1: 2212.0000 - false_positives_1: 942.0000 - val_loss: 0.6894 - val_acc: 0.7344 - val_recall_1: 0.6584 - val_precision_1: 0.8263 - val_auc_1: 0.9599 - val_true_positives_1: 528.0000 - val_true_negatives_1: 4701.0000 - val_false_negatives_1: 274.0000 - val_false_positives_1: 111.0000\n",
      "Epoch 40/50\n",
      "225/225 [==============================] - ETA: 0s - loss: 0.6214 - acc: 0.7673 - recall_1: 0.6981 - precision_1: 0.8495 - auc_1: 0.9671 - true_positives_1: 5011.0000 - true_negatives_1: 42180.0000 - false_negatives_1: 2167.0000 - false_positives_1: 888.0000\n",
      "Epoch 40: val_acc improved from 0.73940 to 0.74190, saving model to best_model.h5\n",
      "225/225 [==============================] - 33s 146ms/step - loss: 0.6214 - acc: 0.7673 - recall_1: 0.6981 - precision_1: 0.8495 - auc_1: 0.9671 - true_positives_1: 5011.0000 - true_negatives_1: 42180.0000 - false_negatives_1: 2167.0000 - false_positives_1: 888.0000 - val_loss: 0.6817 - val_acc: 0.7419 - val_recall_1: 0.6571 - val_precision_1: 0.8260 - val_auc_1: 0.9607 - val_true_positives_1: 527.0000 - val_true_negatives_1: 4701.0000 - val_false_negatives_1: 275.0000 - val_false_positives_1: 111.0000\n",
      "Epoch 41/50\n",
      "225/225 [==============================] - ETA: 0s - loss: 0.6103 - acc: 0.7704 - recall_1: 0.6998 - precision_1: 0.8479 - auc_1: 0.9682 - true_positives_1: 5023.0000 - true_negatives_1: 42167.0000 - false_negatives_1: 2155.0000 - false_positives_1: 901.0000\n",
      "Epoch 41: val_acc did not improve from 0.74190\n",
      "225/225 [==============================] - 33s 145ms/step - loss: 0.6103 - acc: 0.7704 - recall_1: 0.6998 - precision_1: 0.8479 - auc_1: 0.9682 - true_positives_1: 5023.0000 - true_negatives_1: 42167.0000 - false_negatives_1: 2155.0000 - false_positives_1: 901.0000 - val_loss: 0.6827 - val_acc: 0.7294 - val_recall_1: 0.6446 - val_precision_1: 0.8206 - val_auc_1: 0.9604 - val_true_positives_1: 517.0000 - val_true_negatives_1: 4699.0000 - val_false_negatives_1: 285.0000 - val_false_positives_1: 113.0000\n"
     ]
    },
    {
     "name": "stdout",
     "output_type": "stream",
     "text": [
      "Epoch 42/50\n",
      "225/225 [==============================] - ETA: 0s - loss: 0.6041 - acc: 0.7785 - recall_1: 0.7105 - precision_1: 0.8499 - auc_1: 0.9687 - true_positives_1: 5100.0000 - true_negatives_1: 42167.0000 - false_negatives_1: 2078.0000 - false_positives_1: 901.0000\n",
      "Epoch 42: val_acc did not improve from 0.74190\n",
      "225/225 [==============================] - 33s 145ms/step - loss: 0.6041 - acc: 0.7785 - recall_1: 0.7105 - precision_1: 0.8499 - auc_1: 0.9687 - true_positives_1: 5100.0000 - true_negatives_1: 42167.0000 - false_negatives_1: 2078.0000 - false_positives_1: 901.0000 - val_loss: 0.7283 - val_acc: 0.7182 - val_recall_1: 0.6334 - val_precision_1: 0.8260 - val_auc_1: 0.9546 - val_true_positives_1: 508.0000 - val_true_negatives_1: 4705.0000 - val_false_negatives_1: 294.0000 - val_false_positives_1: 107.0000\n",
      "Epoch 43/50\n",
      "225/225 [==============================] - ETA: 0s - loss: 0.6088 - acc: 0.7750 - recall_1: 0.7021 - precision_1: 0.8493 - auc_1: 0.9683 - true_positives_1: 5040.0000 - true_negatives_1: 42174.0000 - false_negatives_1: 2138.0000 - false_positives_1: 894.0000\n",
      "Epoch 43: val_acc did not improve from 0.74190\n",
      "225/225 [==============================] - 32s 140ms/step - loss: 0.6088 - acc: 0.7750 - recall_1: 0.7021 - precision_1: 0.8493 - auc_1: 0.9683 - true_positives_1: 5040.0000 - true_negatives_1: 42174.0000 - false_negatives_1: 2138.0000 - false_positives_1: 894.0000 - val_loss: 0.6937 - val_acc: 0.7207 - val_recall_1: 0.6683 - val_precision_1: 0.7906 - val_auc_1: 0.9595 - val_true_positives_1: 536.0000 - val_true_negatives_1: 4670.0000 - val_false_negatives_1: 266.0000 - val_false_positives_1: 142.0000\n",
      "Epoch 44/50\n",
      "225/225 [==============================] - ETA: 0s - loss: 0.6142 - acc: 0.7729 - recall_1: 0.7008 - precision_1: 0.8475 - auc_1: 0.9677 - true_positives_1: 5030.0000 - true_negatives_1: 42163.0000 - false_negatives_1: 2148.0000 - false_positives_1: 905.0000\n",
      "Epoch 44: val_acc did not improve from 0.74190\n",
      "225/225 [==============================] - 32s 144ms/step - loss: 0.6142 - acc: 0.7729 - recall_1: 0.7008 - precision_1: 0.8475 - auc_1: 0.9677 - true_positives_1: 5030.0000 - true_negatives_1: 42163.0000 - false_negatives_1: 2148.0000 - false_positives_1: 905.0000 - val_loss: 0.7127 - val_acc: 0.7182 - val_recall_1: 0.6608 - val_precision_1: 0.7994 - val_auc_1: 0.9572 - val_true_positives_1: 530.0000 - val_true_negatives_1: 4679.0000 - val_false_negatives_1: 272.0000 - val_false_positives_1: 133.0000\n",
      "Epoch 45/50\n",
      "225/225 [==============================] - ETA: 0s - loss: 0.5984 - acc: 0.7781 - recall_1: 0.7069 - precision_1: 0.8541 - auc_1: 0.9694 - true_positives_1: 5074.0000 - true_negatives_1: 42201.0000 - false_negatives_1: 2104.0000 - false_positives_1: 867.0000\n",
      "Epoch 45: val_acc did not improve from 0.74190\n",
      "225/225 [==============================] - 33s 147ms/step - loss: 0.5984 - acc: 0.7781 - recall_1: 0.7069 - precision_1: 0.8541 - auc_1: 0.9694 - true_positives_1: 5074.0000 - true_negatives_1: 42201.0000 - false_negatives_1: 2104.0000 - false_positives_1: 867.0000 - val_loss: 0.6814 - val_acc: 0.7344 - val_recall_1: 0.6484 - val_precision_1: 0.8176 - val_auc_1: 0.9596 - val_true_positives_1: 520.0000 - val_true_negatives_1: 4696.0000 - val_false_negatives_1: 282.0000 - val_false_positives_1: 116.0000\n",
      "Epoch 46/50\n",
      "225/225 [==============================] - ETA: 0s - loss: 0.5869 - acc: 0.7867 - recall_1: 0.7165 - precision_1: 0.8547 - auc_1: 0.9705 - true_positives_1: 5143.0000 - true_negatives_1: 42194.0000 - false_negatives_1: 2035.0000 - false_positives_1: 874.0000\n",
      "Epoch 46: val_acc did not improve from 0.74190\n",
      "225/225 [==============================] - 33s 146ms/step - loss: 0.5869 - acc: 0.7867 - recall_1: 0.7165 - precision_1: 0.8547 - auc_1: 0.9705 - true_positives_1: 5143.0000 - true_negatives_1: 42194.0000 - false_negatives_1: 2035.0000 - false_positives_1: 874.0000 - val_loss: 0.7084 - val_acc: 0.7332 - val_recall_1: 0.6671 - val_precision_1: 0.8045 - val_auc_1: 0.9577 - val_true_positives_1: 535.0000 - val_true_negatives_1: 4682.0000 - val_false_negatives_1: 267.0000 - val_false_positives_1: 130.0000\n",
      "Epoch 47/50\n",
      "225/225 [==============================] - ETA: 0s - loss: 0.5846 - acc: 0.7821 - recall_1: 0.7120 - precision_1: 0.8511 - auc_1: 0.9708 - true_positives_1: 5111.0000 - true_negatives_1: 42174.0000 - false_negatives_1: 2067.0000 - false_positives_1: 894.0000\n",
      "Epoch 47: val_acc did not improve from 0.74190\n",
      "225/225 [==============================] - 33s 144ms/step - loss: 0.5846 - acc: 0.7821 - recall_1: 0.7120 - precision_1: 0.8511 - auc_1: 0.9708 - true_positives_1: 5111.0000 - true_negatives_1: 42174.0000 - false_negatives_1: 2067.0000 - false_positives_1: 894.0000 - val_loss: 0.7043 - val_acc: 0.7307 - val_recall_1: 0.6534 - val_precision_1: 0.8252 - val_auc_1: 0.9577 - val_true_positives_1: 524.0000 - val_true_negatives_1: 4701.0000 - val_false_negatives_1: 278.0000 - val_false_positives_1: 111.0000\n",
      "Epoch 48/50\n",
      "225/225 [==============================] - ETA: 0s - loss: 0.5767 - acc: 0.7857 - recall_1: 0.7218 - precision_1: 0.8538 - auc_1: 0.9716 - true_positives_1: 5181.0000 - true_negatives_1: 42181.0000 - false_negatives_1: 1997.0000 - false_positives_1: 887.0000\n",
      "Epoch 48: val_acc did not improve from 0.74190\n",
      "225/225 [==============================] - 33s 145ms/step - loss: 0.5767 - acc: 0.7857 - recall_1: 0.7218 - precision_1: 0.8538 - auc_1: 0.9716 - true_positives_1: 5181.0000 - true_negatives_1: 42181.0000 - false_negatives_1: 1997.0000 - false_positives_1: 887.0000 - val_loss: 0.6804 - val_acc: 0.7382 - val_recall_1: 0.6658 - val_precision_1: 0.8228 - val_auc_1: 0.9606 - val_true_positives_1: 534.0000 - val_true_negatives_1: 4697.0000 - val_false_negatives_1: 268.0000 - val_false_positives_1: 115.0000\n",
      "Epoch 49/50\n",
      "225/225 [==============================] - ETA: 0s - loss: 0.5859 - acc: 0.7835 - recall_1: 0.7155 - precision_1: 0.8527 - auc_1: 0.9704 - true_positives_1: 5136.0000 - true_negatives_1: 42181.0000 - false_negatives_1: 2042.0000 - false_positives_1: 887.0000\n",
      "Epoch 49: val_acc did not improve from 0.74190\n",
      "225/225 [==============================] - 33s 147ms/step - loss: 0.5859 - acc: 0.7835 - recall_1: 0.7155 - precision_1: 0.8527 - auc_1: 0.9704 - true_positives_1: 5136.0000 - true_negatives_1: 42181.0000 - false_negatives_1: 2042.0000 - false_positives_1: 887.0000 - val_loss: 0.6722 - val_acc: 0.7357 - val_recall_1: 0.6683 - val_precision_1: 0.8084 - val_auc_1: 0.9619 - val_true_positives_1: 536.0000 - val_true_negatives_1: 4685.0000 - val_false_negatives_1: 266.0000 - val_false_positives_1: 127.0000\n",
      "Epoch 50/50\n",
      "225/225 [==============================] - ETA: 0s - loss: 0.5771 - acc: 0.7845 - recall_1: 0.7236 - precision_1: 0.8529 - auc_1: 0.9716 - true_positives_1: 5194.0000 - true_negatives_1: 42172.0000 - false_negatives_1: 1984.0000 - false_positives_1: 896.0000\n",
      "Epoch 50: val_acc did not improve from 0.74190\n",
      "225/225 [==============================] - 33s 146ms/step - loss: 0.5771 - acc: 0.7845 - recall_1: 0.7236 - precision_1: 0.8529 - auc_1: 0.9716 - true_positives_1: 5194.0000 - true_negatives_1: 42172.0000 - false_negatives_1: 1984.0000 - false_positives_1: 896.0000 - val_loss: 0.6895 - val_acc: 0.7357 - val_recall_1: 0.6584 - val_precision_1: 0.8086 - val_auc_1: 0.9599 - val_true_positives_1: 528.0000 - val_true_negatives_1: 4687.0000 - val_false_negatives_1: 274.0000 - val_false_positives_1: 125.0000\n"
     ]
    }
   ],
   "source": [
    "batch_size = 32\n",
    "epochs = 50\n",
    "\n",
    "history = model.fit(datagen.flow(x_train,y_train, batch_size=batch_size),\n",
    "                              epochs = epochs, validation_data = (x_val,y_val),\n",
    "                              verbose = 1, steps_per_epoch=x_train.shape[0] // batch_size,\n",
    "                              callbacks=[callback])"
   ]
  },
  {
   "cell_type": "code",
   "execution_count": 27,
   "id": "300b8913",
   "metadata": {},
   "outputs": [],
   "source": [
    "model.save(Name+'.h5')\n",
    "\n",
    "pd.DataFrame.from_dict(history.history).to_csv(Name+'.csv',index=False)"
   ]
  },
  {
   "cell_type": "code",
   "execution_count": 28,
   "id": "d3dfa036",
   "metadata": {},
   "outputs": [
    {
     "data": {
      "image/png": "[encoded data removed]",
      "text/plain": [
       "<Figure size 640x480 with 1 Axes>"
      ]
     },
     "metadata": {},
     "output_type": "display_data"
    }
   ],
   "source": [
    "plt.plot(history.history['acc'])\n",
    "plt.plot(history.history['val_acc'])\n",
    "plt.title('model accuracy')\n",
    "plt.ylabel('accuracy')\n",
    "plt.xlabel('epoch')\n",
    "plt.legend(['train', 'val'], loc='upper left')\n",
    "plt.show()"
   ]
  },
  {
   "cell_type": "code",
   "execution_count": 29,
   "id": "e2f3e7dc",
   "metadata": {},
   "outputs": [
    {
     "data": {
      "image/png": "[encoded data removed]",
      "text/plain": [
       "<Figure size 640x480 with 1 Axes>"
      ]
     },
     "metadata": {},
     "output_type": "display_data"
    }
   ],
   "source": [
    "plt.plot(history.history['loss'])\n",
    "plt.plot(history.history['val_loss'])\n",
    "plt.title('model loss')\n",
    "plt.ylabel('loss')\n",
    "plt.xlabel('epoch')\n",
    "plt.legend(['train', 'val'], loc='upper left')\n",
    "plt.show()"
   ]
  },
  {
   "cell_type": "code",
   "execution_count": 30,
   "id": "32f44da0",
   "metadata": {},
   "outputs": [
    {
     "name": "stdout",
     "output_type": "stream",
     "text": [
      "63/63 [==============================] - 2s 25ms/step - loss: 0.6678 - acc: 0.7649 - recall_1: 0.6900 - precision_1: 0.8310 - auc_1: 0.9634 - true_positives_1: 1382.0000 - true_negatives_1: 11737.0000 - false_negatives_1: 621.0000 - false_positives_1: 281.0000\n"
     ]
    },
    {
     "data": {
      "text/plain": [
       "[0.6678413152694702,\n",
       " 0.7648527026176453,\n",
       " 0.6899650692939758,\n",
       " 0.8310282826423645,\n",
       " 0.9633909463882446,\n",
       " 1382.0,\n",
       " 11737.0,\n",
       " 621.0,\n",
       " 281.0]"
      ]
     },
     "execution_count": 30,
     "metadata": {},
     "output_type": "execute_result"
    }
   ],
   "source": [
    "model.evaluate(x_test, y_test, verbose=1)"
   ]
  },
  {
   "cell_type": "code",
   "execution_count": 31,
   "id": "d6e23fa9",
   "metadata": {},
   "outputs": [],
   "source": [
    "model.save_weights('best_model_weights.h5')"
   ]
  },
  {
   "cell_type": "code",
   "execution_count": 32,
   "id": "ac24b8c2",
   "metadata": {},
   "outputs": [
    {
     "name": "stdout",
     "output_type": "stream",
     "text": [
      "63/63 [==============================] - 2s 25ms/step\n"
     ]
    },
    {
     "data": {
      "image/png": "[encoded data removed]",
      "text/plain": [
       "<Figure size 1000x700 with 2 Axes>"
      ]
     },
     "metadata": {},
     "output_type": "display_data"
    }
   ],
   "source": [
    "import itertools\n",
    "from sklearn.metrics import confusion_matrix\n",
    "# Function to plot confusion matrix    \n",
    "def plot_confusion_matrix(cm, classes,\n",
    "                          normalize=False,\n",
    "                          title='Confusion matrix',\n",
    "                          cmap=plt.cm.Blues):\n",
    "    \n",
    "    fig, ax = plt.subplots(figsize = (10, 7))\n",
    "    plt.imshow(cm, interpolation='nearest', cmap=cmap)\n",
    "    plt.title(title)\n",
    "    plt.colorbar()\n",
    "    tick_marks = np.arange(len(classes))\n",
    "    plt.xticks(tick_marks, classes, rotation=45)\n",
    "    plt.yticks(tick_marks, classes)\n",
    "    \n",
    "    if normalize:\n",
    "        cm = cm.astype('float') / cm.sum(axis=1)[:, np.newaxis]\n",
    "\n",
    "    thresh = cm.max() / 2.\n",
    "    for i, j in itertools.product(range(cm.shape[0]), range(cm.shape[1])):\n",
    "        plt.text(j, i, cm[i, j],\n",
    "                 horizontalalignment=\"center\",\n",
    "                 color=\"white\" if cm[i, j] > thresh else \"black\")\n",
    "\n",
    "    plt.tight_layout()\n",
    "    plt.ylabel('True label')\n",
    "    plt.xlabel('Predicted label')\n",
    "    \n",
    "\n",
    "Y_pred = model.predict(x_test)\n",
    "# Convert predictions classes to one hot vectors \n",
    "Y_pred_classes = np.argmax(Y_pred,axis = 1) \n",
    "# Convert validation observations to one hot vectors\n",
    "#Y_true = np.argmax(y_test,axis = 1) \n",
    "# compute the confusion matrix\n",
    "confusion_mtx = confusion_matrix(np.argmax(y_test,axis=1), Y_pred_classes)\n",
    "\n",
    "# plot the confusion matrix\n",
    "plot_confusion_matrix(confusion_mtx, classes.values()) \n",
    "    \n",
    "    \n"
   ]
  },
  {
   "cell_type": "code",
   "execution_count": 31,
   "id": "4543acc6",
   "metadata": {
    "scrolled": false
   },
   "outputs": [
    {
     "name": "stdout",
     "output_type": "stream",
     "text": [
      "63/63 [==============================] - 2s 25ms/step\n",
      "              precision    recall  f1-score   support\n",
      "\n",
      "         0.0       0.31      0.33      0.32        69\n",
      "         1.0       0.39      0.74      0.51        93\n",
      "         2.0       0.55      0.41      0.47       228\n",
      "         3.0       0.00      0.00      0.00        28\n",
      "         4.0       0.88      0.90      0.89      1338\n",
      "         5.0       0.79      0.52      0.63        21\n",
      "         6.0       0.51      0.46      0.48       226\n",
      "\n",
      "    accuracy                           0.75      2003\n",
      "   macro avg       0.49      0.48      0.47      2003\n",
      "weighted avg       0.74      0.75      0.74      2003\n",
      "\n",
      "Classification Report\n"
     ]
    },
    {
     "name": "stderr",
     "output_type": "stream",
     "text": [
      "/Users/jdapeman/anaconda3/envs/apple/lib/python3.10/site-packages/sklearn/metrics/_classification.py:1344: UndefinedMetricWarning: Precision and F-score are ill-defined and being set to 0.0 in labels with no predicted samples. Use `zero_division` parameter to control this behavior.\n",
      "  _warn_prf(average, modifier, msg_start, len(result))\n",
      "/Users/jdapeman/anaconda3/envs/apple/lib/python3.10/site-packages/sklearn/metrics/_classification.py:1344: UndefinedMetricWarning: Precision and F-score are ill-defined and being set to 0.0 in labels with no predicted samples. Use `zero_division` parameter to control this behavior.\n",
      "  _warn_prf(average, modifier, msg_start, len(result))\n",
      "/Users/jdapeman/anaconda3/envs/apple/lib/python3.10/site-packages/sklearn/metrics/_classification.py:1344: UndefinedMetricWarning: Precision and F-score are ill-defined and being set to 0.0 in labels with no predicted samples. Use `zero_division` parameter to control this behavior.\n",
      "  _warn_prf(average, modifier, msg_start, len(result))\n"
     ]
    }
   ],
   "source": [
    "from sklearn.metrics import classification_report\n",
    "from sklearn.metrics import multilabel_confusion_matrix, classification_report, confusion_matrix\n",
    "Y_pred = np.argmax(model.predict(x_test),axis=1)\n",
    "print(classification_report(np.float32(np.argmax(y_test,axis=1)), Y_pred.round()))\n",
    "print('Classification Report')"
   ]
  },
  {
   "cell_type": "code",
   "execution_count": null,
   "id": "b6e55a78",
   "metadata": {},
   "outputs": [],
   "source": []
  },
  {
   "cell_type": "markdown",
   "id": "02c78445",
   "metadata": {},
   "source": [
    "transfer learning --"
   ]
  },
  {
   "cell_type": "code",
   "execution_count": 33,
   "id": "76f07023",
   "metadata": {},
   "outputs": [
    {
     "data": {
      "text/plain": [
       "(7210, 28, 28, 3)"
      ]
     },
     "execution_count": 33,
     "metadata": {},
     "output_type": "execute_result"
    }
   ],
   "source": [
    "x_train.shape"
   ]
  },
  {
   "cell_type": "code",
   "execution_count": 34,
   "id": "7a5b8596",
   "metadata": {},
   "outputs": [
    {
     "data": {
      "text/plain": [
       "(2003, 28, 28, 3)"
      ]
     },
     "execution_count": 34,
     "metadata": {},
     "output_type": "execute_result"
    }
   ],
   "source": [
    "x_test.shape"
   ]
  },
  {
   "cell_type": "code",
   "execution_count": 147,
   "id": "34ad2212",
   "metadata": {},
   "outputs": [
    {
     "data": {
      "text/plain": [
       "(7210, 7)"
      ]
     },
     "execution_count": 147,
     "metadata": {},
     "output_type": "execute_result"
    }
   ],
   "source": [
    "y_train.shape"
   ]
  },
  {
   "cell_type": "code",
   "execution_count": 148,
   "id": "d21a8c22",
   "metadata": {},
   "outputs": [
    {
     "data": {
      "text/plain": [
       "(2003, 7)"
      ]
     },
     "execution_count": 148,
     "metadata": {},
     "output_type": "execute_result"
    }
   ],
   "source": [
    "y_test.shape"
   ]
  },
  {
   "cell_type": "code",
   "execution_count": 161,
   "id": "4a35c7a4",
   "metadata": {},
   "outputs": [],
   "source": [
    "import tensorflow as tf\n",
    "import tensorflow_hub as hub\n",
    "import matplotlib.pylab as plt\n",
    "import numpy as np"
   ]
  },
  {
   "cell_type": "code",
   "execution_count": 162,
   "id": "25e61782",
   "metadata": {},
   "outputs": [],
   "source": [
    "mobilenet_v2 = \"https://tfhub.dev/google/tf2-preview/mobilenet_v2/feature_vector/4\"\n"
   ]
  },
  {
   "cell_type": "code",
   "execution_count": 163,
   "id": "1ff60d2e",
   "metadata": {},
   "outputs": [],
   "source": [
    "mobile_net_layers = hub.KerasLayer(mobilenet_v2, input_shape=(224, 224, 3))\n"
   ]
  },
  {
   "cell_type": "code",
   "execution_count": 164,
   "id": "f8263558",
   "metadata": {},
   "outputs": [],
   "source": [
    "mobile_net_layers.trainable = False\n"
   ]
  },
  {
   "cell_type": "code",
   "execution_count": 165,
   "id": "8c9a0aaa",
   "metadata": {},
   "outputs": [],
   "source": [
    "neural_net = tf.keras.Sequential([\n",
    "  mobile_net_layers,\n",
    "  tf.keras.layers.Dropout(0.3),\n",
    "  tf.keras.layers.Dense(7,activation='softmax')\n",
    "])"
   ]
  },
  {
   "cell_type": "code",
   "execution_count": 166,
   "id": "4809bca5",
   "metadata": {
    "scrolled": true
   },
   "outputs": [
    {
     "name": "stdout",
     "output_type": "stream",
     "text": [
      "Model: \"sequential_10\"\n",
      "_________________________________________________________________\n",
      " Layer (type)                Output Shape              Param #   \n",
      "=================================================================\n",
      " keras_layer_7 (KerasLayer)  (None, 1280)              2257984   \n",
      "                                                                 \n",
      " dropout_15 (Dropout)        (None, 1280)              0         \n",
      "                                                                 \n",
      " dense_15 (Dense)            (None, 7)                 8967      \n",
      "                                                                 \n",
      "=================================================================\n",
      "Total params: 2266951 (8.65 MB)\n",
      "Trainable params: 8967 (35.03 KB)\n",
      "Non-trainable params: 2257984 (8.61 MB)\n",
      "_________________________________________________________________\n"
     ]
    }
   ],
   "source": [
    "neural_net.summary()\n"
   ]
  },
  {
   "cell_type": "code",
   "execution_count": 167,
   "id": "77f0fb70",
   "metadata": {},
   "outputs": [],
   "source": [
    "neural_net.compile(optimizer=tf.keras.optimizers.Adam(),\n",
    "              loss=tf.keras.losses.CategoricalCrossentropy(),\n",
    "              metrics=['acc',Recall(),Precision(),AUC(),TruePositives(),TrueNegatives(),FalseNegatives(),FalsePositives()])"
   ]
  },
  {
   "cell_type": "code",
   "execution_count": 168,
   "id": "ca37ed0e",
   "metadata": {},
   "outputs": [
    {
     "name": "stdout",
     "output_type": "stream",
     "text": [
      "Epoch 1/50\n",
      "721/721 [==============================] - ETA: 0s - loss: 0.9717 - acc: 0.6827 - recall_10: 0.6239 - precision_10: 0.7546 - auc_10: 0.9232 - true_positives_10: 4498.0000 - true_negatives_10: 41797.0000 - false_negatives_10: 2712.0000 - false_positives_10: 1463.0000\n",
      "Epoch 1: saving model to best_Resnet.h5\n"
     ]
    },
    {
     "name": "stderr",
     "output_type": "stream",
     "text": [
      "/Users/jdapeman/anaconda3/envs/apple/lib/python3.10/site-packages/keras/src/engine/training.py:3000: UserWarning: You are saving your model as an HDF5 file via `model.save()`. This file format is considered legacy. We recommend using instead the native Keras format, e.g. `model.save('my_model.keras')`.\n",
      "  saving_api.save_model(\n"
     ]
    },
    {
     "name": "stdout",
     "output_type": "stream",
     "text": [
      "721/721 [==============================] - 152s 205ms/step - loss: 0.9717 - acc: 0.6827 - recall_10: 0.6239 - precision_10: 0.7546 - auc_10: 0.9232 - true_positives_10: 4498.0000 - true_negatives_10: 41797.0000 - false_negatives_10: 2712.0000 - false_positives_10: 1463.0000 - val_loss: 0.9139 - val_acc: 0.6870 - val_recall_10: 0.6372 - val_precision_10: 0.7604 - val_auc_10: 0.9326 - val_true_positives_10: 511.0000 - val_true_negatives_10: 4651.0000 - val_false_negatives_10: 291.0000 - val_false_positives_10: 161.0000\n",
      "Epoch 2/50\n",
      "721/721 [==============================] - ETA: 0s - loss: 0.8616 - acc: 0.7087 - recall_10: 0.6492 - precision_10: 0.7741 - auc_10: 0.9394 - true_positives_10: 4681.0000 - true_negatives_10: 41894.0000 - false_negatives_10: 2529.0000 - false_positives_10: 1366.0000\n",
      "Epoch 2: saving model to best_Resnet.h5\n",
      "721/721 [==============================] - 127s 176ms/step - loss: 0.8616 - acc: 0.7087 - recall_10: 0.6492 - precision_10: 0.7741 - auc_10: 0.9394 - true_positives_10: 4681.0000 - true_negatives_10: 41894.0000 - false_negatives_10: 2529.0000 - false_positives_10: 1366.0000 - val_loss: 0.9093 - val_acc: 0.6858 - val_recall_10: 0.6322 - val_precision_10: 0.7729 - val_auc_10: 0.9342 - val_true_positives_10: 507.0000 - val_true_negatives_10: 4663.0000 - val_false_negatives_10: 295.0000 - val_false_positives_10: 149.0000\n",
      "Epoch 3/50\n",
      "721/721 [==============================] - ETA: 0s - loss: 0.8421 - acc: 0.7076 - recall_10: 0.6484 - precision_10: 0.7748 - auc_10: 0.9421 - true_positives_10: 4675.0000 - true_negatives_10: 41901.0000 - false_negatives_10: 2535.0000 - false_positives_10: 1359.0000\n",
      "Epoch 3: saving model to best_Resnet.h5\n",
      "721/721 [==============================] - 118s 164ms/step - loss: 0.8421 - acc: 0.7076 - recall_10: 0.6484 - precision_10: 0.7748 - auc_10: 0.9421 - true_positives_10: 4675.0000 - true_negatives_10: 41901.0000 - false_negatives_10: 2535.0000 - false_positives_10: 1359.0000 - val_loss: 0.8383 - val_acc: 0.7095 - val_recall_10: 0.6322 - val_precision_10: 0.7934 - val_auc_10: 0.9416 - val_true_positives_10: 507.0000 - val_true_negatives_10: 4680.0000 - val_false_negatives_10: 295.0000 - val_false_positives_10: 132.0000\n",
      "Epoch 4/50\n",
      "721/721 [==============================] - ETA: 0s - loss: 0.8104 - acc: 0.7208 - recall_10: 0.6563 - precision_10: 0.7857 - auc_10: 0.9458 - true_positives_10: 4732.0000 - true_negatives_10: 41969.0000 - false_negatives_10: 2478.0000 - false_positives_10: 1291.0000\n",
      "Epoch 4: saving model to best_Resnet.h5\n",
      "721/721 [==============================] - 117s 162ms/step - loss: 0.8104 - acc: 0.7208 - recall_10: 0.6563 - precision_10: 0.7857 - auc_10: 0.9458 - true_positives_10: 4732.0000 - true_negatives_10: 41969.0000 - false_negatives_10: 2478.0000 - false_positives_10: 1291.0000 - val_loss: 0.8764 - val_acc: 0.6721 - val_recall_10: 0.5773 - val_precision_10: 0.7666 - val_auc_10: 0.9354 - val_true_positives_10: 463.0000 - val_true_negatives_10: 4671.0000 - val_false_negatives_10: 339.0000 - val_false_positives_10: 141.0000\n",
      "Epoch 5/50\n",
      "721/721 [==============================] - ETA: 0s - loss: 0.7945 - acc: 0.7272 - recall_10: 0.6700 - precision_10: 0.7894 - auc_10: 0.9477 - true_positives_10: 4831.0000 - true_negatives_10: 41971.0000 - false_negatives_10: 2379.0000 - false_positives_10: 1289.0000\n",
      "Epoch 5: saving model to best_Resnet.h5\n",
      "721/721 [==============================] - 117s 162ms/step - loss: 0.7945 - acc: 0.7272 - recall_10: 0.6700 - precision_10: 0.7894 - auc_10: 0.9477 - true_positives_10: 4831.0000 - true_negatives_10: 41971.0000 - false_negatives_10: 2379.0000 - false_positives_10: 1289.0000 - val_loss: 0.8191 - val_acc: 0.6970 - val_recall_10: 0.6421 - val_precision_10: 0.7911 - val_auc_10: 0.9450 - val_true_positives_10: 515.0000 - val_true_negatives_10: 4676.0000 - val_false_negatives_10: 287.0000 - val_false_positives_10: 136.0000\n",
      "Epoch 6/50\n",
      "721/721 [==============================] - ETA: 0s - loss: 0.8154 - acc: 0.7216 - recall_10: 0.6682 - precision_10: 0.7882 - auc_10: 0.9455 - true_positives_10: 4818.0000 - true_negatives_10: 41965.0000 - false_negatives_10: 2392.0000 - false_positives_10: 1295.0000\n",
      "Epoch 6: saving model to best_Resnet.h5\n",
      "721/721 [==============================] - 118s 163ms/step - loss: 0.8154 - acc: 0.7216 - recall_10: 0.6682 - precision_10: 0.7882 - auc_10: 0.9455 - true_positives_10: 4818.0000 - true_negatives_10: 41965.0000 - false_negatives_10: 2392.0000 - false_positives_10: 1295.0000 - val_loss: 0.8424 - val_acc: 0.7007 - val_recall_10: 0.6471 - val_precision_10: 0.7533 - val_auc_10: 0.9421 - val_true_positives_10: 519.0000 - val_true_negatives_10: 4642.0000 - val_false_negatives_10: 283.0000 - val_false_positives_10: 170.0000\n",
      "Epoch 7/50\n",
      "721/721 [==============================] - ETA: 0s - loss: 0.7905 - acc: 0.7284 - recall_10: 0.6705 - precision_10: 0.7879 - auc_10: 0.9485 - true_positives_10: 4834.0000 - true_negatives_10: 41959.0000 - false_negatives_10: 2376.0000 - false_positives_10: 1301.0000\n",
      "Epoch 7: saving model to best_Resnet.h5\n",
      "721/721 [==============================] - 121s 168ms/step - loss: 0.7905 - acc: 0.7284 - recall_10: 0.6705 - precision_10: 0.7879 - auc_10: 0.9485 - true_positives_10: 4834.0000 - true_negatives_10: 41959.0000 - false_negatives_10: 2376.0000 - false_positives_10: 1301.0000 - val_loss: 0.8191 - val_acc: 0.7082 - val_recall_10: 0.6397 - val_precision_10: 0.7808 - val_auc_10: 0.9440 - val_true_positives_10: 513.0000 - val_true_negatives_10: 4668.0000 - val_false_negatives_10: 289.0000 - val_false_positives_10: 144.0000\n",
      "Epoch 8/50\n",
      "721/721 [==============================] - ETA: 0s - loss: 0.7871 - acc: 0.7268 - recall_10: 0.6709 - precision_10: 0.7837 - auc_10: 0.9488 - true_positives_10: 4837.0000 - true_negatives_10: 41925.0000 - false_negatives_10: 2373.0000 - false_positives_10: 1335.0000\n",
      "Epoch 8: saving model to best_Resnet.h5\n",
      "721/721 [==============================] - 120s 167ms/step - loss: 0.7871 - acc: 0.7268 - recall_10: 0.6709 - precision_10: 0.7837 - auc_10: 0.9488 - true_positives_10: 4837.0000 - true_negatives_10: 41925.0000 - false_negatives_10: 2373.0000 - false_positives_10: 1335.0000 - val_loss: 0.8763 - val_acc: 0.7020 - val_recall_10: 0.6696 - val_precision_10: 0.7671 - val_auc_10: 0.9420 - val_true_positives_10: 537.0000 - val_true_negatives_10: 4649.0000 - val_false_negatives_10: 265.0000 - val_false_positives_10: 163.0000\n",
      "Epoch 9/50\n",
      "721/721 [==============================] - ETA: 0s - loss: 0.7961 - acc: 0.7240 - recall_10: 0.6713 - precision_10: 0.7851 - auc_10: 0.9475 - true_positives_10: 4840.0000 - true_negatives_10: 41935.0000 - false_negatives_10: 2370.0000 - false_positives_10: 1325.0000\n",
      "Epoch 9: saving model to best_Resnet.h5\n",
      "721/721 [==============================] - 116s 161ms/step - loss: 0.7961 - acc: 0.7240 - recall_10: 0.6713 - precision_10: 0.7851 - auc_10: 0.9475 - true_positives_10: 4840.0000 - true_negatives_10: 41935.0000 - false_negatives_10: 2370.0000 - false_positives_10: 1325.0000 - val_loss: 0.8216 - val_acc: 0.7032 - val_recall_10: 0.6484 - val_precision_10: 0.7879 - val_auc_10: 0.9440 - val_true_positives_10: 520.0000 - val_true_negatives_10: 4672.0000 - val_false_negatives_10: 282.0000 - val_false_positives_10: 140.0000\n",
      "Epoch 10/50\n",
      "721/721 [==============================] - ETA: 0s - loss: 0.7782 - acc: 0.7269 - recall_10: 0.6755 - precision_10: 0.7890 - auc_10: 0.9498 - true_positives_10: 4870.0000 - true_negatives_10: 41958.0000 - false_negatives_10: 2340.0000 - false_positives_10: 1302.0000\n",
      "Epoch 10: saving model to best_Resnet.h5\n",
      "721/721 [==============================] - 117s 162ms/step - loss: 0.7782 - acc: 0.7269 - recall_10: 0.6755 - precision_10: 0.7890 - auc_10: 0.9498 - true_positives_10: 4870.0000 - true_negatives_10: 41958.0000 - false_negatives_10: 2340.0000 - false_positives_10: 1302.0000 - val_loss: 0.8261 - val_acc: 0.7070 - val_recall_10: 0.6434 - val_precision_10: 0.7938 - val_auc_10: 0.9444 - val_true_positives_10: 516.0000 - val_true_negatives_10: 4678.0000 - val_false_negatives_10: 286.0000 - val_false_positives_10: 134.0000\n",
      "Epoch 11/50\n",
      "721/721 [==============================] - ETA: 0s - loss: 0.7686 - acc: 0.7295 - recall_10: 0.6763 - precision_10: 0.7917 - auc_10: 0.9510 - true_positives_10: 4876.0000 - true_negatives_10: 41977.0000 - false_negatives_10: 2334.0000 - false_positives_10: 1283.0000\n",
      "Epoch 11: saving model to best_Resnet.h5\n",
      "721/721 [==============================] - 115s 160ms/step - loss: 0.7686 - acc: 0.7295 - recall_10: 0.6763 - precision_10: 0.7917 - auc_10: 0.9510 - true_positives_10: 4876.0000 - true_negatives_10: 41977.0000 - false_negatives_10: 2334.0000 - false_positives_10: 1283.0000 - val_loss: 0.8654 - val_acc: 0.7219 - val_recall_10: 0.6571 - val_precision_10: 0.7937 - val_auc_10: 0.9405 - val_true_positives_10: 527.0000 - val_true_negatives_10: 4675.0000 - val_false_negatives_10: 275.0000 - val_false_positives_10: 137.0000\n",
      "Epoch 12/50\n",
      "721/721 [==============================] - ETA: 0s - loss: 0.7779 - acc: 0.7294 - recall_10: 0.6759 - precision_10: 0.7872 - auc_10: 0.9503 - true_positives_10: 4873.0000 - true_negatives_10: 41943.0000 - false_negatives_10: 2337.0000 - false_positives_10: 1317.0000\n",
      "Epoch 12: saving model to best_Resnet.h5\n",
      "721/721 [==============================] - 119s 164ms/step - loss: 0.7779 - acc: 0.7294 - recall_10: 0.6759 - precision_10: 0.7872 - auc_10: 0.9503 - true_positives_10: 4873.0000 - true_negatives_10: 41943.0000 - false_negatives_10: 2337.0000 - false_positives_10: 1317.0000 - val_loss: 0.8299 - val_acc: 0.6945 - val_recall_10: 0.6397 - val_precision_10: 0.7749 - val_auc_10: 0.9424 - val_true_positives_10: 513.0000 - val_true_negatives_10: 4663.0000 - val_false_negatives_10: 289.0000 - val_false_positives_10: 149.0000\n",
      "Epoch 13/50\n",
      "721/721 [==============================] - ETA: 0s - loss: 0.7931 - acc: 0.7239 - recall_10: 0.6750 - precision_10: 0.7801 - auc_10: 0.9489 - true_positives_10: 4867.0000 - true_negatives_10: 41888.0000 - false_negatives_10: 2343.0000 - false_positives_10: 1372.0000\n",
      "Epoch 13: saving model to best_Resnet.h5\n",
      "721/721 [==============================] - 117s 162ms/step - loss: 0.7931 - acc: 0.7239 - recall_10: 0.6750 - precision_10: 0.7801 - auc_10: 0.9489 - true_positives_10: 4867.0000 - true_negatives_10: 41888.0000 - false_negatives_10: 2343.0000 - false_positives_10: 1372.0000 - val_loss: 0.8059 - val_acc: 0.6958 - val_recall_10: 0.6172 - val_precision_10: 0.7746 - val_auc_10: 0.9454 - val_true_positives_10: 495.0000 - val_true_negatives_10: 4668.0000 - val_false_negatives_10: 307.0000 - val_false_positives_10: 144.0000\n",
      "Epoch 14/50\n",
      "721/721 [==============================] - ETA: 0s - loss: 0.7705 - acc: 0.7266 - recall_10: 0.6777 - precision_10: 0.7867 - auc_10: 0.9509 - true_positives_10: 4886.0000 - true_negatives_10: 41935.0000 - false_negatives_10: 2324.0000 - false_positives_10: 1325.0000\n",
      "Epoch 14: saving model to best_Resnet.h5\n",
      "721/721 [==============================] - 118s 163ms/step - loss: 0.7705 - acc: 0.7266 - recall_10: 0.6777 - precision_10: 0.7867 - auc_10: 0.9509 - true_positives_10: 4886.0000 - true_negatives_10: 41935.0000 - false_negatives_10: 2324.0000 - false_positives_10: 1325.0000 - val_loss: 0.8194 - val_acc: 0.6945 - val_recall_10: 0.6359 - val_precision_10: 0.7763 - val_auc_10: 0.9446 - val_true_positives_10: 510.0000 - val_true_negatives_10: 4665.0000 - val_false_negatives_10: 292.0000 - val_false_positives_10: 147.0000\n",
      "Epoch 15/50\n",
      "721/721 [==============================] - ETA: 0s - loss: 0.7796 - acc: 0.7286 - recall_10: 0.6750 - precision_10: 0.7879 - auc_10: 0.9501 - true_positives_10: 4867.0000 - true_negatives_10: 41950.0000 - false_negatives_10: 2343.0000 - false_positives_10: 1310.0000\n",
      "Epoch 15: saving model to best_Resnet.h5\n",
      "721/721 [==============================] - 119s 164ms/step - loss: 0.7796 - acc: 0.7286 - recall_10: 0.6750 - precision_10: 0.7879 - auc_10: 0.9501 - true_positives_10: 4867.0000 - true_negatives_10: 41950.0000 - false_negatives_10: 2343.0000 - false_positives_10: 1310.0000 - val_loss: 0.8337 - val_acc: 0.7007 - val_recall_10: 0.6347 - val_precision_10: 0.7747 - val_auc_10: 0.9437 - val_true_positives_10: 509.0000 - val_true_negatives_10: 4664.0000 - val_false_negatives_10: 293.0000 - val_false_positives_10: 148.0000\n",
      "Epoch 16/50\n",
      "721/721 [==============================] - ETA: 0s - loss: 0.7697 - acc: 0.7273 - recall_10: 0.6756 - precision_10: 0.7822 - auc_10: 0.9516 - true_positives_10: 4871.0000 - true_negatives_10: 41904.0000 - false_negatives_10: 2339.0000 - false_positives_10: 1356.0000\n",
      "Epoch 16: saving model to best_Resnet.h5\n",
      "721/721 [==============================] - 120s 166ms/step - loss: 0.7697 - acc: 0.7273 - recall_10: 0.6756 - precision_10: 0.7822 - auc_10: 0.9516 - true_positives_10: 4871.0000 - true_negatives_10: 41904.0000 - false_negatives_10: 2339.0000 - false_positives_10: 1356.0000 - val_loss: 0.8384 - val_acc: 0.7057 - val_recall_10: 0.6297 - val_precision_10: 0.7878 - val_auc_10: 0.9418 - val_true_positives_10: 505.0000 - val_true_negatives_10: 4676.0000 - val_false_negatives_10: 297.0000 - val_false_positives_10: 136.0000\n",
      "Epoch 17/50\n",
      "721/721 [==============================] - ETA: 0s - loss: 0.7840 - acc: 0.7259 - recall_10: 0.6784 - precision_10: 0.7828 - auc_10: 0.9496 - true_positives_10: 4891.0000 - true_negatives_10: 41903.0000 - false_negatives_10: 2319.0000 - false_positives_10: 1357.0000\n",
      "Epoch 17: saving model to best_Resnet.h5\n",
      "721/721 [==============================] - 119s 165ms/step - loss: 0.7840 - acc: 0.7259 - recall_10: 0.6784 - precision_10: 0.7828 - auc_10: 0.9496 - true_positives_10: 4891.0000 - true_negatives_10: 41903.0000 - false_negatives_10: 2319.0000 - false_positives_10: 1357.0000 - val_loss: 0.8354 - val_acc: 0.7045 - val_recall_10: 0.6596 - val_precision_10: 0.7802 - val_auc_10: 0.9442 - val_true_positives_10: 529.0000 - val_true_negatives_10: 4663.0000 - val_false_negatives_10: 273.0000 - val_false_positives_10: 149.0000\n",
      "Epoch 18/50\n",
      "721/721 [==============================] - ETA: 0s - loss: 0.7683 - acc: 0.7316 - recall_10: 0.6796 - precision_10: 0.7908 - auc_10: 0.9519 - true_positives_10: 4900.0000 - true_negatives_10: 41964.0000 - false_negatives_10: 2310.0000 - false_positives_10: 1296.0000\n",
      "Epoch 18: saving model to best_Resnet.h5\n",
      "721/721 [==============================] - 118s 163ms/step - loss: 0.7683 - acc: 0.7316 - recall_10: 0.6796 - precision_10: 0.7908 - auc_10: 0.9519 - true_positives_10: 4900.0000 - true_negatives_10: 41964.0000 - false_negatives_10: 2310.0000 - false_positives_10: 1296.0000 - val_loss: 0.8610 - val_acc: 0.6833 - val_recall_10: 0.6185 - val_precision_10: 0.7459 - val_auc_10: 0.9397 - val_true_positives_10: 496.0000 - val_true_negatives_10: 4643.0000 - val_false_negatives_10: 306.0000 - val_false_positives_10: 169.0000\n",
      "Epoch 19/50\n",
      "721/721 [==============================] - ETA: 0s - loss: 0.7643 - acc: 0.7291 - recall_10: 0.6788 - precision_10: 0.7869 - auc_10: 0.9516 - true_positives_10: 4894.0000 - true_negatives_10: 41935.0000 - false_negatives_10: 2316.0000 - false_positives_10: 1325.0000\n",
      "Epoch 19: saving model to best_Resnet.h5\n",
      "721/721 [==============================] - 118s 164ms/step - loss: 0.7643 - acc: 0.7291 - recall_10: 0.6788 - precision_10: 0.7869 - auc_10: 0.9516 - true_positives_10: 4894.0000 - true_negatives_10: 41935.0000 - false_negatives_10: 2316.0000 - false_positives_10: 1325.0000 - val_loss: 0.8409 - val_acc: 0.7020 - val_recall_10: 0.6521 - val_precision_10: 0.7829 - val_auc_10: 0.9426 - val_true_positives_10: 523.0000 - val_true_negatives_10: 4667.0000 - val_false_negatives_10: 279.0000 - val_false_positives_10: 145.0000\n",
      "Epoch 20/50\n",
      "721/721 [==============================] - ETA: 0s - loss: 0.7756 - acc: 0.7291 - recall_10: 0.6799 - precision_10: 0.7833 - auc_10: 0.9507 - true_positives_10: 4902.0000 - true_negatives_10: 41904.0000 - false_negatives_10: 2308.0000 - false_positives_10: 1356.0000\n",
      "Epoch 20: saving model to best_Resnet.h5\n",
      "721/721 [==============================] - 119s 164ms/step - loss: 0.7756 - acc: 0.7291 - recall_10: 0.6799 - precision_10: 0.7833 - auc_10: 0.9507 - true_positives_10: 4902.0000 - true_negatives_10: 41904.0000 - false_negatives_10: 2308.0000 - false_positives_10: 1356.0000 - val_loss: 0.8290 - val_acc: 0.6933 - val_recall_10: 0.6359 - val_precision_10: 0.7798 - val_auc_10: 0.9432 - val_true_positives_10: 510.0000 - val_true_negatives_10: 4668.0000 - val_false_negatives_10: 292.0000 - val_false_positives_10: 144.0000\n"
     ]
    },
    {
     "name": "stdout",
     "output_type": "stream",
     "text": [
      "Epoch 21/50\n",
      "721/721 [==============================] - ETA: 0s - loss: 0.7693 - acc: 0.7312 - recall_10: 0.6810 - precision_10: 0.7916 - auc_10: 0.9513 - true_positives_10: 4910.0000 - true_negatives_10: 41967.0000 - false_negatives_10: 2300.0000 - false_positives_10: 1293.0000\n",
      "Epoch 21: saving model to best_Resnet.h5\n",
      "721/721 [==============================] - 120s 166ms/step - loss: 0.7693 - acc: 0.7312 - recall_10: 0.6810 - precision_10: 0.7916 - auc_10: 0.9513 - true_positives_10: 4910.0000 - true_negatives_10: 41967.0000 - false_negatives_10: 2300.0000 - false_positives_10: 1293.0000 - val_loss: 0.8376 - val_acc: 0.6658 - val_recall_10: 0.6122 - val_precision_10: 0.7485 - val_auc_10: 0.9420 - val_true_positives_10: 491.0000 - val_true_negatives_10: 4647.0000 - val_false_negatives_10: 311.0000 - val_false_positives_10: 165.0000\n",
      "Epoch 22/50\n",
      "721/721 [==============================] - ETA: 0s - loss: 0.7744 - acc: 0.7313 - recall_10: 0.6847 - precision_10: 0.7892 - auc_10: 0.9508 - true_positives_10: 4937.0000 - true_negatives_10: 41941.0000 - false_negatives_10: 2273.0000 - false_positives_10: 1319.0000\n",
      "Epoch 22: saving model to best_Resnet.h5\n",
      "721/721 [==============================] - 119s 164ms/step - loss: 0.7744 - acc: 0.7313 - recall_10: 0.6847 - precision_10: 0.7892 - auc_10: 0.9508 - true_positives_10: 4937.0000 - true_negatives_10: 41941.0000 - false_negatives_10: 2273.0000 - false_positives_10: 1319.0000 - val_loss: 0.8411 - val_acc: 0.6908 - val_recall_10: 0.6471 - val_precision_10: 0.7655 - val_auc_10: 0.9438 - val_true_positives_10: 519.0000 - val_true_negatives_10: 4653.0000 - val_false_negatives_10: 283.0000 - val_false_positives_10: 159.0000\n",
      "Epoch 23/50\n",
      "721/721 [==============================] - ETA: 0s - loss: 0.7657 - acc: 0.7268 - recall_10: 0.6777 - precision_10: 0.7821 - auc_10: 0.9522 - true_positives_10: 4886.0000 - true_negatives_10: 41899.0000 - false_negatives_10: 2324.0000 - false_positives_10: 1361.0000\n",
      "Epoch 23: saving model to best_Resnet.h5\n",
      "721/721 [==============================] - 119s 165ms/step - loss: 0.7657 - acc: 0.7268 - recall_10: 0.6777 - precision_10: 0.7821 - auc_10: 0.9522 - true_positives_10: 4886.0000 - true_negatives_10: 41899.0000 - false_negatives_10: 2324.0000 - false_positives_10: 1361.0000 - val_loss: 0.9191 - val_acc: 0.7057 - val_recall_10: 0.6559 - val_precision_10: 0.7547 - val_auc_10: 0.9377 - val_true_positives_10: 526.0000 - val_true_negatives_10: 4641.0000 - val_false_negatives_10: 276.0000 - val_false_positives_10: 171.0000\n",
      "Epoch 24/50\n",
      "721/721 [==============================] - ETA: 0s - loss: 0.7736 - acc: 0.7361 - recall_10: 0.6806 - precision_10: 0.7925 - auc_10: 0.9508 - true_positives_10: 4907.0000 - true_negatives_10: 41975.0000 - false_negatives_10: 2303.0000 - false_positives_10: 1285.0000\n",
      "Epoch 24: saving model to best_Resnet.h5\n",
      "721/721 [==============================] - 119s 165ms/step - loss: 0.7736 - acc: 0.7361 - recall_10: 0.6806 - precision_10: 0.7925 - auc_10: 0.9508 - true_positives_10: 4907.0000 - true_negatives_10: 41975.0000 - false_negatives_10: 2303.0000 - false_positives_10: 1285.0000 - val_loss: 0.8364 - val_acc: 0.6983 - val_recall_10: 0.6347 - val_precision_10: 0.7620 - val_auc_10: 0.9436 - val_true_positives_10: 509.0000 - val_true_negatives_10: 4653.0000 - val_false_negatives_10: 293.0000 - val_false_positives_10: 159.0000\n",
      "Epoch 25/50\n",
      "721/721 [==============================] - ETA: 0s - loss: 0.7781 - acc: 0.7240 - recall_10: 0.6756 - precision_10: 0.7780 - auc_10: 0.9504 - true_positives_10: 4871.0000 - true_negatives_10: 41870.0000 - false_negatives_10: 2339.0000 - false_positives_10: 1390.0000\n",
      "Epoch 25: saving model to best_Resnet.h5\n",
      "721/721 [==============================] - 119s 165ms/step - loss: 0.7781 - acc: 0.7240 - recall_10: 0.6756 - precision_10: 0.7780 - auc_10: 0.9504 - true_positives_10: 4871.0000 - true_negatives_10: 41870.0000 - false_negatives_10: 2339.0000 - false_positives_10: 1390.0000 - val_loss: 0.8883 - val_acc: 0.6608 - val_recall_10: 0.5823 - val_precision_10: 0.7274 - val_auc_10: 0.9350 - val_true_positives_10: 467.0000 - val_true_negatives_10: 4637.0000 - val_false_negatives_10: 335.0000 - val_false_positives_10: 175.0000\n",
      "Epoch 26/50\n",
      "721/721 [==============================] - ETA: 0s - loss: 0.7545 - acc: 0.7338 - recall_10: 0.6825 - precision_10: 0.7872 - auc_10: 0.9532 - true_positives_10: 4921.0000 - true_negatives_10: 41930.0000 - false_negatives_10: 2289.0000 - false_positives_10: 1330.0000\n",
      "Epoch 26: saving model to best_Resnet.h5\n",
      "721/721 [==============================] - 122s 169ms/step - loss: 0.7545 - acc: 0.7338 - recall_10: 0.6825 - precision_10: 0.7872 - auc_10: 0.9532 - true_positives_10: 4921.0000 - true_negatives_10: 41930.0000 - false_negatives_10: 2289.0000 - false_positives_10: 1330.0000 - val_loss: 0.8398 - val_acc: 0.7120 - val_recall_10: 0.6546 - val_precision_10: 0.7801 - val_auc_10: 0.9432 - val_true_positives_10: 525.0000 - val_true_negatives_10: 4664.0000 - val_false_negatives_10: 277.0000 - val_false_positives_10: 148.0000\n",
      "Epoch 27/50\n",
      "721/721 [==============================] - ETA: 0s - loss: 0.7723 - acc: 0.7230 - recall_10: 0.6730 - precision_10: 0.7852 - auc_10: 0.9509 - true_positives_10: 4852.0000 - true_negatives_10: 41933.0000 - false_negatives_10: 2358.0000 - false_positives_10: 1327.0000\n",
      "Epoch 27: saving model to best_Resnet.h5\n",
      "721/721 [==============================] - 117s 162ms/step - loss: 0.7723 - acc: 0.7230 - recall_10: 0.6730 - precision_10: 0.7852 - auc_10: 0.9509 - true_positives_10: 4852.0000 - true_negatives_10: 41933.0000 - false_negatives_10: 2358.0000 - false_positives_10: 1327.0000 - val_loss: 0.8591 - val_acc: 0.7070 - val_recall_10: 0.6571 - val_precision_10: 0.7761 - val_auc_10: 0.9428 - val_true_positives_10: 527.0000 - val_true_negatives_10: 4660.0000 - val_false_negatives_10: 275.0000 - val_false_positives_10: 152.0000\n",
      "Epoch 28/50\n",
      "721/721 [==============================] - ETA: 0s - loss: 0.7574 - acc: 0.7265 - recall_10: 0.6778 - precision_10: 0.7861 - auc_10: 0.9532 - true_positives_10: 4887.0000 - true_negatives_10: 41930.0000 - false_negatives_10: 2323.0000 - false_positives_10: 1330.0000\n",
      "Epoch 28: saving model to best_Resnet.h5\n",
      "721/721 [==============================] - 118s 163ms/step - loss: 0.7574 - acc: 0.7265 - recall_10: 0.6778 - precision_10: 0.7861 - auc_10: 0.9532 - true_positives_10: 4887.0000 - true_negatives_10: 41930.0000 - false_negatives_10: 2323.0000 - false_positives_10: 1330.0000 - val_loss: 0.8235 - val_acc: 0.6908 - val_recall_10: 0.6072 - val_precision_10: 0.7694 - val_auc_10: 0.9430 - val_true_positives_10: 487.0000 - val_true_negatives_10: 4666.0000 - val_false_negatives_10: 315.0000 - val_false_positives_10: 146.0000\n",
      "Epoch 29/50\n",
      "721/721 [==============================] - ETA: 0s - loss: 0.7770 - acc: 0.7284 - recall_10: 0.6806 - precision_10: 0.7860 - auc_10: 0.9511 - true_positives_10: 4907.0000 - true_negatives_10: 41924.0000 - false_negatives_10: 2303.0000 - false_positives_10: 1336.0000\n",
      "Epoch 29: saving model to best_Resnet.h5\n",
      "721/721 [==============================] - 119s 164ms/step - loss: 0.7770 - acc: 0.7284 - recall_10: 0.6806 - precision_10: 0.7860 - auc_10: 0.9511 - true_positives_10: 4907.0000 - true_negatives_10: 41924.0000 - false_negatives_10: 2303.0000 - false_positives_10: 1336.0000 - val_loss: 0.8670 - val_acc: 0.7057 - val_recall_10: 0.6534 - val_precision_10: 0.7695 - val_auc_10: 0.9418 - val_true_positives_10: 524.0000 - val_true_negatives_10: 4655.0000 - val_false_negatives_10: 278.0000 - val_false_positives_10: 157.0000\n",
      "Epoch 30/50\n",
      "721/721 [==============================] - ETA: 0s - loss: 0.7613 - acc: 0.7327 - recall_10: 0.6792 - precision_10: 0.7853 - auc_10: 0.9524 - true_positives_10: 4897.0000 - true_negatives_10: 41921.0000 - false_negatives_10: 2313.0000 - false_positives_10: 1339.0000\n",
      "Epoch 30: saving model to best_Resnet.h5\n",
      "721/721 [==============================] - 118s 164ms/step - loss: 0.7613 - acc: 0.7327 - recall_10: 0.6792 - precision_10: 0.7853 - auc_10: 0.9524 - true_positives_10: 4897.0000 - true_negatives_10: 41921.0000 - false_negatives_10: 2313.0000 - false_positives_10: 1339.0000 - val_loss: 0.8441 - val_acc: 0.7070 - val_recall_10: 0.6459 - val_precision_10: 0.7848 - val_auc_10: 0.9423 - val_true_positives_10: 518.0000 - val_true_negatives_10: 4670.0000 - val_false_negatives_10: 284.0000 - val_false_positives_10: 142.0000\n"
     ]
    },
    {
     "name": "stdout",
     "output_type": "stream",
     "text": [
      "Epoch 31/50\n",
      "721/721 [==============================] - ETA: 0s - loss: 0.7704 - acc: 0.7305 - recall_10: 0.6804 - precision_10: 0.7846 - auc_10: 0.9516 - true_positives_10: 4906.0000 - true_negatives_10: 41913.0000 - false_negatives_10: 2304.0000 - false_positives_10: 1347.0000\n",
      "Epoch 31: saving model to best_Resnet.h5\n",
      "721/721 [==============================] - 117s 162ms/step - loss: 0.7704 - acc: 0.7305 - recall_10: 0.6804 - precision_10: 0.7846 - auc_10: 0.9516 - true_positives_10: 4906.0000 - true_negatives_10: 41913.0000 - false_negatives_10: 2304.0000 - false_positives_10: 1347.0000 - val_loss: 0.8797 - val_acc: 0.7032 - val_recall_10: 0.6596 - val_precision_10: 0.7493 - val_auc_10: 0.9397 - val_true_positives_10: 529.0000 - val_true_negatives_10: 4635.0000 - val_false_negatives_10: 273.0000 - val_false_positives_10: 177.0000\n",
      "Epoch 32/50\n",
      "721/721 [==============================] - ETA: 0s - loss: 0.7569 - acc: 0.7350 - recall_10: 0.6865 - precision_10: 0.7896 - auc_10: 0.9533 - true_positives_10: 4950.0000 - true_negatives_10: 41941.0000 - false_negatives_10: 2260.0000 - false_positives_10: 1319.0000\n",
      "Epoch 32: saving model to best_Resnet.h5\n",
      "721/721 [==============================] - 124s 172ms/step - loss: 0.7569 - acc: 0.7350 - recall_10: 0.6865 - precision_10: 0.7896 - auc_10: 0.9533 - true_positives_10: 4950.0000 - true_negatives_10: 41941.0000 - false_negatives_10: 2260.0000 - false_positives_10: 1319.0000 - val_loss: 0.8131 - val_acc: 0.7057 - val_recall_10: 0.6421 - val_precision_10: 0.7744 - val_auc_10: 0.9452 - val_true_positives_10: 515.0000 - val_true_negatives_10: 4662.0000 - val_false_negatives_10: 287.0000 - val_false_positives_10: 150.0000\n",
      "Epoch 33/50\n",
      "721/721 [==============================] - ETA: 0s - loss: 0.7722 - acc: 0.7311 - recall_10: 0.6803 - precision_10: 0.7828 - auc_10: 0.9511 - true_positives_10: 4905.0000 - true_negatives_10: 41899.0000 - false_negatives_10: 2305.0000 - false_positives_10: 1361.0000\n",
      "Epoch 33: saving model to best_Resnet.h5\n",
      "721/721 [==============================] - 122s 168ms/step - loss: 0.7722 - acc: 0.7311 - recall_10: 0.6803 - precision_10: 0.7828 - auc_10: 0.9511 - true_positives_10: 4905.0000 - true_negatives_10: 41899.0000 - false_negatives_10: 2305.0000 - false_positives_10: 1361.0000 - val_loss: 0.8231 - val_acc: 0.6958 - val_recall_10: 0.6372 - val_precision_10: 0.7707 - val_auc_10: 0.9454 - val_true_positives_10: 511.0000 - val_true_negatives_10: 4660.0000 - val_false_negatives_10: 291.0000 - val_false_positives_10: 152.0000\n",
      "Epoch 34/50\n",
      "721/721 [==============================] - ETA: 0s - loss: 0.7600 - acc: 0.7374 - recall_10: 0.6897 - precision_10: 0.7890 - auc_10: 0.9527 - true_positives_10: 4973.0000 - true_negatives_10: 41930.0000 - false_negatives_10: 2237.0000 - false_positives_10: 1330.0000\n",
      "Epoch 34: saving model to best_Resnet.h5\n",
      "721/721 [==============================] - 119s 165ms/step - loss: 0.7600 - acc: 0.7374 - recall_10: 0.6897 - precision_10: 0.7890 - auc_10: 0.9527 - true_positives_10: 4973.0000 - true_negatives_10: 41930.0000 - false_negatives_10: 2237.0000 - false_positives_10: 1330.0000 - val_loss: 0.8955 - val_acc: 0.6771 - val_recall_10: 0.6259 - val_precision_10: 0.7307 - val_auc_10: 0.9381 - val_true_positives_10: 502.0000 - val_true_negatives_10: 4627.0000 - val_false_negatives_10: 300.0000 - val_false_positives_10: 185.0000\n",
      "Epoch 35/50\n",
      "721/721 [==============================] - ETA: 0s - loss: 0.7572 - acc: 0.7302 - recall_10: 0.6836 - precision_10: 0.7869 - auc_10: 0.9532 - true_positives_10: 4929.0000 - true_negatives_10: 41925.0000 - false_negatives_10: 2281.0000 - false_positives_10: 1335.0000\n",
      "Epoch 35: saving model to best_Resnet.h5\n",
      "721/721 [==============================] - 119s 165ms/step - loss: 0.7572 - acc: 0.7302 - recall_10: 0.6836 - precision_10: 0.7869 - auc_10: 0.9532 - true_positives_10: 4929.0000 - true_negatives_10: 41925.0000 - false_negatives_10: 2281.0000 - false_positives_10: 1335.0000 - val_loss: 0.8120 - val_acc: 0.7120 - val_recall_10: 0.6584 - val_precision_10: 0.7788 - val_auc_10: 0.9450 - val_true_positives_10: 528.0000 - val_true_negatives_10: 4662.0000 - val_false_negatives_10: 274.0000 - val_false_positives_10: 150.0000\n",
      "Epoch 36/50\n",
      "721/721 [==============================] - ETA: 0s - loss: 0.7547 - acc: 0.7294 - recall_10: 0.6806 - precision_10: 0.7869 - auc_10: 0.9533 - true_positives_10: 4907.0000 - true_negatives_10: 41931.0000 - false_negatives_10: 2303.0000 - false_positives_10: 1329.0000\n",
      "Epoch 36: saving model to best_Resnet.h5\n",
      "721/721 [==============================] - 119s 165ms/step - loss: 0.7547 - acc: 0.7294 - recall_10: 0.6806 - precision_10: 0.7869 - auc_10: 0.9533 - true_positives_10: 4907.0000 - true_negatives_10: 41931.0000 - false_negatives_10: 2303.0000 - false_positives_10: 1329.0000 - val_loss: 0.8366 - val_acc: 0.7095 - val_recall_10: 0.6571 - val_precision_10: 0.7660 - val_auc_10: 0.9432 - val_true_positives_10: 527.0000 - val_true_negatives_10: 4651.0000 - val_false_negatives_10: 275.0000 - val_false_positives_10: 161.0000\n",
      "Epoch 37/50\n",
      "721/721 [==============================] - ETA: 0s - loss: 0.7930 - acc: 0.7272 - recall_10: 0.6767 - precision_10: 0.7805 - auc_10: 0.9494 - true_positives_10: 4879.0000 - true_negatives_10: 41888.0000 - false_negatives_10: 2331.0000 - false_positives_10: 1372.0000\n",
      "Epoch 37: saving model to best_Resnet.h5\n",
      "721/721 [==============================] - 120s 166ms/step - loss: 0.7930 - acc: 0.7272 - recall_10: 0.6767 - precision_10: 0.7805 - auc_10: 0.9494 - true_positives_10: 4879.0000 - true_negatives_10: 41888.0000 - false_negatives_10: 2331.0000 - false_positives_10: 1372.0000 - val_loss: 0.8122 - val_acc: 0.7107 - val_recall_10: 0.6571 - val_precision_10: 0.7682 - val_auc_10: 0.9467 - val_true_positives_10: 527.0000 - val_true_negatives_10: 4653.0000 - val_false_negatives_10: 275.0000 - val_false_positives_10: 159.0000\n",
      "Epoch 38/50\n",
      "721/721 [==============================] - ETA: 0s - loss: 0.7663 - acc: 0.7312 - recall_10: 0.6818 - precision_10: 0.7827 - auc_10: 0.9523 - true_positives_10: 4916.0000 - true_negatives_10: 41895.0000 - false_negatives_10: 2294.0000 - false_positives_10: 1365.0000\n",
      "Epoch 38: saving model to best_Resnet.h5\n",
      "721/721 [==============================] - 120s 166ms/step - loss: 0.7663 - acc: 0.7312 - recall_10: 0.6818 - precision_10: 0.7827 - auc_10: 0.9523 - true_positives_10: 4916.0000 - true_negatives_10: 41895.0000 - false_negatives_10: 2294.0000 - false_positives_10: 1365.0000 - val_loss: 0.8812 - val_acc: 0.7032 - val_recall_10: 0.6521 - val_precision_10: 0.7635 - val_auc_10: 0.9412 - val_true_positives_10: 523.0000 - val_true_negatives_10: 4650.0000 - val_false_negatives_10: 279.0000 - val_false_positives_10: 162.0000\n",
      "Epoch 39/50\n",
      "721/721 [==============================] - ETA: 0s - loss: 0.7558 - acc: 0.7334 - recall_10: 0.6865 - precision_10: 0.7858 - auc_10: 0.9532 - true_positives_10: 4950.0000 - true_negatives_10: 41911.0000 - false_negatives_10: 2260.0000 - false_positives_10: 1349.0000\n",
      "Epoch 39: saving model to best_Resnet.h5\n",
      "721/721 [==============================] - 125s 173ms/step - loss: 0.7558 - acc: 0.7334 - recall_10: 0.6865 - precision_10: 0.7858 - auc_10: 0.9532 - true_positives_10: 4950.0000 - true_negatives_10: 41911.0000 - false_negatives_10: 2260.0000 - false_positives_10: 1349.0000 - val_loss: 0.8292 - val_acc: 0.6945 - val_recall_10: 0.6185 - val_precision_10: 0.7726 - val_auc_10: 0.9427 - val_true_positives_10: 496.0000 - val_true_negatives_10: 4666.0000 - val_false_negatives_10: 306.0000 - val_false_positives_10: 146.0000\n",
      "Epoch 40/50\n",
      "721/721 [==============================] - ETA: 0s - loss: 0.7725 - acc: 0.7322 - recall_10: 0.6806 - precision_10: 0.7847 - auc_10: 0.9513 - true_positives_10: 4907.0000 - true_negatives_10: 41914.0000 - false_negatives_10: 2303.0000 - false_positives_10: 1346.0000\n",
      "Epoch 40: saving model to best_Resnet.h5\n",
      "721/721 [==============================] - 123s 170ms/step - loss: 0.7725 - acc: 0.7322 - recall_10: 0.6806 - precision_10: 0.7847 - auc_10: 0.9513 - true_positives_10: 4907.0000 - true_negatives_10: 41914.0000 - false_negatives_10: 2303.0000 - false_positives_10: 1346.0000 - val_loss: 0.8358 - val_acc: 0.7032 - val_recall_10: 0.6471 - val_precision_10: 0.7678 - val_auc_10: 0.9434 - val_true_positives_10: 519.0000 - val_true_negatives_10: 4655.0000 - val_false_negatives_10: 283.0000 - val_false_positives_10: 157.0000\n"
     ]
    },
    {
     "name": "stdout",
     "output_type": "stream",
     "text": [
      "Epoch 41/50\n",
      "721/721 [==============================] - ETA: 0s - loss: 0.7700 - acc: 0.7304 - recall_10: 0.6842 - precision_10: 0.7839 - auc_10: 0.9517 - true_positives_10: 4933.0000 - true_negatives_10: 41900.0000 - false_negatives_10: 2277.0000 - false_positives_10: 1360.0000\n",
      "Epoch 41: saving model to best_Resnet.h5\n",
      "721/721 [==============================] - 120s 166ms/step - loss: 0.7700 - acc: 0.7304 - recall_10: 0.6842 - precision_10: 0.7839 - auc_10: 0.9517 - true_positives_10: 4933.0000 - true_negatives_10: 41900.0000 - false_negatives_10: 2277.0000 - false_positives_10: 1360.0000 - val_loss: 0.9400 - val_acc: 0.7070 - val_recall_10: 0.6559 - val_precision_10: 0.7645 - val_auc_10: 0.9344 - val_true_positives_10: 526.0000 - val_true_negatives_10: 4650.0000 - val_false_negatives_10: 276.0000 - val_false_positives_10: 162.0000\n",
      "Epoch 42/50\n",
      "721/721 [==============================] - ETA: 0s - loss: 0.7593 - acc: 0.7362 - recall_10: 0.6895 - precision_10: 0.7908 - auc_10: 0.9534 - true_positives_10: 4971.0000 - true_negatives_10: 41945.0000 - false_negatives_10: 2239.0000 - false_positives_10: 1315.0000\n",
      "Epoch 42: saving model to best_Resnet.h5\n",
      "721/721 [==============================] - 121s 168ms/step - loss: 0.7593 - acc: 0.7362 - recall_10: 0.6895 - precision_10: 0.7908 - auc_10: 0.9534 - true_positives_10: 4971.0000 - true_negatives_10: 41945.0000 - false_negatives_10: 2239.0000 - false_positives_10: 1315.0000 - val_loss: 0.8364 - val_acc: 0.6845 - val_recall_10: 0.6122 - val_precision_10: 0.7565 - val_auc_10: 0.9420 - val_true_positives_10: 491.0000 - val_true_negatives_10: 4654.0000 - val_false_negatives_10: 311.0000 - val_false_positives_10: 158.0000\n",
      "Epoch 43/50\n",
      "721/721 [==============================] - ETA: 0s - loss: 0.7743 - acc: 0.7286 - recall_10: 0.6836 - precision_10: 0.7811 - auc_10: 0.9516 - true_positives_10: 4929.0000 - true_negatives_10: 41879.0000 - false_negatives_10: 2281.0000 - false_positives_10: 1381.0000\n",
      "Epoch 43: saving model to best_Resnet.h5\n",
      "721/721 [==============================] - 121s 167ms/step - loss: 0.7743 - acc: 0.7286 - recall_10: 0.6836 - precision_10: 0.7811 - auc_10: 0.9516 - true_positives_10: 4929.0000 - true_negatives_10: 41879.0000 - false_negatives_10: 2281.0000 - false_positives_10: 1381.0000 - val_loss: 0.8143 - val_acc: 0.7095 - val_recall_10: 0.6347 - val_precision_10: 0.7819 - val_auc_10: 0.9455 - val_true_positives_10: 509.0000 - val_true_negatives_10: 4670.0000 - val_false_negatives_10: 293.0000 - val_false_positives_10: 142.0000\n",
      "Epoch 44/50\n",
      "721/721 [==============================] - ETA: 0s - loss: 0.7782 - acc: 0.7326 - recall_10: 0.6840 - precision_10: 0.7849 - auc_10: 0.9508 - true_positives_10: 4932.0000 - true_negatives_10: 41908.0000 - false_negatives_10: 2278.0000 - false_positives_10: 1352.0000\n",
      "Epoch 44: saving model to best_Resnet.h5\n",
      "721/721 [==============================] - 117s 162ms/step - loss: 0.7782 - acc: 0.7326 - recall_10: 0.6840 - precision_10: 0.7849 - auc_10: 0.9508 - true_positives_10: 4932.0000 - true_negatives_10: 41908.0000 - false_negatives_10: 2278.0000 - false_positives_10: 1352.0000 - val_loss: 0.8356 - val_acc: 0.7095 - val_recall_10: 0.6596 - val_precision_10: 0.7745 - val_auc_10: 0.9440 - val_true_positives_10: 529.0000 - val_true_negatives_10: 4658.0000 - val_false_negatives_10: 273.0000 - val_false_positives_10: 154.0000\n",
      "Epoch 45/50\n",
      "721/721 [==============================] - ETA: 0s - loss: 0.7726 - acc: 0.7325 - recall_10: 0.6836 - precision_10: 0.7839 - auc_10: 0.9512 - true_positives_10: 4929.0000 - true_negatives_10: 41901.0000 - false_negatives_10: 2281.0000 - false_positives_10: 1359.0000\n",
      "Epoch 45: saving model to best_Resnet.h5\n",
      "721/721 [==============================] - 119s 165ms/step - loss: 0.7726 - acc: 0.7325 - recall_10: 0.6836 - precision_10: 0.7839 - auc_10: 0.9512 - true_positives_10: 4929.0000 - true_negatives_10: 41901.0000 - false_negatives_10: 2281.0000 - false_positives_10: 1359.0000 - val_loss: 0.8795 - val_acc: 0.7120 - val_recall_10: 0.6733 - val_precision_10: 0.7714 - val_auc_10: 0.9408 - val_true_positives_10: 540.0000 - val_true_negatives_10: 4652.0000 - val_false_negatives_10: 262.0000 - val_false_positives_10: 160.0000\n",
      "Epoch 46/50\n",
      "721/721 [==============================] - ETA: 0s - loss: 0.7648 - acc: 0.7338 - recall_10: 0.6816 - precision_10: 0.7854 - auc_10: 0.9520 - true_positives_10: 4914.0000 - true_negatives_10: 41917.0000 - false_negatives_10: 2296.0000 - false_positives_10: 1343.0000\n",
      "Epoch 46: saving model to best_Resnet.h5\n",
      "721/721 [==============================] - 119s 165ms/step - loss: 0.7648 - acc: 0.7338 - recall_10: 0.6816 - precision_10: 0.7854 - auc_10: 0.9520 - true_positives_10: 4914.0000 - true_negatives_10: 41917.0000 - false_negatives_10: 2296.0000 - false_positives_10: 1343.0000 - val_loss: 0.8441 - val_acc: 0.7007 - val_recall_10: 0.6347 - val_precision_10: 0.7654 - val_auc_10: 0.9425 - val_true_positives_10: 509.0000 - val_true_negatives_10: 4656.0000 - val_false_negatives_10: 293.0000 - val_false_positives_10: 156.0000\n",
      "Epoch 47/50\n",
      "721/721 [==============================] - ETA: 0s - loss: 0.7664 - acc: 0.7365 - recall_10: 0.6860 - precision_10: 0.7877 - auc_10: 0.9522 - true_positives_10: 4946.0000 - true_negatives_10: 41927.0000 - false_negatives_10: 2264.0000 - false_positives_10: 1333.0000\n",
      "Epoch 47: saving model to best_Resnet.h5\n",
      "721/721 [==============================] - 121s 167ms/step - loss: 0.7664 - acc: 0.7365 - recall_10: 0.6860 - precision_10: 0.7877 - auc_10: 0.9522 - true_positives_10: 4946.0000 - true_negatives_10: 41927.0000 - false_negatives_10: 2264.0000 - false_positives_10: 1333.0000 - val_loss: 0.8406 - val_acc: 0.6958 - val_recall_10: 0.6259 - val_precision_10: 0.7618 - val_auc_10: 0.9423 - val_true_positives_10: 502.0000 - val_true_negatives_10: 4655.0000 - val_false_negatives_10: 300.0000 - val_false_positives_10: 157.0000\n",
      "Epoch 48/50\n",
      "721/721 [==============================] - ETA: 0s - loss: 0.7701 - acc: 0.7313 - recall_10: 0.6840 - precision_10: 0.7845 - auc_10: 0.9520 - true_positives_10: 4932.0000 - true_negatives_10: 41905.0000 - false_negatives_10: 2278.0000 - false_positives_10: 1355.0000\n",
      "Epoch 48: saving model to best_Resnet.h5\n",
      "721/721 [==============================] - 120s 167ms/step - loss: 0.7701 - acc: 0.7313 - recall_10: 0.6840 - precision_10: 0.7845 - auc_10: 0.9520 - true_positives_10: 4932.0000 - true_negatives_10: 41905.0000 - false_negatives_10: 2278.0000 - false_positives_10: 1355.0000 - val_loss: 0.8441 - val_acc: 0.7032 - val_recall_10: 0.6471 - val_precision_10: 0.7840 - val_auc_10: 0.9430 - val_true_positives_10: 519.0000 - val_true_negatives_10: 4669.0000 - val_false_negatives_10: 283.0000 - val_false_positives_10: 143.0000\n",
      "Epoch 49/50\n",
      "721/721 [==============================] - ETA: 0s - loss: 0.7706 - acc: 0.7307 - recall_10: 0.6836 - precision_10: 0.7884 - auc_10: 0.9518 - true_positives_10: 4929.0000 - true_negatives_10: 41937.0000 - false_negatives_10: 2281.0000 - false_positives_10: 1323.0000\n",
      "Epoch 49: saving model to best_Resnet.h5\n",
      "721/721 [==============================] - 123s 170ms/step - loss: 0.7706 - acc: 0.7307 - recall_10: 0.6836 - precision_10: 0.7884 - auc_10: 0.9518 - true_positives_10: 4929.0000 - true_negatives_10: 41937.0000 - false_negatives_10: 2281.0000 - false_positives_10: 1323.0000 - val_loss: 0.8305 - val_acc: 0.7107 - val_recall_10: 0.6571 - val_precision_10: 0.7739 - val_auc_10: 0.9448 - val_true_positives_10: 527.0000 - val_true_negatives_10: 4658.0000 - val_false_negatives_10: 275.0000 - val_false_positives_10: 154.0000\n",
      "Epoch 50/50\n",
      "721/721 [==============================] - ETA: 0s - loss: 0.7630 - acc: 0.7331 - recall_10: 0.6852 - precision_10: 0.7834 - auc_10: 0.9526 - true_positives_10: 4940.0000 - true_negatives_10: 41894.0000 - false_negatives_10: 2270.0000 - false_positives_10: 1366.0000\n",
      "Epoch 50: saving model to best_Resnet.h5\n",
      "721/721 [==============================] - 127s 176ms/step - loss: 0.7630 - acc: 0.7331 - recall_10: 0.6852 - precision_10: 0.7834 - auc_10: 0.9526 - true_positives_10: 4940.0000 - true_negatives_10: 41894.0000 - false_negatives_10: 2270.0000 - false_positives_10: 1366.0000 - val_loss: 0.8463 - val_acc: 0.6796 - val_recall_10: 0.6222 - val_precision_10: 0.7371 - val_auc_10: 0.9408 - val_true_positives_10: 499.0000 - val_true_negatives_10: 4634.0000 - val_false_negatives_10: 303.0000 - val_false_positives_10: 178.0000\n"
     ]
    }
   ],
   "source": [
    "history = neural_net.fit(datagen.flow(x_train,y_train, batch_size=10),\n",
    "                              epochs = 50, validation_data = (x_val,y_val),\n",
    "                              verbose = 1, steps_per_epoch=x_train.shape[0] // 10,\n",
    "                              callbacks=[callback])"
   ]
  },
  {
   "cell_type": "code",
   "execution_count": 173,
   "id": "75b05a83",
   "metadata": {},
   "outputs": [
    {
     "name": "stdout",
     "output_type": "stream",
     "text": [
      "63/63 [==============================] - 23s 371ms/step - loss: 0.8321 - acc: 0.7024 - recall_10: 0.6400 - precision_10: 0.7667 - auc_10: 0.9432 - true_positives_10: 1282.0000 - true_negatives_10: 11628.0000 - false_negatives_10: 721.0000 - false_positives_10: 390.0000\n",
      "Loss: 0.83\n",
      "Accuracy: 70.24%\n"
     ]
    }
   ],
   "source": [
    "# evaluate the neural_net model\n",
    "evaluation = neural_net.evaluate(x_test, y_test)\n",
    "print(\"Loss: {:.2f}\".format(evaluation[0]))\n",
    "print(\"Accuracy: {:.2%}\".format(evaluation[1]))"
   ]
  },
  {
   "cell_type": "code",
   "execution_count": 176,
   "id": "a2855b43",
   "metadata": {},
   "outputs": [
    {
     "name": "stdout",
     "output_type": "stream",
     "text": [
      "63/63 [==============================] - 21s 316ms/step\n"
     ]
    },
    {
     "data": {
      "image/png": "[encoded data removed]",
      "text/plain": [
       "<Figure size 1000x700 with 2 Axes>"
      ]
     },
     "metadata": {},
     "output_type": "display_data"
    }
   ],
   "source": [
    "import itertools\n",
    "from sklearn.metrics import confusion_matrix\n",
    "# Function to plot confusion matrix    \n",
    "def plot_confusion_matrix(cm, classes,\n",
    "                          normalize=False,\n",
    "                          title='Confusion matrix',\n",
    "                          cmap=plt.cm.Blues):\n",
    "    \n",
    "    fig, ax = plt.subplots(figsize = (10, 7))\n",
    "    plt.imshow(cm, interpolation='nearest', cmap=cmap)\n",
    "    plt.title(title)\n",
    "    plt.colorbar()\n",
    "    tick_marks = np.arange(len(classes))\n",
    "    plt.xticks(tick_marks, classes, rotation=45)\n",
    "    plt.yticks(tick_marks, classes)\n",
    "    \n",
    "    if normalize:\n",
    "        cm = cm.astype('float') / cm.sum(axis=1)[:, np.newaxis]\n",
    "\n",
    "    thresh = cm.max() / 2.\n",
    "    for i, j in itertools.product(range(cm.shape[0]), range(cm.shape[1])):\n",
    "        plt.text(j, i, cm[i, j],\n",
    "                 horizontalalignment=\"center\",\n",
    "                 color=\"white\" if cm[i, j] > thresh else \"black\")\n",
    "\n",
    "    plt.tight_layout()\n",
    "    plt.ylabel('True label')\n",
    "    plt.xlabel('Predicted label')\n",
    "    \n",
    "\n",
    "Y_pred = neural_net.predict(x_test)\n",
    "# Convert predictions classes to one hot vectors \n",
    "Y_pred_classes = np.argmax(Y_pred,axis = 1) \n",
    "# Convert validation observations to one hot vectors\n",
    "#Y_true = np.argmax(y_test,axis = 1) \n",
    "# compute the confusion matrix\n",
    "confusion_mtx = confusion_matrix(np.argmax(y_test,axis=1), Y_pred_classes)\n",
    "\n",
    "# plot the confusion matrix\n",
    "plot_confusion_matrix(confusion_mtx, classes.values()) "
   ]
  },
  {
   "cell_type": "code",
   "execution_count": 177,
   "id": "22201e95",
   "metadata": {},
   "outputs": [
    {
     "name": "stdout",
     "output_type": "stream",
     "text": [
      "63/63 [==============================] - 21s 337ms/step\n",
      "              precision    recall  f1-score   support\n",
      "\n",
      "         0.0       0.29      0.55      0.38        69\n",
      "         1.0       0.50      0.12      0.19        93\n",
      "         2.0       0.48      0.29      0.36       228\n",
      "         3.0       0.60      0.21      0.32        28\n",
      "         4.0       0.85      0.87      0.86      1338\n",
      "         5.0       0.36      0.24      0.29        21\n",
      "         6.0       0.36      0.51      0.42       226\n",
      "\n",
      "    accuracy                           0.70      2003\n",
      "   macro avg       0.49      0.40      0.40      2003\n",
      "weighted avg       0.71      0.70      0.69      2003\n",
      "\n",
      "Classification Report\n"
     ]
    }
   ],
   "source": [
    "from sklearn.metrics import classification_report\n",
    "from sklearn.metrics import multilabel_confusion_matrix, classification_report, confusion_matrix\n",
    "Y_pred = np.argmax(neural_net.predict(x_test),axis=1)\n",
    "print(classification_report(np.float32(np.argmax(y_test,axis=1)), Y_pred.round()))\n",
    "print('Classification Report')"
   ]
  },
  {
   "cell_type": "code",
   "execution_count": 181,
   "id": "5538cd4d",
   "metadata": {},
   "outputs": [],
   "source": [
    "# plot auc for neural_net"
   ]
  },
  {
   "cell_type": "code",
   "execution_count": null,
   "id": "eb5f35e0",
   "metadata": {},
   "outputs": [],
   "source": []
  },
  {
   "cell_type": "code",
   "execution_count": 184,
   "id": "ea3fb984",
   "metadata": {},
   "outputs": [],
   "source": [
    "# save the neural_net model so that it can be used in a webpage format for perdiction on outside data "
   ]
  },
  {
   "cell_type": "code",
   "execution_count": 190,
   "id": "f9e92b5b",
   "metadata": {},
   "outputs": [
    {
     "name": "stdout",
     "output_type": "stream",
     "text": [
      "63/63 [==============================] - 20s 306ms/step\n",
      "AUROC for class 0: 0.9075880880655846\n",
      "AUROC for class 1: 0.9148961324100658\n",
      "AUROC for class 2: 0.8066938472942922\n",
      "AUROC for class 3: 0.914755877034358\n",
      "AUROC for class 4: 0.8838868471627499\n",
      "AUROC for class 5: 0.8831627504685022\n",
      "AUROC for class 6: 0.8317986464210836\n",
      "Average AUROC: 0.8775403126938052\n"
     ]
    }
   ],
   "source": [
    "# plot auc for neural_net\n",
    "from sklearn.metrics import roc_auc_score\n",
    "\n",
    "# Compute the probabilities for each class\n",
    "Y_pred_prob = neural_net.predict(x_test)\n",
    "\n",
    "\n",
    "# Compute the AUROC for each class\n",
    "auc_scores = roc_auc_score(y_test, Y_pred_prob, average=None)\n",
    "\n",
    "# Determine the average AUROC\n",
    "average_auc = np.mean(auc_scores)\n",
    "\n",
    "# Print the AUROC scores for each class\n",
    "for i, auc in enumerate(auc_scores):\n",
    "    print(f\"AUROC for class {i}: {auc}\")\n",
    "\n",
    "# Print the average AUROC\n",
    "print(f\"Average AUROC: {average_auc}\")"
   ]
  },
  {
   "cell_type": "code",
   "execution_count": 188,
   "id": "2be6d94b",
   "metadata": {},
   "outputs": [],
   "source": [
    "# save the neural_net model\n",
    "neural_net.save('my_model.keras')"
   ]
  },
  {
   "cell_type": "code",
   "execution_count": 82,
   "id": "1da4b75d",
   "metadata": {},
   "outputs": [],
   "source": [
    "input_size = 28\n",
    "output_size = 224\n",
    "bin_size = input_size // output_size"
   ]
  },
  {
   "cell_type": "code",
   "execution_count": null,
   "id": "8c539521",
   "metadata": {},
   "outputs": [],
   "source": []
  },
  {
   "cell_type": "code",
   "execution_count": 86,
   "id": "00232e55",
   "metadata": {},
   "outputs": [
    {
     "data": {
      "text/plain": [
       "(28, 28, 3)"
      ]
     },
     "execution_count": 86,
     "metadata": {},
     "output_type": "execute_result"
    }
   ],
   "source": []
  },
  {
   "cell_type": "code",
   "execution_count": 157,
   "id": "61371842",
   "metadata": {},
   "outputs": [],
   "source": [
    "import cv2\n",
    "IMG_SIZ = 224\n",
    "\n",
    "bh2 = []\n",
    "for x in x_val:\n",
    "    \n",
    "    bh2.append(cv2.resize(x,(IMG_SIZ,IMG_SIZ),3))\n",
    "    \n",
    "bhh3 = np.array(bh2)\n",
    "#print(bh.shape)\n",
    "#print(bhh.shape)\n",
    "\n",
    "    "
   ]
  },
  {
   "cell_type": "code",
   "execution_count": 158,
   "id": "b57217c5",
   "metadata": {},
   "outputs": [
    {
     "data": {
      "text/plain": [
       "(802, 224, 224, 3)"
      ]
     },
     "execution_count": 158,
     "metadata": {},
     "output_type": "execute_result"
    }
   ],
   "source": [
    "bhh3.shape"
   ]
  },
  {
   "cell_type": "code",
   "execution_count": 159,
   "id": "fe1aca99",
   "metadata": {},
   "outputs": [],
   "source": [
    "x_val = bhh3"
   ]
  },
  {
   "cell_type": "code",
   "execution_count": 160,
   "id": "a7a4e461",
   "metadata": {},
   "outputs": [
    {
     "data": {
      "text/plain": [
       "(802, 224, 224, 3)"
      ]
     },
     "execution_count": 160,
     "metadata": {},
     "output_type": "execute_result"
    }
   ],
   "source": [
    "x_val.shape"
   ]
  },
  {
   "cell_type": "code",
   "execution_count": null,
   "id": "4cd452b1",
   "metadata": {},
   "outputs": [],
   "source": []
  },
  {
   "cell_type": "code",
   "execution_count": 38,
   "id": "2aa63666",
   "metadata": {},
   "outputs": [],
   "source": [
    "from tensorflow.keras.applications.vgg19 import VGG19\n",
    "from tensorflow.keras.applications.resnet_v2 import ResNet152V2\n",
    "\n",
    "from tensorflow.keras.applications.efficientnet import EfficientNetB7"
   ]
  },
  {
   "cell_type": "code",
   "execution_count": 40,
   "id": "fd390d66",
   "metadata": {},
   "outputs": [],
   "source": [
    "X_train_pad= np.pad(x_train,((0,0),(2,2),(2,2),(0,0)),'mean')"
   ]
  },
  {
   "cell_type": "code",
   "execution_count": 41,
   "id": "3b2939ed",
   "metadata": {},
   "outputs": [],
   "source": [
    "X_test_pad= np.pad(x_test,((0,0),(2,2),(2,2),(0,0)),'mean')"
   ]
  },
  {
   "cell_type": "code",
   "execution_count": 45,
   "id": "deb03d3b",
   "metadata": {},
   "outputs": [
    {
     "name": "stdout",
     "output_type": "stream",
     "text": [
      "Model: \"sequential_1\"\n",
      "_________________________________________________________________\n",
      " Layer (type)                Output Shape              Param #   \n",
      "=================================================================\n",
      " resnet152v2 (Functional)    (None, 1, 1, 2048)        58331648  \n",
      "                                                                 \n",
      " flatten_2 (Flatten)         (None, 2048)              0         \n",
      "                                                                 \n",
      " batch_normalization_11 (Ba  (None, 2048)              8192      \n",
      " tchNormalization)                                               \n",
      "                                                                 \n",
      " dense_5 (Dense)             (None, 128)               262272    \n",
      "                                                                 \n",
      " batch_normalization_12 (Ba  (None, 128)               512       \n",
      " tchNormalization)                                               \n",
      "                                                                 \n",
      " dropout_6 (Dropout)         (None, 128)               0         \n",
      "                                                                 \n",
      " dense_6 (Dense)             (None, 7)                 903       \n",
      "                                                                 \n",
      "=================================================================\n",
      "Total params: 58603527 (223.55 MB)\n",
      "Trainable params: 3682567 (14.05 MB)\n",
      "Non-trainable params: 54920960 (209.51 MB)\n",
      "_________________________________________________________________\n",
      "None\n"
     ]
    }
   ],
   "source": [
    "img_shape =(32,32,3)\n",
    "\n",
    "Name= \"ResNet\"\n",
    "classifier = ResNet152V2(\n",
    "            include_top = False,input_shape=img_shape,\n",
    "             weights='imagenet'\n",
    "           )\n",
    "fine_tune_at = 555\n",
    "for layer in classifier.layers[:fine_tune_at]:\n",
    "    layer.trainable = False\n",
    "    \n",
    "\"\"\"\n",
    "# \n",
    "Name= \"EfficientNetB7\"\n",
    "classifier = EfficientNetB7(\n",
    "            include_top = False,input_shape=img_shape,\n",
    "             weights='imagenet'\n",
    "           )\n",
    "fine_tune_at = 790\n",
    "for layer in classifier.layers[:fine_tune_at]:\n",
    "    layer.trainable = False\n",
    "\n",
    "# \n",
    "Name= \"VGG19\"\n",
    "classifier = VGG19(\n",
    "            include_top = False,input_shape=img_shape,\n",
    "             weights='imagenet'\n",
    "           )\n",
    "\n",
    "fine_tune_at = 20\n",
    "for layer in classifier.layers[:fine_tune_at]:\n",
    "    layer.trainable = False\n",
    "\"\"\"\n",
    "model = Sequential()\n",
    "model.add(classifier)\n",
    "model.add(Flatten())\n",
    "model.add(BatchNormalization())\n",
    "model.add(Dense(128, activation='relu'))\n",
    "model.add(BatchNormalization())\n",
    "model.add(Dropout(0.5))\n",
    "model.add(Dense(7, activation='softmax'))\n",
    "print(model.summary())"
   ]
  },
  {
   "cell_type": "code",
   "execution_count": 43,
   "id": "d3e8b4e5",
   "metadata": {
    "scrolled": true
   },
   "outputs": [
    {
     "name": "stdout",
     "output_type": "stream",
     "text": [
      "Epoch 1/20\n",
      "225/225 [==============================] - ETA: 0s - loss: 1.7246 - acc: 0.5447 - recall_1: 0.3826 - precision_1: 0.6617 - auc_1: 0.7926 - true_positives_1: 2746.0000 - true_negatives_1: 41664.0000 - false_negatives_1: 4432.0000 - false_positives_1: 1404.0000"
     ]
    },
    {
     "ename": "ValueError",
     "evalue": "in user code:\n\n    File \"/Users/jdapeman/anaconda3/envs/apple/lib/python3.10/site-packages/keras/src/engine/training.py\", line 1972, in test_function  *\n        return step_function(self, iterator)\n    File \"/Users/jdapeman/anaconda3/envs/apple/lib/python3.10/site-packages/keras/src/engine/training.py\", line 1956, in step_function  **\n        outputs = model.distribute_strategy.run(run_step, args=(data,))\n    File \"/Users/jdapeman/anaconda3/envs/apple/lib/python3.10/site-packages/keras/src/engine/training.py\", line 1944, in run_step  **\n        outputs = model.test_step(data)\n    File \"/Users/jdapeman/anaconda3/envs/apple/lib/python3.10/site-packages/keras/src/engine/training.py\", line 1850, in test_step\n        y_pred = self(x, training=False)\n    File \"/Users/jdapeman/anaconda3/envs/apple/lib/python3.10/site-packages/keras/src/utils/traceback_utils.py\", line 70, in error_handler\n        raise e.with_traceback(filtered_tb) from None\n    File \"/Users/jdapeman/anaconda3/envs/apple/lib/python3.10/site-packages/keras/src/engine/input_spec.py\", line 298, in assert_input_compatibility\n        raise ValueError(\n\n    ValueError: Input 0 of layer \"sequential\" is incompatible with the layer: expected shape=(None, 32, 32, 3), found shape=(None, 28, 28, 3)\n",
     "output_type": "error",
     "traceback": [
      "\u001b[0;31m---------------------------------------------------------------------------\u001b[0m",
      "\u001b[0;31mValueError\u001b[0m                                Traceback (most recent call last)",
      "Cell \u001b[0;32mIn[43], line 7\u001b[0m\n\u001b[1;32m      1\u001b[0m callback \u001b[38;5;241m=\u001b[39m tf\u001b[38;5;241m.\u001b[39mkeras\u001b[38;5;241m.\u001b[39mcallbacks\u001b[38;5;241m.\u001b[39mModelCheckpoint(filepath\u001b[38;5;241m=\u001b[39m\u001b[38;5;124m'\u001b[39m\u001b[38;5;124mbest_Resnet.h5\u001b[39m\u001b[38;5;124m'\u001b[39m,\n\u001b[1;32m      2\u001b[0m                                                   monitor\u001b[38;5;241m=\u001b[39m\u001b[38;5;124m'\u001b[39m\u001b[38;5;124mval_acc\u001b[39m\u001b[38;5;124m'\u001b[39m, mode\u001b[38;5;241m=\u001b[39m\u001b[38;5;124m'\u001b[39m\u001b[38;5;124mmax\u001b[39m\u001b[38;5;124m'\u001b[39m,\n\u001b[1;32m      3\u001b[0m                                                  verbose\u001b[38;5;241m=\u001b[39m\u001b[38;5;241m1\u001b[39m)\n\u001b[1;32m      4\u001b[0m model\u001b[38;5;241m.\u001b[39mcompile(optimizer\u001b[38;5;241m=\u001b[39m keras\u001b[38;5;241m.\u001b[39moptimizers\u001b[38;5;241m.\u001b[39mAdam(),\n\u001b[1;32m      5\u001b[0m               loss\u001b[38;5;241m=\u001b[39mkeras\u001b[38;5;241m.\u001b[39mlosses\u001b[38;5;241m.\u001b[39mCategoricalCrossentropy() ,\n\u001b[1;32m      6\u001b[0m               metrics\u001b[38;5;241m=\u001b[39m[\u001b[38;5;124m'\u001b[39m\u001b[38;5;124macc\u001b[39m\u001b[38;5;124m'\u001b[39m,Recall(),Precision(),AUC(),TruePositives(),TrueNegatives(),FalseNegatives(),FalsePositives()])\n\u001b[0;32m----> 7\u001b[0m history \u001b[38;5;241m=\u001b[39m \u001b[43mmodel\u001b[49m\u001b[38;5;241;43m.\u001b[39;49m\u001b[43mfit\u001b[49m\u001b[43m(\u001b[49m\u001b[43mdatagen\u001b[49m\u001b[38;5;241;43m.\u001b[39;49m\u001b[43mflow\u001b[49m\u001b[43m(\u001b[49m\u001b[43mx_train\u001b[49m\u001b[43m,\u001b[49m\u001b[43my_train\u001b[49m\u001b[43m,\u001b[49m\u001b[43m \u001b[49m\u001b[43mbatch_size\u001b[49m\u001b[38;5;241;43m=\u001b[39;49m\u001b[38;5;241;43m32\u001b[39;49m\u001b[43m)\u001b[49m\u001b[43m,\u001b[49m\n\u001b[1;32m      8\u001b[0m \u001b[43m                              \u001b[49m\u001b[43mepochs\u001b[49m\u001b[43m \u001b[49m\u001b[38;5;241;43m=\u001b[39;49m\u001b[43m \u001b[49m\u001b[38;5;241;43m20\u001b[39;49m\u001b[43m,\u001b[49m\u001b[43m \u001b[49m\u001b[43mvalidation_data\u001b[49m\u001b[43m \u001b[49m\u001b[38;5;241;43m=\u001b[39;49m\u001b[43m \u001b[49m\u001b[43m(\u001b[49m\u001b[43mx_val\u001b[49m\u001b[43m,\u001b[49m\u001b[43my_val\u001b[49m\u001b[43m)\u001b[49m\u001b[43m,\u001b[49m\n\u001b[1;32m      9\u001b[0m \u001b[43m                              \u001b[49m\u001b[43mverbose\u001b[49m\u001b[43m \u001b[49m\u001b[38;5;241;43m=\u001b[39;49m\u001b[43m \u001b[49m\u001b[38;5;241;43m1\u001b[39;49m\u001b[43m,\u001b[49m\u001b[43m \u001b[49m\u001b[43msteps_per_epoch\u001b[49m\u001b[38;5;241;43m=\u001b[39;49m\u001b[43mx_train\u001b[49m\u001b[38;5;241;43m.\u001b[39;49m\u001b[43mshape\u001b[49m\u001b[43m[\u001b[49m\u001b[38;5;241;43m0\u001b[39;49m\u001b[43m]\u001b[49m\u001b[43m \u001b[49m\u001b[38;5;241;43m/\u001b[39;49m\u001b[38;5;241;43m/\u001b[39;49m\u001b[43m \u001b[49m\u001b[38;5;241;43m32\u001b[39;49m\u001b[43m,\u001b[49m\n\u001b[1;32m     10\u001b[0m \u001b[43m                              \u001b[49m\u001b[43mcallbacks\u001b[49m\u001b[38;5;241;43m=\u001b[39;49m\u001b[43m[\u001b[49m\u001b[43mcallback\u001b[49m\u001b[43m]\u001b[49m\u001b[43m)\u001b[49m\n",
      "File \u001b[0;32m~/anaconda3/envs/apple/lib/python3.10/site-packages/keras/src/utils/traceback_utils.py:70\u001b[0m, in \u001b[0;36mfilter_traceback.<locals>.error_handler\u001b[0;34m(*args, **kwargs)\u001b[0m\n\u001b[1;32m     67\u001b[0m     filtered_tb \u001b[38;5;241m=\u001b[39m _process_traceback_frames(e\u001b[38;5;241m.\u001b[39m__traceback__)\n\u001b[1;32m     68\u001b[0m     \u001b[38;5;66;03m# To get the full stack trace, call:\u001b[39;00m\n\u001b[1;32m     69\u001b[0m     \u001b[38;5;66;03m# `tf.debugging.disable_traceback_filtering()`\u001b[39;00m\n\u001b[0;32m---> 70\u001b[0m     \u001b[38;5;28;01mraise\u001b[39;00m e\u001b[38;5;241m.\u001b[39mwith_traceback(filtered_tb) \u001b[38;5;28;01mfrom\u001b[39;00m \u001b[38;5;28;01mNone\u001b[39;00m\n\u001b[1;32m     71\u001b[0m \u001b[38;5;28;01mfinally\u001b[39;00m:\n\u001b[1;32m     72\u001b[0m     \u001b[38;5;28;01mdel\u001b[39;00m filtered_tb\n",
      "File \u001b[0;32m/var/folders/yd/tybxdv4901xbv_l8x4p1g7tm0000gn/T/__autograph_generated_filer2iapy23.py:15\u001b[0m, in \u001b[0;36mouter_factory.<locals>.inner_factory.<locals>.tf__test_function\u001b[0;34m(iterator)\u001b[0m\n\u001b[1;32m     13\u001b[0m \u001b[38;5;28;01mtry\u001b[39;00m:\n\u001b[1;32m     14\u001b[0m     do_return \u001b[38;5;241m=\u001b[39m \u001b[38;5;28;01mTrue\u001b[39;00m\n\u001b[0;32m---> 15\u001b[0m     retval_ \u001b[38;5;241m=\u001b[39m ag__\u001b[38;5;241m.\u001b[39mconverted_call(ag__\u001b[38;5;241m.\u001b[39mld(step_function), (ag__\u001b[38;5;241m.\u001b[39mld(\u001b[38;5;28mself\u001b[39m), ag__\u001b[38;5;241m.\u001b[39mld(iterator)), \u001b[38;5;28;01mNone\u001b[39;00m, fscope)\n\u001b[1;32m     16\u001b[0m \u001b[38;5;28;01mexcept\u001b[39;00m:\n\u001b[1;32m     17\u001b[0m     do_return \u001b[38;5;241m=\u001b[39m \u001b[38;5;28;01mFalse\u001b[39;00m\n",
      "\u001b[0;31mValueError\u001b[0m: in user code:\n\n    File \"/Users/jdapeman/anaconda3/envs/apple/lib/python3.10/site-packages/keras/src/engine/training.py\", line 1972, in test_function  *\n        return step_function(self, iterator)\n    File \"/Users/jdapeman/anaconda3/envs/apple/lib/python3.10/site-packages/keras/src/engine/training.py\", line 1956, in step_function  **\n        outputs = model.distribute_strategy.run(run_step, args=(data,))\n    File \"/Users/jdapeman/anaconda3/envs/apple/lib/python3.10/site-packages/keras/src/engine/training.py\", line 1944, in run_step  **\n        outputs = model.test_step(data)\n    File \"/Users/jdapeman/anaconda3/envs/apple/lib/python3.10/site-packages/keras/src/engine/training.py\", line 1850, in test_step\n        y_pred = self(x, training=False)\n    File \"/Users/jdapeman/anaconda3/envs/apple/lib/python3.10/site-packages/keras/src/utils/traceback_utils.py\", line 70, in error_handler\n        raise e.with_traceback(filtered_tb) from None\n    File \"/Users/jdapeman/anaconda3/envs/apple/lib/python3.10/site-packages/keras/src/engine/input_spec.py\", line 298, in assert_input_compatibility\n        raise ValueError(\n\n    ValueError: Input 0 of layer \"sequential\" is incompatible with the layer: expected shape=(None, 32, 32, 3), found shape=(None, 28, 28, 3)\n"
     ]
    }
   ],
   "source": [
    "callback = tf.keras.callbacks.ModelCheckpoint(filepath='best_Resnet.h5',\n",
    "                                                  monitor='val_acc', mode='max',\n",
    "                                                 verbose=1)\n",
    "model.compile(optimizer= keras.optimizers.Adam(),\n",
    "              loss=keras.losses.CategoricalCrossentropy() ,\n",
    "              metrics=['acc',Recall(),Precision(),AUC(),TruePositives(),TrueNegatives(),FalseNegatives(),FalsePositives()])\n",
    "history = model.fit(datagen.flow(x_train,y_train, batch_size=32),\n",
    "                              epochs = 20, validation_data = (x_val,y_val),\n",
    "                              verbose = 1, steps_per_epoch=x_train.shape[0] // 32,\n",
    "                              callbacks=[callback])"
   ]
  },
  {
   "cell_type": "code",
   "execution_count": 48,
   "id": "71bf1780",
   "metadata": {},
   "outputs": [],
   "source": [
    "model.save(Name+'.h5')\n",
    "\n",
    "pd.DataFrame.from_dict(history.history).to_csv(Name+'.csv',index=False)"
   ]
  },
  {
   "cell_type": "code",
   "execution_count": 49,
   "id": "08fb9f1b",
   "metadata": {},
   "outputs": [
    {
     "data": {
      "image/png": "[encoded data removed]",
      "text/plain": [
       "<Figure size 640x480 with 1 Axes>"
      ]
     },
     "metadata": {},
     "output_type": "display_data"
    }
   ],
   "source": [
    "plt.plot(history.history['acc'])\n",
    "plt.plot(history.history['val_acc'])\n",
    "plt.title('model accuracy')\n",
    "plt.ylabel('accuracy')\n",
    "plt.xlabel('epoch')\n",
    "plt.legend(['train', 'val'], loc='upper left')\n",
    "plt.show()"
   ]
  },
  {
   "cell_type": "code",
   "execution_count": 50,
   "id": "8b7d36ad",
   "metadata": {},
   "outputs": [
    {
     "name": "stdout",
     "output_type": "stream",
     "text": [
      "294/294 [==============================] - 37s 121ms/step\n",
      "Confusion Matrix:\n",
      "[[1295    0    0    0    0    0    0]\n",
      " [   0 1323    0    0    0    0    0]\n",
      " [   0    0 1338    0    9    0    4]\n",
      " [   0    0    0 1392    0    0    0]\n",
      " [  12   24   99    4 1021   11  175]\n",
      " [   0    0    0    0    0 1292    0]\n",
      " [   1    0   38    0   21    0 1328]]\n",
      "Accuracy: 0.9576009374667093\n",
      "F1 Score: 0.9561653837130588\n",
      "Recall: 0.9576009374667093\n",
      "Precision: 0.9595070402422284\n"
     ]
    }
   ],
   "source": [
    "# plot in a confusion matrix the model scores and all the accuracy, f1, recall and percision scores \n",
    "from sklearn.metrics import confusion_matrix, accuracy_score, f1_score, recall_score, precision_score\n",
    "\n",
    "# Get the predicted labels from the model\n",
    "y_pred = model.predict(X_test_pad)\n",
    "y_pred = np.argmax(y_pred, axis=1)\n",
    "\n",
    "# Calculate the confusion matrix\n",
    "cm = confusion_matrix(np.argmax(Y_test, axis=1), y_pred)\n",
    "\n",
    "# Calculate the accuracy, f1 score, recall, and precision\n",
    "accuracy = accuracy_score(np.argmax(Y_test, axis=1), y_pred)\n",
    "f1 = f1_score(np.argmax(Y_test, axis=1), y_pred, average='weighted')\n",
    "recall = recall_score(np.argmax(Y_test, axis=1), y_pred, average='weighted')\n",
    "precision = precision_score(np.argmax(Y_test, axis=1), y_pred, average='weighted')\n",
    "\n",
    "print(\"Confusion Matrix:\")\n",
    "print(cm)\n",
    "print(\"Accuracy:\", accuracy)\n",
    "print(\"F1 Score:\", f1)\n",
    "print(\"Recall:\", recall)\n",
    "print(\"Precision:\", precision)"
   ]
  },
  {
   "cell_type": "code",
   "execution_count": null,
   "id": "2a183b6e",
   "metadata": {},
   "outputs": [],
   "source": []
  },
  {
   "cell_type": "markdown",
   "id": "4802d6fc",
   "metadata": {},
   "source": [
    "cheecking data files --"
   ]
  }
 ],
 "metadata": {
  "kernelspec": {
   "display_name": "Python 3 (ipykernel)",
   "language": "python",
   "name": "python3"
  },
  "language_info": {
   "codemirror_mode": {
    "name": "ipython",
    "version": 3
   },
   "file_extension": ".py",
   "mimetype": "text/x-python",
   "name": "python",
   "nbconvert_exporter": "python",
   "pygments_lexer": "ipython3",
   "version": "3.10.9"
  }
 },
 "nbformat": 4,
 "nbformat_minor": 5
}
