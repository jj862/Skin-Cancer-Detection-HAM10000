{
 "cells": [
  {
   "cell_type": "markdown",
   "id": "844ff0d8",
   "metadata": {},
   "source": [
    "# Phase 5 Notebook"
   ]
  },
  {
   "cell_type": "markdown",
   "id": "50486d75",
   "metadata": {},
   "source": [
    "By: Jonah Devoy"
   ]
  },
  {
   "cell_type": "code",
   "execution_count": 1,
   "id": "bddecea3",
   "metadata": {},
   "outputs": [
    {
     "name": "stderr",
     "output_type": "stream",
     "text": [
      "2023-07-31 13:13:01.643943: I tensorflow/core/platform/cpu_feature_guard.cc:182] This TensorFlow binary is optimized to use available CPU instructions in performance-critical operations.\n",
      "To enable the following instructions: AVX2 FMA, in other operations, rebuild TensorFlow with the appropriate compiler flags.\n"
     ]
    }
   ],
   "source": [
    "import tensorflow as tf # Imports tensorflow\n",
    "from tensorflow import keras\n",
    "from tensorflow.keras.models import Sequential\n",
    "from tensorflow.keras import layers\n",
    "from tensorflow.keras.layers import Dense, Activation, Flatten, Dropout, BatchNormalization,Embedding\n",
    "from tensorflow.keras.layers import Conv2D, MaxPooling2D, ReLU, LSTM,Bidirectional,Attention,Concatenate\n",
    "from tensorflow.keras import regularizers, optimizers,losses\n",
    "from tensorflow.keras.metrics import Recall,Precision,AUC,TruePositives,TrueNegatives,FalseNegatives,FalsePositives, SpecificityAtSensitivity,SensitivityAtSpecificity\n",
    "from tensorflow.keras.utils import plot_model\n",
    "from tensorflow.keras.preprocessing import image\n",
    "from tensorflow.keras.utils import to_categorical\n",
    "from tensorflow.python.keras.utils import np_utils\n",
    "import numpy as np\n",
    "import pandas as pd \n",
    "import seaborn as sns\n",
    "import sklearn\n",
    "import keras\n",
    "from keras.applications import MobileNet\n",
    "from keras.models import Sequential, Model\n",
    "from keras.layers import Conv2D, MaxPool2D, Dense, Dropout, Flatten, GlobalAveragePooling2D\n",
    "from tensorflow.keras.callbacks import EarlyStopping, ReduceLROnPlateau, ModelCheckpoint\n",
    "from keras.preprocessing.image import ImageDataGenerator\n",
    "from keras.metrics import categorical_accuracy, top_k_categorical_accuracy\n",
    "from imblearn.over_sampling import RandomOverSampler \n",
    "import imblearn\n",
    "import matplotlib.pyplot as plt\n",
    "import time\n",
    "import os\n",
    "import sklearn.metrics as m\n",
    "from glob import glob\n",
    "from sklearn.preprocessing import StandardScaler\n",
    "from sklearn import tree\n",
    "from sklearn.model_selection import cross_val_score\n",
    "from sklearn.model_selection import train_test_split\n",
    "import skimage.io\n",
    "import skimage.color\n",
    "import skimage.filters\n",
    "from sklearn.preprocessing import StandardScaler\n",
    "from PIL import Image\n",
    "from keras.preprocessing.image import ImageDataGenerator\n",
    "from tensorflow.keras import metrics"
   ]
  },
  {
   "cell_type": "code",
   "execution_count": 2,
   "id": "30be830b",
   "metadata": {
    "scrolled": true
   },
   "outputs": [
    {
     "data": {
      "text/html": [
       "<div>\n",
       "<style scoped>\n",
       "    .dataframe tbody tr th:only-of-type {\n",
       "        vertical-align: middle;\n",
       "    }\n",
       "\n",
       "    .dataframe tbody tr th {\n",
       "        vertical-align: top;\n",
       "    }\n",
       "\n",
       "    .dataframe thead th {\n",
       "        text-align: right;\n",
       "    }\n",
       "</style>\n",
       "<table border=\"1\" class=\"dataframe\">\n",
       "  <thead>\n",
       "    <tr style=\"text-align: right;\">\n",
       "      <th></th>\n",
       "      <th>pixel0000</th>\n",
       "      <th>pixel0001</th>\n",
       "      <th>pixel0002</th>\n",
       "      <th>pixel0003</th>\n",
       "      <th>pixel0004</th>\n",
       "      <th>pixel0005</th>\n",
       "      <th>pixel0006</th>\n",
       "      <th>pixel0007</th>\n",
       "      <th>pixel0008</th>\n",
       "      <th>pixel0009</th>\n",
       "      <th>...</th>\n",
       "      <th>pixel2343</th>\n",
       "      <th>pixel2344</th>\n",
       "      <th>pixel2345</th>\n",
       "      <th>pixel2346</th>\n",
       "      <th>pixel2347</th>\n",
       "      <th>pixel2348</th>\n",
       "      <th>pixel2349</th>\n",
       "      <th>pixel2350</th>\n",
       "      <th>pixel2351</th>\n",
       "      <th>label</th>\n",
       "    </tr>\n",
       "  </thead>\n",
       "  <tbody>\n",
       "    <tr>\n",
       "      <th>0</th>\n",
       "      <td>192</td>\n",
       "      <td>153</td>\n",
       "      <td>193</td>\n",
       "      <td>195</td>\n",
       "      <td>155</td>\n",
       "      <td>192</td>\n",
       "      <td>197</td>\n",
       "      <td>154</td>\n",
       "      <td>185</td>\n",
       "      <td>202</td>\n",
       "      <td>...</td>\n",
       "      <td>173</td>\n",
       "      <td>124</td>\n",
       "      <td>138</td>\n",
       "      <td>183</td>\n",
       "      <td>147</td>\n",
       "      <td>166</td>\n",
       "      <td>185</td>\n",
       "      <td>154</td>\n",
       "      <td>177</td>\n",
       "      <td>2</td>\n",
       "    </tr>\n",
       "    <tr>\n",
       "      <th>1</th>\n",
       "      <td>25</td>\n",
       "      <td>14</td>\n",
       "      <td>30</td>\n",
       "      <td>68</td>\n",
       "      <td>48</td>\n",
       "      <td>75</td>\n",
       "      <td>123</td>\n",
       "      <td>93</td>\n",
       "      <td>126</td>\n",
       "      <td>158</td>\n",
       "      <td>...</td>\n",
       "      <td>60</td>\n",
       "      <td>39</td>\n",
       "      <td>55</td>\n",
       "      <td>25</td>\n",
       "      <td>14</td>\n",
       "      <td>28</td>\n",
       "      <td>25</td>\n",
       "      <td>14</td>\n",
       "      <td>27</td>\n",
       "      <td>2</td>\n",
       "    </tr>\n",
       "    <tr>\n",
       "      <th>2</th>\n",
       "      <td>192</td>\n",
       "      <td>138</td>\n",
       "      <td>153</td>\n",
       "      <td>200</td>\n",
       "      <td>145</td>\n",
       "      <td>163</td>\n",
       "      <td>201</td>\n",
       "      <td>142</td>\n",
       "      <td>160</td>\n",
       "      <td>206</td>\n",
       "      <td>...</td>\n",
       "      <td>167</td>\n",
       "      <td>129</td>\n",
       "      <td>143</td>\n",
       "      <td>159</td>\n",
       "      <td>124</td>\n",
       "      <td>142</td>\n",
       "      <td>136</td>\n",
       "      <td>104</td>\n",
       "      <td>117</td>\n",
       "      <td>2</td>\n",
       "    </tr>\n",
       "    <tr>\n",
       "      <th>3</th>\n",
       "      <td>38</td>\n",
       "      <td>19</td>\n",
       "      <td>30</td>\n",
       "      <td>95</td>\n",
       "      <td>59</td>\n",
       "      <td>72</td>\n",
       "      <td>143</td>\n",
       "      <td>103</td>\n",
       "      <td>119</td>\n",
       "      <td>171</td>\n",
       "      <td>...</td>\n",
       "      <td>44</td>\n",
       "      <td>26</td>\n",
       "      <td>36</td>\n",
       "      <td>25</td>\n",
       "      <td>12</td>\n",
       "      <td>17</td>\n",
       "      <td>25</td>\n",
       "      <td>12</td>\n",
       "      <td>15</td>\n",
       "      <td>2</td>\n",
       "    </tr>\n",
       "    <tr>\n",
       "      <th>4</th>\n",
       "      <td>158</td>\n",
       "      <td>113</td>\n",
       "      <td>139</td>\n",
       "      <td>194</td>\n",
       "      <td>144</td>\n",
       "      <td>174</td>\n",
       "      <td>215</td>\n",
       "      <td>162</td>\n",
       "      <td>191</td>\n",
       "      <td>225</td>\n",
       "      <td>...</td>\n",
       "      <td>209</td>\n",
       "      <td>166</td>\n",
       "      <td>185</td>\n",
       "      <td>172</td>\n",
       "      <td>135</td>\n",
       "      <td>149</td>\n",
       "      <td>109</td>\n",
       "      <td>78</td>\n",
       "      <td>92</td>\n",
       "      <td>2</td>\n",
       "    </tr>\n",
       "    <tr>\n",
       "      <th>...</th>\n",
       "      <td>...</td>\n",
       "      <td>...</td>\n",
       "      <td>...</td>\n",
       "      <td>...</td>\n",
       "      <td>...</td>\n",
       "      <td>...</td>\n",
       "      <td>...</td>\n",
       "      <td>...</td>\n",
       "      <td>...</td>\n",
       "      <td>...</td>\n",
       "      <td>...</td>\n",
       "      <td>...</td>\n",
       "      <td>...</td>\n",
       "      <td>...</td>\n",
       "      <td>...</td>\n",
       "      <td>...</td>\n",
       "      <td>...</td>\n",
       "      <td>...</td>\n",
       "      <td>...</td>\n",
       "      <td>...</td>\n",
       "      <td>...</td>\n",
       "    </tr>\n",
       "    <tr>\n",
       "      <th>10010</th>\n",
       "      <td>183</td>\n",
       "      <td>165</td>\n",
       "      <td>181</td>\n",
       "      <td>182</td>\n",
       "      <td>165</td>\n",
       "      <td>180</td>\n",
       "      <td>184</td>\n",
       "      <td>166</td>\n",
       "      <td>182</td>\n",
       "      <td>188</td>\n",
       "      <td>...</td>\n",
       "      <td>208</td>\n",
       "      <td>185</td>\n",
       "      <td>187</td>\n",
       "      <td>208</td>\n",
       "      <td>186</td>\n",
       "      <td>186</td>\n",
       "      <td>206</td>\n",
       "      <td>187</td>\n",
       "      <td>189</td>\n",
       "      <td>0</td>\n",
       "    </tr>\n",
       "    <tr>\n",
       "      <th>10011</th>\n",
       "      <td>2</td>\n",
       "      <td>3</td>\n",
       "      <td>1</td>\n",
       "      <td>38</td>\n",
       "      <td>33</td>\n",
       "      <td>32</td>\n",
       "      <td>121</td>\n",
       "      <td>104</td>\n",
       "      <td>103</td>\n",
       "      <td>132</td>\n",
       "      <td>...</td>\n",
       "      <td>96</td>\n",
       "      <td>79</td>\n",
       "      <td>76</td>\n",
       "      <td>24</td>\n",
       "      <td>23</td>\n",
       "      <td>21</td>\n",
       "      <td>3</td>\n",
       "      <td>4</td>\n",
       "      <td>1</td>\n",
       "      <td>0</td>\n",
       "    </tr>\n",
       "    <tr>\n",
       "      <th>10012</th>\n",
       "      <td>132</td>\n",
       "      <td>118</td>\n",
       "      <td>118</td>\n",
       "      <td>167</td>\n",
       "      <td>149</td>\n",
       "      <td>149</td>\n",
       "      <td>175</td>\n",
       "      <td>156</td>\n",
       "      <td>160</td>\n",
       "      <td>184</td>\n",
       "      <td>...</td>\n",
       "      <td>204</td>\n",
       "      <td>181</td>\n",
       "      <td>178</td>\n",
       "      <td>181</td>\n",
       "      <td>159</td>\n",
       "      <td>153</td>\n",
       "      <td>172</td>\n",
       "      <td>151</td>\n",
       "      <td>145</td>\n",
       "      <td>0</td>\n",
       "    </tr>\n",
       "    <tr>\n",
       "      <th>10013</th>\n",
       "      <td>160</td>\n",
       "      <td>124</td>\n",
       "      <td>146</td>\n",
       "      <td>164</td>\n",
       "      <td>131</td>\n",
       "      <td>152</td>\n",
       "      <td>167</td>\n",
       "      <td>127</td>\n",
       "      <td>146</td>\n",
       "      <td>169</td>\n",
       "      <td>...</td>\n",
       "      <td>185</td>\n",
       "      <td>162</td>\n",
       "      <td>167</td>\n",
       "      <td>184</td>\n",
       "      <td>157</td>\n",
       "      <td>166</td>\n",
       "      <td>185</td>\n",
       "      <td>162</td>\n",
       "      <td>172</td>\n",
       "      <td>0</td>\n",
       "    </tr>\n",
       "    <tr>\n",
       "      <th>10014</th>\n",
       "      <td>175</td>\n",
       "      <td>142</td>\n",
       "      <td>121</td>\n",
       "      <td>181</td>\n",
       "      <td>150</td>\n",
       "      <td>134</td>\n",
       "      <td>181</td>\n",
       "      <td>150</td>\n",
       "      <td>133</td>\n",
       "      <td>178</td>\n",
       "      <td>...</td>\n",
       "      <td>159</td>\n",
       "      <td>79</td>\n",
       "      <td>82</td>\n",
       "      <td>174</td>\n",
       "      <td>137</td>\n",
       "      <td>125</td>\n",
       "      <td>175</td>\n",
       "      <td>139</td>\n",
       "      <td>126</td>\n",
       "      <td>6</td>\n",
       "    </tr>\n",
       "  </tbody>\n",
       "</table>\n",
       "<p>10015 rows × 2353 columns</p>\n",
       "</div>"
      ],
      "text/plain": [
       "       pixel0000  pixel0001  pixel0002  pixel0003  pixel0004  pixel0005  \\\n",
       "0            192        153        193        195        155        192   \n",
       "1             25         14         30         68         48         75   \n",
       "2            192        138        153        200        145        163   \n",
       "3             38         19         30         95         59         72   \n",
       "4            158        113        139        194        144        174   \n",
       "...          ...        ...        ...        ...        ...        ...   \n",
       "10010        183        165        181        182        165        180   \n",
       "10011          2          3          1         38         33         32   \n",
       "10012        132        118        118        167        149        149   \n",
       "10013        160        124        146        164        131        152   \n",
       "10014        175        142        121        181        150        134   \n",
       "\n",
       "       pixel0006  pixel0007  pixel0008  pixel0009  ...  pixel2343  pixel2344  \\\n",
       "0            197        154        185        202  ...        173        124   \n",
       "1            123         93        126        158  ...         60         39   \n",
       "2            201        142        160        206  ...        167        129   \n",
       "3            143        103        119        171  ...         44         26   \n",
       "4            215        162        191        225  ...        209        166   \n",
       "...          ...        ...        ...        ...  ...        ...        ...   \n",
       "10010        184        166        182        188  ...        208        185   \n",
       "10011        121        104        103        132  ...         96         79   \n",
       "10012        175        156        160        184  ...        204        181   \n",
       "10013        167        127        146        169  ...        185        162   \n",
       "10014        181        150        133        178  ...        159         79   \n",
       "\n",
       "       pixel2345  pixel2346  pixel2347  pixel2348  pixel2349  pixel2350  \\\n",
       "0            138        183        147        166        185        154   \n",
       "1             55         25         14         28         25         14   \n",
       "2            143        159        124        142        136        104   \n",
       "3             36         25         12         17         25         12   \n",
       "4            185        172        135        149        109         78   \n",
       "...          ...        ...        ...        ...        ...        ...   \n",
       "10010        187        208        186        186        206        187   \n",
       "10011         76         24         23         21          3          4   \n",
       "10012        178        181        159        153        172        151   \n",
       "10013        167        184        157        166        185        162   \n",
       "10014         82        174        137        125        175        139   \n",
       "\n",
       "       pixel2351  label  \n",
       "0            177      2  \n",
       "1             27      2  \n",
       "2            117      2  \n",
       "3             15      2  \n",
       "4             92      2  \n",
       "...          ...    ...  \n",
       "10010        189      0  \n",
       "10011          1      0  \n",
       "10012        145      0  \n",
       "10013        172      0  \n",
       "10014        126      6  \n",
       "\n",
       "[10015 rows x 2353 columns]"
      ]
     },
     "execution_count": 2,
     "metadata": {},
     "output_type": "execute_result"
    }
   ],
   "source": [
    "# reading in the data\n",
    "data = pd.read_csv('/Users/jdapeman/Documents/skin2/archive-2/hmnist_28_28_RGB.csv')\n",
    "data"
   ]
  },
  {
   "cell_type": "code",
   "execution_count": 3,
   "id": "131b8edd",
   "metadata": {},
   "outputs": [],
   "source": [
    "# dropping the taget label column from x\n",
    "y = data['label']\n",
    "x = data.drop(columns = ['label'])"
   ]
  },
  {
   "cell_type": "code",
   "execution_count": 4,
   "id": "74b5764d",
   "metadata": {},
   "outputs": [
    {
     "data": {
      "text/html": [
       "<div>\n",
       "<style scoped>\n",
       "    .dataframe tbody tr th:only-of-type {\n",
       "        vertical-align: middle;\n",
       "    }\n",
       "\n",
       "    .dataframe tbody tr th {\n",
       "        vertical-align: top;\n",
       "    }\n",
       "\n",
       "    .dataframe thead th {\n",
       "        text-align: right;\n",
       "    }\n",
       "</style>\n",
       "<table border=\"1\" class=\"dataframe\">\n",
       "  <thead>\n",
       "    <tr style=\"text-align: right;\">\n",
       "      <th></th>\n",
       "      <th>lesion_id</th>\n",
       "      <th>image_id</th>\n",
       "      <th>dx</th>\n",
       "      <th>dx_type</th>\n",
       "      <th>age</th>\n",
       "      <th>sex</th>\n",
       "      <th>localization</th>\n",
       "    </tr>\n",
       "  </thead>\n",
       "  <tbody>\n",
       "    <tr>\n",
       "      <th>0</th>\n",
       "      <td>HAM_0000118</td>\n",
       "      <td>ISIC_0027419</td>\n",
       "      <td>bkl</td>\n",
       "      <td>histo</td>\n",
       "      <td>80.0</td>\n",
       "      <td>male</td>\n",
       "      <td>scalp</td>\n",
       "    </tr>\n",
       "    <tr>\n",
       "      <th>1</th>\n",
       "      <td>HAM_0000118</td>\n",
       "      <td>ISIC_0025030</td>\n",
       "      <td>bkl</td>\n",
       "      <td>histo</td>\n",
       "      <td>80.0</td>\n",
       "      <td>male</td>\n",
       "      <td>scalp</td>\n",
       "    </tr>\n",
       "    <tr>\n",
       "      <th>2</th>\n",
       "      <td>HAM_0002730</td>\n",
       "      <td>ISIC_0026769</td>\n",
       "      <td>bkl</td>\n",
       "      <td>histo</td>\n",
       "      <td>80.0</td>\n",
       "      <td>male</td>\n",
       "      <td>scalp</td>\n",
       "    </tr>\n",
       "    <tr>\n",
       "      <th>3</th>\n",
       "      <td>HAM_0002730</td>\n",
       "      <td>ISIC_0025661</td>\n",
       "      <td>bkl</td>\n",
       "      <td>histo</td>\n",
       "      <td>80.0</td>\n",
       "      <td>male</td>\n",
       "      <td>scalp</td>\n",
       "    </tr>\n",
       "    <tr>\n",
       "      <th>4</th>\n",
       "      <td>HAM_0001466</td>\n",
       "      <td>ISIC_0031633</td>\n",
       "      <td>bkl</td>\n",
       "      <td>histo</td>\n",
       "      <td>75.0</td>\n",
       "      <td>male</td>\n",
       "      <td>ear</td>\n",
       "    </tr>\n",
       "  </tbody>\n",
       "</table>\n",
       "</div>"
      ],
      "text/plain": [
       "     lesion_id      image_id   dx dx_type   age   sex localization\n",
       "0  HAM_0000118  ISIC_0027419  bkl   histo  80.0  male        scalp\n",
       "1  HAM_0000118  ISIC_0025030  bkl   histo  80.0  male        scalp\n",
       "2  HAM_0002730  ISIC_0026769  bkl   histo  80.0  male        scalp\n",
       "3  HAM_0002730  ISIC_0025661  bkl   histo  80.0  male        scalp\n",
       "4  HAM_0001466  ISIC_0031633  bkl   histo  75.0  male          ear"
      ]
     },
     "execution_count": 4,
     "metadata": {},
     "output_type": "execute_result"
    }
   ],
   "source": [
    "# reading in the metadata csv\n",
    "meta_data = pd.read_csv('/Users/jdapeman/Documents/skin2/archive-2/HAM10000_metadata.csv')\n",
    "meta_data.head()"
   ]
  },
  {
   "cell_type": "code",
   "execution_count": 5,
   "id": "1ce94b6b",
   "metadata": {},
   "outputs": [],
   "source": [
    "# relabeling the disease names\n",
    "classes = {4: ('nv', ' melanocytic nevi'), 6: ('mel', 'melanoma'), 2 :('bkl', 'benign keratosis-like lesions'), 1:('bcc' , ' basal cell carcinoma'), 5: ('vasc', ' pyogenic granulomas and hemorrhage'), 0: ('akiec', 'Actinic keratoses and intraepithelial carcinomae'),  3: ('df', 'dermatofibroma')}"
   ]
  },
  {
   "cell_type": "code",
   "execution_count": 6,
   "id": "dae90a7b",
   "metadata": {},
   "outputs": [],
   "source": [
    "classes = {'mel':0 ,'vasc':1,'df':2,'nv':3,'bkl':4,'bcc':5,'ak':6}"
   ]
  },
  {
   "cell_type": "code",
   "execution_count": 7,
   "id": "19bc6629",
   "metadata": {
    "scrolled": true
   },
   "outputs": [
    {
     "data": {
      "text/plain": [
       "Text(0.5, 1.0, 'Frequency Distribution of Classes')"
      ]
     },
     "execution_count": 7,
     "metadata": {},
     "output_type": "execute_result"
    },
    {
     "data": {
      "image/png": "[encoded data removed]",
      "text/plain": [
       "<Figure size 640x480 with 1 Axes>"
      ]
     },
     "metadata": {},
     "output_type": "display_data"
    }
   ],
   "source": [
    "sns.countplot(x = 'dx', data = meta_data)\n",
    "plt.xlabel('Disease', size=12)\n",
    "plt.ylabel('Frequency', size=12)\n",
    "plt.title('Frequency Distribution of Classes', size=16)"
   ]
  },
  {
   "cell_type": "code",
   "execution_count": 8,
   "id": "4333bc60",
   "metadata": {},
   "outputs": [],
   "source": [
    "# reshaping x for out CNN model\n",
    "x = np.array(x).reshape(-1,28,28,3)"
   ]
  },
  {
   "cell_type": "code",
   "execution_count": 9,
   "id": "56e4eca1",
   "metadata": {},
   "outputs": [
    {
     "data": {
      "text/plain": [
       "(10015, 28, 28, 3)"
      ]
     },
     "execution_count": 9,
     "metadata": {},
     "output_type": "execute_result"
    }
   ],
   "source": [
    "x.shape"
   ]
  },
  {
   "cell_type": "code",
   "execution_count": 10,
   "id": "2b50a9c7",
   "metadata": {},
   "outputs": [],
   "source": [
    "#80/20 split \n",
    "x_train_, x_test_, y_train_, y_test_ = train_test_split(x, y, test_size=0.20 ,random_state=42)"
   ]
  },
  {
   "cell_type": "code",
   "execution_count": 11,
   "id": "8381d23c",
   "metadata": {},
   "outputs": [],
   "source": [
    "# standardization or normalization process on the training and test data\n",
    "x_train = np.asarray(x_train_)\n",
    "x_test = np.asarray(x_test_)\n",
    "\n",
    "num_train_samples, height, width, channels = x_train.shape\n",
    "num_test_samples = x_test.shape[0]\n",
    "\n",
    "x_train = x_train.reshape(num_train_samples, -1)\n",
    "x_test = x_test.reshape(num_test_samples, -1)\n",
    "\n",
    "combined_data = np.vstack((x_train, x_test))\n",
    "scaler = StandardScaler()\n",
    "scaler.fit(combined_data)\n",
    "\n",
    "x_train = scaler.transform(x_train)\n",
    "x_test = scaler.transform(x_test)\n",
    "\n",
    "x_train = x_train.reshape(num_train_samples, height, width, channels)\n",
    "x_test = x_test.reshape(num_test_samples, height, width, channels)"
   ]
  },
  {
   "cell_type": "code",
   "execution_count": 12,
   "id": "0ebe4534",
   "metadata": {},
   "outputs": [],
   "source": [
    "y_train = to_categorical(y_train_, num_classes = 7)\n",
    "y_test = to_categorical(y_test_, num_classes = 7)"
   ]
  },
  {
   "cell_type": "code",
   "execution_count": 13,
   "id": "027cd874",
   "metadata": {},
   "outputs": [],
   "source": [
    "x_train, x_val, y_train, y_val = train_test_split(x_train, y_train, \n",
    "                                                            test_size = 0.1, \n",
    "                                                            random_state = 2)"
   ]
  },
  {
   "cell_type": "code",
   "execution_count": 14,
   "id": "c42ced57",
   "metadata": {},
   "outputs": [
    {
     "data": {
      "text/plain": [
       "(7210, 7)"
      ]
     },
     "execution_count": 14,
     "metadata": {},
     "output_type": "execute_result"
    }
   ],
   "source": [
    "y_train.shape"
   ]
  },
  {
   "cell_type": "code",
   "execution_count": 15,
   "id": "f49b3979",
   "metadata": {},
   "outputs": [
    {
     "data": {
      "text/plain": [
       "(7210, 28, 28, 3)"
      ]
     },
     "execution_count": 15,
     "metadata": {},
     "output_type": "execute_result"
    }
   ],
   "source": [
    "x_train.shape"
   ]
  },
  {
   "cell_type": "markdown",
   "id": "a2fe277b",
   "metadata": {},
   "source": [
    "- The given function blockred(inp, filters) creates a block or a module for a neural network that applies a combination of different convolutional layers and pooling operations to the input inp with a specified number of filters. The function performs three sets of operations in parallel:\n",
    "\n",
    "- Inception Block: It consists of a 1x1 convolution layer followed by max pooling and batch normalization.\n",
    "\n",
    "- VGG + SqueezeNet Block: It involves two consecutive 3x3 convolutional layers, followed by max pooling, batch normalization, and dropout.\n",
    "\n",
    "- InceptionResNet + SqueezeNet Block: It applies a combination of 3x3 and 1x1 convolutional layers followed by max pooling and batch normalization. The output of this block is obtained by adding the outputs of the Inception, VGG + SqueezeNet, and InceptionResNet + SqueezeNet blocks element-wise.\n",
    "\n",
    "- The final output of this function is the combined result of all three operations, representing the features extracted from the input inp using various convolutional operations. This type of block is commonly used in deep learning architectures, especially in models that utilize a combination of inception-like and residual-like blocks to extract hierarchical features."
   ]
  },
  {
   "cell_type": "code",
   "execution_count": 16,
   "id": "c20c7af8",
   "metadata": {},
   "outputs": [],
   "source": [
    "def blockred(inp,filters):\n",
    "    #Inception\n",
    "    x = Conv2D(filters, 1, activation=\"relu\",padding='same',use_bias=False)(inp)\n",
    "    x = layers.MaxPooling2D(2)(x)\n",
    "    x = BatchNormalization(axis=1)(x)\n",
    "    \n",
    "    #VGG + SQuizenet\n",
    "    y = Conv2D(filters*2,3,activation=\"relu\", padding='same',use_bias=False,)(inp)\n",
    "    y = Conv2D(filters,3,activation=\"relu\", padding='same',use_bias=False,)(y)\n",
    "    y = layers.MaxPooling2D(2)(y)\n",
    "    y = BatchNormalization(axis=1)(y)\n",
    "    y = Dropout(0.25)(y)\n",
    "    \n",
    "    #InceptionResnet+Squize\n",
    "    z = Conv2D(filters*2, 3, activation=\"relu\", padding='same',use_bias=False)(inp)\n",
    "    z = Conv2D(filters, 1, activation=\"relu\", padding='same',use_bias=False)(inp)  \n",
    "    z = layers.MaxPooling2D(2)(z)\n",
    "    z = BatchNormalization(axis=1)(z)\n",
    "    output1 = layers.add([x,y,z])\n",
    "    return output1\n"
   ]
  },
  {
   "cell_type": "markdown",
   "id": "7a1a0a72",
   "metadata": {},
   "source": [
    "- This code defines a convolutional neural network (CNN) architecture for a multi-class classification task on 28x28 RGB images. The architecture consists of several layers, including three blocks defined by the blockred() function, followed by fully connected layers."
   ]
  },
  {
   "cell_type": "markdown",
   "id": "bebdb514",
   "metadata": {},
   "source": [
    "- Overall, this code creates a CNN model with three blocks of convolutional operations followed by fully connected layers for multi-class classification on 28x28 RGB images. The blocks defined by blockred() incorporate various convolutional layers, pooling, batch normalization, and dropout to extract meaningful features from the input data."
   ]
  },
  {
   "cell_type": "code",
   "execution_count": 17,
   "id": "6a9bcd1a",
   "metadata": {},
   "outputs": [
    {
     "name": "stdout",
     "output_type": "stream",
     "text": [
      "Model: \"CNN0\"\n",
      "__________________________________________________________________________________________________\n",
      " Layer (type)                Output Shape                 Param #   Connected to                  \n",
      "==================================================================================================\n",
      " img (InputLayer)            [(None, 28, 28, 3)]          0         []                            \n",
      "                                                                                                  \n",
      " conv2d (Conv2D)             (None, 26, 26, 32)           896       ['img[0][0]']                 \n",
      "                                                                                                  \n",
      " conv2d_2 (Conv2D)           (None, 26, 26, 64)           18432     ['conv2d[0][0]']              \n",
      "                                                                                                  \n",
      " conv2d_3 (Conv2D)           (None, 26, 26, 32)           18432     ['conv2d_2[0][0]']            \n",
      "                                                                                                  \n",
      " conv2d_1 (Conv2D)           (None, 26, 26, 32)           1024      ['conv2d[0][0]']              \n",
      "                                                                                                  \n",
      " max_pooling2d_1 (MaxPoolin  (None, 13, 13, 32)           0         ['conv2d_3[0][0]']            \n",
      " g2D)                                                                                             \n",
      "                                                                                                  \n",
      " conv2d_5 (Conv2D)           (None, 26, 26, 32)           1024      ['conv2d[0][0]']              \n",
      "                                                                                                  \n",
      " max_pooling2d (MaxPooling2  (None, 13, 13, 32)           0         ['conv2d_1[0][0]']            \n",
      " D)                                                                                               \n",
      "                                                                                                  \n",
      " batch_normalization_1 (Bat  (None, 13, 13, 32)           52        ['max_pooling2d_1[0][0]']     \n",
      " chNormalization)                                                                                 \n",
      "                                                                                                  \n",
      " max_pooling2d_2 (MaxPoolin  (None, 13, 13, 32)           0         ['conv2d_5[0][0]']            \n",
      " g2D)                                                                                             \n",
      "                                                                                                  \n",
      " batch_normalization (Batch  (None, 13, 13, 32)           52        ['max_pooling2d[0][0]']       \n",
      " Normalization)                                                                                   \n",
      "                                                                                                  \n",
      " dropout (Dropout)           (None, 13, 13, 32)           0         ['batch_normalization_1[0][0]'\n",
      "                                                                    ]                             \n",
      "                                                                                                  \n",
      " batch_normalization_2 (Bat  (None, 13, 13, 32)           52        ['max_pooling2d_2[0][0]']     \n",
      " chNormalization)                                                                                 \n",
      "                                                                                                  \n",
      " add (Add)                   (None, 13, 13, 32)           0         ['batch_normalization[0][0]', \n",
      "                                                                     'dropout[0][0]',             \n",
      "                                                                     'batch_normalization_2[0][0]'\n",
      "                                                                    ]                             \n",
      "                                                                                                  \n",
      " conv2d_7 (Conv2D)           (None, 13, 13, 128)          36864     ['add[0][0]']                 \n",
      "                                                                                                  \n",
      " conv2d_8 (Conv2D)           (None, 13, 13, 64)           73728     ['conv2d_7[0][0]']            \n",
      "                                                                                                  \n",
      " conv2d_6 (Conv2D)           (None, 13, 13, 64)           2048      ['add[0][0]']                 \n",
      "                                                                                                  \n",
      " max_pooling2d_4 (MaxPoolin  (None, 6, 6, 64)             0         ['conv2d_8[0][0]']            \n",
      " g2D)                                                                                             \n",
      "                                                                                                  \n",
      " conv2d_10 (Conv2D)          (None, 13, 13, 64)           2048      ['add[0][0]']                 \n",
      "                                                                                                  \n",
      " max_pooling2d_3 (MaxPoolin  (None, 6, 6, 64)             0         ['conv2d_6[0][0]']            \n",
      " g2D)                                                                                             \n",
      "                                                                                                  \n",
      " batch_normalization_4 (Bat  (None, 6, 6, 64)             24        ['max_pooling2d_4[0][0]']     \n",
      " chNormalization)                                                                                 \n",
      "                                                                                                  \n",
      " max_pooling2d_5 (MaxPoolin  (None, 6, 6, 64)             0         ['conv2d_10[0][0]']           \n",
      " g2D)                                                                                             \n",
      "                                                                                                  \n",
      " batch_normalization_3 (Bat  (None, 6, 6, 64)             24        ['max_pooling2d_3[0][0]']     \n",
      " chNormalization)                                                                                 \n",
      "                                                                                                  \n",
      " dropout_1 (Dropout)         (None, 6, 6, 64)             0         ['batch_normalization_4[0][0]'\n",
      "                                                                    ]                             \n",
      "                                                                                                  \n",
      " batch_normalization_5 (Bat  (None, 6, 6, 64)             24        ['max_pooling2d_5[0][0]']     \n",
      " chNormalization)                                                                                 \n",
      "                                                                                                  \n",
      " add_1 (Add)                 (None, 6, 6, 64)             0         ['batch_normalization_3[0][0]'\n",
      "                                                                    , 'dropout_1[0][0]',          \n",
      "                                                                     'batch_normalization_5[0][0]'\n",
      "                                                                    ]                             \n",
      "                                                                                                  \n",
      " conv2d_12 (Conv2D)          (None, 6, 6, 128)            73728     ['add_1[0][0]']               \n",
      "                                                                                                  \n",
      " conv2d_13 (Conv2D)          (None, 6, 6, 64)             73728     ['conv2d_12[0][0]']           \n",
      "                                                                                                  \n",
      " conv2d_11 (Conv2D)          (None, 6, 6, 64)             4096      ['add_1[0][0]']               \n",
      "                                                                                                  \n",
      " max_pooling2d_7 (MaxPoolin  (None, 3, 3, 64)             0         ['conv2d_13[0][0]']           \n",
      " g2D)                                                                                             \n"
     ]
    },
    {
     "name": "stdout",
     "output_type": "stream",
     "text": [
      "                                                                                                  \n",
      " conv2d_15 (Conv2D)          (None, 6, 6, 64)             4096      ['add_1[0][0]']               \n",
      "                                                                                                  \n",
      " max_pooling2d_6 (MaxPoolin  (None, 3, 3, 64)             0         ['conv2d_11[0][0]']           \n",
      " g2D)                                                                                             \n",
      "                                                                                                  \n",
      " batch_normalization_7 (Bat  (None, 3, 3, 64)             12        ['max_pooling2d_7[0][0]']     \n",
      " chNormalization)                                                                                 \n",
      "                                                                                                  \n",
      " max_pooling2d_8 (MaxPoolin  (None, 3, 3, 64)             0         ['conv2d_15[0][0]']           \n",
      " g2D)                                                                                             \n",
      "                                                                                                  \n",
      " batch_normalization_6 (Bat  (None, 3, 3, 64)             12        ['max_pooling2d_6[0][0]']     \n",
      " chNormalization)                                                                                 \n",
      "                                                                                                  \n",
      " dropout_2 (Dropout)         (None, 3, 3, 64)             0         ['batch_normalization_7[0][0]'\n",
      "                                                                    ]                             \n",
      "                                                                                                  \n",
      " batch_normalization_8 (Bat  (None, 3, 3, 64)             12        ['max_pooling2d_8[0][0]']     \n",
      " chNormalization)                                                                                 \n",
      "                                                                                                  \n",
      " add_2 (Add)                 (None, 3, 3, 64)             0         ['batch_normalization_6[0][0]'\n",
      "                                                                    , 'dropout_2[0][0]',          \n",
      "                                                                     'batch_normalization_8[0][0]'\n",
      "                                                                    ]                             \n",
      "                                                                                                  \n",
      " flatten (Flatten)           (None, 576)                  0         ['add_2[0][0]']               \n",
      "                                                                                                  \n",
      " dense (Dense)               (None, 256)                  147712    ['flatten[0][0]']             \n",
      "                                                                                                  \n",
      " dropout_3 (Dropout)         (None, 256)                  0         ['dense[0][0]']               \n",
      "                                                                                                  \n",
      " dense_1 (Dense)             (None, 64)                   16448     ['dropout_3[0][0]']           \n",
      "                                                                                                  \n",
      " dropout_4 (Dropout)         (None, 64)                   0         ['dense_1[0][0]']             \n",
      "                                                                                                  \n",
      " dense_2 (Dense)             (None, 7)                    455       ['dropout_4[0][0]']           \n",
      "                                                                                                  \n",
      "==================================================================================================\n",
      "Total params: 475023 (1.81 MB)\n",
      "Trainable params: 474891 (1.81 MB)\n",
      "Non-trainable params: 132 (528.00 Byte)\n",
      "__________________________________________________________________________________________________\n",
      "None\n"
     ]
    }
   ],
   "source": [
    "Name= \"CNN0\"\n",
    "\n",
    "# An input layer for the model is defined with the shape (28, 28, 3), \n",
    "# representing 28x28 RGB images. The name \"img\" is given to this input layer.\n",
    "inputs = keras.Input(shape=(28,28,3), name=\"img\")\n",
    "\n",
    "\n",
    "# A 2D convolutional layer with 32 filters, a kernel size of 3x3, \n",
    "# and ReLU activation function is applied to the input layer.\n",
    "x = layers.Conv2D(32, 3, activation=\"relu\")(inputs)\n",
    "\n",
    "\n",
    "# The function blockred() is called with the output of the previous \n",
    "# convolutional layer and 32 filters. It creates the first block of operations.\n",
    "bl1=blockred(x,32)\n",
    "\n",
    "\n",
    "# The function blockred() is called again with the output of the\n",
    "# first block (bl1) and 64 filters. It creates the second block of operations.\n",
    "bl2=blockred(bl1,64)\n",
    "\n",
    "\n",
    "# The function blockred() is called again with the output of the second block \n",
    "# (bl2) and 64 filters. It creates the third block of operations.\n",
    "bl3=blockred(bl2,64)\n",
    "\n",
    "\n",
    "# y = Conv2D(filters=128, kernel_size=(5, 5), activation='relu')(bl3)\n",
    "# y = Conv2D(filters=128, kernel_size=(3, 3), activation='relu')(y)\n",
    "# y = MaxPooling2D(pool_size=(2, 2))(y)\n",
    "# y = BatchNormalization(axis=-1)(y)\n",
    "# y = Dropout(0.25)(y)\n",
    "\n",
    "# The output of the third block is flattened to prepare it for the fully connected layers.\n",
    "y = Flatten()(bl3)\n",
    "\n",
    "#  A fully connected layer with 256 units and ReLU activation function is applied.\n",
    "y = Dense(256, activation='relu')(y)\n",
    "\n",
    "#  A dropout layer is added to help prevent overfitting.\n",
    "y = Dropout(0.5)(y)\n",
    "\n",
    "# Another fully connected layer with 64 units and ReLU activation function is applied.\n",
    "y = Dense(64, activation='relu')(y)\n",
    "\n",
    "#  Another dropout layer is added.\n",
    "y = Dropout(0.5)(y)\n",
    "\n",
    "\n",
    "# The final fully connected layer with 7 units (assuming it's a 7-class classification task) \n",
    "# and a softmax activation function is applied to get the model's output probabilities for each class.\n",
    "outputs=Dense(7, activation='softmax')(y)\n",
    "\n",
    "# The Keras Model is created by specifying the inputs and outputs.\n",
    "# It represents the complete CNN architecture.\n",
    "model = keras.Model(inputs, outputs, name=Name)\n",
    "\n",
    "# The summary of the model's architecture is printed, showing the layer types,\n",
    "# output shapes, and the number of trainable parameters.\n",
    "print(model.summary())\n",
    "\n",
    "\n"
   ]
  },
  {
   "cell_type": "markdown",
   "id": "5b3b21c1",
   "metadata": {},
   "source": [
    "- This code defines a callback function for a TensorFlow/Keras model called ModelCheckpoint. A callback is a set of functions applied at various stages during training to perform specific actions. In this case, the ModelCheckpoint callback saves the best model (based on validation accuracy) during training to a file named 'best_model.h5'."
   ]
  },
  {
   "cell_type": "markdown",
   "id": "701addc6",
   "metadata": {},
   "source": [
    "- During the training process, the ModelCheckpoint callback will continuously check the validation accuracy of the model. If the validation accuracy improves (increases), it will save the model to the specified file path. This ensures that you have access to the best-performing model after training, rather than the final model at the last epoch. It can be useful for later evaluation or deployment of the model."
   ]
  },
  {
   "cell_type": "code",
   "execution_count": 18,
   "id": "d1a97c4f",
   "metadata": {},
   "outputs": [],
   "source": [
    "callback = tf.keras.callbacks.ModelCheckpoint(filepath='best_model.h5',\n",
    "                                                  monitor='val_acc', mode='auto',\n",
    "                                                 verbose=1, save_best_only=True)"
   ]
  },
  {
   "cell_type": "code",
   "execution_count": 19,
   "id": "c263f595",
   "metadata": {},
   "outputs": [],
   "source": [
    "from keras.preprocessing.image import ImageDataGenerator\n",
    "\n",
    "datagen = ImageDataGenerator(\n",
    "        rotation_range=20,  \n",
    "        zoom_range = 0.1, \n",
    "        width_shift_range=0.1,  \n",
    "        height_shift_range=0.1,  \n",
    "        horizontal_flip=True,  \n",
    "        vertical_flip=False)  \n",
    "\n",
    "datagen.fit(x_train)"
   ]
  },
  {
   "cell_type": "code",
   "execution_count": 20,
   "id": "f107101f",
   "metadata": {
    "scrolled": true
   },
   "outputs": [],
   "source": [
    "num_classes = 7\n",
    "model.compile(\n",
    "    optimizer=optimizers.Adam(),\n",
    "    loss=losses.CategoricalCrossentropy(),  \n",
    "    metrics=[\n",
    "        'acc', \n",
    "        metrics.Recall(),\n",
    "        metrics.Precision(),\n",
    "        metrics.AUC(),\n",
    "        metrics.TruePositives(),\n",
    "        metrics.TrueNegatives(),\n",
    "        metrics.FalseNegatives(),\n",
    "        metrics.FalsePositives(),\n",
    "    ]\n",
    ")"
   ]
  },
  {
   "cell_type": "code",
   "execution_count": 21,
   "id": "bb8e8ead",
   "metadata": {
    "scrolled": true
   },
   "outputs": [
    {
     "name": "stdout",
     "output_type": "stream",
     "text": [
      "Epoch 1/50\n",
      "225/225 [==============================] - ETA: 0s - loss: 1.2927 - acc: 0.6121 - recall: 0.4674 - precision: 0.7245 - auc: 0.8745 - true_positives: 3355.0000 - true_negatives: 41792.0000 - false_negatives: 3823.0000 - false_positives: 1276.0000\n",
      "Epoch 1: val_acc improved from -inf to 0.64339, saving model to best_model.h5\n",
      "225/225 [==============================] - 29s 117ms/step - loss: 1.2927 - acc: 0.6121 - recall: 0.4674 - precision: 0.7245 - auc: 0.8745 - true_positives: 3355.0000 - true_negatives: 41792.0000 - false_negatives: 3823.0000 - false_positives: 1276.0000 - val_loss: 1.2041 - val_acc: 0.6434 - val_recall: 0.2045 - val_precision: 0.8723 - val_auc: 0.8966 - val_true_positives: 164.0000 - val_true_negatives: 4788.0000 - val_false_negatives: 638.0000 - val_false_positives: 24.0000\n",
      "Epoch 2/50\n"
     ]
    },
    {
     "name": "stderr",
     "output_type": "stream",
     "text": [
      "/Users/jdapeman/anaconda3/envs/apple/lib/python3.10/site-packages/keras/src/engine/training.py:3000: UserWarning: You are saving your model as an HDF5 file via `model.save()`. This file format is considered legacy. We recommend using instead the native Keras format, e.g. `model.save('my_model.keras')`.\n",
      "  saving_api.save_model(\n"
     ]
    },
    {
     "name": "stdout",
     "output_type": "stream",
     "text": [
      "225/225 [==============================] - ETA: 0s - loss: 1.0195 - acc: 0.6576 - recall: 0.5017 - precision: 0.7933 - auc: 0.9151 - true_positives: 3601.0000 - true_negatives: 42130.0000 - false_negatives: 3577.0000 - false_positives: 938.0000\n",
      "Epoch 2: val_acc did not improve from 0.64339\n",
      "225/225 [==============================] - 27s 120ms/step - loss: 1.0195 - acc: 0.6576 - recall: 0.5017 - precision: 0.7933 - auc: 0.9151 - true_positives: 3601.0000 - true_negatives: 42130.0000 - false_negatives: 3577.0000 - false_positives: 938.0000 - val_loss: 0.9445 - val_acc: 0.6434 - val_recall: 0.4676 - val_precision: 0.8562 - val_auc: 0.9255 - val_true_positives: 375.0000 - val_true_negatives: 4749.0000 - val_false_negatives: 427.0000 - val_false_positives: 63.0000\n",
      "Epoch 3/50\n",
      "225/225 [==============================] - ETA: 0s - loss: 0.9707 - acc: 0.6633 - recall: 0.5171 - precision: 0.8059 - auc: 0.9234 - true_positives: 3712.0000 - true_negatives: 42174.0000 - false_negatives: 3466.0000 - false_positives: 894.0000\n",
      "Epoch 3: val_acc improved from 0.64339 to 0.64464, saving model to best_model.h5\n",
      "225/225 [==============================] - 26s 115ms/step - loss: 0.9707 - acc: 0.6633 - recall: 0.5171 - precision: 0.8059 - auc: 0.9234 - true_positives: 3712.0000 - true_negatives: 42174.0000 - false_negatives: 3466.0000 - false_positives: 894.0000 - val_loss: 0.9057 - val_acc: 0.6446 - val_recall: 0.5449 - val_precision: 0.8153 - val_auc: 0.9295 - val_true_positives: 437.0000 - val_true_negatives: 4713.0000 - val_false_negatives: 365.0000 - val_false_positives: 99.0000\n",
      "Epoch 4/50\n",
      "225/225 [==============================] - ETA: 0s - loss: 0.9244 - acc: 0.6736 - recall: 0.5341 - precision: 0.8222 - auc: 0.9294 - true_positives: 3834.0000 - true_negatives: 42239.0000 - false_negatives: 3344.0000 - false_positives: 829.0000\n",
      "Epoch 4: val_acc did not improve from 0.64464\n",
      "225/225 [==============================] - 26s 117ms/step - loss: 0.9244 - acc: 0.6736 - recall: 0.5341 - precision: 0.8222 - auc: 0.9294 - true_positives: 3834.0000 - true_negatives: 42239.0000 - false_negatives: 3344.0000 - false_positives: 829.0000 - val_loss: 0.9176 - val_acc: 0.6446 - val_recall: 0.5399 - val_precision: 0.8327 - val_auc: 0.9279 - val_true_positives: 433.0000 - val_true_negatives: 4725.0000 - val_false_negatives: 369.0000 - val_false_positives: 87.0000\n",
      "Epoch 5/50\n",
      "225/225 [==============================] - ETA: 0s - loss: 0.8941 - acc: 0.6785 - recall: 0.5561 - precision: 0.8195 - auc: 0.9334 - true_positives: 3992.0000 - true_negatives: 42189.0000 - false_negatives: 3186.0000 - false_positives: 879.0000\n",
      "Epoch 5: val_acc improved from 0.64464 to 0.65711, saving model to best_model.h5\n",
      "225/225 [==============================] - 27s 118ms/step - loss: 0.8941 - acc: 0.6785 - recall: 0.5561 - precision: 0.8195 - auc: 0.9334 - true_positives: 3992.0000 - true_negatives: 42189.0000 - false_negatives: 3186.0000 - false_positives: 879.0000 - val_loss: 0.9064 - val_acc: 0.6571 - val_recall: 0.5200 - val_precision: 0.8390 - val_auc: 0.9314 - val_true_positives: 417.0000 - val_true_negatives: 4732.0000 - val_false_negatives: 385.0000 - val_false_positives: 80.0000\n",
      "Epoch 6/50\n",
      "225/225 [==============================] - ETA: 0s - loss: 0.8697 - acc: 0.6842 - recall: 0.5634 - precision: 0.8231 - auc: 0.9378 - true_positives: 4044.0000 - true_negatives: 42199.0000 - false_negatives: 3134.0000 - false_positives: 869.0000\n",
      "Epoch 6: val_acc did not improve from 0.65711\n",
      "225/225 [==============================] - 27s 118ms/step - loss: 0.8697 - acc: 0.6842 - recall: 0.5634 - precision: 0.8231 - auc: 0.9378 - true_positives: 4044.0000 - true_negatives: 42199.0000 - false_negatives: 3134.0000 - false_positives: 869.0000 - val_loss: 0.9048 - val_acc: 0.6559 - val_recall: 0.5885 - val_precision: 0.7841 - val_auc: 0.9313 - val_true_positives: 472.0000 - val_true_negatives: 4682.0000 - val_false_negatives: 330.0000 - val_false_positives: 130.0000\n",
      "Epoch 7/50\n",
      "225/225 [==============================] - ETA: 0s - loss: 0.8594 - acc: 0.6860 - recall: 0.5812 - precision: 0.8239 - auc: 0.9392 - true_positives: 4172.0000 - true_negatives: 42176.0000 - false_negatives: 3006.0000 - false_positives: 892.0000\n",
      "Epoch 7: val_acc improved from 0.65711 to 0.66708, saving model to best_model.h5\n",
      "225/225 [==============================] - 27s 118ms/step - loss: 0.8594 - acc: 0.6860 - recall: 0.5812 - precision: 0.8239 - auc: 0.9392 - true_positives: 4172.0000 - true_negatives: 42176.0000 - false_negatives: 3006.0000 - false_positives: 892.0000 - val_loss: 0.8639 - val_acc: 0.6671 - val_recall: 0.5574 - val_precision: 0.8293 - val_auc: 0.9363 - val_true_positives: 447.0000 - val_true_negatives: 4720.0000 - val_false_negatives: 355.0000 - val_false_positives: 92.0000\n",
      "Epoch 8/50\n",
      "225/225 [==============================] - ETA: 0s - loss: 0.8306 - acc: 0.6985 - recall: 0.5887 - precision: 0.8325 - auc: 0.9425 - true_positives: 4226.0000 - true_negatives: 42218.0000 - false_negatives: 2952.0000 - false_positives: 850.0000\n",
      "Epoch 8: val_acc improved from 0.66708 to 0.67332, saving model to best_model.h5\n",
      "225/225 [==============================] - 27s 118ms/step - loss: 0.8306 - acc: 0.6985 - recall: 0.5887 - precision: 0.8325 - auc: 0.9425 - true_positives: 4226.0000 - true_negatives: 42218.0000 - false_negatives: 2952.0000 - false_positives: 850.0000 - val_loss: 0.8339 - val_acc: 0.6733 - val_recall: 0.5723 - val_precision: 0.8300 - val_auc: 0.9408 - val_true_positives: 459.0000 - val_true_negatives: 4718.0000 - val_false_negatives: 343.0000 - val_false_positives: 94.0000\n",
      "Epoch 9/50\n",
      "225/225 [==============================] - ETA: 0s - loss: 0.8275 - acc: 0.6991 - recall: 0.5938 - precision: 0.8281 - auc: 0.9430 - true_positives: 4262.0000 - true_negatives: 42183.0000 - false_negatives: 2916.0000 - false_positives: 885.0000\n",
      "Epoch 9: val_acc improved from 0.67332 to 0.69077, saving model to best_model.h5\n",
      "225/225 [==============================] - 26s 117ms/step - loss: 0.8275 - acc: 0.6991 - recall: 0.5938 - precision: 0.8281 - auc: 0.9430 - true_positives: 4262.0000 - true_negatives: 42183.0000 - false_negatives: 2916.0000 - false_positives: 885.0000 - val_loss: 0.8243 - val_acc: 0.6908 - val_recall: 0.5287 - val_precision: 0.8671 - val_auc: 0.9437 - val_true_positives: 424.0000 - val_true_negatives: 4747.0000 - val_false_negatives: 378.0000 - val_false_positives: 65.0000\n",
      "Epoch 10/50\n",
      "225/225 [==============================] - ETA: 0s - loss: 0.8011 - acc: 0.7062 - recall: 0.6028 - precision: 0.8277 - auc: 0.9462 - true_positives: 4327.0000 - true_negatives: 42167.0000 - false_negatives: 2851.0000 - false_positives: 901.0000\n",
      "Epoch 10: val_acc improved from 0.69077 to 0.70449, saving model to best_model.h5\n",
      "225/225 [==============================] - 28s 123ms/step - loss: 0.8011 - acc: 0.7062 - recall: 0.6028 - precision: 0.8277 - auc: 0.9462 - true_positives: 4327.0000 - true_negatives: 42167.0000 - false_negatives: 2851.0000 - false_positives: 901.0000 - val_loss: 0.8109 - val_acc: 0.7045 - val_recall: 0.5723 - val_precision: 0.8391 - val_auc: 0.9443 - val_true_positives: 459.0000 - val_true_negatives: 4724.0000 - val_false_negatives: 343.0000 - val_false_positives: 88.0000\n",
      "Epoch 11/50\n",
      "225/225 [==============================] - ETA: 0s - loss: 0.8041 - acc: 0.7098 - recall: 0.6025 - precision: 0.8281 - auc: 0.9469 - true_positives: 4325.0000 - true_negatives: 42170.0000 - false_negatives: 2853.0000 - false_positives: 898.0000\n",
      "Epoch 11: val_acc did not improve from 0.70449\n",
      "225/225 [==============================] - 27s 120ms/step - loss: 0.8041 - acc: 0.7098 - recall: 0.6025 - precision: 0.8281 - auc: 0.9469 - true_positives: 4325.0000 - true_negatives: 42170.0000 - false_negatives: 2853.0000 - false_positives: 898.0000 - val_loss: 0.8274 - val_acc: 0.6845 - val_recall: 0.6085 - val_precision: 0.8013 - val_auc: 0.9419 - val_true_positives: 488.0000 - val_true_negatives: 4691.0000 - val_false_negatives: 314.0000 - val_false_positives: 121.0000\n",
      "Epoch 12/50\n"
     ]
    },
    {
     "name": "stdout",
     "output_type": "stream",
     "text": [
      "225/225 [==============================] - ETA: 0s - loss: 0.8002 - acc: 0.7097 - recall: 0.5992 - precision: 0.8222 - auc: 0.9472 - true_positives: 4301.0000 - true_negatives: 42138.0000 - false_negatives: 2877.0000 - false_positives: 930.0000\n",
      "Epoch 12: val_acc did not improve from 0.70449\n",
      "225/225 [==============================] - 27s 120ms/step - loss: 0.8002 - acc: 0.7097 - recall: 0.5992 - precision: 0.8222 - auc: 0.9472 - true_positives: 4301.0000 - true_negatives: 42138.0000 - false_negatives: 2877.0000 - false_positives: 930.0000 - val_loss: 0.8078 - val_acc: 0.6908 - val_recall: 0.5661 - val_precision: 0.8407 - val_auc: 0.9442 - val_true_positives: 454.0000 - val_true_negatives: 4726.0000 - val_false_negatives: 348.0000 - val_false_positives: 86.0000\n",
      "Epoch 13/50\n",
      "225/225 [==============================] - ETA: 0s - loss: 0.7613 - acc: 0.7232 - recall: 0.6190 - precision: 0.8394 - auc: 0.9516 - true_positives: 4443.0000 - true_negatives: 42218.0000 - false_negatives: 2735.0000 - false_positives: 850.0000\n",
      "Epoch 13: val_acc did not improve from 0.70449\n",
      "225/225 [==============================] - 29s 127ms/step - loss: 0.7613 - acc: 0.7232 - recall: 0.6190 - precision: 0.8394 - auc: 0.9516 - true_positives: 4443.0000 - true_negatives: 42218.0000 - false_negatives: 2735.0000 - false_positives: 850.0000 - val_loss: 0.7899 - val_acc: 0.6908 - val_recall: 0.5673 - val_precision: 0.8442 - val_auc: 0.9474 - val_true_positives: 455.0000 - val_true_negatives: 4728.0000 - val_false_negatives: 347.0000 - val_false_positives: 84.0000\n",
      "Epoch 14/50\n",
      "225/225 [==============================] - ETA: 0s - loss: 0.7468 - acc: 0.7265 - recall: 0.6287 - precision: 0.8325 - auc: 0.9533 - true_positives: 4513.0000 - true_negatives: 42160.0000 - false_negatives: 2665.0000 - false_positives: 908.0000\n",
      "Epoch 14: val_acc improved from 0.70449 to 0.70698, saving model to best_model.h5\n",
      "225/225 [==============================] - 29s 130ms/step - loss: 0.7468 - acc: 0.7265 - recall: 0.6287 - precision: 0.8325 - auc: 0.9533 - true_positives: 4513.0000 - true_negatives: 42160.0000 - false_negatives: 2665.0000 - false_positives: 908.0000 - val_loss: 0.7713 - val_acc: 0.7070 - val_recall: 0.5648 - val_precision: 0.8612 - val_auc: 0.9517 - val_true_positives: 453.0000 - val_true_negatives: 4739.0000 - val_false_negatives: 349.0000 - val_false_positives: 73.0000\n",
      "Epoch 15/50\n",
      "225/225 [==============================] - ETA: 0s - loss: 0.7413 - acc: 0.7334 - recall: 0.6343 - precision: 0.8362 - auc: 0.9539 - true_positives: 4553.0000 - true_negatives: 42176.0000 - false_negatives: 2625.0000 - false_positives: 892.0000\n",
      "Epoch 15: val_acc improved from 0.70698 to 0.71197, saving model to best_model.h5\n",
      "225/225 [==============================] - 28s 126ms/step - loss: 0.7413 - acc: 0.7334 - recall: 0.6343 - precision: 0.8362 - auc: 0.9539 - true_positives: 4553.0000 - true_negatives: 42176.0000 - false_negatives: 2625.0000 - false_positives: 892.0000 - val_loss: 0.7534 - val_acc: 0.7120 - val_recall: 0.5686 - val_precision: 0.8507 - val_auc: 0.9528 - val_true_positives: 456.0000 - val_true_negatives: 4732.0000 - val_false_negatives: 346.0000 - val_false_positives: 80.0000\n",
      "Epoch 16/50\n",
      "225/225 [==============================] - ETA: 0s - loss: 0.7416 - acc: 0.7299 - recall: 0.6304 - precision: 0.8375 - auc: 0.9535 - true_positives: 4525.0000 - true_negatives: 42190.0000 - false_negatives: 2653.0000 - false_positives: 878.0000\n",
      "Epoch 16: val_acc did not improve from 0.71197\n",
      "225/225 [==============================] - 28s 124ms/step - loss: 0.7416 - acc: 0.7299 - recall: 0.6304 - precision: 0.8375 - auc: 0.9535 - true_positives: 4525.0000 - true_negatives: 42190.0000 - false_negatives: 2653.0000 - false_positives: 878.0000 - val_loss: 0.7660 - val_acc: 0.7045 - val_recall: 0.5898 - val_precision: 0.8284 - val_auc: 0.9500 - val_true_positives: 473.0000 - val_true_negatives: 4714.0000 - val_false_negatives: 329.0000 - val_false_positives: 98.0000\n",
      "Epoch 17/50\n",
      "225/225 [==============================] - ETA: 0s - loss: 0.7293 - acc: 0.7282 - recall: 0.6372 - precision: 0.8344 - auc: 0.9551 - true_positives: 4574.0000 - true_negatives: 42160.0000 - false_negatives: 2604.0000 - false_positives: 908.0000\n",
      "Epoch 17: val_acc improved from 0.71197 to 0.71945, saving model to best_model.h5\n",
      "225/225 [==============================] - 29s 130ms/step - loss: 0.7293 - acc: 0.7282 - recall: 0.6372 - precision: 0.8344 - auc: 0.9551 - true_positives: 4574.0000 - true_negatives: 42160.0000 - false_negatives: 2604.0000 - false_positives: 908.0000 - val_loss: 0.7344 - val_acc: 0.7195 - val_recall: 0.5923 - val_precision: 0.8363 - val_auc: 0.9545 - val_true_positives: 475.0000 - val_true_negatives: 4719.0000 - val_false_negatives: 327.0000 - val_false_positives: 93.0000\n",
      "Epoch 18/50\n",
      "225/225 [==============================] - ETA: 0s - loss: 0.7096 - acc: 0.7407 - recall: 0.6500 - precision: 0.8418 - auc: 0.9574 - true_positives: 4666.0000 - true_negatives: 42191.0000 - false_negatives: 2512.0000 - false_positives: 877.0000\n",
      "Epoch 18: val_acc did not improve from 0.71945\n",
      "225/225 [==============================] - 30s 133ms/step - loss: 0.7096 - acc: 0.7407 - recall: 0.6500 - precision: 0.8418 - auc: 0.9574 - true_positives: 4666.0000 - true_negatives: 42191.0000 - false_negatives: 2512.0000 - false_positives: 877.0000 - val_loss: 0.7730 - val_acc: 0.7082 - val_recall: 0.5748 - val_precision: 0.8336 - val_auc: 0.9496 - val_true_positives: 461.0000 - val_true_negatives: 4720.0000 - val_false_negatives: 341.0000 - val_false_positives: 92.0000\n",
      "Epoch 19/50\n",
      "225/225 [==============================] - ETA: 0s - loss: 0.7142 - acc: 0.7455 - recall: 0.6546 - precision: 0.8384 - auc: 0.9569 - true_positives: 4699.0000 - true_negatives: 42162.0000 - false_negatives: 2479.0000 - false_positives: 906.0000\n",
      "Epoch 19: val_acc did not improve from 0.71945\n",
      "225/225 [==============================] - 29s 131ms/step - loss: 0.7142 - acc: 0.7455 - recall: 0.6546 - precision: 0.8384 - auc: 0.9569 - true_positives: 4699.0000 - true_negatives: 42162.0000 - false_negatives: 2479.0000 - false_positives: 906.0000 - val_loss: 0.7396 - val_acc: 0.7107 - val_recall: 0.6122 - val_precision: 0.8170 - val_auc: 0.9534 - val_true_positives: 491.0000 - val_true_negatives: 4702.0000 - val_false_negatives: 311.0000 - val_false_positives: 110.0000\n",
      "Epoch 20/50\n",
      "225/225 [==============================] - ETA: 0s - loss: 0.7008 - acc: 0.7463 - recall: 0.6576 - precision: 0.8409 - auc: 0.9590 - true_positives: 4720.0000 - true_negatives: 42175.0000 - false_negatives: 2458.0000 - false_positives: 893.0000\n",
      "Epoch 20: val_acc did not improve from 0.71945\n",
      "225/225 [==============================] - 28s 125ms/step - loss: 0.7008 - acc: 0.7463 - recall: 0.6576 - precision: 0.8409 - auc: 0.9590 - true_positives: 4720.0000 - true_negatives: 42175.0000 - false_negatives: 2458.0000 - false_positives: 893.0000 - val_loss: 0.7455 - val_acc: 0.7132 - val_recall: 0.6147 - val_precision: 0.8314 - val_auc: 0.9528 - val_true_positives: 493.0000 - val_true_negatives: 4712.0000 - val_false_negatives: 309.0000 - val_false_positives: 100.0000\n",
      "Epoch 21/50\n",
      "225/225 [==============================] - ETA: 0s - loss: 0.6961 - acc: 0.7490 - recall: 0.6656 - precision: 0.8424 - auc: 0.9595 - true_positives: 4778.0000 - true_negatives: 42174.0000 - false_negatives: 2400.0000 - false_positives: 894.0000\n",
      "Epoch 21: val_acc did not improve from 0.71945\n",
      "225/225 [==============================] - 28s 124ms/step - loss: 0.6961 - acc: 0.7490 - recall: 0.6656 - precision: 0.8424 - auc: 0.9595 - true_positives: 4778.0000 - true_negatives: 42174.0000 - false_negatives: 2400.0000 - false_positives: 894.0000 - val_loss: 0.7410 - val_acc: 0.7120 - val_recall: 0.6334 - val_precision: 0.8115 - val_auc: 0.9530 - val_true_positives: 508.0000 - val_true_negatives: 4694.0000 - val_false_negatives: 294.0000 - val_false_positives: 118.0000\n",
      "Epoch 22/50\n",
      "225/225 [==============================] - ETA: 0s - loss: 0.6933 - acc: 0.7452 - recall: 0.6591 - precision: 0.8396 - auc: 0.9599 - true_positives: 4731.0000 - true_negatives: 42164.0000 - false_negatives: 2447.0000 - false_positives: 904.0000\n",
      "Epoch 22: val_acc did not improve from 0.71945\n"
     ]
    },
    {
     "name": "stdout",
     "output_type": "stream",
     "text": [
      "225/225 [==============================] - 28s 124ms/step - loss: 0.6933 - acc: 0.7452 - recall: 0.6591 - precision: 0.8396 - auc: 0.9599 - true_positives: 4731.0000 - true_negatives: 42164.0000 - false_negatives: 2447.0000 - false_positives: 904.0000 - val_loss: 0.7638 - val_acc: 0.7132 - val_recall: 0.6297 - val_precision: 0.8041 - val_auc: 0.9505 - val_true_positives: 505.0000 - val_true_negatives: 4689.0000 - val_false_negatives: 297.0000 - val_false_positives: 123.0000\n",
      "Epoch 23/50\n",
      "225/225 [==============================] - ETA: 0s - loss: 0.6993 - acc: 0.7483 - recall: 0.6620 - precision: 0.8377 - auc: 0.9588 - true_positives: 4752.0000 - true_negatives: 42147.0000 - false_negatives: 2426.0000 - false_positives: 921.0000\n",
      "Epoch 23: val_acc did not improve from 0.71945\n",
      "225/225 [==============================] - 27s 120ms/step - loss: 0.6993 - acc: 0.7483 - recall: 0.6620 - precision: 0.8377 - auc: 0.9588 - true_positives: 4752.0000 - true_negatives: 42147.0000 - false_negatives: 2426.0000 - false_positives: 921.0000 - val_loss: 0.7344 - val_acc: 0.7195 - val_recall: 0.6421 - val_precision: 0.8110 - val_auc: 0.9530 - val_true_positives: 515.0000 - val_true_negatives: 4692.0000 - val_false_negatives: 287.0000 - val_false_positives: 120.0000\n",
      "Epoch 24/50\n",
      "225/225 [==============================] - ETA: 0s - loss: 0.6905 - acc: 0.7520 - recall: 0.6698 - precision: 0.8407 - auc: 0.9592 - true_positives: 4808.0000 - true_negatives: 42157.0000 - false_negatives: 2370.0000 - false_positives: 911.0000\n",
      "Epoch 24: val_acc did not improve from 0.71945\n",
      "225/225 [==============================] - 28s 123ms/step - loss: 0.6905 - acc: 0.7520 - recall: 0.6698 - precision: 0.8407 - auc: 0.9592 - true_positives: 4808.0000 - true_negatives: 42157.0000 - false_negatives: 2370.0000 - false_positives: 911.0000 - val_loss: 0.7666 - val_acc: 0.7145 - val_recall: 0.5998 - val_precision: 0.8236 - val_auc: 0.9514 - val_true_positives: 481.0000 - val_true_negatives: 4709.0000 - val_false_negatives: 321.0000 - val_false_positives: 103.0000\n",
      "Epoch 25/50\n",
      "225/225 [==============================] - ETA: 0s - loss: 0.6822 - acc: 0.7508 - recall: 0.6697 - precision: 0.8419 - auc: 0.9608 - true_positives: 4807.0000 - true_negatives: 42165.0000 - false_negatives: 2371.0000 - false_positives: 903.0000\n",
      "Epoch 25: val_acc improved from 0.71945 to 0.72693, saving model to best_model.h5\n",
      "225/225 [==============================] - 30s 131ms/step - loss: 0.6822 - acc: 0.7508 - recall: 0.6697 - precision: 0.8419 - auc: 0.9608 - true_positives: 4807.0000 - true_negatives: 42165.0000 - false_negatives: 2371.0000 - false_positives: 903.0000 - val_loss: 0.7329 - val_acc: 0.7269 - val_recall: 0.6421 - val_precision: 0.8110 - val_auc: 0.9534 - val_true_positives: 515.0000 - val_true_negatives: 4692.0000 - val_false_negatives: 287.0000 - val_false_positives: 120.0000\n",
      "Epoch 26/50\n",
      "225/225 [==============================] - ETA: 0s - loss: 0.6707 - acc: 0.7544 - recall: 0.6733 - precision: 0.8411 - auc: 0.9621 - true_positives: 4833.0000 - true_negatives: 42155.0000 - false_negatives: 2345.0000 - false_positives: 913.0000\n",
      "Epoch 26: val_acc did not improve from 0.72693\n",
      "225/225 [==============================] - 28s 127ms/step - loss: 0.6707 - acc: 0.7544 - recall: 0.6733 - precision: 0.8411 - auc: 0.9621 - true_positives: 4833.0000 - true_negatives: 42155.0000 - false_negatives: 2345.0000 - false_positives: 913.0000 - val_loss: 0.7192 - val_acc: 0.7232 - val_recall: 0.6484 - val_precision: 0.8062 - val_auc: 0.9553 - val_true_positives: 520.0000 - val_true_negatives: 4687.0000 - val_false_negatives: 282.0000 - val_false_positives: 125.0000\n",
      "Epoch 27/50\n",
      "225/225 [==============================] - ETA: 0s - loss: 0.6694 - acc: 0.7501 - recall: 0.6725 - precision: 0.8367 - auc: 0.9620 - true_positives: 4827.0000 - true_negatives: 42126.0000 - false_negatives: 2351.0000 - false_positives: 942.0000\n",
      "Epoch 27: val_acc did not improve from 0.72693\n",
      "225/225 [==============================] - 28s 124ms/step - loss: 0.6694 - acc: 0.7501 - recall: 0.6725 - precision: 0.8367 - auc: 0.9620 - true_positives: 4827.0000 - true_negatives: 42126.0000 - false_negatives: 2351.0000 - false_positives: 942.0000 - val_loss: 0.7261 - val_acc: 0.7182 - val_recall: 0.6334 - val_precision: 0.8274 - val_auc: 0.9555 - val_true_positives: 508.0000 - val_true_negatives: 4706.0000 - val_false_negatives: 294.0000 - val_false_positives: 106.0000\n",
      "Epoch 28/50\n",
      "225/225 [==============================] - ETA: 0s - loss: 0.6766 - acc: 0.7573 - recall: 0.6722 - precision: 0.8422 - auc: 0.9610 - true_positives: 4825.0000 - true_negatives: 42164.0000 - false_negatives: 2353.0000 - false_positives: 904.0000\n",
      "Epoch 28: val_acc improved from 0.72693 to 0.72818, saving model to best_model.h5\n",
      "225/225 [==============================] - 28s 124ms/step - loss: 0.6766 - acc: 0.7573 - recall: 0.6722 - precision: 0.8422 - auc: 0.9610 - true_positives: 4825.0000 - true_negatives: 42164.0000 - false_negatives: 2353.0000 - false_positives: 904.0000 - val_loss: 0.6944 - val_acc: 0.7282 - val_recall: 0.6446 - val_precision: 0.8180 - val_auc: 0.9585 - val_true_positives: 517.0000 - val_true_negatives: 4697.0000 - val_false_negatives: 285.0000 - val_false_positives: 115.0000\n",
      "Epoch 29/50\n",
      "225/225 [==============================] - ETA: 0s - loss: 0.6725 - acc: 0.7517 - recall: 0.6682 - precision: 0.8413 - auc: 0.9617 - true_positives: 4796.0000 - true_negatives: 42163.0000 - false_negatives: 2382.0000 - false_positives: 905.0000\n",
      "Epoch 29: val_acc improved from 0.72818 to 0.72943, saving model to best_model.h5\n",
      "225/225 [==============================] - 28s 124ms/step - loss: 0.6725 - acc: 0.7517 - recall: 0.6682 - precision: 0.8413 - auc: 0.9617 - true_positives: 4796.0000 - true_negatives: 42163.0000 - false_negatives: 2382.0000 - false_positives: 905.0000 - val_loss: 0.7009 - val_acc: 0.7294 - val_recall: 0.6334 - val_precision: 0.8301 - val_auc: 0.9589 - val_true_positives: 508.0000 - val_true_negatives: 4708.0000 - val_false_negatives: 294.0000 - val_false_positives: 104.0000\n",
      "Epoch 30/50\n",
      "225/225 [==============================] - ETA: 0s - loss: 0.6493 - acc: 0.7598 - recall: 0.6840 - precision: 0.8423 - auc: 0.9643 - true_positives: 4910.0000 - true_negatives: 42149.0000 - false_negatives: 2268.0000 - false_positives: 919.0000\n",
      "Epoch 30: val_acc did not improve from 0.72943\n",
      "225/225 [==============================] - 28s 123ms/step - loss: 0.6493 - acc: 0.7598 - recall: 0.6840 - precision: 0.8423 - auc: 0.9643 - true_positives: 4910.0000 - true_negatives: 42149.0000 - false_negatives: 2268.0000 - false_positives: 919.0000 - val_loss: 0.7358 - val_acc: 0.7070 - val_recall: 0.6234 - val_precision: 0.8065 - val_auc: 0.9541 - val_true_positives: 500.0000 - val_true_negatives: 4692.0000 - val_false_negatives: 302.0000 - val_false_positives: 120.0000\n",
      "Epoch 31/50\n",
      "225/225 [==============================] - ETA: 0s - loss: 0.6563 - acc: 0.7570 - recall: 0.6775 - precision: 0.8330 - auc: 0.9637 - true_positives: 4863.0000 - true_negatives: 42093.0000 - false_negatives: 2315.0000 - false_positives: 975.0000\n",
      "Epoch 31: val_acc improved from 0.72943 to 0.73067, saving model to best_model.h5\n",
      "225/225 [==============================] - 28s 124ms/step - loss: 0.6563 - acc: 0.7570 - recall: 0.6775 - precision: 0.8330 - auc: 0.9637 - true_positives: 4863.0000 - true_negatives: 42093.0000 - false_negatives: 2315.0000 - false_positives: 975.0000 - val_loss: 0.6807 - val_acc: 0.7307 - val_recall: 0.6646 - val_precision: 0.8187 - val_auc: 0.9603 - val_true_positives: 533.0000 - val_true_negatives: 4694.0000 - val_false_negatives: 269.0000 - val_false_positives: 118.0000\n",
      "Epoch 32/50\n",
      "225/225 [==============================] - ETA: 0s - loss: 0.6621 - acc: 0.7580 - recall: 0.6794 - precision: 0.8417 - auc: 0.9630 - true_positives: 4877.0000 - true_negatives: 42151.0000 - false_negatives: 2301.0000 - false_positives: 917.0000\n",
      "Epoch 32: val_acc did not improve from 0.73067\n",
      "225/225 [==============================] - 28s 124ms/step - loss: 0.6621 - acc: 0.7580 - recall: 0.6794 - precision: 0.8417 - auc: 0.9630 - true_positives: 4877.0000 - true_negatives: 42151.0000 - false_negatives: 2301.0000 - false_positives: 917.0000 - val_loss: 0.7145 - val_acc: 0.7269 - val_recall: 0.6559 - val_precision: 0.8155 - val_auc: 0.9567 - val_true_positives: 526.0000 - val_true_negatives: 4693.0000 - val_false_negatives: 276.0000 - val_false_positives: 119.0000\n"
     ]
    },
    {
     "name": "stdout",
     "output_type": "stream",
     "text": [
      "Epoch 33/50\n",
      "225/225 [==============================] - ETA: 0s - loss: 0.6508 - acc: 0.7637 - recall: 0.6858 - precision: 0.8481 - auc: 0.9638 - true_positives: 4923.0000 - true_negatives: 42186.0000 - false_negatives: 2255.0000 - false_positives: 882.0000\n",
      "Epoch 33: val_acc did not improve from 0.73067\n",
      "225/225 [==============================] - 27s 122ms/step - loss: 0.6508 - acc: 0.7637 - recall: 0.6858 - precision: 0.8481 - auc: 0.9638 - true_positives: 4923.0000 - true_negatives: 42186.0000 - false_negatives: 2255.0000 - false_positives: 882.0000 - val_loss: 0.7242 - val_acc: 0.7244 - val_recall: 0.6471 - val_precision: 0.8238 - val_auc: 0.9559 - val_true_positives: 519.0000 - val_true_negatives: 4701.0000 - val_false_negatives: 283.0000 - val_false_positives: 111.0000\n",
      "Epoch 34/50\n",
      "225/225 [==============================] - ETA: 0s - loss: 0.6416 - acc: 0.7637 - recall: 0.6900 - precision: 0.8436 - auc: 0.9651 - true_positives: 4953.0000 - true_negatives: 42150.0000 - false_negatives: 2225.0000 - false_positives: 918.0000\n",
      "Epoch 34: val_acc did not improve from 0.73067\n",
      "225/225 [==============================] - 27s 122ms/step - loss: 0.6416 - acc: 0.7637 - recall: 0.6900 - precision: 0.8436 - auc: 0.9651 - true_positives: 4953.0000 - true_negatives: 42150.0000 - false_negatives: 2225.0000 - false_positives: 918.0000 - val_loss: 0.7032 - val_acc: 0.7307 - val_recall: 0.6421 - val_precision: 0.8306 - val_auc: 0.9584 - val_true_positives: 515.0000 - val_true_negatives: 4707.0000 - val_false_negatives: 287.0000 - val_false_positives: 105.0000\n",
      "Epoch 35/50\n",
      "225/225 [==============================] - ETA: 0s - loss: 0.6354 - acc: 0.7650 - recall: 0.6928 - precision: 0.8450 - auc: 0.9658 - true_positives: 4973.0000 - true_negatives: 42156.0000 - false_negatives: 2205.0000 - false_positives: 912.0000\n",
      "Epoch 35: val_acc did not improve from 0.73067\n",
      "225/225 [==============================] - 27s 122ms/step - loss: 0.6354 - acc: 0.7650 - recall: 0.6928 - precision: 0.8450 - auc: 0.9658 - true_positives: 4973.0000 - true_negatives: 42156.0000 - false_negatives: 2205.0000 - false_positives: 912.0000 - val_loss: 0.7310 - val_acc: 0.7195 - val_recall: 0.6372 - val_precision: 0.8035 - val_auc: 0.9554 - val_true_positives: 511.0000 - val_true_negatives: 4687.0000 - val_false_negatives: 291.0000 - val_false_positives: 125.0000\n",
      "Epoch 36/50\n",
      "225/225 [==============================] - ETA: 0s - loss: 0.6304 - acc: 0.7693 - recall: 0.6981 - precision: 0.8446 - auc: 0.9663 - true_positives: 5011.0000 - true_negatives: 42146.0000 - false_negatives: 2167.0000 - false_positives: 922.0000\n",
      "Epoch 36: val_acc improved from 0.73067 to 0.73192, saving model to best_model.h5\n",
      "225/225 [==============================] - 27s 122ms/step - loss: 0.6304 - acc: 0.7693 - recall: 0.6981 - precision: 0.8446 - auc: 0.9663 - true_positives: 5011.0000 - true_negatives: 42146.0000 - false_negatives: 2167.0000 - false_positives: 922.0000 - val_loss: 0.7067 - val_acc: 0.7319 - val_recall: 0.6646 - val_precision: 0.8003 - val_auc: 0.9577 - val_true_positives: 533.0000 - val_true_negatives: 4679.0000 - val_false_negatives: 269.0000 - val_false_positives: 133.0000\n",
      "Epoch 37/50\n",
      "225/225 [==============================] - ETA: 0s - loss: 0.6329 - acc: 0.7653 - recall: 0.6896 - precision: 0.8433 - auc: 0.9661 - true_positives: 4950.0000 - true_negatives: 42148.0000 - false_negatives: 2228.0000 - false_positives: 920.0000\n",
      "Epoch 37: val_acc did not improve from 0.73192\n",
      "225/225 [==============================] - 27s 121ms/step - loss: 0.6329 - acc: 0.7653 - recall: 0.6896 - precision: 0.8433 - auc: 0.9661 - true_positives: 4950.0000 - true_negatives: 42148.0000 - false_negatives: 2228.0000 - false_positives: 920.0000 - val_loss: 0.7290 - val_acc: 0.7145 - val_recall: 0.6708 - val_precision: 0.7865 - val_auc: 0.9543 - val_true_positives: 538.0000 - val_true_negatives: 4666.0000 - val_false_negatives: 264.0000 - val_false_positives: 146.0000\n",
      "Epoch 38/50\n",
      "225/225 [==============================] - ETA: 0s - loss: 0.6331 - acc: 0.7621 - recall: 0.6917 - precision: 0.8400 - auc: 0.9657 - true_positives: 4965.0000 - true_negatives: 42122.0000 - false_negatives: 2213.0000 - false_positives: 946.0000\n",
      "Epoch 38: val_acc did not improve from 0.73192\n",
      "225/225 [==============================] - 28s 123ms/step - loss: 0.6331 - acc: 0.7621 - recall: 0.6917 - precision: 0.8400 - auc: 0.9657 - true_positives: 4965.0000 - true_negatives: 42122.0000 - false_negatives: 2213.0000 - false_positives: 946.0000 - val_loss: 0.7149 - val_acc: 0.7269 - val_recall: 0.6534 - val_precision: 0.7880 - val_auc: 0.9568 - val_true_positives: 524.0000 - val_true_negatives: 4671.0000 - val_false_negatives: 278.0000 - val_false_positives: 141.0000\n",
      "Epoch 39/50\n",
      "225/225 [==============================] - ETA: 0s - loss: 0.6201 - acc: 0.7700 - recall: 0.6971 - precision: 0.8499 - auc: 0.9671 - true_positives: 5004.0000 - true_negatives: 42184.0000 - false_negatives: 2174.0000 - false_positives: 884.0000\n",
      "Epoch 39: val_acc did not improve from 0.73192\n",
      "225/225 [==============================] - 27s 122ms/step - loss: 0.6201 - acc: 0.7700 - recall: 0.6971 - precision: 0.8499 - auc: 0.9671 - true_positives: 5004.0000 - true_negatives: 42184.0000 - false_negatives: 2174.0000 - false_positives: 884.0000 - val_loss: 0.6923 - val_acc: 0.7269 - val_recall: 0.6646 - val_precision: 0.8113 - val_auc: 0.9592 - val_true_positives: 533.0000 - val_true_negatives: 4688.0000 - val_false_negatives: 269.0000 - val_false_positives: 124.0000\n",
      "Epoch 40/50\n",
      "225/225 [==============================] - ETA: 0s - loss: 0.6182 - acc: 0.7728 - recall: 0.6987 - precision: 0.8487 - auc: 0.9674 - true_positives: 5015.0000 - true_negatives: 42174.0000 - false_negatives: 2163.0000 - false_positives: 894.0000\n",
      "Epoch 40: val_acc did not improve from 0.73192\n",
      "225/225 [==============================] - 28s 122ms/step - loss: 0.6182 - acc: 0.7728 - recall: 0.6987 - precision: 0.8487 - auc: 0.9674 - true_positives: 5015.0000 - true_negatives: 42174.0000 - false_negatives: 2163.0000 - false_positives: 894.0000 - val_loss: 0.7021 - val_acc: 0.7132 - val_recall: 0.6334 - val_precision: 0.8051 - val_auc: 0.9579 - val_true_positives: 508.0000 - val_true_negatives: 4689.0000 - val_false_negatives: 294.0000 - val_false_positives: 123.0000\n",
      "Epoch 41/50\n",
      "225/225 [==============================] - ETA: 0s - loss: 0.6264 - acc: 0.7676 - recall: 0.6967 - precision: 0.8435 - auc: 0.9667 - true_positives: 5001.0000 - true_negatives: 42140.0000 - false_negatives: 2177.0000 - false_positives: 928.0000\n",
      "Epoch 41: val_acc improved from 0.73192 to 0.73566, saving model to best_model.h5\n",
      "225/225 [==============================] - 28s 122ms/step - loss: 0.6264 - acc: 0.7676 - recall: 0.6967 - precision: 0.8435 - auc: 0.9667 - true_positives: 5001.0000 - true_negatives: 42140.0000 - false_negatives: 2177.0000 - false_positives: 928.0000 - val_loss: 0.6938 - val_acc: 0.7357 - val_recall: 0.6484 - val_precision: 0.8062 - val_auc: 0.9587 - val_true_positives: 520.0000 - val_true_negatives: 4687.0000 - val_false_negatives: 282.0000 - val_false_positives: 125.0000\n",
      "Epoch 42/50\n",
      "225/225 [==============================] - ETA: 0s - loss: 0.6107 - acc: 0.7740 - recall: 0.7030 - precision: 0.8479 - auc: 0.9682 - true_positives: 5046.0000 - true_negatives: 42163.0000 - false_negatives: 2132.0000 - false_positives: 905.0000\n",
      "Epoch 42: val_acc did not improve from 0.73566\n",
      "225/225 [==============================] - 28s 123ms/step - loss: 0.6107 - acc: 0.7740 - recall: 0.7030 - precision: 0.8479 - auc: 0.9682 - true_positives: 5046.0000 - true_negatives: 42163.0000 - false_negatives: 2132.0000 - false_positives: 905.0000 - val_loss: 0.6946 - val_acc: 0.7319 - val_recall: 0.6596 - val_precision: 0.8040 - val_auc: 0.9580 - val_true_positives: 529.0000 - val_true_negatives: 4683.0000 - val_false_negatives: 273.0000 - val_false_positives: 129.0000\n",
      "Epoch 43/50\n",
      "225/225 [==============================] - ETA: 0s - loss: 0.6195 - acc: 0.7761 - recall: 0.7021 - precision: 0.8461 - auc: 0.9672 - true_positives: 5040.0000 - true_negatives: 42151.0000 - false_negatives: 2138.0000 - false_positives: 917.0000\n",
      "Epoch 43: val_acc did not improve from 0.73566\n"
     ]
    },
    {
     "name": "stdout",
     "output_type": "stream",
     "text": [
      "225/225 [==============================] - 28s 123ms/step - loss: 0.6195 - acc: 0.7761 - recall: 0.7021 - precision: 0.8461 - auc: 0.9672 - true_positives: 5040.0000 - true_negatives: 42151.0000 - false_negatives: 2138.0000 - false_positives: 917.0000 - val_loss: 0.6902 - val_acc: 0.7282 - val_recall: 0.6596 - val_precision: 0.8076 - val_auc: 0.9596 - val_true_positives: 529.0000 - val_true_negatives: 4686.0000 - val_false_negatives: 273.0000 - val_false_positives: 126.0000\n",
      "Epoch 44/50\n",
      "225/225 [==============================] - ETA: 0s - loss: 0.6005 - acc: 0.7731 - recall: 0.7062 - precision: 0.8440 - auc: 0.9690 - true_positives: 5069.0000 - true_negatives: 42131.0000 - false_negatives: 2109.0000 - false_positives: 937.0000\n",
      "Epoch 44: val_acc did not improve from 0.73566\n",
      "225/225 [==============================] - 27s 122ms/step - loss: 0.6005 - acc: 0.7731 - recall: 0.7062 - precision: 0.8440 - auc: 0.9690 - true_positives: 5069.0000 - true_negatives: 42131.0000 - false_negatives: 2109.0000 - false_positives: 937.0000 - val_loss: 0.6995 - val_acc: 0.7170 - val_recall: 0.6559 - val_precision: 0.7946 - val_auc: 0.9580 - val_true_positives: 526.0000 - val_true_negatives: 4676.0000 - val_false_negatives: 276.0000 - val_false_positives: 136.0000\n",
      "Epoch 45/50\n",
      "225/225 [==============================] - ETA: 0s - loss: 0.6114 - acc: 0.7754 - recall: 0.7051 - precision: 0.8466 - auc: 0.9682 - true_positives: 5061.0000 - true_negatives: 42151.0000 - false_negatives: 2117.0000 - false_positives: 917.0000\n",
      "Epoch 45: val_acc did not improve from 0.73566\n",
      "225/225 [==============================] - 28s 124ms/step - loss: 0.6114 - acc: 0.7754 - recall: 0.7051 - precision: 0.8466 - auc: 0.9682 - true_positives: 5061.0000 - true_negatives: 42151.0000 - false_negatives: 2117.0000 - false_positives: 917.0000 - val_loss: 0.6875 - val_acc: 0.7244 - val_recall: 0.6471 - val_precision: 0.8212 - val_auc: 0.9603 - val_true_positives: 519.0000 - val_true_negatives: 4699.0000 - val_false_negatives: 283.0000 - val_false_positives: 113.0000\n",
      "Epoch 46/50\n",
      "225/225 [==============================] - ETA: 0s - loss: 0.5984 - acc: 0.7818 - recall: 0.7098 - precision: 0.8520 - auc: 0.9693 - true_positives: 5095.0000 - true_negatives: 42183.0000 - false_negatives: 2083.0000 - false_positives: 885.0000\n",
      "Epoch 46: val_acc improved from 0.73566 to 0.74065, saving model to best_model.h5\n",
      "225/225 [==============================] - 28s 125ms/step - loss: 0.5984 - acc: 0.7818 - recall: 0.7098 - precision: 0.8520 - auc: 0.9693 - true_positives: 5095.0000 - true_negatives: 42183.0000 - false_negatives: 2083.0000 - false_positives: 885.0000 - val_loss: 0.7034 - val_acc: 0.7406 - val_recall: 0.6708 - val_precision: 0.8030 - val_auc: 0.9578 - val_true_positives: 538.0000 - val_true_negatives: 4680.0000 - val_false_negatives: 264.0000 - val_false_positives: 132.0000\n",
      "Epoch 47/50\n",
      "225/225 [==============================] - ETA: 0s - loss: 0.5974 - acc: 0.7788 - recall: 0.7118 - precision: 0.8466 - auc: 0.9696 - true_positives: 5109.0000 - true_negatives: 42142.0000 - false_negatives: 2069.0000 - false_positives: 926.0000\n",
      "Epoch 47: val_acc did not improve from 0.74065\n",
      "225/225 [==============================] - 30s 131ms/step - loss: 0.5974 - acc: 0.7788 - recall: 0.7118 - precision: 0.8466 - auc: 0.9696 - true_positives: 5109.0000 - true_negatives: 42142.0000 - false_negatives: 2069.0000 - false_positives: 926.0000 - val_loss: 0.6821 - val_acc: 0.7344 - val_recall: 0.6584 - val_precision: 0.8199 - val_auc: 0.9598 - val_true_positives: 528.0000 - val_true_negatives: 4696.0000 - val_false_negatives: 274.0000 - val_false_positives: 116.0000\n",
      "Epoch 48/50\n",
      "225/225 [==============================] - ETA: 0s - loss: 0.5898 - acc: 0.7846 - recall: 0.7176 - precision: 0.8517 - auc: 0.9703 - true_positives: 5151.0000 - true_negatives: 42171.0000 - false_negatives: 2027.0000 - false_positives: 897.0000\n",
      "Epoch 48: val_acc did not improve from 0.74065\n",
      "225/225 [==============================] - 30s 133ms/step - loss: 0.5898 - acc: 0.7846 - recall: 0.7176 - precision: 0.8517 - auc: 0.9703 - true_positives: 5151.0000 - true_negatives: 42171.0000 - false_negatives: 2027.0000 - false_positives: 897.0000 - val_loss: 0.6804 - val_acc: 0.7182 - val_recall: 0.6671 - val_precision: 0.7926 - val_auc: 0.9608 - val_true_positives: 535.0000 - val_true_negatives: 4672.0000 - val_false_negatives: 267.0000 - val_false_positives: 140.0000\n",
      "Epoch 49/50\n",
      "225/225 [==============================] - ETA: 0s - loss: 0.6000 - acc: 0.7813 - recall: 0.7171 - precision: 0.8551 - auc: 0.9693 - true_positives: 5147.0000 - true_negatives: 42196.0000 - false_negatives: 2031.0000 - false_positives: 872.0000\n",
      "Epoch 49: val_acc did not improve from 0.74065\n",
      "225/225 [==============================] - 32s 141ms/step - loss: 0.6000 - acc: 0.7813 - recall: 0.7171 - precision: 0.8551 - auc: 0.9693 - true_positives: 5147.0000 - true_negatives: 42196.0000 - false_negatives: 2031.0000 - false_positives: 872.0000 - val_loss: 0.6769 - val_acc: 0.7269 - val_recall: 0.6409 - val_precision: 0.8172 - val_auc: 0.9609 - val_true_positives: 514.0000 - val_true_negatives: 4697.0000 - val_false_negatives: 288.0000 - val_false_positives: 115.0000\n",
      "Epoch 50/50\n",
      "225/225 [==============================] - ETA: 0s - loss: 0.5808 - acc: 0.7838 - recall: 0.7204 - precision: 0.8537 - auc: 0.9712 - true_positives: 5171.0000 - true_negatives: 42182.0000 - false_negatives: 2007.0000 - false_positives: 886.0000\n",
      "Epoch 50: val_acc did not improve from 0.74065\n",
      "225/225 [==============================] - 31s 138ms/step - loss: 0.5808 - acc: 0.7838 - recall: 0.7204 - precision: 0.8537 - auc: 0.9712 - true_positives: 5171.0000 - true_negatives: 42182.0000 - false_negatives: 2007.0000 - false_positives: 886.0000 - val_loss: 0.6986 - val_acc: 0.7294 - val_recall: 0.6796 - val_precision: 0.7876 - val_auc: 0.9593 - val_true_positives: 545.0000 - val_true_negatives: 4665.0000 - val_false_negatives: 257.0000 - val_false_positives: 147.0000\n"
     ]
    }
   ],
   "source": [
    "batch_size = 32\n",
    "epochs = 50\n",
    "\n",
    "history = model.fit(datagen.flow(x_train,y_train, batch_size=batch_size),\n",
    "                              epochs = epochs, validation_data = (x_val,y_val),\n",
    "                              verbose = 1, steps_per_epoch=x_train.shape[0] // batch_size,\n",
    "                              callbacks=[callback])"
   ]
  },
  {
   "cell_type": "code",
   "execution_count": 22,
   "id": "300b8913",
   "metadata": {},
   "outputs": [],
   "source": [
    "model.save(Name+'.h5')\n",
    "\n",
    "pd.DataFrame.from_dict(history.history).to_csv(Name+'.csv',index=False)"
   ]
  },
  {
   "cell_type": "code",
   "execution_count": 23,
   "id": "d3dfa036",
   "metadata": {},
   "outputs": [
    {
     "data": {
      "image/png": "[encoded data removed]",
      "text/plain": [
       "<Figure size 640x480 with 1 Axes>"
      ]
     },
     "metadata": {},
     "output_type": "display_data"
    }
   ],
   "source": [
    "plt.plot(history.history['acc'])\n",
    "plt.plot(history.history['val_acc'])\n",
    "plt.title('model accuracy')\n",
    "plt.ylabel('accuracy')\n",
    "plt.xlabel('epoch')\n",
    "plt.legend(['train', 'val'], loc='upper left')\n",
    "plt.show()"
   ]
  },
  {
   "cell_type": "code",
   "execution_count": 24,
   "id": "e2f3e7dc",
   "metadata": {},
   "outputs": [
    {
     "data": {
      "image/png": "[encoded data removed]",
      "text/plain": [
       "<Figure size 640x480 with 1 Axes>"
      ]
     },
     "metadata": {},
     "output_type": "display_data"
    }
   ],
   "source": [
    "plt.plot(history.history['loss'])\n",
    "plt.plot(history.history['val_loss'])\n",
    "plt.title('model loss')\n",
    "plt.ylabel('loss')\n",
    "plt.xlabel('epoch')\n",
    "plt.legend(['train', 'val'], loc='upper left')\n",
    "plt.show()"
   ]
  },
  {
   "cell_type": "code",
   "execution_count": 25,
   "id": "32f44da0",
   "metadata": {},
   "outputs": [
    {
     "name": "stdout",
     "output_type": "stream",
     "text": [
      "63/63 [==============================] - 1s 23ms/step - loss: 0.6575 - acc: 0.7673 - recall: 0.7204 - precision: 0.8204 - auc: 0.9636 - true_positives: 1443.0000 - true_negatives: 11702.0000 - false_negatives: 560.0000 - false_positives: 316.0000\n"
     ]
    },
    {
     "data": {
      "text/plain": [
       "[0.6575049161911011,\n",
       " 0.7673490047454834,\n",
       " 0.7204193472862244,\n",
       " 0.8203524947166443,\n",
       " 0.9635879397392273,\n",
       " 1443.0,\n",
       " 11702.0,\n",
       " 560.0,\n",
       " 316.0]"
      ]
     },
     "execution_count": 25,
     "metadata": {},
     "output_type": "execute_result"
    }
   ],
   "source": [
    "model.evaluate(x_test, y_test, verbose=1)"
   ]
  },
  {
   "cell_type": "code",
   "execution_count": 26,
   "id": "d6e23fa9",
   "metadata": {},
   "outputs": [],
   "source": [
    "model.save_weights('best_model_weights.h5')"
   ]
  },
  {
   "cell_type": "code",
   "execution_count": 27,
   "id": "ac24b8c2",
   "metadata": {},
   "outputs": [
    {
     "name": "stdout",
     "output_type": "stream",
     "text": [
      "63/63 [==============================] - 2s 23ms/step\n"
     ]
    },
    {
     "data": {
      "image/png": "[encoded data removed]",
      "text/plain": [
       "<Figure size 1000x700 with 2 Axes>"
      ]
     },
     "metadata": {},
     "output_type": "display_data"
    }
   ],
   "source": [
    "import itertools\n",
    "from sklearn.metrics import confusion_matrix\n",
    "# Function to plot confusion matrix    \n",
    "def plot_confusion_matrix(cm, classes,\n",
    "                          normalize=False,\n",
    "                          title='Confusion matrix',\n",
    "                          cmap=plt.cm.Blues):\n",
    "    \n",
    "    fig, ax = plt.subplots(figsize = (10, 7))\n",
    "    plt.imshow(cm, interpolation='nearest', cmap=cmap)\n",
    "    plt.title(title)\n",
    "    plt.colorbar()\n",
    "    tick_marks = np.arange(len(classes))\n",
    "    plt.xticks(tick_marks, classes, rotation=45)\n",
    "    plt.yticks(tick_marks, classes)\n",
    "    \n",
    "    if normalize:\n",
    "        cm = cm.astype('float') / cm.sum(axis=1)[:, np.newaxis]\n",
    "\n",
    "    thresh = cm.max() / 2.\n",
    "    for i, j in itertools.product(range(cm.shape[0]), range(cm.shape[1])):\n",
    "        plt.text(j, i, cm[i, j],\n",
    "                 horizontalalignment=\"center\",\n",
    "                 color=\"white\" if cm[i, j] > thresh else \"black\")\n",
    "\n",
    "    plt.tight_layout()\n",
    "    plt.ylabel('True label')\n",
    "    plt.xlabel('Predicted label')\n",
    "    \n",
    "\n",
    "Y_pred = model.predict(x_test)\n",
    "# Convert predictions classes to one hot vectors \n",
    "Y_pred_classes = np.argmax(Y_pred,axis = 1) \n",
    "# Convert validation observations to one hot vectors\n",
    "#Y_true = np.argmax(y_test,axis = 1) \n",
    "# compute the confusion matrix\n",
    "confusion_mtx = confusion_matrix(np.argmax(y_test,axis=1), Y_pred_classes)\n",
    "\n",
    "# plot the confusion matrix\n",
    "plot_confusion_matrix(confusion_mtx, classes.values()) \n",
    "    \n",
    "    \n"
   ]
  },
  {
   "cell_type": "code",
   "execution_count": 28,
   "id": "4543acc6",
   "metadata": {
    "scrolled": false
   },
   "outputs": [
    {
     "name": "stdout",
     "output_type": "stream",
     "text": [
      "63/63 [==============================] - 1s 22ms/step\n",
      "              precision    recall  f1-score   support\n",
      "\n",
      "         0.0       0.41      0.35      0.38        69\n",
      "         1.0       0.50      0.59      0.54        93\n",
      "         2.0       0.59      0.42      0.49       228\n",
      "         3.0       0.00      0.00      0.00        28\n",
      "         4.0       0.84      0.96      0.90      1338\n",
      "         5.0       0.61      0.52      0.56        21\n",
      "         6.0       0.53      0.31      0.39       226\n",
      "\n",
      "    accuracy                           0.77      2003\n",
      "   macro avg       0.50      0.45      0.47      2003\n",
      "weighted avg       0.73      0.77      0.74      2003\n",
      "\n",
      "Classification Report\n"
     ]
    },
    {
     "name": "stderr",
     "output_type": "stream",
     "text": [
      "/Users/jdapeman/anaconda3/envs/apple/lib/python3.10/site-packages/sklearn/metrics/_classification.py:1344: UndefinedMetricWarning: Precision and F-score are ill-defined and being set to 0.0 in labels with no predicted samples. Use `zero_division` parameter to control this behavior.\n",
      "  _warn_prf(average, modifier, msg_start, len(result))\n",
      "/Users/jdapeman/anaconda3/envs/apple/lib/python3.10/site-packages/sklearn/metrics/_classification.py:1344: UndefinedMetricWarning: Precision and F-score are ill-defined and being set to 0.0 in labels with no predicted samples. Use `zero_division` parameter to control this behavior.\n",
      "  _warn_prf(average, modifier, msg_start, len(result))\n",
      "/Users/jdapeman/anaconda3/envs/apple/lib/python3.10/site-packages/sklearn/metrics/_classification.py:1344: UndefinedMetricWarning: Precision and F-score are ill-defined and being set to 0.0 in labels with no predicted samples. Use `zero_division` parameter to control this behavior.\n",
      "  _warn_prf(average, modifier, msg_start, len(result))\n"
     ]
    }
   ],
   "source": [
    "from sklearn.metrics import classification_report\n",
    "from sklearn.metrics import multilabel_confusion_matrix, classification_report, confusion_matrix\n",
    "Y_pred = np.argmax(model.predict(x_test),axis=1)\n",
    "print(classification_report(np.float32(np.argmax(y_test,axis=1)), Y_pred.round()))\n",
    "print('Classification Report')"
   ]
  },
  {
   "cell_type": "code",
   "execution_count": 30,
   "id": "6e29578a",
   "metadata": {},
   "outputs": [],
   "source": [
    "# save the model as a pickle file \n",
    "import pickle\n",
    "\n",
    "with open('model.pkl', 'wb') as file:\n",
    "    pickle.dump(model, file)"
   ]
  },
  {
   "cell_type": "markdown",
   "id": "81135582",
   "metadata": {},
   "source": [
    "# Transfer learning model with MobilenetV2"
   ]
  },
  {
   "cell_type": "code",
   "execution_count": 36,
   "id": "5e865101",
   "metadata": {},
   "outputs": [],
   "source": [
    "input_size = 28\n",
    "output_size = 224\n",
    "bin_size = input_size // output_size"
   ]
  },
  {
   "cell_type": "code",
   "execution_count": 39,
   "id": "72f8a68d",
   "metadata": {},
   "outputs": [
    {
     "name": "stdout",
     "output_type": "stream",
     "text": [
      "x_train shape: (7210, 224, 224, 3)\n"
     ]
    }
   ],
   "source": [
    "# changing the shape of the x_train x_val and x_test for new model\n",
    "import cv2\n",
    "IMG_SIZ = 224\n",
    "\n",
    "bh1 = []\n",
    "for x in x_train:\n",
    "    \n",
    "    bh1.append(cv2.resize(x,(IMG_SIZ,IMG_SIZ),3))\n",
    "    \n",
    "bhh1 = np.array(bh1)\n",
    "#print(bh.shape)\n",
    "#print(bhh.shape)\n",
    "\n",
    "x_train = bhh1\n",
    "print(\"x_train shape: \" + str(x_train.shape))"
   ]
  },
  {
   "cell_type": "code",
   "execution_count": 40,
   "id": "81a354a6",
   "metadata": {},
   "outputs": [
    {
     "name": "stdout",
     "output_type": "stream",
     "text": [
      "x_test shape: (2003, 224, 224, 3)\n"
     ]
    }
   ],
   "source": [
    "IMG_SIZ = 224\n",
    "\n",
    "bh2 = []\n",
    "for x in x_test:\n",
    "    \n",
    "    bh2.append(cv2.resize(x,(IMG_SIZ,IMG_SIZ),3))\n",
    "    \n",
    "bhh2 = np.array(bh2)\n",
    "#print(bh.shape)\n",
    "#print(bhh.shape)\n",
    "\n",
    "x_test = bhh2\n",
    "print(\"x_test shape: \" + str(x_test.shape))"
   ]
  },
  {
   "cell_type": "code",
   "execution_count": 41,
   "id": "8f35ce86",
   "metadata": {},
   "outputs": [
    {
     "name": "stdout",
     "output_type": "stream",
     "text": [
      "x_train shape: (802, 224, 224, 3)\n"
     ]
    }
   ],
   "source": [
    "IMG_SIZ = 224\n",
    "\n",
    "bh3 = []\n",
    "for x in x_val:\n",
    "    \n",
    "    bh3.append(cv2.resize(x,(IMG_SIZ,IMG_SIZ),3))\n",
    "    \n",
    "bhh3 = np.array(bh3)\n",
    "#print(bh.shape)\n",
    "#print(bhh.shape)\n",
    "\n",
    "x_val = bhh3\n",
    "print(\"x_train shape: \" + str(x_val.shape))"
   ]
  },
  {
   "cell_type": "code",
   "execution_count": 42,
   "id": "4a35c7a4",
   "metadata": {},
   "outputs": [],
   "source": [
    "import tensorflow as tf\n",
    "import tensorflow_hub as hub\n",
    "import matplotlib.pylab as plt\n",
    "import numpy as np"
   ]
  },
  {
   "cell_type": "code",
   "execution_count": 43,
   "id": "25e61782",
   "metadata": {},
   "outputs": [],
   "source": [
    "mobilenet_v2 = \"https://tfhub.dev/google/tf2-preview/mobilenet_v2/feature_vector/4\"\n"
   ]
  },
  {
   "cell_type": "code",
   "execution_count": 44,
   "id": "1ff60d2e",
   "metadata": {},
   "outputs": [],
   "source": [
    "mobile_net_layers = hub.KerasLayer(mobilenet_v2, input_shape=(224, 224, 3))\n"
   ]
  },
  {
   "cell_type": "code",
   "execution_count": 45,
   "id": "f8263558",
   "metadata": {},
   "outputs": [],
   "source": [
    "mobile_net_layers.trainable = False\n"
   ]
  },
  {
   "cell_type": "code",
   "execution_count": 46,
   "id": "8c9a0aaa",
   "metadata": {},
   "outputs": [],
   "source": [
    "neural_net = tf.keras.Sequential([\n",
    "  mobile_net_layers,\n",
    "  tf.keras.layers.Dropout(0.3),\n",
    "  tf.keras.layers.Dense(7,activation='softmax')\n",
    "])"
   ]
  },
  {
   "cell_type": "code",
   "execution_count": 47,
   "id": "4809bca5",
   "metadata": {
    "scrolled": true
   },
   "outputs": [
    {
     "name": "stdout",
     "output_type": "stream",
     "text": [
      "Model: \"sequential\"\n",
      "_________________________________________________________________\n",
      " Layer (type)                Output Shape              Param #   \n",
      "=================================================================\n",
      " keras_layer (KerasLayer)    (None, 1280)              2257984   \n",
      "                                                                 \n",
      " dropout_5 (Dropout)         (None, 1280)              0         \n",
      "                                                                 \n",
      " dense_3 (Dense)             (None, 7)                 8967      \n",
      "                                                                 \n",
      "=================================================================\n",
      "Total params: 2266951 (8.65 MB)\n",
      "Trainable params: 8967 (35.03 KB)\n",
      "Non-trainable params: 2257984 (8.61 MB)\n",
      "_________________________________________________________________\n"
     ]
    }
   ],
   "source": [
    "neural_net.summary()\n"
   ]
  },
  {
   "cell_type": "code",
   "execution_count": 49,
   "id": "a722307b",
   "metadata": {},
   "outputs": [],
   "source": [
    "from tensorflow.keras.optimizers import Adam\n",
    "from tensorflow.keras.losses import CategoricalCrossentropy\n",
    "from tensorflow.keras.metrics import Accuracy, Recall, Precision, AUC, TruePositives, TrueNegatives, FalseNegatives, FalsePositives\n",
    "\n",
    "neural_net.compile(\n",
    "    optimizer=Adam(learning_rate=0.001),  \n",
    "    loss=CategoricalCrossentropy(),  \n",
    "    metrics=[\n",
    "        'accuracy',  \n",
    "        'Recall',\n",
    "        'Precision',\n",
    "        'AUC',\n",
    "        'TruePositives',\n",
    "        'TrueNegatives',\n",
    "        'FalseNegatives',\n",
    "        'FalsePositives',\n",
    "    ]\n",
    ")"
   ]
  },
  {
   "cell_type": "code",
   "execution_count": 50,
   "id": "abb2613c",
   "metadata": {},
   "outputs": [],
   "source": [
    "callback_checkpoint = ModelCheckpoint(filepath='best_model.h5', monitor='val_accuracy', mode='max', save_best_only=True, verbose=1)\n",
    "callback_early_stopping = EarlyStopping(monitor='val_accuracy', mode='max', patience=5, restore_best_weights=True, verbose=1)\n",
    "callback_reduce_lr = ReduceLROnPlateau(monitor='val_accuracy', mode='max', factor=0.5, patience=2, min_lr=1e-7, verbose=1)\n"
   ]
  },
  {
   "cell_type": "code",
   "execution_count": 51,
   "id": "2678d21b",
   "metadata": {
    "scrolled": true
   },
   "outputs": [
    {
     "name": "stdout",
     "output_type": "stream",
     "text": [
      "Epoch 1/50\n",
      "225/225 [==============================] - ETA: 0s - loss: 1.1091 - accuracy: 0.6500 - recall: 0.5836 - precision: 0.7271 - auc: 0.9003 - true_positives: 4189.0000 - true_negatives: 41496.0000 - false_negatives: 2989.0000 - false_positives: 1572.0000\n",
      "Epoch 1: val_accuracy improved from -inf to 0.67581, saving model to best_model.h5\n"
     ]
    },
    {
     "name": "stderr",
     "output_type": "stream",
     "text": [
      "/Users/jdapeman/anaconda3/envs/apple/lib/python3.10/site-packages/keras/src/engine/training.py:3000: UserWarning: You are saving your model as an HDF5 file via `model.save()`. This file format is considered legacy. We recommend using instead the native Keras format, e.g. `model.save('my_model.keras')`.\n",
      "  saving_api.save_model(\n"
     ]
    },
    {
     "name": "stdout",
     "output_type": "stream",
     "text": [
      "WARNING:tensorflow:Can save best model only with val_acc available, skipping.\n"
     ]
    },
    {
     "name": "stderr",
     "output_type": "stream",
     "text": [
      "WARNING:tensorflow:Can save best model only with val_acc available, skipping.\n"
     ]
    },
    {
     "name": "stdout",
     "output_type": "stream",
     "text": [
      "225/225 [==============================] - 160s 698ms/step - loss: 1.1091 - accuracy: 0.6500 - recall: 0.5836 - precision: 0.7271 - auc: 0.9003 - true_positives: 4189.0000 - true_negatives: 41496.0000 - false_negatives: 2989.0000 - false_positives: 1572.0000 - val_loss: 0.9396 - val_accuracy: 0.6758 - val_recall: 0.6047 - val_precision: 0.7674 - val_auc: 0.9273 - val_true_positives: 485.0000 - val_true_negatives: 4665.0000 - val_false_negatives: 317.0000 - val_false_positives: 147.0000 - lr: 0.0010\n",
      "Epoch 2/50\n",
      "225/225 [==============================] - ETA: 0s - loss: 0.8990 - accuracy: 0.6904 - recall: 0.6264 - precision: 0.7733 - auc: 0.9324 - true_positives: 4496.0000 - true_negatives: 41750.0000 - false_negatives: 2682.0000 - false_positives: 1318.0000\n",
      "Epoch 2: val_accuracy improved from 0.67581 to 0.68953, saving model to best_model.h5\n",
      "WARNING:tensorflow:Can save best model only with val_acc available, skipping.\n"
     ]
    },
    {
     "name": "stderr",
     "output_type": "stream",
     "text": [
      "WARNING:tensorflow:Can save best model only with val_acc available, skipping.\n"
     ]
    },
    {
     "name": "stdout",
     "output_type": "stream",
     "text": [
      "225/225 [==============================] - 132s 585ms/step - loss: 0.8990 - accuracy: 0.6904 - recall: 0.6264 - precision: 0.7733 - auc: 0.9324 - true_positives: 4496.0000 - true_negatives: 41750.0000 - false_negatives: 2682.0000 - false_positives: 1318.0000 - val_loss: 0.8960 - val_accuracy: 0.6895 - val_recall: 0.6097 - val_precision: 0.7812 - val_auc: 0.9333 - val_true_positives: 489.0000 - val_true_negatives: 4675.0000 - val_false_negatives: 313.0000 - val_false_positives: 137.0000 - lr: 0.0010\n",
      "Epoch 3/50\n",
      "225/225 [==============================] - ETA: 0s - loss: 0.8429 - accuracy: 0.7033 - recall: 0.6340 - precision: 0.7806 - auc: 0.9406 - true_positives: 4551.0000 - true_negatives: 41789.0000 - false_negatives: 2627.0000 - false_positives: 1279.0000\n",
      "Epoch 3: val_accuracy improved from 0.68953 to 0.69701, saving model to best_model.h5\n",
      "WARNING:tensorflow:Can save best model only with val_acc available, skipping.\n"
     ]
    },
    {
     "name": "stderr",
     "output_type": "stream",
     "text": [
      "WARNING:tensorflow:Can save best model only with val_acc available, skipping.\n"
     ]
    },
    {
     "name": "stdout",
     "output_type": "stream",
     "text": [
      "225/225 [==============================] - 116s 513ms/step - loss: 0.8429 - accuracy: 0.7033 - recall: 0.6340 - precision: 0.7806 - auc: 0.9406 - true_positives: 4551.0000 - true_negatives: 41789.0000 - false_negatives: 2627.0000 - false_positives: 1279.0000 - val_loss: 0.8817 - val_accuracy: 0.6970 - val_recall: 0.6322 - val_precision: 0.7740 - val_auc: 0.9363 - val_true_positives: 507.0000 - val_true_negatives: 4664.0000 - val_false_negatives: 295.0000 - val_false_positives: 148.0000 - lr: 0.0010\n",
      "Epoch 4/50\n",
      "225/225 [==============================] - ETA: 0s - loss: 0.8260 - accuracy: 0.7094 - recall: 0.6379 - precision: 0.7865 - auc: 0.9429 - true_positives: 4579.0000 - true_negatives: 41825.0000 - false_negatives: 2599.0000 - false_positives: 1243.0000\n",
      "Epoch 4: val_accuracy did not improve from 0.69701\n",
      "WARNING:tensorflow:Can save best model only with val_acc available, skipping.\n"
     ]
    },
    {
     "name": "stderr",
     "output_type": "stream",
     "text": [
      "WARNING:tensorflow:Can save best model only with val_acc available, skipping.\n"
     ]
    },
    {
     "name": "stdout",
     "output_type": "stream",
     "text": [
      "225/225 [==============================] - 122s 540ms/step - loss: 0.8260 - accuracy: 0.7094 - recall: 0.6379 - precision: 0.7865 - auc: 0.9429 - true_positives: 4579.0000 - true_negatives: 41825.0000 - false_negatives: 2599.0000 - false_positives: 1243.0000 - val_loss: 0.8594 - val_accuracy: 0.6808 - val_recall: 0.5823 - val_precision: 0.7668 - val_auc: 0.9381 - val_true_positives: 467.0000 - val_true_negatives: 4670.0000 - val_false_negatives: 335.0000 - val_false_positives: 142.0000 - lr: 0.0010\n",
      "Epoch 5/50\n",
      "225/225 [==============================] - ETA: 0s - loss: 0.7997 - accuracy: 0.7118 - recall: 0.6434 - precision: 0.7897 - auc: 0.9463 - true_positives: 4618.0000 - true_negatives: 41838.0000 - false_negatives: 2560.0000 - false_positives: 1230.0000\n",
      "Epoch 5: val_accuracy did not improve from 0.69701\n",
      "\n",
      "Epoch 5: ReduceLROnPlateau reducing learning rate to 0.0005000000237487257.\n",
      "WARNING:tensorflow:Can save best model only with val_acc available, skipping.\n"
     ]
    },
    {
     "name": "stderr",
     "output_type": "stream",
     "text": [
      "WARNING:tensorflow:Can save best model only with val_acc available, skipping.\n"
     ]
    },
    {
     "name": "stdout",
     "output_type": "stream",
     "text": [
      "225/225 [==============================] - 123s 544ms/step - loss: 0.7997 - accuracy: 0.7118 - recall: 0.6434 - precision: 0.7897 - auc: 0.9463 - true_positives: 4618.0000 - true_negatives: 41838.0000 - false_negatives: 2560.0000 - false_positives: 1230.0000 - val_loss: 0.8869 - val_accuracy: 0.6933 - val_recall: 0.6322 - val_precision: 0.7590 - val_auc: 0.9376 - val_true_positives: 507.0000 - val_true_negatives: 4651.0000 - val_false_negatives: 295.0000 - val_false_positives: 161.0000 - lr: 0.0010\n",
      "Epoch 6/50\n",
      "225/225 [==============================] - ETA: 0s - loss: 0.7688 - accuracy: 0.7244 - recall: 0.6538 - precision: 0.7988 - auc: 0.9500 - true_positives: 4693.0000 - true_negatives: 41886.0000 - false_negatives: 2485.0000 - false_positives: 1182.0000\n",
      "Epoch 6: val_accuracy improved from 0.69701 to 0.70698, saving model to best_model.h5\n",
      "WARNING:tensorflow:Can save best model only with val_acc available, skipping.\n"
     ]
    },
    {
     "name": "stderr",
     "output_type": "stream",
     "text": [
      "WARNING:tensorflow:Can save best model only with val_acc available, skipping.\n"
     ]
    },
    {
     "name": "stdout",
     "output_type": "stream",
     "text": [
      "225/225 [==============================] - 118s 524ms/step - loss: 0.7688 - accuracy: 0.7244 - recall: 0.6538 - precision: 0.7988 - auc: 0.9500 - true_positives: 4693.0000 - true_negatives: 41886.0000 - false_negatives: 2485.0000 - false_positives: 1182.0000 - val_loss: 0.8467 - val_accuracy: 0.7070 - val_recall: 0.6234 - val_precision: 0.7886 - val_auc: 0.9404 - val_true_positives: 500.0000 - val_true_negatives: 4678.0000 - val_false_negatives: 302.0000 - val_false_positives: 134.0000 - lr: 5.0000e-04\n",
      "Epoch 7/50\n",
      "225/225 [==============================] - ETA: 0s - loss: 0.7598 - accuracy: 0.7289 - recall: 0.6516 - precision: 0.8029 - auc: 0.9510 - true_positives: 4677.0000 - true_negatives: 41920.0000 - false_negatives: 2501.0000 - false_positives: 1148.0000\n",
      "Epoch 7: val_accuracy did not improve from 0.70698\n",
      "WARNING:tensorflow:Can save best model only with val_acc available, skipping.\n"
     ]
    },
    {
     "name": "stderr",
     "output_type": "stream",
     "text": [
      "WARNING:tensorflow:Can save best model only with val_acc available, skipping.\n"
     ]
    },
    {
     "name": "stdout",
     "output_type": "stream",
     "text": [
      "225/225 [==============================] - 113s 503ms/step - loss: 0.7598 - accuracy: 0.7289 - recall: 0.6516 - precision: 0.8029 - auc: 0.9510 - true_positives: 4677.0000 - true_negatives: 41920.0000 - false_negatives: 2501.0000 - false_positives: 1148.0000 - val_loss: 0.8356 - val_accuracy: 0.6958 - val_recall: 0.6110 - val_precision: 0.7853 - val_auc: 0.9413 - val_true_positives: 490.0000 - val_true_negatives: 4678.0000 - val_false_negatives: 312.0000 - val_false_positives: 134.0000 - lr: 5.0000e-04\n",
      "Epoch 8/50\n",
      "225/225 [==============================] - ETA: 0s - loss: 0.7570 - accuracy: 0.7250 - recall: 0.6512 - precision: 0.8012 - auc: 0.9515 - true_positives: 4674.0000 - true_negatives: 41908.0000 - false_negatives: 2504.0000 - false_positives: 1160.0000\n",
      "Epoch 8: val_accuracy did not improve from 0.70698\n",
      "\n",
      "Epoch 8: ReduceLROnPlateau reducing learning rate to 0.0002500000118743628.\n",
      "WARNING:tensorflow:Can save best model only with val_acc available, skipping.\n"
     ]
    },
    {
     "name": "stderr",
     "output_type": "stream",
     "text": [
      "WARNING:tensorflow:Can save best model only with val_acc available, skipping.\n"
     ]
    },
    {
     "name": "stdout",
     "output_type": "stream",
     "text": [
      "225/225 [==============================] - 117s 517ms/step - loss: 0.7570 - accuracy: 0.7250 - recall: 0.6512 - precision: 0.8012 - auc: 0.9515 - true_positives: 4674.0000 - true_negatives: 41908.0000 - false_negatives: 2504.0000 - false_positives: 1160.0000 - val_loss: 0.8251 - val_accuracy: 0.6958 - val_recall: 0.6035 - val_precision: 0.7934 - val_auc: 0.9430 - val_true_positives: 484.0000 - val_true_negatives: 4686.0000 - val_false_negatives: 318.0000 - val_false_positives: 126.0000 - lr: 5.0000e-04\n",
      "Epoch 9/50\n",
      "225/225 [==============================] - ETA: 0s - loss: 0.7429 - accuracy: 0.7281 - recall: 0.6538 - precision: 0.8077 - auc: 0.9533 - true_positives: 4693.0000 - true_negatives: 41951.0000 - false_negatives: 2485.0000 - false_positives: 1117.0000\n",
      "Epoch 9: val_accuracy did not improve from 0.70698\n",
      "WARNING:tensorflow:Can save best model only with val_acc available, skipping.\n"
     ]
    },
    {
     "name": "stderr",
     "output_type": "stream",
     "text": [
      "WARNING:tensorflow:Can save best model only with val_acc available, skipping.\n"
     ]
    },
    {
     "name": "stdout",
     "output_type": "stream",
     "text": [
      "225/225 [==============================] - 127s 564ms/step - loss: 0.7429 - accuracy: 0.7281 - recall: 0.6538 - precision: 0.8077 - auc: 0.9533 - true_positives: 4693.0000 - true_negatives: 41951.0000 - false_negatives: 2485.0000 - false_positives: 1117.0000 - val_loss: 0.8319 - val_accuracy: 0.7007 - val_recall: 0.6234 - val_precision: 0.7862 - val_auc: 0.9423 - val_true_positives: 500.0000 - val_true_negatives: 4676.0000 - val_false_negatives: 302.0000 - val_false_positives: 136.0000 - lr: 2.5000e-04\n",
      "Epoch 10/50\n",
      "225/225 [==============================] - ETA: 0s - loss: 0.7505 - accuracy: 0.7292 - recall: 0.6495 - precision: 0.8077 - auc: 0.9524 - true_positives: 4662.0000 - true_negatives: 41958.0000 - false_negatives: 2516.0000 - false_positives: 1110.0000\n",
      "Epoch 10: val_accuracy did not improve from 0.70698\n",
      "\n",
      "Epoch 10: ReduceLROnPlateau reducing learning rate to 0.0001250000059371814.\n",
      "WARNING:tensorflow:Can save best model only with val_acc available, skipping.\n"
     ]
    },
    {
     "name": "stderr",
     "output_type": "stream",
     "text": [
      "WARNING:tensorflow:Can save best model only with val_acc available, skipping.\n"
     ]
    },
    {
     "name": "stdout",
     "output_type": "stream",
     "text": [
      "225/225 [==============================] - 123s 547ms/step - loss: 0.7505 - accuracy: 0.7292 - recall: 0.6495 - precision: 0.8077 - auc: 0.9524 - true_positives: 4662.0000 - true_negatives: 41958.0000 - false_negatives: 2516.0000 - false_positives: 1110.0000 - val_loss: 0.8307 - val_accuracy: 0.7032 - val_recall: 0.6209 - val_precision: 0.7917 - val_auc: 0.9422 - val_true_positives: 498.0000 - val_true_negatives: 4681.0000 - val_false_negatives: 304.0000 - val_false_positives: 131.0000 - lr: 2.5000e-04\n",
      "Epoch 11/50\n",
      "225/225 [==============================] - ETA: 0s - loss: 0.7308 - accuracy: 0.7364 - recall: 0.6580 - precision: 0.8184 - auc: 0.9548 - true_positives: 4723.0000 - true_negatives: 42020.0000 - false_negatives: 2455.0000 - false_positives: 1048.0000\n",
      "Epoch 11: val_accuracy improved from 0.70698 to 0.70823, saving model to best_model.h5\n",
      "WARNING:tensorflow:Can save best model only with val_acc available, skipping.\n"
     ]
    },
    {
     "name": "stderr",
     "output_type": "stream",
     "text": [
      "WARNING:tensorflow:Can save best model only with val_acc available, skipping.\n"
     ]
    },
    {
     "name": "stdout",
     "output_type": "stream",
     "text": [
      "225/225 [==============================] - 118s 524ms/step - loss: 0.7308 - accuracy: 0.7364 - recall: 0.6580 - precision: 0.8184 - auc: 0.9548 - true_positives: 4723.0000 - true_negatives: 42020.0000 - false_negatives: 2455.0000 - false_positives: 1048.0000 - val_loss: 0.8268 - val_accuracy: 0.7082 - val_recall: 0.6334 - val_precision: 0.7975 - val_auc: 0.9425 - val_true_positives: 508.0000 - val_true_negatives: 4683.0000 - val_false_negatives: 294.0000 - val_false_positives: 129.0000 - lr: 1.2500e-04\n",
      "Epoch 12/50\n",
      "225/225 [==============================] - ETA: 0s - loss: 0.7357 - accuracy: 0.7268 - recall: 0.6512 - precision: 0.8123 - auc: 0.9544 - true_positives: 4674.0000 - true_negatives: 41988.0000 - false_negatives: 2504.0000 - false_positives: 1080.0000\n",
      "Epoch 12: val_accuracy improved from 0.70823 to 0.71072, saving model to best_model.h5\n",
      "WARNING:tensorflow:Can save best model only with val_acc available, skipping.\n"
     ]
    },
    {
     "name": "stderr",
     "output_type": "stream",
     "text": [
      "WARNING:tensorflow:Can save best model only with val_acc available, skipping.\n"
     ]
    },
    {
     "name": "stdout",
     "output_type": "stream",
     "text": [
      "225/225 [==============================] - 124s 551ms/step - loss: 0.7357 - accuracy: 0.7268 - recall: 0.6512 - precision: 0.8123 - auc: 0.9544 - true_positives: 4674.0000 - true_negatives: 41988.0000 - false_negatives: 2504.0000 - false_positives: 1080.0000 - val_loss: 0.8206 - val_accuracy: 0.7107 - val_recall: 0.6259 - val_precision: 0.8019 - val_auc: 0.9431 - val_true_positives: 502.0000 - val_true_negatives: 4688.0000 - val_false_negatives: 300.0000 - val_false_positives: 124.0000 - lr: 1.2500e-04\n",
      "Epoch 13/50\n",
      "225/225 [==============================] - ETA: 0s - loss: 0.7313 - accuracy: 0.7332 - recall: 0.6517 - precision: 0.8144 - auc: 0.9548 - true_positives: 4678.0000 - true_negatives: 42002.0000 - false_negatives: 2500.0000 - false_positives: 1066.0000\n",
      "Epoch 13: val_accuracy did not improve from 0.71072\n",
      "WARNING:tensorflow:Can save best model only with val_acc available, skipping.\n"
     ]
    },
    {
     "name": "stderr",
     "output_type": "stream",
     "text": [
      "WARNING:tensorflow:Can save best model only with val_acc available, skipping.\n"
     ]
    },
    {
     "name": "stdout",
     "output_type": "stream",
     "text": [
      "225/225 [==============================] - 117s 519ms/step - loss: 0.7313 - accuracy: 0.7332 - recall: 0.6517 - precision: 0.8144 - auc: 0.9548 - true_positives: 4678.0000 - true_negatives: 42002.0000 - false_negatives: 2500.0000 - false_positives: 1066.0000 - val_loss: 0.8276 - val_accuracy: 0.7020 - val_recall: 0.6234 - val_precision: 0.7962 - val_auc: 0.9427 - val_true_positives: 500.0000 - val_true_negatives: 4684.0000 - val_false_negatives: 302.0000 - val_false_positives: 128.0000 - lr: 1.2500e-04\n",
      "Epoch 14/50\n",
      "225/225 [==============================] - ETA: 0s - loss: 0.7281 - accuracy: 0.7374 - recall: 0.6530 - precision: 0.8203 - auc: 0.9550 - true_positives: 4687.0000 - true_negatives: 42041.0000 - false_negatives: 2491.0000 - false_positives: 1027.0000\n",
      "Epoch 14: val_accuracy did not improve from 0.71072\n",
      "\n",
      "Epoch 14: ReduceLROnPlateau reducing learning rate to 6.25000029685907e-05.\n",
      "WARNING:tensorflow:Can save best model only with val_acc available, skipping.\n"
     ]
    },
    {
     "name": "stderr",
     "output_type": "stream",
     "text": [
      "WARNING:tensorflow:Can save best model only with val_acc available, skipping.\n"
     ]
    },
    {
     "name": "stdout",
     "output_type": "stream",
     "text": [
      "225/225 [==============================] - 113s 501ms/step - loss: 0.7281 - accuracy: 0.7374 - recall: 0.6530 - precision: 0.8203 - auc: 0.9550 - true_positives: 4687.0000 - true_negatives: 42041.0000 - false_negatives: 2491.0000 - false_positives: 1027.0000 - val_loss: 0.8229 - val_accuracy: 0.7007 - val_recall: 0.6197 - val_precision: 0.7914 - val_auc: 0.9433 - val_true_positives: 497.0000 - val_true_negatives: 4681.0000 - val_false_negatives: 305.0000 - val_false_positives: 131.0000 - lr: 1.2500e-04\n",
      "Epoch 15/50\n",
      "225/225 [==============================] - ETA: 0s - loss: 0.7293 - accuracy: 0.7349 - recall: 0.6545 - precision: 0.8124 - auc: 0.9553 - true_positives: 4698.0000 - true_negatives: 41983.0000 - false_negatives: 2480.0000 - false_positives: 1085.0000\n",
      "Epoch 15: val_accuracy did not improve from 0.71072\n",
      "WARNING:tensorflow:Can save best model only with val_acc available, skipping.\n"
     ]
    },
    {
     "name": "stderr",
     "output_type": "stream",
     "text": [
      "WARNING:tensorflow:Can save best model only with val_acc available, skipping.\n"
     ]
    },
    {
     "name": "stdout",
     "output_type": "stream",
     "text": [
      "225/225 [==============================] - 112s 496ms/step - loss: 0.7293 - accuracy: 0.7349 - recall: 0.6545 - precision: 0.8124 - auc: 0.9553 - true_positives: 4698.0000 - true_negatives: 41983.0000 - false_negatives: 2480.0000 - false_positives: 1085.0000 - val_loss: 0.8240 - val_accuracy: 0.7007 - val_recall: 0.6234 - val_precision: 0.7899 - val_auc: 0.9430 - val_true_positives: 500.0000 - val_true_negatives: 4679.0000 - val_false_negatives: 302.0000 - val_false_positives: 133.0000 - lr: 6.2500e-05\n",
      "Epoch 16/50\n",
      "225/225 [==============================] - ETA: 0s - loss: 0.7306 - accuracy: 0.7359 - recall: 0.6585 - precision: 0.8153 - auc: 0.9548 - true_positives: 4727.0000 - true_negatives: 41997.0000 - false_negatives: 2451.0000 - false_positives: 1071.0000\n",
      "Epoch 16: val_accuracy did not improve from 0.71072\n",
      "\n",
      "Epoch 16: ReduceLROnPlateau reducing learning rate to 3.125000148429535e-05.\n",
      "WARNING:tensorflow:Can save best model only with val_acc available, skipping.\n"
     ]
    },
    {
     "name": "stderr",
     "output_type": "stream",
     "text": [
      "WARNING:tensorflow:Can save best model only with val_acc available, skipping.\n"
     ]
    },
    {
     "name": "stdout",
     "output_type": "stream",
     "text": [
      "225/225 [==============================] - 112s 498ms/step - loss: 0.7306 - accuracy: 0.7359 - recall: 0.6585 - precision: 0.8153 - auc: 0.9548 - true_positives: 4727.0000 - true_negatives: 41997.0000 - false_negatives: 2451.0000 - false_positives: 1071.0000 - val_loss: 0.8200 - val_accuracy: 0.7082 - val_recall: 0.6185 - val_precision: 0.7974 - val_auc: 0.9432 - val_true_positives: 496.0000 - val_true_negatives: 4686.0000 - val_false_negatives: 306.0000 - val_false_positives: 126.0000 - lr: 6.2500e-05\n",
      "Epoch 17/50\n",
      "225/225 [==============================] - ETA: 0s - loss: 0.7188 - accuracy: 0.7363 - recall: 0.6623 - precision: 0.8149 - auc: 0.9565 - true_positives: 4754.0000 - true_negatives: 41988.0000 - false_negatives: 2424.0000 - false_positives: 1080.0000\n",
      "Epoch 17: val_accuracy did not improve from 0.71072\n",
      "Restoring model weights from the end of the best epoch: 12.\n",
      "WARNING:tensorflow:Can save best model only with val_acc available, skipping.\n"
     ]
    },
    {
     "name": "stderr",
     "output_type": "stream",
     "text": [
      "WARNING:tensorflow:Can save best model only with val_acc available, skipping.\n"
     ]
    },
    {
     "name": "stdout",
     "output_type": "stream",
     "text": [
      "225/225 [==============================] - 123s 544ms/step - loss: 0.7188 - accuracy: 0.7363 - recall: 0.6623 - precision: 0.8149 - auc: 0.9565 - true_positives: 4754.0000 - true_negatives: 41988.0000 - false_negatives: 2424.0000 - false_positives: 1080.0000 - val_loss: 0.8174 - val_accuracy: 0.7070 - val_recall: 0.6160 - val_precision: 0.7994 - val_auc: 0.9435 - val_true_positives: 494.0000 - val_true_negatives: 4688.0000 - val_false_negatives: 308.0000 - val_false_positives: 124.0000 - lr: 3.1250e-05\n",
      "Epoch 17: early stopping\n"
     ]
    }
   ],
   "source": [
    "batch_size = 32\n",
    "epochs = 50\n",
    "\n",
    "history = neural_net.fit(\n",
    "    datagen.flow(x_train, y_train, batch_size=batch_size),\n",
    "    epochs=epochs,\n",
    "    validation_data=(x_val, y_val),\n",
    "    verbose=1,\n",
    "    steps_per_epoch=x_train.shape[0] // batch_size,\n",
    "    callbacks=[callback_checkpoint, callback_early_stopping, callback_reduce_lr, callback]\n",
    ")"
   ]
  },
  {
   "cell_type": "code",
   "execution_count": 52,
   "id": "75b05a83",
   "metadata": {},
   "outputs": [
    {
     "name": "stdout",
     "output_type": "stream",
     "text": [
      "63/63 [==============================] - 23s 359ms/step - loss: 0.7887 - accuracy: 0.7159 - recall: 0.6360 - precision: 0.8156 - auc: 0.9478 - true_positives: 1274.0000 - true_negatives: 11730.0000 - false_negatives: 729.0000 - false_positives: 288.0000\n",
      "Loss: 0.79\n",
      "Accuracy: 71.59%\n"
     ]
    }
   ],
   "source": [
    "# evaluate the neural_net model\n",
    "evaluation = neural_net.evaluate(x_test, y_test)\n",
    "print(\"Loss: {:.2f}\".format(evaluation[0]))\n",
    "print(\"Accuracy: {:.2%}\".format(evaluation[1]))"
   ]
  },
  {
   "cell_type": "code",
   "execution_count": 53,
   "id": "a2855b43",
   "metadata": {},
   "outputs": [
    {
     "name": "stdout",
     "output_type": "stream",
     "text": [
      "63/63 [==============================] - 23s 359ms/step\n"
     ]
    },
    {
     "data": {
      "image/png": "[encoded data removed]",
      "text/plain": [
       "<Figure size 1000x700 with 2 Axes>"
      ]
     },
     "metadata": {},
     "output_type": "display_data"
    }
   ],
   "source": [
    "import itertools\n",
    "from sklearn.metrics import confusion_matrix\n",
    "# Function to plot confusion matrix    \n",
    "def plot_confusion_matrix(cm, classes,\n",
    "                          normalize=False,\n",
    "                          title='Confusion matrix',\n",
    "                          cmap=plt.cm.Blues):\n",
    "    \n",
    "    fig, ax = plt.subplots(figsize = (10, 7))\n",
    "    plt.imshow(cm, interpolation='nearest', cmap=cmap)\n",
    "    plt.title(title)\n",
    "    plt.colorbar()\n",
    "    tick_marks = np.arange(len(classes))\n",
    "    plt.xticks(tick_marks, classes, rotation=45)\n",
    "    plt.yticks(tick_marks, classes)\n",
    "    \n",
    "    if normalize:\n",
    "        cm = cm.astype('float') / cm.sum(axis=1)[:, np.newaxis]\n",
    "\n",
    "    thresh = cm.max() / 2.\n",
    "    for i, j in itertools.product(range(cm.shape[0]), range(cm.shape[1])):\n",
    "        plt.text(j, i, cm[i, j],\n",
    "                 horizontalalignment=\"center\",\n",
    "                 color=\"white\" if cm[i, j] > thresh else \"black\")\n",
    "\n",
    "    plt.tight_layout()\n",
    "    plt.ylabel('True label')\n",
    "    plt.xlabel('Predicted label')\n",
    "    \n",
    "\n",
    "Y_pred = neural_net.predict(x_test)\n",
    "# Convert predictions classes to one hot vectors \n",
    "Y_pred_classes = np.argmax(Y_pred,axis = 1) \n",
    "# Convert validation observations to one hot vectors\n",
    "#Y_true = np.argmax(y_test,axis = 1) \n",
    "# compute the confusion matrix\n",
    "confusion_mtx = confusion_matrix(np.argmax(y_test,axis=1), Y_pred_classes)\n",
    "\n",
    "# plot the confusion matrix\n",
    "plot_confusion_matrix(confusion_mtx, classes.values()) "
   ]
  },
  {
   "cell_type": "code",
   "execution_count": 54,
   "id": "22201e95",
   "metadata": {},
   "outputs": [
    {
     "name": "stdout",
     "output_type": "stream",
     "text": [
      "63/63 [==============================] - 22s 340ms/step\n",
      "              precision    recall  f1-score   support\n",
      "\n",
      "         0.0       0.34      0.29      0.31        69\n",
      "         1.0       0.41      0.34      0.37        93\n",
      "         2.0       0.43      0.30      0.36       228\n",
      "         3.0       1.00      0.04      0.07        28\n",
      "         4.0       0.80      0.94      0.86      1338\n",
      "         5.0       0.00      0.00      0.00        21\n",
      "         6.0       0.43      0.23      0.30       226\n",
      "\n",
      "    accuracy                           0.72      2003\n",
      "   macro avg       0.49      0.31      0.32      2003\n",
      "weighted avg       0.67      0.72      0.68      2003\n",
      "\n",
      "Classification Report\n"
     ]
    }
   ],
   "source": [
    "from sklearn.metrics import classification_report\n",
    "from sklearn.metrics import multilabel_confusion_matrix, classification_report, confusion_matrix\n",
    "Y_pred = np.argmax(neural_net.predict(x_test),axis=1)\n",
    "print(classification_report(np.float32(np.argmax(y_test,axis=1)), Y_pred.round()))\n",
    "print('Classification Report')"
   ]
  },
  {
   "cell_type": "code",
   "execution_count": 58,
   "id": "f9e92b5b",
   "metadata": {},
   "outputs": [
    {
     "name": "stdout",
     "output_type": "stream",
     "text": [
      "63/63 [==============================] - 21s 329ms/step\n",
      "AUROC for class 0: 0.9097837327458297\n",
      "AUROC for class 1: 0.9218037493666609\n",
      "AUROC for class 2: 0.8265431183592785\n",
      "AUROC for class 3: 0.8362386980108499\n",
      "AUROC for class 4: 0.8733397394832372\n",
      "AUROC for class 5: 0.8283840276776705\n",
      "AUROC for class 6: 0.8289998555784085\n",
      "Average AUROC: 0.8607275601745622\n"
     ]
    }
   ],
   "source": [
    "# plot auc for neural_net\n",
    "from sklearn.metrics import roc_auc_score\n",
    "\n",
    "# Compute the probabilities for each class\n",
    "Y_pred_prob = neural_net.predict(x_test)\n",
    "\n",
    "\n",
    "# Compute the AUROC for each class\n",
    "auc_scores = roc_auc_score(y_test, Y_pred_prob, average=None)\n",
    "\n",
    "# Determine the average AUROC\n",
    "average_auc = np.mean(auc_scores)\n",
    "\n",
    "# Print the AUROC scores for each class\n",
    "for i, auc in enumerate(auc_scores):\n",
    "    print(f\"AUROC for class {i}: {auc}\")\n",
    "\n",
    "# Print the average AUROC\n",
    "print(f\"Average AUROC: {average_auc}\")"
   ]
  },
  {
   "cell_type": "code",
   "execution_count": 59,
   "id": "2be6d94b",
   "metadata": {},
   "outputs": [],
   "source": [
    "# save the neural_net model\n",
    "neural_net.save('neural_net.keras')"
   ]
  },
  {
   "cell_type": "markdown",
   "id": "4cb9a106",
   "metadata": {},
   "source": [
    "# VGG19, ResNet152V2, and EfficientNetB7 models"
   ]
  },
  {
   "cell_type": "code",
   "execution_count": 60,
   "id": "2aa63666",
   "metadata": {},
   "outputs": [],
   "source": [
    "from tensorflow.keras.applications.vgg19 import VGG19\n",
    "from tensorflow.keras.applications.resnet_v2 import ResNet152V2\n",
    "\n",
    "from tensorflow.keras.applications.efficientnet import EfficientNetB7"
   ]
  },
  {
   "cell_type": "code",
   "execution_count": 67,
   "id": "316713a2",
   "metadata": {},
   "outputs": [
    {
     "name": "stdout",
     "output_type": "stream",
     "text": [
      "x_train shape: (802, 32, 32, 3)\n"
     ]
    }
   ],
   "source": [
    "IMG_SIZ = 32\n",
    "\n",
    "bh3 = []\n",
    "for x in x_val:\n",
    "    \n",
    "    bh3.append(cv2.resize(x,(IMG_SIZ,IMG_SIZ),3))\n",
    "    \n",
    "bhh3 = np.array(bh3)\n",
    "#print(bh.shape)\n",
    "#print(bhh.shape)\n",
    "\n",
    "x_val = bhh3\n",
    "print(\"x_train shape: \" + str(x_val.shape))"
   ]
  },
  {
   "cell_type": "code",
   "execution_count": 68,
   "id": "c1809fb5",
   "metadata": {},
   "outputs": [
    {
     "name": "stdout",
     "output_type": "stream",
     "text": [
      "x_test shape: (2003, 32, 32, 3)\n"
     ]
    }
   ],
   "source": [
    "IMG_SIZ = 32\n",
    "\n",
    "bh2 = []\n",
    "for x in x_test:\n",
    "    \n",
    "    bh2.append(cv2.resize(x,(IMG_SIZ,IMG_SIZ),3))\n",
    "    \n",
    "bhh2 = np.array(bh2)\n",
    "#print(bh.shape)\n",
    "#print(bhh.shape)\n",
    "\n",
    "x_test = bhh2\n",
    "print(\"x_test shape: \" + str(x_test.shape))"
   ]
  },
  {
   "cell_type": "code",
   "execution_count": 69,
   "id": "8b3c5063",
   "metadata": {},
   "outputs": [
    {
     "name": "stdout",
     "output_type": "stream",
     "text": [
      "x_train shape: (7210, 32, 32, 3)\n"
     ]
    }
   ],
   "source": [
    "IMG_SIZ = 32\n",
    "\n",
    "bh1 = []\n",
    "for x in x_train:\n",
    "    \n",
    "    bh1.append(cv2.resize(x,(IMG_SIZ,IMG_SIZ),3))\n",
    "    \n",
    "bhh1 = np.array(bh1)\n",
    "#print(bh.shape)\n",
    "#print(bhh.shape)\n",
    "\n",
    "x_train = bhh1\n",
    "print(\"x_train shape: \" + str(x_train.shape))"
   ]
  },
  {
   "cell_type": "code",
   "execution_count": null,
   "id": "5e718fbe",
   "metadata": {},
   "outputs": [],
   "source": [
    "X_train_pad= np.pad(x_train,((0,0),(2,2),(2,2),(0,0)),'mean')\n",
    "\n",
    "X_test_pad= np.pad(x_test,((0,0),(2,2),(2,2),(0,0)),'mean')\n",
    "\n",
    "X_val_pad= np.pad(x_val,((0,0),(2,2),(2,2),(0,0)),'mean')"
   ]
  },
  {
   "cell_type": "code",
   "execution_count": 70,
   "id": "deb03d3b",
   "metadata": {},
   "outputs": [
    {
     "name": "stdout",
     "output_type": "stream",
     "text": [
      "Model: \"sequential_2\"\n",
      "_________________________________________________________________\n",
      " Layer (type)                Output Shape              Param #   \n",
      "=================================================================\n",
      " resnet152v2 (Functional)    (None, 1, 1, 2048)        58331648  \n",
      "                                                                 \n",
      " flatten_2 (Flatten)         (None, 2048)              0         \n",
      "                                                                 \n",
      " batch_normalization_11 (Ba  (None, 2048)              8192      \n",
      " tchNormalization)                                               \n",
      "                                                                 \n",
      " dense_6 (Dense)             (None, 128)               262272    \n",
      "                                                                 \n",
      " batch_normalization_12 (Ba  (None, 128)               512       \n",
      " tchNormalization)                                               \n",
      "                                                                 \n",
      " dropout_7 (Dropout)         (None, 128)               0         \n",
      "                                                                 \n",
      " dense_7 (Dense)             (None, 7)                 903       \n",
      "                                                                 \n",
      "=================================================================\n",
      "Total params: 58603527 (223.55 MB)\n",
      "Trainable params: 3682567 (14.05 MB)\n",
      "Non-trainable params: 54920960 (209.51 MB)\n",
      "_________________________________________________________________\n",
      "None\n"
     ]
    }
   ],
   "source": [
    "img_shape =(32,32,3)\n",
    "\n",
    "Name= \"ResNet\"\n",
    "classifier = ResNet152V2(\n",
    "            include_top = False,input_shape=img_shape,\n",
    "             weights='imagenet'\n",
    "           )\n",
    "fine_tune_at = 555\n",
    "for layer in classifier.layers[:fine_tune_at]:\n",
    "    layer.trainable = False\n",
    "    \n",
    "\"\"\"\n",
    "# \n",
    "Name= \"EfficientNetB7\"\n",
    "classifier = EfficientNetB7(\n",
    "            include_top = False,input_shape=img_shape,\n",
    "             weights='imagenet'\n",
    "           )\n",
    "fine_tune_at = 790\n",
    "for layer in classifier.layers[:fine_tune_at]:\n",
    "    layer.trainable = False\n",
    "\n",
    "# \n",
    "Name= \"VGG19\"\n",
    "classifier = VGG19(\n",
    "            include_top = False,input_shape=img_shape,\n",
    "             weights='imagenet'\n",
    "           )\n",
    "\n",
    "fine_tune_at = 20\n",
    "for layer in classifier.layers[:fine_tune_at]:\n",
    "    layer.trainable = False\n",
    "\"\"\"\n",
    "model = Sequential()\n",
    "model.add(classifier)\n",
    "model.add(Flatten())\n",
    "model.add(BatchNormalization())\n",
    "model.add(Dense(128, activation='relu'))\n",
    "model.add(BatchNormalization())\n",
    "model.add(Dropout(0.5))\n",
    "model.add(Dense(7, activation='softmax'))\n",
    "print(model.summary())"
   ]
  },
  {
   "cell_type": "code",
   "execution_count": 71,
   "id": "d3e8b4e5",
   "metadata": {
    "scrolled": true
   },
   "outputs": [
    {
     "name": "stdout",
     "output_type": "stream",
     "text": [
      "Epoch 1/50\n",
      "225/225 [==============================] - ETA: 0s - loss: 1.7333 - accuracy: 0.5032 - recall_3: 0.3147 - precision_3: 0.6506 - auc_3: 0.7798 - true_positives_3: 2259.0000 - true_negatives_3: 41855.0000 - false_negatives_3: 4919.0000 - false_positives_3: 1213.0000\n",
      "Epoch 1: saving model to best_Resnet.h5\n"
     ]
    },
    {
     "name": "stderr",
     "output_type": "stream",
     "text": [
      "/Users/jdapeman/anaconda3/envs/apple/lib/python3.10/site-packages/keras/src/engine/training.py:3000: UserWarning: You are saving your model as an HDF5 file via `model.save()`. This file format is considered legacy. We recommend using instead the native Keras format, e.g. `model.save('my_model.keras')`.\n",
      "  saving_api.save_model(\n"
     ]
    },
    {
     "name": "stdout",
     "output_type": "stream",
     "text": [
      "225/225 [==============================] - 61s 241ms/step - loss: 1.7333 - accuracy: 0.5032 - recall_3: 0.3147 - precision_3: 0.6506 - auc_3: 0.7798 - true_positives_3: 2259.0000 - true_negatives_3: 41855.0000 - false_negatives_3: 4919.0000 - false_positives_3: 1213.0000 - val_loss: 1.3912 - val_accuracy: 0.6122 - val_recall_3: 0.5399 - val_precision_3: 0.7181 - val_auc_3: 0.8715 - val_true_positives_3: 433.0000 - val_true_negatives_3: 4642.0000 - val_false_negatives_3: 369.0000 - val_false_positives_3: 170.0000\n",
      "Epoch 2/50\n",
      "225/225 [==============================] - ETA: 0s - loss: 1.1437 - accuracy: 0.6544 - recall_3: 0.5532 - precision_3: 0.7610 - auc_3: 0.8934 - true_positives_3: 3971.0000 - true_negatives_3: 41821.0000 - false_negatives_3: 3207.0000 - false_positives_3: 1247.0000\n",
      "Epoch 2: saving model to best_Resnet.h5\n",
      "225/225 [==============================] - 55s 245ms/step - loss: 1.1437 - accuracy: 0.6544 - recall_3: 0.5532 - precision_3: 0.7610 - auc_3: 0.8934 - true_positives_3: 3971.0000 - true_negatives_3: 41821.0000 - false_negatives_3: 3207.0000 - false_positives_3: 1247.0000 - val_loss: 1.1860 - val_accuracy: 0.6484 - val_recall_3: 0.5736 - val_precision_3: 0.7504 - val_auc_3: 0.9052 - val_true_positives_3: 460.0000 - val_true_negatives_3: 4659.0000 - val_false_negatives_3: 342.0000 - val_false_positives_3: 153.0000\n",
      "Epoch 3/50\n",
      "225/225 [==============================] - ETA: 0s - loss: 1.0427 - accuracy: 0.6666 - recall_3: 0.5690 - precision_3: 0.7619 - auc_3: 0.9107 - true_positives_3: 4084.0000 - true_negatives_3: 41792.0000 - false_negatives_3: 3094.0000 - false_positives_3: 1276.0000\n",
      "Epoch 3: saving model to best_Resnet.h5\n",
      "225/225 [==============================] - 53s 235ms/step - loss: 1.0427 - accuracy: 0.6666 - recall_3: 0.5690 - precision_3: 0.7619 - auc_3: 0.9107 - true_positives_3: 4084.0000 - true_negatives_3: 41792.0000 - false_negatives_3: 3094.0000 - false_positives_3: 1276.0000 - val_loss: 1.0315 - val_accuracy: 0.6446 - val_recall_3: 0.6172 - val_precision_3: 0.6972 - val_auc_3: 0.9135 - val_true_positives_3: 495.0000 - val_true_negatives_3: 4597.0000 - val_false_negatives_3: 307.0000 - val_false_positives_3: 215.0000\n",
      "Epoch 4/50\n",
      "225/225 [==============================] - ETA: 0s - loss: 1.0045 - accuracy: 0.6733 - recall_3: 0.5811 - precision_3: 0.7704 - auc_3: 0.9167 - true_positives_3: 4171.0000 - true_negatives_3: 41825.0000 - false_negatives_3: 3007.0000 - false_positives_3: 1243.0000\n",
      "Epoch 4: saving model to best_Resnet.h5\n",
      "225/225 [==============================] - 51s 227ms/step - loss: 1.0045 - accuracy: 0.6733 - recall_3: 0.5811 - precision_3: 0.7704 - auc_3: 0.9167 - true_positives_3: 4171.0000 - true_negatives_3: 41825.0000 - false_negatives_3: 3007.0000 - false_positives_3: 1243.0000 - val_loss: 1.0017 - val_accuracy: 0.6409 - val_recall_3: 0.6060 - val_precision_3: 0.7023 - val_auc_3: 0.9203 - val_true_positives_3: 486.0000 - val_true_negatives_3: 4606.0000 - val_false_negatives_3: 316.0000 - val_false_positives_3: 206.0000\n",
      "Epoch 5/50\n",
      "225/225 [==============================] - ETA: 0s - loss: 0.9551 - accuracy: 0.6743 - recall_3: 0.5868 - precision_3: 0.7790 - auc_3: 0.9238 - true_positives_3: 4212.0000 - true_negatives_3: 41873.0000 - false_negatives_3: 2966.0000 - false_positives_3: 1195.0000\n",
      "Epoch 5: saving model to best_Resnet.h5\n",
      "225/225 [==============================] - 51s 226ms/step - loss: 0.9551 - accuracy: 0.6743 - recall_3: 0.5868 - precision_3: 0.7790 - auc_3: 0.9238 - true_positives_3: 4212.0000 - true_negatives_3: 41873.0000 - false_negatives_3: 2966.0000 - false_positives_3: 1195.0000 - val_loss: 0.9899 - val_accuracy: 0.6596 - val_recall_3: 0.6247 - val_precision_3: 0.7271 - val_auc_3: 0.9191 - val_true_positives_3: 501.0000 - val_true_negatives_3: 4624.0000 - val_false_negatives_3: 301.0000 - val_false_positives_3: 188.0000\n",
      "Epoch 6/50\n",
      "225/225 [==============================] - ETA: 0s - loss: 0.9096 - accuracy: 0.6856 - recall_3: 0.5872 - precision_3: 0.7885 - auc_3: 0.9302 - true_positives_3: 4228.0000 - true_negatives_3: 42066.0000 - false_negatives_3: 2972.0000 - false_positives_3: 1134.0000\n",
      "Epoch 6: saving model to best_Resnet.h5\n",
      "225/225 [==============================] - 49s 218ms/step - loss: 0.9096 - accuracy: 0.6856 - recall_3: 0.5872 - precision_3: 0.7885 - auc_3: 0.9302 - true_positives_3: 4228.0000 - true_negatives_3: 42066.0000 - false_negatives_3: 2972.0000 - false_positives_3: 1134.0000 - val_loss: 0.9888 - val_accuracy: 0.6446 - val_recall_3: 0.5885 - val_precision_3: 0.7398 - val_auc_3: 0.9197 - val_true_positives_3: 472.0000 - val_true_negatives_3: 4646.0000 - val_false_negatives_3: 330.0000 - val_false_positives_3: 166.0000\n",
      "Epoch 7/50\n",
      "225/225 [==============================] - ETA: 0s - loss: 0.8939 - accuracy: 0.6814 - recall_3: 0.5914 - precision_3: 0.7942 - auc_3: 0.9328 - true_positives_3: 4245.0000 - true_negatives_3: 41968.0000 - false_negatives_3: 2933.0000 - false_positives_3: 1100.0000\n",
      "Epoch 7: saving model to best_Resnet.h5\n",
      "225/225 [==============================] - 49s 218ms/step - loss: 0.8939 - accuracy: 0.6814 - recall_3: 0.5914 - precision_3: 0.7942 - auc_3: 0.9328 - true_positives_3: 4245.0000 - true_negatives_3: 41968.0000 - false_negatives_3: 2933.0000 - false_positives_3: 1100.0000 - val_loss: 0.9371 - val_accuracy: 0.6546 - val_recall_3: 0.5923 - val_precision_3: 0.7637 - val_auc_3: 0.9260 - val_true_positives_3: 475.0000 - val_true_negatives_3: 4665.0000 - val_false_negatives_3: 327.0000 - val_false_positives_3: 147.0000\n",
      "Epoch 8/50\n",
      "225/225 [==============================] - ETA: 0s - loss: 0.8829 - accuracy: 0.6819 - recall_3: 0.5861 - precision_3: 0.7994 - auc_3: 0.9342 - true_positives_3: 4207.0000 - true_negatives_3: 42012.0000 - false_negatives_3: 2971.0000 - false_positives_3: 1056.0000\n",
      "Epoch 8: saving model to best_Resnet.h5\n",
      "225/225 [==============================] - 49s 217ms/step - loss: 0.8829 - accuracy: 0.6819 - recall_3: 0.5861 - precision_3: 0.7994 - auc_3: 0.9342 - true_positives_3: 4207.0000 - true_negatives_3: 42012.0000 - false_negatives_3: 2971.0000 - false_positives_3: 1056.0000 - val_loss: 0.9831 - val_accuracy: 0.6621 - val_recall_3: 0.6010 - val_precision_3: 0.7381 - val_auc_3: 0.9212 - val_true_positives_3: 482.0000 - val_true_negatives_3: 4641.0000 - val_false_negatives_3: 320.0000 - val_false_positives_3: 171.0000\n",
      "Epoch 9/50\n",
      "225/225 [==============================] - ETA: 0s - loss: 0.8844 - accuracy: 0.6888 - recall_3: 0.5889 - precision_3: 0.7974 - auc_3: 0.9348 - true_positives_3: 4227.0000 - true_negatives_3: 41994.0000 - false_negatives_3: 2951.0000 - false_positives_3: 1074.0000\n",
      "Epoch 9: saving model to best_Resnet.h5\n",
      "225/225 [==============================] - 49s 217ms/step - loss: 0.8844 - accuracy: 0.6888 - recall_3: 0.5889 - precision_3: 0.7974 - auc_3: 0.9348 - true_positives_3: 4227.0000 - true_negatives_3: 41994.0000 - false_negatives_3: 2951.0000 - false_positives_3: 1074.0000 - val_loss: 0.9641 - val_accuracy: 0.6546 - val_recall_3: 0.5835 - val_precision_3: 0.7524 - val_auc_3: 0.9226 - val_true_positives_3: 468.0000 - val_true_negatives_3: 4658.0000 - val_false_negatives_3: 334.0000 - val_false_positives_3: 154.0000\n",
      "Epoch 10/50\n",
      "225/225 [==============================] - ETA: 0s - loss: 0.8724 - accuracy: 0.6910 - recall_3: 0.5938 - precision_3: 0.7969 - auc_3: 0.9360 - true_positives_3: 4262.0000 - true_negatives_3: 41982.0000 - false_negatives_3: 2916.0000 - false_positives_3: 1086.0000\n",
      "Epoch 10: saving model to best_Resnet.h5\n",
      "225/225 [==============================] - 49s 219ms/step - loss: 0.8724 - accuracy: 0.6910 - recall_3: 0.5938 - precision_3: 0.7969 - auc_3: 0.9360 - true_positives_3: 4262.0000 - true_negatives_3: 41982.0000 - false_negatives_3: 2916.0000 - false_positives_3: 1086.0000 - val_loss: 0.9151 - val_accuracy: 0.6671 - val_recall_3: 0.5723 - val_precision_3: 0.7676 - val_auc_3: 0.9301 - val_true_positives_3: 459.0000 - val_true_negatives_3: 4673.0000 - val_false_negatives_3: 343.0000 - val_false_positives_3: 139.0000\n",
      "Epoch 11/50\n"
     ]
    },
    {
     "name": "stdout",
     "output_type": "stream",
     "text": [
      "225/225 [==============================] - ETA: 0s - loss: 0.8671 - accuracy: 0.6934 - recall_3: 0.5943 - precision_3: 0.8038 - auc_3: 0.9365 - true_positives_3: 4266.0000 - true_negatives_3: 42027.0000 - false_negatives_3: 2912.0000 - false_positives_3: 1041.0000\n",
      "Epoch 11: saving model to best_Resnet.h5\n",
      "225/225 [==============================] - 48s 215ms/step - loss: 0.8671 - accuracy: 0.6934 - recall_3: 0.5943 - precision_3: 0.8038 - auc_3: 0.9365 - true_positives_3: 4266.0000 - true_negatives_3: 42027.0000 - false_negatives_3: 2912.0000 - false_positives_3: 1041.0000 - val_loss: 0.8980 - val_accuracy: 0.6671 - val_recall_3: 0.5723 - val_precision_3: 0.7819 - val_auc_3: 0.9321 - val_true_positives_3: 459.0000 - val_true_negatives_3: 4684.0000 - val_false_negatives_3: 343.0000 - val_false_positives_3: 128.0000\n",
      "Epoch 12/50\n",
      "225/225 [==============================] - ETA: 0s - loss: 0.8658 - accuracy: 0.6939 - recall_3: 0.5970 - precision_3: 0.8029 - auc_3: 0.9367 - true_positives_3: 4285.0000 - true_negatives_3: 42016.0000 - false_negatives_3: 2893.0000 - false_positives_3: 1052.0000\n",
      "Epoch 12: saving model to best_Resnet.h5\n",
      "225/225 [==============================] - 51s 227ms/step - loss: 0.8658 - accuracy: 0.6939 - recall_3: 0.5970 - precision_3: 0.8029 - auc_3: 0.9367 - true_positives_3: 4285.0000 - true_negatives_3: 42016.0000 - false_negatives_3: 2893.0000 - false_positives_3: 1052.0000 - val_loss: 0.9347 - val_accuracy: 0.6571 - val_recall_3: 0.5910 - val_precision_3: 0.7695 - val_auc_3: 0.9279 - val_true_positives_3: 474.0000 - val_true_negatives_3: 4670.0000 - val_false_negatives_3: 328.0000 - val_false_positives_3: 142.0000\n",
      "Epoch 13/50\n",
      "225/225 [==============================] - ETA: 0s - loss: 0.8637 - accuracy: 0.6879 - recall_3: 0.5896 - precision_3: 0.8046 - auc_3: 0.9376 - true_positives_3: 4232.0000 - true_negatives_3: 42040.0000 - false_negatives_3: 2946.0000 - false_positives_3: 1028.0000\n",
      "Epoch 13: saving model to best_Resnet.h5\n",
      "225/225 [==============================] - 51s 226ms/step - loss: 0.8637 - accuracy: 0.6879 - recall_3: 0.5896 - precision_3: 0.8046 - auc_3: 0.9376 - true_positives_3: 4232.0000 - true_negatives_3: 42040.0000 - false_negatives_3: 2946.0000 - false_positives_3: 1028.0000 - val_loss: 0.9166 - val_accuracy: 0.6683 - val_recall_3: 0.5948 - val_precision_3: 0.7807 - val_auc_3: 0.9292 - val_true_positives_3: 477.0000 - val_true_negatives_3: 4678.0000 - val_false_negatives_3: 325.0000 - val_false_positives_3: 134.0000\n",
      "Epoch 14/50\n",
      "225/225 [==============================] - ETA: 0s - loss: 0.8479 - accuracy: 0.6963 - recall_3: 0.6027 - precision_3: 0.8045 - auc_3: 0.9395 - true_positives_3: 4326.0000 - true_negatives_3: 42017.0000 - false_negatives_3: 2852.0000 - false_positives_3: 1051.0000\n",
      "Epoch 14: saving model to best_Resnet.h5\n",
      "225/225 [==============================] - 50s 221ms/step - loss: 0.8479 - accuracy: 0.6963 - recall_3: 0.6027 - precision_3: 0.8045 - auc_3: 0.9395 - true_positives_3: 4326.0000 - true_negatives_3: 42017.0000 - false_negatives_3: 2852.0000 - false_positives_3: 1051.0000 - val_loss: 0.9256 - val_accuracy: 0.6671 - val_recall_3: 0.5960 - val_precision_3: 0.7673 - val_auc_3: 0.9286 - val_true_positives_3: 478.0000 - val_true_negatives_3: 4667.0000 - val_false_negatives_3: 324.0000 - val_false_positives_3: 145.0000\n",
      "Epoch 15/50\n",
      "225/225 [==============================] - ETA: 0s - loss: 0.8561 - accuracy: 0.6930 - recall_3: 0.6016 - precision_3: 0.7987 - auc_3: 0.9381 - true_positives_3: 4318.0000 - true_negatives_3: 41980.0000 - false_negatives_3: 2860.0000 - false_positives_3: 1088.0000\n",
      "Epoch 15: saving model to best_Resnet.h5\n",
      "225/225 [==============================] - 50s 223ms/step - loss: 0.8561 - accuracy: 0.6930 - recall_3: 0.6016 - precision_3: 0.7987 - auc_3: 0.9381 - true_positives_3: 4318.0000 - true_negatives_3: 41980.0000 - false_negatives_3: 2860.0000 - false_positives_3: 1088.0000 - val_loss: 0.9127 - val_accuracy: 0.6658 - val_recall_3: 0.5623 - val_precision_3: 0.7940 - val_auc_3: 0.9293 - val_true_positives_3: 451.0000 - val_true_negatives_3: 4695.0000 - val_false_negatives_3: 351.0000 - val_false_positives_3: 117.0000\n",
      "Epoch 16/50\n",
      "225/225 [==============================] - ETA: 0s - loss: 0.8518 - accuracy: 0.6920 - recall_3: 0.5943 - precision_3: 0.8016 - auc_3: 0.9390 - true_positives_3: 4266.0000 - true_negatives_3: 42012.0000 - false_negatives_3: 2912.0000 - false_positives_3: 1056.0000\n",
      "Epoch 16: saving model to best_Resnet.h5\n",
      "225/225 [==============================] - 50s 222ms/step - loss: 0.8518 - accuracy: 0.6920 - recall_3: 0.5943 - precision_3: 0.8016 - auc_3: 0.9390 - true_positives_3: 4266.0000 - true_negatives_3: 42012.0000 - false_negatives_3: 2912.0000 - false_positives_3: 1056.0000 - val_loss: 0.9169 - val_accuracy: 0.6671 - val_recall_3: 0.5848 - val_precision_3: 0.7752 - val_auc_3: 0.9294 - val_true_positives_3: 469.0000 - val_true_negatives_3: 4676.0000 - val_false_negatives_3: 333.0000 - val_false_positives_3: 136.0000\n",
      "Epoch 17/50\n",
      "225/225 [==============================] - ETA: 0s - loss: 0.8557 - accuracy: 0.6892 - recall_3: 0.5929 - precision_3: 0.7973 - auc_3: 0.9384 - true_positives_3: 4256.0000 - true_negatives_3: 41986.0000 - false_negatives_3: 2922.0000 - false_positives_3: 1082.0000\n",
      "Epoch 17: saving model to best_Resnet.h5\n",
      "225/225 [==============================] - 50s 221ms/step - loss: 0.8557 - accuracy: 0.6892 - recall_3: 0.5929 - precision_3: 0.7973 - auc_3: 0.9384 - true_positives_3: 4256.0000 - true_negatives_3: 41986.0000 - false_negatives_3: 2922.0000 - false_positives_3: 1082.0000 - val_loss: 0.9262 - val_accuracy: 0.6658 - val_recall_3: 0.6060 - val_precision_3: 0.7702 - val_auc_3: 0.9286 - val_true_positives_3: 486.0000 - val_true_negatives_3: 4667.0000 - val_false_negatives_3: 316.0000 - val_false_positives_3: 145.0000\n",
      "Epoch 18/50\n",
      "225/225 [==============================] - ETA: 0s - loss: 0.8398 - accuracy: 0.6930 - recall_3: 0.5960 - precision_3: 0.8102 - auc_3: 0.9406 - true_positives_3: 4278.0000 - true_negatives_3: 42066.0000 - false_negatives_3: 2900.0000 - false_positives_3: 1002.0000\n",
      "Epoch 18: saving model to best_Resnet.h5\n",
      "225/225 [==============================] - 48s 212ms/step - loss: 0.8398 - accuracy: 0.6930 - recall_3: 0.5960 - precision_3: 0.8102 - auc_3: 0.9406 - true_positives_3: 4278.0000 - true_negatives_3: 42066.0000 - false_negatives_3: 2900.0000 - false_positives_3: 1002.0000 - val_loss: 0.9149 - val_accuracy: 0.6808 - val_recall_3: 0.5935 - val_precision_3: 0.7702 - val_auc_3: 0.9300 - val_true_positives_3: 476.0000 - val_true_negatives_3: 4670.0000 - val_false_negatives_3: 326.0000 - val_false_positives_3: 142.0000\n",
      "Epoch 19/50\n",
      "225/225 [==============================] - ETA: 0s - loss: 0.8344 - accuracy: 0.6988 - recall_3: 0.5979 - precision_3: 0.8084 - auc_3: 0.9415 - true_positives_3: 4292.0000 - true_negatives_3: 42051.0000 - false_negatives_3: 2886.0000 - false_positives_3: 1017.0000\n",
      "Epoch 19: saving model to best_Resnet.h5\n",
      "225/225 [==============================] - 48s 213ms/step - loss: 0.8344 - accuracy: 0.6988 - recall_3: 0.5979 - precision_3: 0.8084 - auc_3: 0.9415 - true_positives_3: 4292.0000 - true_negatives_3: 42051.0000 - false_negatives_3: 2886.0000 - false_positives_3: 1017.0000 - val_loss: 0.9277 - val_accuracy: 0.6733 - val_recall_3: 0.6160 - val_precision_3: 0.7417 - val_auc_3: 0.9303 - val_true_positives_3: 494.0000 - val_true_negatives_3: 4640.0000 - val_false_negatives_3: 308.0000 - val_false_positives_3: 172.0000\n",
      "Epoch 20/50\n",
      "225/225 [==============================] - ETA: 0s - loss: 0.8442 - accuracy: 0.6967 - recall_3: 0.6034 - precision_3: 0.8000 - auc_3: 0.9403 - true_positives_3: 4331.0000 - true_negatives_3: 41985.0000 - false_negatives_3: 2847.0000 - false_positives_3: 1083.0000\n",
      "Epoch 20: saving model to best_Resnet.h5\n",
      "225/225 [==============================] - 49s 220ms/step - loss: 0.8442 - accuracy: 0.6967 - recall_3: 0.6034 - precision_3: 0.8000 - auc_3: 0.9403 - true_positives_3: 4331.0000 - true_negatives_3: 41985.0000 - false_negatives_3: 2847.0000 - false_positives_3: 1083.0000 - val_loss: 0.8958 - val_accuracy: 0.6708 - val_recall_3: 0.5835 - val_precision_3: 0.7959 - val_auc_3: 0.9319 - val_true_positives_3: 468.0000 - val_true_negatives_3: 4692.0000 - val_false_negatives_3: 334.0000 - val_false_positives_3: 120.0000\n"
     ]
    },
    {
     "name": "stdout",
     "output_type": "stream",
     "text": [
      "Epoch 21/50\n",
      "225/225 [==============================] - ETA: 0s - loss: 0.8350 - accuracy: 0.6996 - recall_3: 0.6002 - precision_3: 0.8052 - auc_3: 0.9414 - true_positives_3: 4308.0000 - true_negatives_3: 42026.0000 - false_negatives_3: 2870.0000 - false_positives_3: 1042.0000\n",
      "Epoch 21: saving model to best_Resnet.h5\n",
      "225/225 [==============================] - 55s 243ms/step - loss: 0.8350 - accuracy: 0.6996 - recall_3: 0.6002 - precision_3: 0.8052 - auc_3: 0.9414 - true_positives_3: 4308.0000 - true_negatives_3: 42026.0000 - false_negatives_3: 2870.0000 - false_positives_3: 1042.0000 - val_loss: 0.9231 - val_accuracy: 0.6696 - val_recall_3: 0.6097 - val_precision_3: 0.7677 - val_auc_3: 0.9286 - val_true_positives_3: 489.0000 - val_true_negatives_3: 4664.0000 - val_false_negatives_3: 313.0000 - val_false_positives_3: 148.0000\n",
      "Epoch 22/50\n",
      "225/225 [==============================] - ETA: 0s - loss: 0.8295 - accuracy: 0.6994 - recall_3: 0.5985 - precision_3: 0.8086 - auc_3: 0.9420 - true_positives_3: 4296.0000 - true_negatives_3: 42051.0000 - false_negatives_3: 2882.0000 - false_positives_3: 1017.0000\n",
      "Epoch 22: saving model to best_Resnet.h5\n",
      "225/225 [==============================] - 53s 237ms/step - loss: 0.8295 - accuracy: 0.6994 - recall_3: 0.5985 - precision_3: 0.8086 - auc_3: 0.9420 - true_positives_3: 4296.0000 - true_negatives_3: 42051.0000 - false_negatives_3: 2882.0000 - false_positives_3: 1017.0000 - val_loss: 0.9312 - val_accuracy: 0.6658 - val_recall_3: 0.6072 - val_precision_3: 0.7669 - val_auc_3: 0.9287 - val_true_positives_3: 487.0000 - val_true_negatives_3: 4664.0000 - val_false_negatives_3: 315.0000 - val_false_positives_3: 148.0000\n",
      "Epoch 23/50\n",
      "225/225 [==============================] - ETA: 0s - loss: 0.8278 - accuracy: 0.7037 - recall_3: 0.6034 - precision_3: 0.8044 - auc_3: 0.9421 - true_positives_3: 4331.0000 - true_negatives_3: 42015.0000 - false_negatives_3: 2847.0000 - false_positives_3: 1053.0000\n",
      "Epoch 23: saving model to best_Resnet.h5\n",
      "225/225 [==============================] - 52s 229ms/step - loss: 0.8278 - accuracy: 0.7037 - recall_3: 0.6034 - precision_3: 0.8044 - auc_3: 0.9421 - true_positives_3: 4331.0000 - true_negatives_3: 42015.0000 - false_negatives_3: 2847.0000 - false_positives_3: 1053.0000 - val_loss: 0.9393 - val_accuracy: 0.6546 - val_recall_3: 0.5910 - val_precision_3: 0.7560 - val_auc_3: 0.9281 - val_true_positives_3: 474.0000 - val_true_negatives_3: 4659.0000 - val_false_negatives_3: 328.0000 - val_false_positives_3: 153.0000\n",
      "Epoch 24/50\n",
      "225/225 [==============================] - ETA: 0s - loss: 0.8348 - accuracy: 0.6953 - recall_3: 0.5981 - precision_3: 0.8046 - auc_3: 0.9414 - true_positives_3: 4306.0000 - true_negatives_3: 42154.0000 - false_negatives_3: 2894.0000 - false_positives_3: 1046.0000\n",
      "Epoch 24: saving model to best_Resnet.h5\n",
      "225/225 [==============================] - 52s 230ms/step - loss: 0.8348 - accuracy: 0.6953 - recall_3: 0.5981 - precision_3: 0.8046 - auc_3: 0.9414 - true_positives_3: 4306.0000 - true_negatives_3: 42154.0000 - false_negatives_3: 2894.0000 - false_positives_3: 1046.0000 - val_loss: 0.9038 - val_accuracy: 0.6671 - val_recall_3: 0.5935 - val_precision_3: 0.7727 - val_auc_3: 0.9314 - val_true_positives_3: 476.0000 - val_true_negatives_3: 4672.0000 - val_false_negatives_3: 326.0000 - val_false_positives_3: 140.0000\n",
      "Epoch 25/50\n",
      "225/225 [==============================] - ETA: 0s - loss: 0.8259 - accuracy: 0.7047 - recall_3: 0.6049 - precision_3: 0.8068 - auc_3: 0.9426 - true_positives_3: 4342.0000 - true_negatives_3: 42028.0000 - false_negatives_3: 2836.0000 - false_positives_3: 1040.0000\n",
      "Epoch 25: saving model to best_Resnet.h5\n",
      "225/225 [==============================] - 53s 236ms/step - loss: 0.8259 - accuracy: 0.7047 - recall_3: 0.6049 - precision_3: 0.8068 - auc_3: 0.9426 - true_positives_3: 4342.0000 - true_negatives_3: 42028.0000 - false_negatives_3: 2836.0000 - false_positives_3: 1040.0000 - val_loss: 0.9064 - val_accuracy: 0.6621 - val_recall_3: 0.6122 - val_precision_3: 0.7708 - val_auc_3: 0.9311 - val_true_positives_3: 491.0000 - val_true_negatives_3: 4666.0000 - val_false_negatives_3: 311.0000 - val_false_positives_3: 146.0000\n",
      "Epoch 26/50\n",
      "225/225 [==============================] - ETA: 0s - loss: 0.8274 - accuracy: 0.6994 - recall_3: 0.6076 - precision_3: 0.8021 - auc_3: 0.9425 - true_positives_3: 4361.0000 - true_negatives_3: 41992.0000 - false_negatives_3: 2817.0000 - false_positives_3: 1076.0000\n",
      "Epoch 26: saving model to best_Resnet.h5\n",
      "225/225 [==============================] - 52s 230ms/step - loss: 0.8274 - accuracy: 0.6994 - recall_3: 0.6076 - precision_3: 0.8021 - auc_3: 0.9425 - true_positives_3: 4361.0000 - true_negatives_3: 41992.0000 - false_negatives_3: 2817.0000 - false_positives_3: 1076.0000 - val_loss: 0.9020 - val_accuracy: 0.6746 - val_recall_3: 0.5935 - val_precision_3: 0.7803 - val_auc_3: 0.9308 - val_true_positives_3: 476.0000 - val_true_negatives_3: 4678.0000 - val_false_negatives_3: 326.0000 - val_false_positives_3: 134.0000\n",
      "Epoch 27/50\n",
      "225/225 [==============================] - ETA: 0s - loss: 0.8209 - accuracy: 0.6996 - recall_3: 0.6009 - precision_3: 0.8122 - auc_3: 0.9433 - true_positives_3: 4313.0000 - true_negatives_3: 42071.0000 - false_negatives_3: 2865.0000 - false_positives_3: 997.0000\n",
      "Epoch 27: saving model to best_Resnet.h5\n",
      "225/225 [==============================] - 49s 219ms/step - loss: 0.8209 - accuracy: 0.6996 - recall_3: 0.6009 - precision_3: 0.8122 - auc_3: 0.9433 - true_positives_3: 4313.0000 - true_negatives_3: 42071.0000 - false_negatives_3: 2865.0000 - false_positives_3: 997.0000 - val_loss: 0.9084 - val_accuracy: 0.6646 - val_recall_3: 0.5948 - val_precision_3: 0.7669 - val_auc_3: 0.9308 - val_true_positives_3: 477.0000 - val_true_negatives_3: 4667.0000 - val_false_negatives_3: 325.0000 - val_false_positives_3: 145.0000\n",
      "Epoch 28/50\n",
      "225/225 [==============================] - ETA: 0s - loss: 0.8146 - accuracy: 0.7053 - recall_3: 0.6105 - precision_3: 0.8074 - auc_3: 0.9441 - true_positives_3: 4382.0000 - true_negatives_3: 42023.0000 - false_negatives_3: 2796.0000 - false_positives_3: 1045.0000\n",
      "Epoch 28: saving model to best_Resnet.h5\n",
      "225/225 [==============================] - 49s 216ms/step - loss: 0.8146 - accuracy: 0.7053 - recall_3: 0.6105 - precision_3: 0.8074 - auc_3: 0.9441 - true_positives_3: 4382.0000 - true_negatives_3: 42023.0000 - false_negatives_3: 2796.0000 - false_positives_3: 1045.0000 - val_loss: 0.9253 - val_accuracy: 0.6534 - val_recall_3: 0.5711 - val_precision_3: 0.7856 - val_auc_3: 0.9280 - val_true_positives_3: 458.0000 - val_true_negatives_3: 4687.0000 - val_false_negatives_3: 344.0000 - val_false_positives_3: 125.0000\n",
      "Epoch 29/50\n",
      "225/225 [==============================] - ETA: 0s - loss: 0.8129 - accuracy: 0.6967 - recall_3: 0.6017 - precision_3: 0.8114 - auc_3: 0.9442 - true_positives_3: 4319.0000 - true_negatives_3: 42064.0000 - false_negatives_3: 2859.0000 - false_positives_3: 1004.0000\n",
      "Epoch 29: saving model to best_Resnet.h5\n",
      "225/225 [==============================] - 51s 228ms/step - loss: 0.8129 - accuracy: 0.6967 - recall_3: 0.6017 - precision_3: 0.8114 - auc_3: 0.9442 - true_positives_3: 4319.0000 - true_negatives_3: 42064.0000 - false_negatives_3: 2859.0000 - false_positives_3: 1004.0000 - val_loss: 0.9096 - val_accuracy: 0.6696 - val_recall_3: 0.6147 - val_precision_3: 0.7573 - val_auc_3: 0.9321 - val_true_positives_3: 493.0000 - val_true_negatives_3: 4654.0000 - val_false_negatives_3: 309.0000 - val_false_positives_3: 158.0000\n",
      "Epoch 30/50\n",
      "225/225 [==============================] - ETA: 0s - loss: 0.8140 - accuracy: 0.7041 - recall_3: 0.6030 - precision_3: 0.8129 - auc_3: 0.9441 - true_positives_3: 4328.0000 - true_negatives_3: 42072.0000 - false_negatives_3: 2850.0000 - false_positives_3: 996.0000\n",
      "Epoch 30: saving model to best_Resnet.h5\n",
      "225/225 [==============================] - 51s 228ms/step - loss: 0.8140 - accuracy: 0.7041 - recall_3: 0.6030 - precision_3: 0.8129 - auc_3: 0.9441 - true_positives_3: 4328.0000 - true_negatives_3: 42072.0000 - false_negatives_3: 2850.0000 - false_positives_3: 996.0000 - val_loss: 0.9515 - val_accuracy: 0.6559 - val_recall_3: 0.5998 - val_precision_3: 0.7469 - val_auc_3: 0.9270 - val_true_positives_3: 481.0000 - val_true_negatives_3: 4649.0000 - val_false_negatives_3: 321.0000 - val_false_positives_3: 163.0000\n"
     ]
    },
    {
     "name": "stdout",
     "output_type": "stream",
     "text": [
      "Epoch 31/50\n",
      "225/225 [==============================] - ETA: 0s - loss: 0.8201 - accuracy: 0.6971 - recall_3: 0.6024 - precision_3: 0.8043 - auc_3: 0.9437 - true_positives_3: 4324.0000 - true_negatives_3: 42016.0000 - false_negatives_3: 2854.0000 - false_positives_3: 1052.0000\n",
      "Epoch 31: saving model to best_Resnet.h5\n",
      "225/225 [==============================] - 50s 221ms/step - loss: 0.8201 - accuracy: 0.6971 - recall_3: 0.6024 - precision_3: 0.8043 - auc_3: 0.9437 - true_positives_3: 4324.0000 - true_negatives_3: 42016.0000 - false_negatives_3: 2854.0000 - false_positives_3: 1052.0000 - val_loss: 0.9145 - val_accuracy: 0.6671 - val_recall_3: 0.6047 - val_precision_3: 0.7735 - val_auc_3: 0.9295 - val_true_positives_3: 485.0000 - val_true_negatives_3: 4670.0000 - val_false_negatives_3: 317.0000 - val_false_positives_3: 142.0000\n",
      "Epoch 32/50\n",
      "225/225 [==============================] - ETA: 0s - loss: 0.8053 - accuracy: 0.7059 - recall_3: 0.6034 - precision_3: 0.8129 - auc_3: 0.9454 - true_positives_3: 4331.0000 - true_negatives_3: 42071.0000 - false_negatives_3: 2847.0000 - false_positives_3: 997.0000\n",
      "Epoch 32: saving model to best_Resnet.h5\n",
      "225/225 [==============================] - 50s 224ms/step - loss: 0.8053 - accuracy: 0.7059 - recall_3: 0.6034 - precision_3: 0.8129 - auc_3: 0.9454 - true_positives_3: 4331.0000 - true_negatives_3: 42071.0000 - false_negatives_3: 2847.0000 - false_positives_3: 997.0000 - val_loss: 0.9313 - val_accuracy: 0.6484 - val_recall_3: 0.5835 - val_precision_3: 0.7710 - val_auc_3: 0.9290 - val_true_positives_3: 468.0000 - val_true_negatives_3: 4673.0000 - val_false_negatives_3: 334.0000 - val_false_positives_3: 139.0000\n",
      "Epoch 33/50\n",
      "225/225 [==============================] - ETA: 0s - loss: 0.8068 - accuracy: 0.7074 - recall_3: 0.6105 - precision_3: 0.8154 - auc_3: 0.9454 - true_positives_3: 4382.0000 - true_negatives_3: 42076.0000 - false_negatives_3: 2796.0000 - false_positives_3: 992.0000\n",
      "Epoch 33: saving model to best_Resnet.h5\n",
      "225/225 [==============================] - 50s 224ms/step - loss: 0.8068 - accuracy: 0.7074 - recall_3: 0.6105 - precision_3: 0.8154 - auc_3: 0.9454 - true_positives_3: 4382.0000 - true_negatives_3: 42076.0000 - false_negatives_3: 2796.0000 - false_positives_3: 992.0000 - val_loss: 0.9027 - val_accuracy: 0.6696 - val_recall_3: 0.5873 - val_precision_3: 0.7585 - val_auc_3: 0.9318 - val_true_positives_3: 471.0000 - val_true_negatives_3: 4662.0000 - val_false_negatives_3: 331.0000 - val_false_positives_3: 150.0000\n",
      "Epoch 34/50\n",
      "225/225 [==============================] - ETA: 0s - loss: 0.8013 - accuracy: 0.7053 - recall_3: 0.6106 - precision_3: 0.8171 - auc_3: 0.9458 - true_positives_3: 4383.0000 - true_negatives_3: 42087.0000 - false_negatives_3: 2795.0000 - false_positives_3: 981.0000\n",
      "Epoch 34: saving model to best_Resnet.h5\n",
      "225/225 [==============================] - 51s 229ms/step - loss: 0.8013 - accuracy: 0.7053 - recall_3: 0.6106 - precision_3: 0.8171 - auc_3: 0.9458 - true_positives_3: 4383.0000 - true_negatives_3: 42087.0000 - false_negatives_3: 2795.0000 - false_positives_3: 981.0000 - val_loss: 0.9304 - val_accuracy: 0.6696 - val_recall_3: 0.5910 - val_precision_3: 0.7608 - val_auc_3: 0.9278 - val_true_positives_3: 474.0000 - val_true_negatives_3: 4663.0000 - val_false_negatives_3: 328.0000 - val_false_positives_3: 149.0000\n",
      "Epoch 35/50\n",
      "225/225 [==============================] - ETA: 0s - loss: 0.8132 - accuracy: 0.7062 - recall_3: 0.6099 - precision_3: 0.8103 - auc_3: 0.9443 - true_positives_3: 4378.0000 - true_negatives_3: 42043.0000 - false_negatives_3: 2800.0000 - false_positives_3: 1025.0000\n",
      "Epoch 35: saving model to best_Resnet.h5\n",
      "225/225 [==============================] - 49s 219ms/step - loss: 0.8132 - accuracy: 0.7062 - recall_3: 0.6099 - precision_3: 0.8103 - auc_3: 0.9443 - true_positives_3: 4378.0000 - true_negatives_3: 42043.0000 - false_negatives_3: 2800.0000 - false_positives_3: 1025.0000 - val_loss: 0.9223 - val_accuracy: 0.6683 - val_recall_3: 0.5935 - val_precision_3: 0.7765 - val_auc_3: 0.9291 - val_true_positives_3: 476.0000 - val_true_negatives_3: 4675.0000 - val_false_negatives_3: 326.0000 - val_false_positives_3: 137.0000\n",
      "Epoch 36/50\n",
      "225/225 [==============================] - ETA: 0s - loss: 0.7973 - accuracy: 0.7111 - recall_3: 0.6060 - precision_3: 0.8186 - auc_3: 0.9465 - true_positives_3: 4350.0000 - true_negatives_3: 42104.0000 - false_negatives_3: 2828.0000 - false_positives_3: 964.0000\n",
      "Epoch 36: saving model to best_Resnet.h5\n",
      "225/225 [==============================] - 49s 217ms/step - loss: 0.7973 - accuracy: 0.7111 - recall_3: 0.6060 - precision_3: 0.8186 - auc_3: 0.9465 - true_positives_3: 4350.0000 - true_negatives_3: 42104.0000 - false_negatives_3: 2828.0000 - false_positives_3: 964.0000 - val_loss: 0.9140 - val_accuracy: 0.6671 - val_recall_3: 0.5773 - val_precision_3: 0.7782 - val_auc_3: 0.9304 - val_true_positives_3: 463.0000 - val_true_negatives_3: 4680.0000 - val_false_negatives_3: 339.0000 - val_false_positives_3: 132.0000\n",
      "Epoch 37/50\n",
      "225/225 [==============================] - ETA: 0s - loss: 0.8016 - accuracy: 0.7059 - recall_3: 0.6127 - precision_3: 0.8158 - auc_3: 0.9459 - true_positives_3: 4398.0000 - true_negatives_3: 42075.0000 - false_negatives_3: 2780.0000 - false_positives_3: 993.0000\n",
      "Epoch 37: saving model to best_Resnet.h5\n",
      "225/225 [==============================] - 48s 213ms/step - loss: 0.8016 - accuracy: 0.7059 - recall_3: 0.6127 - precision_3: 0.8158 - auc_3: 0.9459 - true_positives_3: 4398.0000 - true_negatives_3: 42075.0000 - false_negatives_3: 2780.0000 - false_positives_3: 993.0000 - val_loss: 0.8866 - val_accuracy: 0.6696 - val_recall_3: 0.5885 - val_precision_3: 0.7893 - val_auc_3: 0.9337 - val_true_positives_3: 472.0000 - val_true_negatives_3: 4686.0000 - val_false_negatives_3: 330.0000 - val_false_positives_3: 126.0000\n",
      "Epoch 38/50\n",
      "225/225 [==============================] - ETA: 0s - loss: 0.7891 - accuracy: 0.7069 - recall_3: 0.6085 - precision_3: 0.8198 - auc_3: 0.9477 - true_positives_3: 4368.0000 - true_negatives_3: 42108.0000 - false_negatives_3: 2810.0000 - false_positives_3: 960.0000\n",
      "Epoch 38: saving model to best_Resnet.h5\n",
      "225/225 [==============================] - 47s 209ms/step - loss: 0.7891 - accuracy: 0.7069 - recall_3: 0.6085 - precision_3: 0.8198 - auc_3: 0.9477 - true_positives_3: 4368.0000 - true_negatives_3: 42108.0000 - false_negatives_3: 2810.0000 - false_positives_3: 960.0000 - val_loss: 0.8914 - val_accuracy: 0.6771 - val_recall_3: 0.6160 - val_precision_3: 0.7623 - val_auc_3: 0.9342 - val_true_positives_3: 494.0000 - val_true_negatives_3: 4658.0000 - val_false_negatives_3: 308.0000 - val_false_positives_3: 154.0000\n",
      "Epoch 39/50\n",
      "225/225 [==============================] - ETA: 0s - loss: 0.7888 - accuracy: 0.7119 - recall_3: 0.6184 - precision_3: 0.8097 - auc_3: 0.9477 - true_positives_3: 4439.0000 - true_negatives_3: 42025.0000 - false_negatives_3: 2739.0000 - false_positives_3: 1043.0000\n",
      "Epoch 39: saving model to best_Resnet.h5\n",
      "225/225 [==============================] - 48s 213ms/step - loss: 0.7888 - accuracy: 0.7119 - recall_3: 0.6184 - precision_3: 0.8097 - auc_3: 0.9477 - true_positives_3: 4439.0000 - true_negatives_3: 42025.0000 - false_negatives_3: 2739.0000 - false_positives_3: 1043.0000 - val_loss: 0.8885 - val_accuracy: 0.6758 - val_recall_3: 0.5935 - val_precision_3: 0.7933 - val_auc_3: 0.9338 - val_true_positives_3: 476.0000 - val_true_negatives_3: 4688.0000 - val_false_negatives_3: 326.0000 - val_false_positives_3: 124.0000\n",
      "Epoch 40/50\n",
      "225/225 [==============================] - ETA: 0s - loss: 0.7916 - accuracy: 0.7063 - recall_3: 0.6160 - precision_3: 0.8148 - auc_3: 0.9472 - true_positives_3: 4435.0000 - true_negatives_3: 42192.0000 - false_negatives_3: 2765.0000 - false_positives_3: 1008.0000\n",
      "Epoch 40: saving model to best_Resnet.h5\n",
      "225/225 [==============================] - 48s 213ms/step - loss: 0.7916 - accuracy: 0.7063 - recall_3: 0.6160 - precision_3: 0.8148 - auc_3: 0.9472 - true_positives_3: 4435.0000 - true_negatives_3: 42192.0000 - false_negatives_3: 2765.0000 - false_positives_3: 1008.0000 - val_loss: 0.8955 - val_accuracy: 0.6808 - val_recall_3: 0.5898 - val_precision_3: 0.7831 - val_auc_3: 0.9324 - val_true_positives_3: 473.0000 - val_true_negatives_3: 4681.0000 - val_false_negatives_3: 329.0000 - val_false_positives_3: 131.0000\n"
     ]
    },
    {
     "name": "stdout",
     "output_type": "stream",
     "text": [
      "Epoch 41/50\n",
      "225/225 [==============================] - ETA: 0s - loss: 0.7818 - accuracy: 0.7108 - recall_3: 0.6120 - precision_3: 0.8187 - auc_3: 0.9486 - true_positives_3: 4393.0000 - true_negatives_3: 42095.0000 - false_negatives_3: 2785.0000 - false_positives_3: 973.0000\n",
      "Epoch 41: saving model to best_Resnet.h5\n",
      "225/225 [==============================] - 47s 208ms/step - loss: 0.7818 - accuracy: 0.7108 - recall_3: 0.6120 - precision_3: 0.8187 - auc_3: 0.9486 - true_positives_3: 4393.0000 - true_negatives_3: 42095.0000 - false_negatives_3: 2785.0000 - false_positives_3: 973.0000 - val_loss: 0.8834 - val_accuracy: 0.6845 - val_recall_3: 0.6097 - val_precision_3: 0.7799 - val_auc_3: 0.9341 - val_true_positives_3: 489.0000 - val_true_negatives_3: 4674.0000 - val_false_negatives_3: 313.0000 - val_false_positives_3: 138.0000\n",
      "Epoch 42/50\n",
      "225/225 [==============================] - ETA: 0s - loss: 0.7811 - accuracy: 0.7159 - recall_3: 0.6155 - precision_3: 0.8178 - auc_3: 0.9485 - true_positives_3: 4418.0000 - true_negatives_3: 42084.0000 - false_negatives_3: 2760.0000 - false_positives_3: 984.0000\n",
      "Epoch 42: saving model to best_Resnet.h5\n",
      "225/225 [==============================] - 48s 212ms/step - loss: 0.7811 - accuracy: 0.7159 - recall_3: 0.6155 - precision_3: 0.8178 - auc_3: 0.9485 - true_positives_3: 4418.0000 - true_negatives_3: 42084.0000 - false_negatives_3: 2760.0000 - false_positives_3: 984.0000 - val_loss: 0.9152 - val_accuracy: 0.6696 - val_recall_3: 0.5948 - val_precision_3: 0.7706 - val_auc_3: 0.9306 - val_true_positives_3: 477.0000 - val_true_negatives_3: 4670.0000 - val_false_negatives_3: 325.0000 - val_false_positives_3: 142.0000\n",
      "Epoch 43/50\n",
      "225/225 [==============================] - ETA: 0s - loss: 0.7895 - accuracy: 0.7088 - recall_3: 0.6126 - precision_3: 0.8182 - auc_3: 0.9476 - true_positives_3: 4397.0000 - true_negatives_3: 42091.0000 - false_negatives_3: 2781.0000 - false_positives_3: 977.0000\n",
      "Epoch 43: saving model to best_Resnet.h5\n",
      "225/225 [==============================] - 47s 210ms/step - loss: 0.7895 - accuracy: 0.7088 - recall_3: 0.6126 - precision_3: 0.8182 - auc_3: 0.9476 - true_positives_3: 4397.0000 - true_negatives_3: 42091.0000 - false_negatives_3: 2781.0000 - false_positives_3: 977.0000 - val_loss: 0.9021 - val_accuracy: 0.6671 - val_recall_3: 0.5910 - val_precision_3: 0.7682 - val_auc_3: 0.9323 - val_true_positives_3: 474.0000 - val_true_negatives_3: 4669.0000 - val_false_negatives_3: 328.0000 - val_false_positives_3: 143.0000\n",
      "Epoch 44/50\n",
      "225/225 [==============================] - ETA: 0s - loss: 0.7836 - accuracy: 0.7113 - recall_3: 0.6166 - precision_3: 0.8196 - auc_3: 0.9482 - true_positives_3: 4426.0000 - true_negatives_3: 42094.0000 - false_negatives_3: 2752.0000 - false_positives_3: 974.0000\n",
      "Epoch 44: saving model to best_Resnet.h5\n",
      "225/225 [==============================] - 48s 213ms/step - loss: 0.7836 - accuracy: 0.7113 - recall_3: 0.6166 - precision_3: 0.8196 - auc_3: 0.9482 - true_positives_3: 4426.0000 - true_negatives_3: 42094.0000 - false_negatives_3: 2752.0000 - false_positives_3: 974.0000 - val_loss: 0.8918 - val_accuracy: 0.6621 - val_recall_3: 0.6060 - val_precision_3: 0.7642 - val_auc_3: 0.9335 - val_true_positives_3: 486.0000 - val_true_negatives_3: 4662.0000 - val_false_negatives_3: 316.0000 - val_false_positives_3: 150.0000\n",
      "Epoch 45/50\n",
      "225/225 [==============================] - ETA: 0s - loss: 0.7782 - accuracy: 0.7125 - recall_3: 0.6209 - precision_3: 0.8151 - auc_3: 0.9489 - true_positives_3: 4457.0000 - true_negatives_3: 42057.0000 - false_negatives_3: 2721.0000 - false_positives_3: 1011.0000\n",
      "Epoch 45: saving model to best_Resnet.h5\n",
      "225/225 [==============================] - 48s 213ms/step - loss: 0.7782 - accuracy: 0.7125 - recall_3: 0.6209 - precision_3: 0.8151 - auc_3: 0.9489 - true_positives_3: 4457.0000 - true_negatives_3: 42057.0000 - false_negatives_3: 2721.0000 - false_positives_3: 1011.0000 - val_loss: 0.8892 - val_accuracy: 0.6683 - val_recall_3: 0.6022 - val_precision_3: 0.7679 - val_auc_3: 0.9337 - val_true_positives_3: 483.0000 - val_true_negatives_3: 4666.0000 - val_false_negatives_3: 319.0000 - val_false_positives_3: 146.0000\n",
      "Epoch 46/50\n",
      "225/225 [==============================] - ETA: 0s - loss: 0.7724 - accuracy: 0.7102 - recall_3: 0.6190 - precision_3: 0.8151 - auc_3: 0.9496 - true_positives_3: 4443.0000 - true_negatives_3: 42060.0000 - false_negatives_3: 2735.0000 - false_positives_3: 1008.0000\n",
      "Epoch 46: saving model to best_Resnet.h5\n",
      "225/225 [==============================] - 48s 213ms/step - loss: 0.7724 - accuracy: 0.7102 - recall_3: 0.6190 - precision_3: 0.8151 - auc_3: 0.9496 - true_positives_3: 4443.0000 - true_negatives_3: 42060.0000 - false_negatives_3: 2735.0000 - false_positives_3: 1008.0000 - val_loss: 0.9104 - val_accuracy: 0.6658 - val_recall_3: 0.6022 - val_precision_3: 0.7606 - val_auc_3: 0.9315 - val_true_positives_3: 483.0000 - val_true_negatives_3: 4660.0000 - val_false_negatives_3: 319.0000 - val_false_positives_3: 152.0000\n",
      "Epoch 47/50\n",
      "225/225 [==============================] - ETA: 0s - loss: 0.7689 - accuracy: 0.7157 - recall_3: 0.6206 - precision_3: 0.8153 - auc_3: 0.9502 - true_positives_3: 4455.0000 - true_negatives_3: 42059.0000 - false_negatives_3: 2723.0000 - false_positives_3: 1009.0000\n",
      "Epoch 47: saving model to best_Resnet.h5\n",
      "225/225 [==============================] - 48s 213ms/step - loss: 0.7689 - accuracy: 0.7157 - recall_3: 0.6206 - precision_3: 0.8153 - auc_3: 0.9502 - true_positives_3: 4455.0000 - true_negatives_3: 42059.0000 - false_negatives_3: 2723.0000 - false_positives_3: 1009.0000 - val_loss: 0.8960 - val_accuracy: 0.6683 - val_recall_3: 0.6060 - val_precision_3: 0.7654 - val_auc_3: 0.9342 - val_true_positives_3: 486.0000 - val_true_negatives_3: 4663.0000 - val_false_negatives_3: 316.0000 - val_false_positives_3: 149.0000\n",
      "Epoch 48/50\n",
      "225/225 [==============================] - ETA: 0s - loss: 0.7787 - accuracy: 0.7102 - recall_3: 0.6156 - precision_3: 0.8191 - auc_3: 0.9490 - true_positives_3: 4419.0000 - true_negatives_3: 42092.0000 - false_negatives_3: 2759.0000 - false_positives_3: 976.0000\n",
      "Epoch 48: saving model to best_Resnet.h5\n",
      "225/225 [==============================] - 48s 215ms/step - loss: 0.7787 - accuracy: 0.7102 - recall_3: 0.6156 - precision_3: 0.8191 - auc_3: 0.9490 - true_positives_3: 4419.0000 - true_negatives_3: 42092.0000 - false_negatives_3: 2759.0000 - false_positives_3: 976.0000 - val_loss: 0.9009 - val_accuracy: 0.6721 - val_recall_3: 0.5985 - val_precision_3: 0.7729 - val_auc_3: 0.9330 - val_true_positives_3: 480.0000 - val_true_negatives_3: 4671.0000 - val_false_negatives_3: 322.0000 - val_false_positives_3: 141.0000\n",
      "Epoch 49/50\n",
      "225/225 [==============================] - ETA: 0s - loss: 0.7731 - accuracy: 0.7101 - recall_3: 0.6216 - precision_3: 0.8157 - auc_3: 0.9498 - true_positives_3: 4462.0000 - true_negatives_3: 42060.0000 - false_negatives_3: 2716.0000 - false_positives_3: 1008.0000\n",
      "Epoch 49: saving model to best_Resnet.h5\n",
      "225/225 [==============================] - 50s 221ms/step - loss: 0.7731 - accuracy: 0.7101 - recall_3: 0.6216 - precision_3: 0.8157 - auc_3: 0.9498 - true_positives_3: 4462.0000 - true_negatives_3: 42060.0000 - false_negatives_3: 2716.0000 - false_positives_3: 1008.0000 - val_loss: 0.8937 - val_accuracy: 0.6696 - val_recall_3: 0.5898 - val_precision_3: 0.7805 - val_auc_3: 0.9328 - val_true_positives_3: 473.0000 - val_true_negatives_3: 4679.0000 - val_false_negatives_3: 329.0000 - val_false_positives_3: 133.0000\n",
      "Epoch 50/50\n",
      "225/225 [==============================] - ETA: 0s - loss: 0.7767 - accuracy: 0.7126 - recall_3: 0.6195 - precision_3: 0.8133 - auc_3: 0.9491 - true_positives_3: 4447.0000 - true_negatives_3: 42047.0000 - false_negatives_3: 2731.0000 - false_positives_3: 1021.0000\n",
      "Epoch 50: saving model to best_Resnet.h5\n",
      "225/225 [==============================] - 49s 216ms/step - loss: 0.7767 - accuracy: 0.7126 - recall_3: 0.6195 - precision_3: 0.8133 - auc_3: 0.9491 - true_positives_3: 4447.0000 - true_negatives_3: 42047.0000 - false_negatives_3: 2731.0000 - false_positives_3: 1021.0000 - val_loss: 0.8979 - val_accuracy: 0.6658 - val_recall_3: 0.6072 - val_precision_3: 0.7730 - val_auc_3: 0.9329 - val_true_positives_3: 487.0000 - val_true_negatives_3: 4669.0000 - val_false_negatives_3: 315.0000 - val_false_positives_3: 143.0000\n"
     ]
    }
   ],
   "source": [
    "callback = tf.keras.callbacks.ModelCheckpoint(filepath='best_Resnet.h5',\n",
    "                                                  monitor='val_acc', mode='auto',\n",
    "                                                 verbose=1)\n",
    "model.compile(optimizer= keras.optimizers.Adam(),\n",
    "              loss=keras.losses.CategoricalCrossentropy() ,\n",
    "              metrics=['acc',Recall(),Precision(),AUC(),TruePositives(),TrueNegatives(),FalseNegatives(),FalsePositives()])\n",
    "history = model.fit(datagen.flow(x_train,y_train, batch_size=32),\n",
    "                              epochs = 50, validation_data = (x_val,y_val),\n",
    "                              verbose = 1, steps_per_epoch=x_train.shape[0] // 32,\n",
    "                              callbacks=[callback])"
   ]
  },
  {
   "cell_type": "code",
   "execution_count": 72,
   "id": "71bf1780",
   "metadata": {},
   "outputs": [],
   "source": [
    "model.save(Name+'.h5')\n",
    "\n",
    "pd.DataFrame.from_dict(history.history).to_csv(Name+'.csv',index=False)"
   ]
  },
  {
   "cell_type": "code",
   "execution_count": 75,
   "id": "08fb9f1b",
   "metadata": {},
   "outputs": [
    {
     "ename": "KeyError",
     "evalue": "'val_acc'",
     "output_type": "error",
     "traceback": [
      "\u001b[0;31m---------------------------------------------------------------------------\u001b[0m",
      "\u001b[0;31mKeyError\u001b[0m                                  Traceback (most recent call last)",
      "Cell \u001b[0;32mIn[75], line 1\u001b[0m\n\u001b[0;32m----> 1\u001b[0m plt\u001b[38;5;241m.\u001b[39mplot(\u001b[43mhistory\u001b[49m\u001b[38;5;241;43m.\u001b[39;49m\u001b[43mhistory\u001b[49m\u001b[43m[\u001b[49m\u001b[38;5;124;43m'\u001b[39;49m\u001b[38;5;124;43mval_acc\u001b[39;49m\u001b[38;5;124;43m'\u001b[39;49m\u001b[43m]\u001b[49m)\n\u001b[1;32m      2\u001b[0m plt\u001b[38;5;241m.\u001b[39mplot(history\u001b[38;5;241m.\u001b[39mhistory[\u001b[38;5;124m'\u001b[39m\u001b[38;5;124maccuracy\u001b[39m\u001b[38;5;124m'\u001b[39m])\n\u001b[1;32m      3\u001b[0m plt\u001b[38;5;241m.\u001b[39mtitle(\u001b[38;5;124m'\u001b[39m\u001b[38;5;124mmodel accuracy\u001b[39m\u001b[38;5;124m'\u001b[39m)\n",
      "\u001b[0;31mKeyError\u001b[0m: 'val_acc'"
     ]
    }
   ],
   "source": [
    "plt.plot(history.history['val_acc'])\n",
    "plt.plot(history.history['accuracy'])\n",
    "plt.title('model accuracy')\n",
    "plt.ylabel('accuracy')\n",
    "plt.xlabel('epoch')\n",
    "plt.legend(['train', 'val'], loc='upper left')\n",
    "plt.show()"
   ]
  },
  {
   "cell_type": "code",
   "execution_count": 76,
   "id": "8b7d36ad",
   "metadata": {},
   "outputs": [
    {
     "ename": "ValueError",
     "evalue": "in user code:\n\n    File \"/Users/jdapeman/anaconda3/envs/apple/lib/python3.10/site-packages/keras/src/engine/training.py\", line 2341, in predict_function  *\n        return step_function(self, iterator)\n    File \"/Users/jdapeman/anaconda3/envs/apple/lib/python3.10/site-packages/keras/src/engine/training.py\", line 2327, in step_function  **\n        outputs = model.distribute_strategy.run(run_step, args=(data,))\n    File \"/Users/jdapeman/anaconda3/envs/apple/lib/python3.10/site-packages/keras/src/engine/training.py\", line 2315, in run_step  **\n        outputs = model.predict_step(data)\n    File \"/Users/jdapeman/anaconda3/envs/apple/lib/python3.10/site-packages/keras/src/engine/training.py\", line 2283, in predict_step\n        return self(x, training=False)\n    File \"/Users/jdapeman/anaconda3/envs/apple/lib/python3.10/site-packages/keras/src/utils/traceback_utils.py\", line 70, in error_handler\n        raise e.with_traceback(filtered_tb) from None\n    File \"/Users/jdapeman/anaconda3/envs/apple/lib/python3.10/site-packages/keras/src/engine/input_spec.py\", line 298, in assert_input_compatibility\n        raise ValueError(\n\n    ValueError: Input 0 of layer \"sequential_2\" is incompatible with the layer: expected shape=(None, 32, 32, 3), found shape=(None, 228, 228, 3)\n",
     "output_type": "error",
     "traceback": [
      "\u001b[0;31m---------------------------------------------------------------------------\u001b[0m",
      "\u001b[0;31mValueError\u001b[0m                                Traceback (most recent call last)",
      "Cell \u001b[0;32mIn[76], line 5\u001b[0m\n\u001b[1;32m      2\u001b[0m \u001b[38;5;28;01mfrom\u001b[39;00m \u001b[38;5;21;01msklearn\u001b[39;00m\u001b[38;5;21;01m.\u001b[39;00m\u001b[38;5;21;01mmetrics\u001b[39;00m \u001b[38;5;28;01mimport\u001b[39;00m confusion_matrix, accuracy_score, f1_score, recall_score, precision_score\n\u001b[1;32m      4\u001b[0m \u001b[38;5;66;03m# Get the predicted labels from the model\u001b[39;00m\n\u001b[0;32m----> 5\u001b[0m y_pred \u001b[38;5;241m=\u001b[39m \u001b[43mmodel\u001b[49m\u001b[38;5;241;43m.\u001b[39;49m\u001b[43mpredict\u001b[49m\u001b[43m(\u001b[49m\u001b[43mX_test_pad\u001b[49m\u001b[43m)\u001b[49m\n\u001b[1;32m      6\u001b[0m y_pred \u001b[38;5;241m=\u001b[39m np\u001b[38;5;241m.\u001b[39margmax(y_pred, axis\u001b[38;5;241m=\u001b[39m\u001b[38;5;241m1\u001b[39m)\n\u001b[1;32m      8\u001b[0m \u001b[38;5;66;03m# Calculate the confusion matrix\u001b[39;00m\n",
      "File \u001b[0;32m~/anaconda3/envs/apple/lib/python3.10/site-packages/keras/src/utils/traceback_utils.py:70\u001b[0m, in \u001b[0;36mfilter_traceback.<locals>.error_handler\u001b[0;34m(*args, **kwargs)\u001b[0m\n\u001b[1;32m     67\u001b[0m     filtered_tb \u001b[38;5;241m=\u001b[39m _process_traceback_frames(e\u001b[38;5;241m.\u001b[39m__traceback__)\n\u001b[1;32m     68\u001b[0m     \u001b[38;5;66;03m# To get the full stack trace, call:\u001b[39;00m\n\u001b[1;32m     69\u001b[0m     \u001b[38;5;66;03m# `tf.debugging.disable_traceback_filtering()`\u001b[39;00m\n\u001b[0;32m---> 70\u001b[0m     \u001b[38;5;28;01mraise\u001b[39;00m e\u001b[38;5;241m.\u001b[39mwith_traceback(filtered_tb) \u001b[38;5;28;01mfrom\u001b[39;00m \u001b[38;5;28;01mNone\u001b[39;00m\n\u001b[1;32m     71\u001b[0m \u001b[38;5;28;01mfinally\u001b[39;00m:\n\u001b[1;32m     72\u001b[0m     \u001b[38;5;28;01mdel\u001b[39;00m filtered_tb\n",
      "File \u001b[0;32m/var/folders/yd/tybxdv4901xbv_l8x4p1g7tm0000gn/T/__autograph_generated_filegny861lf.py:15\u001b[0m, in \u001b[0;36mouter_factory.<locals>.inner_factory.<locals>.tf__predict_function\u001b[0;34m(iterator)\u001b[0m\n\u001b[1;32m     13\u001b[0m \u001b[38;5;28;01mtry\u001b[39;00m:\n\u001b[1;32m     14\u001b[0m     do_return \u001b[38;5;241m=\u001b[39m \u001b[38;5;28;01mTrue\u001b[39;00m\n\u001b[0;32m---> 15\u001b[0m     retval_ \u001b[38;5;241m=\u001b[39m ag__\u001b[38;5;241m.\u001b[39mconverted_call(ag__\u001b[38;5;241m.\u001b[39mld(step_function), (ag__\u001b[38;5;241m.\u001b[39mld(\u001b[38;5;28mself\u001b[39m), ag__\u001b[38;5;241m.\u001b[39mld(iterator)), \u001b[38;5;28;01mNone\u001b[39;00m, fscope)\n\u001b[1;32m     16\u001b[0m \u001b[38;5;28;01mexcept\u001b[39;00m:\n\u001b[1;32m     17\u001b[0m     do_return \u001b[38;5;241m=\u001b[39m \u001b[38;5;28;01mFalse\u001b[39;00m\n",
      "\u001b[0;31mValueError\u001b[0m: in user code:\n\n    File \"/Users/jdapeman/anaconda3/envs/apple/lib/python3.10/site-packages/keras/src/engine/training.py\", line 2341, in predict_function  *\n        return step_function(self, iterator)\n    File \"/Users/jdapeman/anaconda3/envs/apple/lib/python3.10/site-packages/keras/src/engine/training.py\", line 2327, in step_function  **\n        outputs = model.distribute_strategy.run(run_step, args=(data,))\n    File \"/Users/jdapeman/anaconda3/envs/apple/lib/python3.10/site-packages/keras/src/engine/training.py\", line 2315, in run_step  **\n        outputs = model.predict_step(data)\n    File \"/Users/jdapeman/anaconda3/envs/apple/lib/python3.10/site-packages/keras/src/engine/training.py\", line 2283, in predict_step\n        return self(x, training=False)\n    File \"/Users/jdapeman/anaconda3/envs/apple/lib/python3.10/site-packages/keras/src/utils/traceback_utils.py\", line 70, in error_handler\n        raise e.with_traceback(filtered_tb) from None\n    File \"/Users/jdapeman/anaconda3/envs/apple/lib/python3.10/site-packages/keras/src/engine/input_spec.py\", line 298, in assert_input_compatibility\n        raise ValueError(\n\n    ValueError: Input 0 of layer \"sequential_2\" is incompatible with the layer: expected shape=(None, 32, 32, 3), found shape=(None, 228, 228, 3)\n"
     ]
    }
   ],
   "source": [
    "# plot in a confusion matrix the model scores and all the accuracy, f1, recall and percision scores \n",
    "from sklearn.metrics import confusion_matrix, accuracy_score, f1_score, recall_score, precision_score\n",
    "\n",
    "# Get the predicted labels from the model\n",
    "y_pred = model.predict(X_test_pad)\n",
    "y_pred = np.argmax(y_pred, axis=1)\n",
    "\n",
    "# Calculate the confusion matrix\n",
    "cm = confusion_matrix(np.argmax(Y_test, axis=1), y_pred)\n",
    "\n",
    "# Calculate the accuracy, f1 score, recall, and precision\n",
    "accuracy = accuracy_score(np.argmax(Y_test, axis=1), y_pred)\n",
    "f1 = f1_score(np.argmax(Y_test, axis=1), y_pred, average='weighted')\n",
    "recall = recall_score(np.argmax(Y_test, axis=1), y_pred, average='weighted')\n",
    "precision = precision_score(np.argmax(Y_test, axis=1), y_pred, average='weighted')\n",
    "\n",
    "print(\"Confusion Matrix:\")\n",
    "print(cm)\n",
    "print(\"Accuracy:\", accuracy)\n",
    "print(\"F1 Score:\", f1)\n",
    "print(\"Recall:\", recall)\n",
    "print(\"Precision:\", precision)"
   ]
  },
  {
   "cell_type": "code",
   "execution_count": null,
   "id": "2a183b6e",
   "metadata": {},
   "outputs": [],
   "source": []
  }
 ],
 "metadata": {
  "kernelspec": {
   "display_name": "Python 3 (ipykernel)",
   "language": "python",
   "name": "python3"
  },
  "language_info": {
   "codemirror_mode": {
    "name": "ipython",
    "version": 3
   },
   "file_extension": ".py",
   "mimetype": "text/x-python",
   "name": "python",
   "nbconvert_exporter": "python",
   "pygments_lexer": "ipython3",
   "version": "3.10.9"
  }
 },
 "nbformat": 4,
 "nbformat_minor": 5
}
